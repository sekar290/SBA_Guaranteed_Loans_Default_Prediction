{
 "cells": [
  {
   "cell_type": "code",
   "execution_count": 1,
   "metadata": {},
   "outputs": [],
   "source": [
    "import pandas as pd\n",
    "import numpy as np\n",
    "import matplotlib.pyplot as plt\n",
    "import seaborn as sns\n",
    "import sidetable as stb\n",
    "import warnings\n",
    "warnings.filterwarnings('ignore')\n",
    "\n",
    "%matplotlib inline"
   ]
  },
  {
   "cell_type": "code",
   "execution_count": 2,
   "metadata": {},
   "outputs": [
    {
     "data": {
      "text/html": [
       "<div>\n",
       "<style scoped>\n",
       "    .dataframe tbody tr th:only-of-type {\n",
       "        vertical-align: middle;\n",
       "    }\n",
       "\n",
       "    .dataframe tbody tr th {\n",
       "        vertical-align: top;\n",
       "    }\n",
       "\n",
       "    .dataframe thead th {\n",
       "        text-align: right;\n",
       "    }\n",
       "</style>\n",
       "<table border=\"1\" class=\"dataframe\">\n",
       "  <thead>\n",
       "    <tr style=\"text-align: right;\">\n",
       "      <th></th>\n",
       "      <th>ApprovalFY</th>\n",
       "      <th>Term</th>\n",
       "      <th>NoEmp</th>\n",
       "      <th>NewExist</th>\n",
       "      <th>CreateJob</th>\n",
       "      <th>RetainedJob</th>\n",
       "      <th>UrbanRural</th>\n",
       "      <th>RevLineCr</th>\n",
       "      <th>LowDoc</th>\n",
       "      <th>DisbursementGross</th>\n",
       "      <th>MIS_Status</th>\n",
       "      <th>GrAppv</th>\n",
       "      <th>SBA_Appv</th>\n",
       "      <th>sector</th>\n",
       "      <th>isFranchise</th>\n",
       "      <th>sameState</th>\n",
       "      <th>Portion</th>\n",
       "    </tr>\n",
       "  </thead>\n",
       "  <tbody>\n",
       "    <tr>\n",
       "      <th>0</th>\n",
       "      <td>1997</td>\n",
       "      <td>84</td>\n",
       "      <td>4</td>\n",
       "      <td>2</td>\n",
       "      <td>0</td>\n",
       "      <td>0</td>\n",
       "      <td>0</td>\n",
       "      <td>N</td>\n",
       "      <td>Y</td>\n",
       "      <td>60000.0</td>\n",
       "      <td>P I F</td>\n",
       "      <td>60000.0</td>\n",
       "      <td>48000.0</td>\n",
       "      <td>Retail trade</td>\n",
       "      <td>No Franchise</td>\n",
       "      <td>0</td>\n",
       "      <td>0.80</td>\n",
       "    </tr>\n",
       "    <tr>\n",
       "      <th>1</th>\n",
       "      <td>1997</td>\n",
       "      <td>60</td>\n",
       "      <td>2</td>\n",
       "      <td>2</td>\n",
       "      <td>0</td>\n",
       "      <td>0</td>\n",
       "      <td>0</td>\n",
       "      <td>N</td>\n",
       "      <td>Y</td>\n",
       "      <td>40000.0</td>\n",
       "      <td>P I F</td>\n",
       "      <td>40000.0</td>\n",
       "      <td>32000.0</td>\n",
       "      <td>Accommodation food_serv</td>\n",
       "      <td>No Franchise</td>\n",
       "      <td>1</td>\n",
       "      <td>0.80</td>\n",
       "    </tr>\n",
       "    <tr>\n",
       "      <th>2</th>\n",
       "      <td>1997</td>\n",
       "      <td>180</td>\n",
       "      <td>7</td>\n",
       "      <td>1</td>\n",
       "      <td>0</td>\n",
       "      <td>0</td>\n",
       "      <td>0</td>\n",
       "      <td>N</td>\n",
       "      <td>N</td>\n",
       "      <td>287000.0</td>\n",
       "      <td>P I F</td>\n",
       "      <td>287000.0</td>\n",
       "      <td>215250.0</td>\n",
       "      <td>Health_care,social_ass</td>\n",
       "      <td>No Franchise</td>\n",
       "      <td>1</td>\n",
       "      <td>0.75</td>\n",
       "    </tr>\n",
       "    <tr>\n",
       "      <th>3</th>\n",
       "      <td>1997</td>\n",
       "      <td>120</td>\n",
       "      <td>19</td>\n",
       "      <td>1</td>\n",
       "      <td>0</td>\n",
       "      <td>0</td>\n",
       "      <td>0</td>\n",
       "      <td>N</td>\n",
       "      <td>N</td>\n",
       "      <td>517000.0</td>\n",
       "      <td>P I F</td>\n",
       "      <td>517000.0</td>\n",
       "      <td>387750.0</td>\n",
       "      <td>Manufacturing</td>\n",
       "      <td>No Franchise</td>\n",
       "      <td>0</td>\n",
       "      <td>0.75</td>\n",
       "    </tr>\n",
       "    <tr>\n",
       "      <th>4</th>\n",
       "      <td>1997</td>\n",
       "      <td>84</td>\n",
       "      <td>1</td>\n",
       "      <td>2</td>\n",
       "      <td>0</td>\n",
       "      <td>0</td>\n",
       "      <td>0</td>\n",
       "      <td>N</td>\n",
       "      <td>Y</td>\n",
       "      <td>45000.0</td>\n",
       "      <td>P I F</td>\n",
       "      <td>45000.0</td>\n",
       "      <td>36000.0</td>\n",
       "      <td>Other_no_pub</td>\n",
       "      <td>No Franchise</td>\n",
       "      <td>0</td>\n",
       "      <td>0.80</td>\n",
       "    </tr>\n",
       "  </tbody>\n",
       "</table>\n",
       "</div>"
      ],
      "text/plain": [
       "   ApprovalFY  Term  NoEmp  NewExist  CreateJob  RetainedJob  UrbanRural  \\\n",
       "0        1997    84      4         2          0            0           0   \n",
       "1        1997    60      2         2          0            0           0   \n",
       "2        1997   180      7         1          0            0           0   \n",
       "3        1997   120     19         1          0            0           0   \n",
       "4        1997    84      1         2          0            0           0   \n",
       "\n",
       "  RevLineCr LowDoc  DisbursementGross MIS_Status    GrAppv  SBA_Appv  \\\n",
       "0         N      Y            60000.0      P I F   60000.0   48000.0   \n",
       "1         N      Y            40000.0      P I F   40000.0   32000.0   \n",
       "2         N      N           287000.0      P I F  287000.0  215250.0   \n",
       "3         N      N           517000.0      P I F  517000.0  387750.0   \n",
       "4         N      Y            45000.0      P I F   45000.0   36000.0   \n",
       "\n",
       "                    sector   isFranchise  sameState  Portion  \n",
       "0             Retail trade  No Franchise          0     0.80  \n",
       "1  Accommodation food_serv  No Franchise          1     0.80  \n",
       "2   Health_care,social_ass  No Franchise          1     0.75  \n",
       "3            Manufacturing  No Franchise          0     0.75  \n",
       "4             Other_no_pub  No Franchise          0     0.80  "
      ]
     },
     "execution_count": 2,
     "metadata": {},
     "output_type": "execute_result"
    }
   ],
   "source": [
    "df = pd.read_csv(r'Clean_SBA_Loan.csv')\n",
    "df.head()"
   ]
  },
  {
   "cell_type": "code",
   "execution_count": 3,
   "metadata": {},
   "outputs": [
    {
     "name": "stdout",
     "output_type": "stream",
     "text": [
      "<class 'pandas.core.frame.DataFrame'>\n",
      "RangeIndex: 459506 entries, 0 to 459505\n",
      "Data columns (total 17 columns):\n",
      " #   Column             Non-Null Count   Dtype  \n",
      "---  ------             --------------   -----  \n",
      " 0   ApprovalFY         459506 non-null  int64  \n",
      " 1   Term               459506 non-null  int64  \n",
      " 2   NoEmp              459506 non-null  int64  \n",
      " 3   NewExist           459506 non-null  int64  \n",
      " 4   CreateJob          459506 non-null  int64  \n",
      " 5   RetainedJob        459506 non-null  int64  \n",
      " 6   UrbanRural         459506 non-null  int64  \n",
      " 7   RevLineCr          459506 non-null  object \n",
      " 8   LowDoc             459506 non-null  object \n",
      " 9   DisbursementGross  459506 non-null  float64\n",
      " 10  MIS_Status         459506 non-null  object \n",
      " 11  GrAppv             459506 non-null  float64\n",
      " 12  SBA_Appv           459506 non-null  float64\n",
      " 13  sector             459506 non-null  object \n",
      " 14  isFranchise        459506 non-null  object \n",
      " 15  sameState          459506 non-null  int64  \n",
      " 16  Portion            459506 non-null  float64\n",
      "dtypes: float64(4), int64(8), object(5)\n",
      "memory usage: 59.6+ MB\n"
     ]
    }
   ],
   "source": [
    "df.info()"
   ]
  },
  {
   "cell_type": "code",
   "execution_count": 4,
   "metadata": {},
   "outputs": [
    {
     "data": {
      "text/plain": [
       "ApprovalFY           0\n",
       "Term                 0\n",
       "NoEmp                0\n",
       "NewExist             0\n",
       "CreateJob            0\n",
       "RetainedJob          0\n",
       "UrbanRural           0\n",
       "RevLineCr            0\n",
       "LowDoc               0\n",
       "DisbursementGross    0\n",
       "MIS_Status           0\n",
       "GrAppv               0\n",
       "SBA_Appv             0\n",
       "sector               0\n",
       "isFranchise          0\n",
       "sameState            0\n",
       "Portion              0\n",
       "dtype: int64"
      ]
     },
     "execution_count": 4,
     "metadata": {},
     "output_type": "execute_result"
    }
   ],
   "source": [
    "## Checking for missing value\n",
    "df.isnull().sum()"
   ]
  },
  {
   "cell_type": "code",
   "execution_count": 5,
   "metadata": {},
   "outputs": [
    {
     "data": {
      "text/html": [
       "<div>\n",
       "<style scoped>\n",
       "    .dataframe tbody tr th:only-of-type {\n",
       "        vertical-align: middle;\n",
       "    }\n",
       "\n",
       "    .dataframe tbody tr th {\n",
       "        vertical-align: top;\n",
       "    }\n",
       "\n",
       "    .dataframe thead th {\n",
       "        text-align: right;\n",
       "    }\n",
       "</style>\n",
       "<table border=\"1\" class=\"dataframe\">\n",
       "  <thead>\n",
       "    <tr style=\"text-align: right;\">\n",
       "      <th></th>\n",
       "      <th>count</th>\n",
       "      <th>mean</th>\n",
       "      <th>std</th>\n",
       "      <th>min</th>\n",
       "      <th>25%</th>\n",
       "      <th>50%</th>\n",
       "      <th>75%</th>\n",
       "      <th>max</th>\n",
       "    </tr>\n",
       "  </thead>\n",
       "  <tbody>\n",
       "    <tr>\n",
       "      <th>ApprovalFY</th>\n",
       "      <td>459506.0</td>\n",
       "      <td>2003.016381</td>\n",
       "      <td>5.667214</td>\n",
       "      <td>1984.00</td>\n",
       "      <td>2000.0</td>\n",
       "      <td>2005.0</td>\n",
       "      <td>2007.00</td>\n",
       "      <td>2014.0</td>\n",
       "    </tr>\n",
       "    <tr>\n",
       "      <th>Term</th>\n",
       "      <td>459506.0</td>\n",
       "      <td>93.719986</td>\n",
       "      <td>68.305137</td>\n",
       "      <td>0.00</td>\n",
       "      <td>59.0</td>\n",
       "      <td>84.0</td>\n",
       "      <td>90.00</td>\n",
       "      <td>527.0</td>\n",
       "    </tr>\n",
       "    <tr>\n",
       "      <th>NoEmp</th>\n",
       "      <td>459506.0</td>\n",
       "      <td>9.893912</td>\n",
       "      <td>56.664519</td>\n",
       "      <td>0.00</td>\n",
       "      <td>2.0</td>\n",
       "      <td>4.0</td>\n",
       "      <td>9.00</td>\n",
       "      <td>9999.0</td>\n",
       "    </tr>\n",
       "    <tr>\n",
       "      <th>NewExist</th>\n",
       "      <td>459506.0</td>\n",
       "      <td>1.264884</td>\n",
       "      <td>0.441272</td>\n",
       "      <td>1.00</td>\n",
       "      <td>1.0</td>\n",
       "      <td>1.0</td>\n",
       "      <td>2.00</td>\n",
       "      <td>2.0</td>\n",
       "    </tr>\n",
       "    <tr>\n",
       "      <th>CreateJob</th>\n",
       "      <td>459506.0</td>\n",
       "      <td>1.905098</td>\n",
       "      <td>16.910585</td>\n",
       "      <td>0.00</td>\n",
       "      <td>0.0</td>\n",
       "      <td>0.0</td>\n",
       "      <td>1.00</td>\n",
       "      <td>5621.0</td>\n",
       "    </tr>\n",
       "    <tr>\n",
       "      <th>RetainedJob</th>\n",
       "      <td>459506.0</td>\n",
       "      <td>4.786976</td>\n",
       "      <td>15.685655</td>\n",
       "      <td>0.00</td>\n",
       "      <td>0.0</td>\n",
       "      <td>1.0</td>\n",
       "      <td>5.00</td>\n",
       "      <td>4441.0</td>\n",
       "    </tr>\n",
       "    <tr>\n",
       "      <th>UrbanRural</th>\n",
       "      <td>459506.0</td>\n",
       "      <td>0.900169</td>\n",
       "      <td>0.604199</td>\n",
       "      <td>0.00</td>\n",
       "      <td>1.0</td>\n",
       "      <td>1.0</td>\n",
       "      <td>1.00</td>\n",
       "      <td>2.0</td>\n",
       "    </tr>\n",
       "    <tr>\n",
       "      <th>DisbursementGross</th>\n",
       "      <td>459506.0</td>\n",
       "      <td>171965.924027</td>\n",
       "      <td>274989.012959</td>\n",
       "      <td>4000.00</td>\n",
       "      <td>34983.0</td>\n",
       "      <td>75500.0</td>\n",
       "      <td>191992.75</td>\n",
       "      <td>11446325.0</td>\n",
       "    </tr>\n",
       "    <tr>\n",
       "      <th>GrAppv</th>\n",
       "      <td>459506.0</td>\n",
       "      <td>154066.817809</td>\n",
       "      <td>261217.184151</td>\n",
       "      <td>1000.00</td>\n",
       "      <td>25000.0</td>\n",
       "      <td>50000.0</td>\n",
       "      <td>156000.00</td>\n",
       "      <td>5000000.0</td>\n",
       "    </tr>\n",
       "    <tr>\n",
       "      <th>SBA_Appv</th>\n",
       "      <td>459506.0</td>\n",
       "      <td>117096.220844</td>\n",
       "      <td>214163.395536</td>\n",
       "      <td>500.00</td>\n",
       "      <td>12750.0</td>\n",
       "      <td>35000.0</td>\n",
       "      <td>125000.00</td>\n",
       "      <td>4500000.0</td>\n",
       "    </tr>\n",
       "    <tr>\n",
       "      <th>sameState</th>\n",
       "      <td>459506.0</td>\n",
       "      <td>0.456044</td>\n",
       "      <td>0.498065</td>\n",
       "      <td>0.00</td>\n",
       "      <td>0.0</td>\n",
       "      <td>0.0</td>\n",
       "      <td>1.00</td>\n",
       "      <td>1.0</td>\n",
       "    </tr>\n",
       "    <tr>\n",
       "      <th>Portion</th>\n",
       "      <td>459506.0</td>\n",
       "      <td>0.652388</td>\n",
       "      <td>0.179353</td>\n",
       "      <td>0.05</td>\n",
       "      <td>0.5</td>\n",
       "      <td>0.5</td>\n",
       "      <td>0.82</td>\n",
       "      <td>1.0</td>\n",
       "    </tr>\n",
       "  </tbody>\n",
       "</table>\n",
       "</div>"
      ],
      "text/plain": [
       "                      count           mean            std      min      25%  \\\n",
       "ApprovalFY         459506.0    2003.016381       5.667214  1984.00   2000.0   \n",
       "Term               459506.0      93.719986      68.305137     0.00     59.0   \n",
       "NoEmp              459506.0       9.893912      56.664519     0.00      2.0   \n",
       "NewExist           459506.0       1.264884       0.441272     1.00      1.0   \n",
       "CreateJob          459506.0       1.905098      16.910585     0.00      0.0   \n",
       "RetainedJob        459506.0       4.786976      15.685655     0.00      0.0   \n",
       "UrbanRural         459506.0       0.900169       0.604199     0.00      1.0   \n",
       "DisbursementGross  459506.0  171965.924027  274989.012959  4000.00  34983.0   \n",
       "GrAppv             459506.0  154066.817809  261217.184151  1000.00  25000.0   \n",
       "SBA_Appv           459506.0  117096.220844  214163.395536   500.00  12750.0   \n",
       "sameState          459506.0       0.456044       0.498065     0.00      0.0   \n",
       "Portion            459506.0       0.652388       0.179353     0.05      0.5   \n",
       "\n",
       "                       50%        75%         max  \n",
       "ApprovalFY          2005.0    2007.00      2014.0  \n",
       "Term                  84.0      90.00       527.0  \n",
       "NoEmp                  4.0       9.00      9999.0  \n",
       "NewExist               1.0       2.00         2.0  \n",
       "CreateJob              0.0       1.00      5621.0  \n",
       "RetainedJob            1.0       5.00      4441.0  \n",
       "UrbanRural             1.0       1.00         2.0  \n",
       "DisbursementGross  75500.0  191992.75  11446325.0  \n",
       "GrAppv             50000.0  156000.00   5000000.0  \n",
       "SBA_Appv           35000.0  125000.00   4500000.0  \n",
       "sameState              0.0       1.00         1.0  \n",
       "Portion                0.5       0.82         1.0  "
      ]
     },
     "execution_count": 5,
     "metadata": {},
     "output_type": "execute_result"
    }
   ],
   "source": [
    "df.describe().T"
   ]
  },
  {
   "cell_type": "code",
   "execution_count": 6,
   "metadata": {},
   "outputs": [
    {
     "data": {
      "text/html": [
       "<div>\n",
       "<style scoped>\n",
       "    .dataframe tbody tr th:only-of-type {\n",
       "        vertical-align: middle;\n",
       "    }\n",
       "\n",
       "    .dataframe tbody tr th {\n",
       "        vertical-align: top;\n",
       "    }\n",
       "\n",
       "    .dataframe thead th {\n",
       "        text-align: right;\n",
       "    }\n",
       "</style>\n",
       "<table border=\"1\" class=\"dataframe\">\n",
       "  <thead>\n",
       "    <tr style=\"text-align: right;\">\n",
       "      <th></th>\n",
       "      <th>count</th>\n",
       "      <th>unique</th>\n",
       "      <th>top</th>\n",
       "      <th>freq</th>\n",
       "    </tr>\n",
       "  </thead>\n",
       "  <tbody>\n",
       "    <tr>\n",
       "      <th>RevLineCr</th>\n",
       "      <td>459506</td>\n",
       "      <td>2</td>\n",
       "      <td>N</td>\n",
       "      <td>265983</td>\n",
       "    </tr>\n",
       "    <tr>\n",
       "      <th>LowDoc</th>\n",
       "      <td>459506</td>\n",
       "      <td>2</td>\n",
       "      <td>N</td>\n",
       "      <td>434364</td>\n",
       "    </tr>\n",
       "    <tr>\n",
       "      <th>MIS_Status</th>\n",
       "      <td>459506</td>\n",
       "      <td>2</td>\n",
       "      <td>P I F</td>\n",
       "      <td>360960</td>\n",
       "    </tr>\n",
       "    <tr>\n",
       "      <th>sector</th>\n",
       "      <td>459506</td>\n",
       "      <td>20</td>\n",
       "      <td>Retail trade</td>\n",
       "      <td>81344</td>\n",
       "    </tr>\n",
       "    <tr>\n",
       "      <th>isFranchise</th>\n",
       "      <td>459506</td>\n",
       "      <td>2</td>\n",
       "      <td>No Franchise</td>\n",
       "      <td>445170</td>\n",
       "    </tr>\n",
       "  </tbody>\n",
       "</table>\n",
       "</div>"
      ],
      "text/plain": [
       "              count unique           top    freq\n",
       "RevLineCr    459506      2             N  265983\n",
       "LowDoc       459506      2             N  434364\n",
       "MIS_Status   459506      2         P I F  360960\n",
       "sector       459506     20  Retail trade   81344\n",
       "isFranchise  459506      2  No Franchise  445170"
      ]
     },
     "execution_count": 6,
     "metadata": {},
     "output_type": "execute_result"
    }
   ],
   "source": [
    "df.describe(include='O').T"
   ]
  },
  {
   "cell_type": "code",
   "execution_count": 7,
   "metadata": {},
   "outputs": [
    {
     "data": {
      "text/html": [
       "<div>\n",
       "<style scoped>\n",
       "    .dataframe tbody tr th:only-of-type {\n",
       "        vertical-align: middle;\n",
       "    }\n",
       "\n",
       "    .dataframe tbody tr th {\n",
       "        vertical-align: top;\n",
       "    }\n",
       "\n",
       "    .dataframe thead th {\n",
       "        text-align: right;\n",
       "    }\n",
       "</style>\n",
       "<table border=\"1\" class=\"dataframe\">\n",
       "  <thead>\n",
       "    <tr style=\"text-align: right;\">\n",
       "      <th></th>\n",
       "      <th>feature_name</th>\n",
       "      <th>type</th>\n",
       "      <th>Null</th>\n",
       "      <th>Percentage Null</th>\n",
       "      <th>No Unique</th>\n",
       "      <th>Example Unique</th>\n",
       "    </tr>\n",
       "  </thead>\n",
       "  <tbody>\n",
       "    <tr>\n",
       "      <th>0</th>\n",
       "      <td>ApprovalFY</td>\n",
       "      <td>int64</td>\n",
       "      <td>0</td>\n",
       "      <td>0.0</td>\n",
       "      <td>29</td>\n",
       "      <td>[2005, 2012]</td>\n",
       "    </tr>\n",
       "    <tr>\n",
       "      <th>1</th>\n",
       "      <td>Term</td>\n",
       "      <td>int64</td>\n",
       "      <td>0</td>\n",
       "      <td>0.0</td>\n",
       "      <td>373</td>\n",
       "      <td>[324, 254]</td>\n",
       "    </tr>\n",
       "    <tr>\n",
       "      <th>2</th>\n",
       "      <td>NoEmp</td>\n",
       "      <td>int64</td>\n",
       "      <td>0</td>\n",
       "      <td>0.0</td>\n",
       "      <td>432</td>\n",
       "      <td>[71, 74]</td>\n",
       "    </tr>\n",
       "    <tr>\n",
       "      <th>3</th>\n",
       "      <td>NewExist</td>\n",
       "      <td>int64</td>\n",
       "      <td>0</td>\n",
       "      <td>0.0</td>\n",
       "      <td>2</td>\n",
       "      <td>[1, 2]</td>\n",
       "    </tr>\n",
       "    <tr>\n",
       "      <th>4</th>\n",
       "      <td>CreateJob</td>\n",
       "      <td>int64</td>\n",
       "      <td>0</td>\n",
       "      <td>0.0</td>\n",
       "      <td>193</td>\n",
       "      <td>[144, 180]</td>\n",
       "    </tr>\n",
       "    <tr>\n",
       "      <th>5</th>\n",
       "      <td>RetainedJob</td>\n",
       "      <td>int64</td>\n",
       "      <td>0</td>\n",
       "      <td>0.0</td>\n",
       "      <td>276</td>\n",
       "      <td>[86, 75]</td>\n",
       "    </tr>\n",
       "    <tr>\n",
       "      <th>6</th>\n",
       "      <td>UrbanRural</td>\n",
       "      <td>int64</td>\n",
       "      <td>0</td>\n",
       "      <td>0.0</td>\n",
       "      <td>3</td>\n",
       "      <td>[2, 0]</td>\n",
       "    </tr>\n",
       "    <tr>\n",
       "      <th>7</th>\n",
       "      <td>RevLineCr</td>\n",
       "      <td>object</td>\n",
       "      <td>0</td>\n",
       "      <td>0.0</td>\n",
       "      <td>2</td>\n",
       "      <td>[N, Y]</td>\n",
       "    </tr>\n",
       "    <tr>\n",
       "      <th>8</th>\n",
       "      <td>LowDoc</td>\n",
       "      <td>object</td>\n",
       "      <td>0</td>\n",
       "      <td>0.0</td>\n",
       "      <td>2</td>\n",
       "      <td>[N, Y]</td>\n",
       "    </tr>\n",
       "    <tr>\n",
       "      <th>9</th>\n",
       "      <td>DisbursementGross</td>\n",
       "      <td>float64</td>\n",
       "      <td>0</td>\n",
       "      <td>0.0</td>\n",
       "      <td>101013</td>\n",
       "      <td>[36579.0, 172912.0]</td>\n",
       "    </tr>\n",
       "    <tr>\n",
       "      <th>10</th>\n",
       "      <td>MIS_Status</td>\n",
       "      <td>object</td>\n",
       "      <td>0</td>\n",
       "      <td>0.0</td>\n",
       "      <td>2</td>\n",
       "      <td>[P I F, CHGOFF]</td>\n",
       "    </tr>\n",
       "    <tr>\n",
       "      <th>11</th>\n",
       "      <td>GrAppv</td>\n",
       "      <td>float64</td>\n",
       "      <td>0</td>\n",
       "      <td>0.0</td>\n",
       "      <td>12805</td>\n",
       "      <td>[750960.0, 524900.0]</td>\n",
       "    </tr>\n",
       "    <tr>\n",
       "      <th>12</th>\n",
       "      <td>SBA_Appv</td>\n",
       "      <td>float64</td>\n",
       "      <td>0</td>\n",
       "      <td>0.0</td>\n",
       "      <td>22281</td>\n",
       "      <td>[88100.0, 34960.0]</td>\n",
       "    </tr>\n",
       "    <tr>\n",
       "      <th>13</th>\n",
       "      <td>sector</td>\n",
       "      <td>object</td>\n",
       "      <td>0</td>\n",
       "      <td>0.0</td>\n",
       "      <td>20</td>\n",
       "      <td>[Information, Admini_sup and waste_mgm_rem]</td>\n",
       "    </tr>\n",
       "    <tr>\n",
       "      <th>14</th>\n",
       "      <td>isFranchise</td>\n",
       "      <td>object</td>\n",
       "      <td>0</td>\n",
       "      <td>0.0</td>\n",
       "      <td>2</td>\n",
       "      <td>[Franchise, No Franchise]</td>\n",
       "    </tr>\n",
       "    <tr>\n",
       "      <th>15</th>\n",
       "      <td>sameState</td>\n",
       "      <td>int64</td>\n",
       "      <td>0</td>\n",
       "      <td>0.0</td>\n",
       "      <td>2</td>\n",
       "      <td>[0, 1]</td>\n",
       "    </tr>\n",
       "    <tr>\n",
       "      <th>16</th>\n",
       "      <td>Portion</td>\n",
       "      <td>float64</td>\n",
       "      <td>0</td>\n",
       "      <td>0.0</td>\n",
       "      <td>5746</td>\n",
       "      <td>[0.8499963118684075, 0.7499995727773743]</td>\n",
       "    </tr>\n",
       "  </tbody>\n",
       "</table>\n",
       "</div>"
      ],
      "text/plain": [
       "         feature_name     type  Null  Percentage Null  No Unique  \\\n",
       "0          ApprovalFY    int64     0              0.0         29   \n",
       "1                Term    int64     0              0.0        373   \n",
       "2               NoEmp    int64     0              0.0        432   \n",
       "3            NewExist    int64     0              0.0          2   \n",
       "4           CreateJob    int64     0              0.0        193   \n",
       "5         RetainedJob    int64     0              0.0        276   \n",
       "6          UrbanRural    int64     0              0.0          3   \n",
       "7           RevLineCr   object     0              0.0          2   \n",
       "8              LowDoc   object     0              0.0          2   \n",
       "9   DisbursementGross  float64     0              0.0     101013   \n",
       "10         MIS_Status   object     0              0.0          2   \n",
       "11             GrAppv  float64     0              0.0      12805   \n",
       "12           SBA_Appv  float64     0              0.0      22281   \n",
       "13             sector   object     0              0.0         20   \n",
       "14        isFranchise   object     0              0.0          2   \n",
       "15          sameState    int64     0              0.0          2   \n",
       "16            Portion  float64     0              0.0       5746   \n",
       "\n",
       "                                 Example Unique  \n",
       "0                                  [2005, 2012]  \n",
       "1                                    [324, 254]  \n",
       "2                                      [71, 74]  \n",
       "3                                        [1, 2]  \n",
       "4                                    [144, 180]  \n",
       "5                                      [86, 75]  \n",
       "6                                        [2, 0]  \n",
       "7                                        [N, Y]  \n",
       "8                                        [N, Y]  \n",
       "9                           [36579.0, 172912.0]  \n",
       "10                              [P I F, CHGOFF]  \n",
       "11                         [750960.0, 524900.0]  \n",
       "12                           [88100.0, 34960.0]  \n",
       "13  [Information, Admini_sup and waste_mgm_rem]  \n",
       "14                    [Franchise, No Franchise]  \n",
       "15                                       [0, 1]  \n",
       "16     [0.8499963118684075, 0.7499995727773743]  "
      ]
     },
     "execution_count": 7,
     "metadata": {},
     "output_type": "execute_result"
    }
   ],
   "source": [
    "SBA_LoanDESC = []\n",
    "\n",
    "for i in df.columns:\n",
    "    SBA_LoanDESC.append([\n",
    "    i,\n",
    "    df[i].dtypes,\n",
    "    df[i].isna().sum(),\n",
    "    (((df[i].isna().sum())/len(df))*100).round(2),\n",
    "    df[i].nunique(),\n",
    "    df[i].drop_duplicates().sample(2).values\n",
    "    ])\n",
    "\n",
    "pd.DataFrame(data=SBA_LoanDESC, columns=['feature_name', 'type', 'Null', 'Percentage Null', 'No Unique', 'Example Unique'])"
   ]
  },
  {
   "cell_type": "markdown",
   "metadata": {},
   "source": [
    "### Data Analyst and Visualization"
   ]
  },
  {
   "cell_type": "markdown",
   "metadata": {},
   "source": [
    "### `MIS_Status`"
   ]
  },
  {
   "cell_type": "code",
   "execution_count": 8,
   "metadata": {},
   "outputs": [
    {
     "data": {
      "text/html": [
       "<div>\n",
       "<style scoped>\n",
       "    .dataframe tbody tr th:only-of-type {\n",
       "        vertical-align: middle;\n",
       "    }\n",
       "\n",
       "    .dataframe tbody tr th {\n",
       "        vertical-align: top;\n",
       "    }\n",
       "\n",
       "    .dataframe thead th {\n",
       "        text-align: right;\n",
       "    }\n",
       "</style>\n",
       "<table border=\"1\" class=\"dataframe\">\n",
       "  <thead>\n",
       "    <tr style=\"text-align: right;\">\n",
       "      <th></th>\n",
       "      <th>MIS_Status</th>\n",
       "      <th>count</th>\n",
       "      <th>percent</th>\n",
       "      <th>cumulative_count</th>\n",
       "      <th>cumulative_percent</th>\n",
       "    </tr>\n",
       "  </thead>\n",
       "  <tbody>\n",
       "    <tr>\n",
       "      <th>0</th>\n",
       "      <td>P I F</td>\n",
       "      <td>360960</td>\n",
       "      <td>78.553925</td>\n",
       "      <td>360960</td>\n",
       "      <td>78.553925</td>\n",
       "    </tr>\n",
       "    <tr>\n",
       "      <th>1</th>\n",
       "      <td>CHGOFF</td>\n",
       "      <td>98546</td>\n",
       "      <td>21.446075</td>\n",
       "      <td>459506</td>\n",
       "      <td>100.000000</td>\n",
       "    </tr>\n",
       "  </tbody>\n",
       "</table>\n",
       "</div>"
      ],
      "text/plain": [
       "  MIS_Status   count    percent  cumulative_count  cumulative_percent\n",
       "0      P I F  360960  78.553925            360960           78.553925\n",
       "1     CHGOFF   98546  21.446075            459506          100.000000"
      ]
     },
     "execution_count": 8,
     "metadata": {},
     "output_type": "execute_result"
    }
   ],
   "source": [
    "# This code aim to show the frequency of MIS_Status\n",
    "df.stb.freq(['MIS_Status'])"
   ]
  },
  {
   "cell_type": "code",
   "execution_count": 9,
   "metadata": {},
   "outputs": [
    {
     "data": {
      "image/png": "[encoded data removed]",
      "text/plain": [
       "<Figure size 432x288 with 1 Axes>"
      ]
     },
     "metadata": {},
     "output_type": "display_data"
    }
   ],
   "source": [
    "#Here are visualization of MIS_Status using pie chart\n",
    "percentage = [78.55, 21.44]\n",
    "label = ['PIF', 'CHGOFF']\n",
    "\n",
    "plt.pie( percentage, labels=label,\n",
    "        colors=[ 'green', 'yellow'],\n",
    "        startangle=0,\n",
    "        textprops ={\n",
    "            'size': 13,\n",
    "            'color':'black'\n",
    "        },\n",
    "        autopct='%1.2f%%',\n",
    "        radius=1,\n",
    "        explode=(.05, .04)\n",
    ")\n",
    "plt.title('Percentage of MIS_Status')\n",
    "# plt.savefig('D:\\\\PURWADHIKA\\\\MODUL 03\\\\PICTURES\\\\Response_Percent.png')\n",
    "plt.show()"
   ]
  },
  {
   "cell_type": "markdown",
   "metadata": {},
   "source": [
    "- Percentage of borrower who pain in full (PIF) around 78.56% while borrower who charge off around 21.44%"
   ]
  },
  {
   "cell_type": "markdown",
   "metadata": {},
   "source": [
    "### `Term`"
   ]
  },
  {
   "cell_type": "code",
   "execution_count": 10,
   "metadata": {},
   "outputs": [
    {
     "data": {
      "text/plain": [
       "count    459506.000000\n",
       "mean         93.719986\n",
       "std          68.305137\n",
       "min           0.000000\n",
       "25%          59.000000\n",
       "50%          84.000000\n",
       "75%          90.000000\n",
       "max         527.000000\n",
       "Name: Term, dtype: float64"
      ]
     },
     "execution_count": 10,
     "metadata": {},
     "output_type": "execute_result"
    }
   ],
   "source": [
    "df['Term'].describe()"
   ]
  },
  {
   "cell_type": "code",
   "execution_count": 11,
   "metadata": {},
   "outputs": [
    {
     "data": {
      "image/png": "[encoded data removed]",
      "text/plain": [
       "<Figure size 504x360 with 1 Axes>"
      ]
     },
     "metadata": {
      "needs_background": "light"
     },
     "output_type": "display_data"
    }
   ],
   "source": [
    "plt.figure(figsize=(7,5))\n",
    "sns.barplot(y = df['Term'], x=df['MIS_Status'])\n",
    "plt.show()"
   ]
  },
  {
   "cell_type": "code",
   "execution_count": 12,
   "metadata": {},
   "outputs": [
    {
     "data": {
      "text/plain": [
       "MIS_Status\n",
       "CHGOFF    46\n",
       "P I F     84\n",
       "Name: Term, dtype: int64"
      ]
     },
     "execution_count": 12,
     "metadata": {},
     "output_type": "execute_result"
    }
   ],
   "source": [
    "df['Term'].groupby(df['MIS_Status']).median()"
   ]
  },
  {
   "cell_type": "markdown",
   "metadata": {},
   "source": [
    "- Median Paid in Full (PIF) around 84 month higher rather than CHGOFF "
   ]
  },
  {
   "cell_type": "markdown",
   "metadata": {},
   "source": [
    "### `NoEmp`"
   ]
  },
  {
   "cell_type": "code",
   "execution_count": 13,
   "metadata": {},
   "outputs": [
    {
     "data": {
      "text/plain": [
       "count    459506.000000\n",
       "mean          9.893912\n",
       "std          56.664519\n",
       "min           0.000000\n",
       "25%           2.000000\n",
       "50%           4.000000\n",
       "75%           9.000000\n",
       "max        9999.000000\n",
       "Name: NoEmp, dtype: float64"
      ]
     },
     "execution_count": 13,
     "metadata": {},
     "output_type": "execute_result"
    }
   ],
   "source": [
    "df['NoEmp'].describe()"
   ]
  },
  {
   "cell_type": "code",
   "execution_count": 14,
   "metadata": {},
   "outputs": [
    {
     "data": {
      "text/plain": [
       "<function matplotlib.pyplot.show(*args, **kw)>"
      ]
     },
     "execution_count": 14,
     "metadata": {},
     "output_type": "execute_result"
    },
    {
     "data": {
      "image/png": "[encoded data removed]",
      "text/plain": [
       "<Figure size 432x360 with 1 Axes>"
      ]
     },
     "metadata": {
      "needs_background": "light"
     },
     "output_type": "display_data"
    }
   ],
   "source": [
    "plt.figure(figsize=(6,5))\n",
    "sns.distplot(df['NoEmp'])\n",
    "plt.show\n",
    "\n",
    "#right skewes"
   ]
  },
  {
   "cell_type": "code",
   "execution_count": 15,
   "metadata": {},
   "outputs": [
    {
     "data": {
      "text/plain": [
       "MIS_Status\n",
       "CHGOFF    3\n",
       "P I F     4\n",
       "Name: NoEmp, dtype: int64"
      ]
     },
     "execution_count": 15,
     "metadata": {},
     "output_type": "execute_result"
    }
   ],
   "source": [
    "df['NoEmp'].groupby(df['MIS_Status']).median()"
   ]
  },
  {
   "cell_type": "markdown",
   "metadata": {},
   "source": [
    "- NoEmp is right skewed\n",
    "- Median number of employees of CHGOFF was less than PIF. This is could be indicate that small business with little employees has more risk to charge off"
   ]
  },
  {
   "cell_type": "markdown",
   "metadata": {},
   "source": [
    "### `NewExist`"
   ]
  },
  {
   "cell_type": "code",
   "execution_count": 16,
   "metadata": {},
   "outputs": [
    {
     "data": {
      "text/html": [
       "<div>\n",
       "<style scoped>\n",
       "    .dataframe tbody tr th:only-of-type {\n",
       "        vertical-align: middle;\n",
       "    }\n",
       "\n",
       "    .dataframe tbody tr th {\n",
       "        vertical-align: top;\n",
       "    }\n",
       "\n",
       "    .dataframe thead th {\n",
       "        text-align: right;\n",
       "    }\n",
       "</style>\n",
       "<table border=\"1\" class=\"dataframe\">\n",
       "  <thead>\n",
       "    <tr style=\"text-align: right;\">\n",
       "      <th></th>\n",
       "      <th>NewExist</th>\n",
       "      <th>count</th>\n",
       "      <th>percent</th>\n",
       "      <th>cumulative_count</th>\n",
       "      <th>cumulative_percent</th>\n",
       "    </tr>\n",
       "  </thead>\n",
       "  <tbody>\n",
       "    <tr>\n",
       "      <th>0</th>\n",
       "      <td>1</td>\n",
       "      <td>337790</td>\n",
       "      <td>73.511554</td>\n",
       "      <td>337790</td>\n",
       "      <td>73.511554</td>\n",
       "    </tr>\n",
       "    <tr>\n",
       "      <th>1</th>\n",
       "      <td>2</td>\n",
       "      <td>121716</td>\n",
       "      <td>26.488446</td>\n",
       "      <td>459506</td>\n",
       "      <td>100.000000</td>\n",
       "    </tr>\n",
       "  </tbody>\n",
       "</table>\n",
       "</div>"
      ],
      "text/plain": [
       "   NewExist   count    percent  cumulative_count  cumulative_percent\n",
       "0         1  337790  73.511554            337790           73.511554\n",
       "1         2  121716  26.488446            459506          100.000000"
      ]
     },
     "execution_count": 16,
     "metadata": {},
     "output_type": "execute_result"
    }
   ],
   "source": [
    "df.stb.freq(['NewExist'])"
   ]
  },
  {
   "cell_type": "code",
   "execution_count": 17,
   "metadata": {},
   "outputs": [
    {
     "data": {
      "image/png": "[encoded data removed]",
      "text/plain": [
       "<Figure size 432x360 with 1 Axes>"
      ]
     },
     "metadata": {
      "needs_background": "light"
     },
     "output_type": "display_data"
    }
   ],
   "source": [
    "plt.figure(figsize=(6,5))\n",
    "sns.countplot(df['NewExist'], hue=df['MIS_Status'])\n",
    "plt.show()"
   ]
  },
  {
   "cell_type": "code",
   "execution_count": 18,
   "metadata": {},
   "outputs": [
    {
     "data": {
      "text/html": [
       "<div>\n",
       "<style scoped>\n",
       "    .dataframe tbody tr th:only-of-type {\n",
       "        vertical-align: middle;\n",
       "    }\n",
       "\n",
       "    .dataframe tbody tr th {\n",
       "        vertical-align: top;\n",
       "    }\n",
       "\n",
       "    .dataframe thead th {\n",
       "        text-align: right;\n",
       "    }\n",
       "</style>\n",
       "<table border=\"1\" class=\"dataframe\">\n",
       "  <thead>\n",
       "    <tr style=\"text-align: right;\">\n",
       "      <th>MIS_Status</th>\n",
       "      <th>CHGOFF</th>\n",
       "      <th>P I F</th>\n",
       "    </tr>\n",
       "    <tr>\n",
       "      <th>NewExist</th>\n",
       "      <th></th>\n",
       "      <th></th>\n",
       "    </tr>\n",
       "  </thead>\n",
       "  <tbody>\n",
       "    <tr>\n",
       "      <th>1</th>\n",
       "      <td>21.46</td>\n",
       "      <td>78.54</td>\n",
       "    </tr>\n",
       "    <tr>\n",
       "      <th>2</th>\n",
       "      <td>21.41</td>\n",
       "      <td>78.59</td>\n",
       "    </tr>\n",
       "    <tr>\n",
       "      <th>All</th>\n",
       "      <td>21.45</td>\n",
       "      <td>78.55</td>\n",
       "    </tr>\n",
       "  </tbody>\n",
       "</table>\n",
       "</div>"
      ],
      "text/plain": [
       "MIS_Status  CHGOFF  P I F\n",
       "NewExist                 \n",
       "1            21.46  78.54\n",
       "2            21.41  78.59\n",
       "All          21.45  78.55"
      ]
     },
     "execution_count": 18,
     "metadata": {},
     "output_type": "execute_result"
    }
   ],
   "source": [
    "((pd.crosstab(index=df['NewExist'], columns=df['MIS_Status'], normalize='index', margins=True))*100).round(2)"
   ]
  },
  {
   "cell_type": "markdown",
   "metadata": {},
   "source": [
    "- Whether the business was Existing Business or New Bussiness, both of them has same risk of CHGOFF"
   ]
  },
  {
   "cell_type": "markdown",
   "metadata": {},
   "source": [
    "### `UrbanRural`"
   ]
  },
  {
   "cell_type": "code",
   "execution_count": 19,
   "metadata": {},
   "outputs": [
    {
     "data": {
      "text/html": [
       "<div>\n",
       "<style scoped>\n",
       "    .dataframe tbody tr th:only-of-type {\n",
       "        vertical-align: middle;\n",
       "    }\n",
       "\n",
       "    .dataframe tbody tr th {\n",
       "        vertical-align: top;\n",
       "    }\n",
       "\n",
       "    .dataframe thead th {\n",
       "        text-align: right;\n",
       "    }\n",
       "</style>\n",
       "<table border=\"1\" class=\"dataframe\">\n",
       "  <thead>\n",
       "    <tr style=\"text-align: right;\">\n",
       "      <th></th>\n",
       "      <th>UrbanRural</th>\n",
       "      <th>count</th>\n",
       "      <th>percent</th>\n",
       "      <th>cumulative_count</th>\n",
       "      <th>cumulative_percent</th>\n",
       "    </tr>\n",
       "  </thead>\n",
       "  <tbody>\n",
       "    <tr>\n",
       "      <th>0</th>\n",
       "      <td>1</td>\n",
       "      <td>287181</td>\n",
       "      <td>62.497769</td>\n",
       "      <td>287181</td>\n",
       "      <td>62.497769</td>\n",
       "    </tr>\n",
       "    <tr>\n",
       "      <th>1</th>\n",
       "      <td>0</td>\n",
       "      <td>109099</td>\n",
       "      <td>23.742671</td>\n",
       "      <td>396280</td>\n",
       "      <td>86.240441</td>\n",
       "    </tr>\n",
       "    <tr>\n",
       "      <th>2</th>\n",
       "      <td>2</td>\n",
       "      <td>63226</td>\n",
       "      <td>13.759559</td>\n",
       "      <td>459506</td>\n",
       "      <td>100.000000</td>\n",
       "    </tr>\n",
       "  </tbody>\n",
       "</table>\n",
       "</div>"
      ],
      "text/plain": [
       "   UrbanRural   count    percent  cumulative_count  cumulative_percent\n",
       "0           1  287181  62.497769            287181           62.497769\n",
       "1           0  109099  23.742671            396280           86.240441\n",
       "2           2   63226  13.759559            459506          100.000000"
      ]
     },
     "execution_count": 19,
     "metadata": {},
     "output_type": "execute_result"
    }
   ],
   "source": [
    "#sidetable\n",
    "df.stb.freq(['UrbanRural'])\n",
    "#This code aims to find out the percentage of UrbanRural\n",
    "#It appears that Urban have a high percentage around 62.49% compared to others"
   ]
  },
  {
   "cell_type": "code",
   "execution_count": 20,
   "metadata": {},
   "outputs": [
    {
     "data": {
      "text/html": [
       "<div>\n",
       "<style scoped>\n",
       "    .dataframe tbody tr th:only-of-type {\n",
       "        vertical-align: middle;\n",
       "    }\n",
       "\n",
       "    .dataframe tbody tr th {\n",
       "        vertical-align: top;\n",
       "    }\n",
       "\n",
       "    .dataframe thead th {\n",
       "        text-align: right;\n",
       "    }\n",
       "</style>\n",
       "<table border=\"1\" class=\"dataframe\">\n",
       "  <thead>\n",
       "    <tr style=\"text-align: right;\">\n",
       "      <th>UrbanRural</th>\n",
       "      <th>0</th>\n",
       "      <th>1</th>\n",
       "      <th>2</th>\n",
       "    </tr>\n",
       "    <tr>\n",
       "      <th>MIS_Status</th>\n",
       "      <th></th>\n",
       "      <th></th>\n",
       "      <th></th>\n",
       "    </tr>\n",
       "  </thead>\n",
       "  <tbody>\n",
       "    <tr>\n",
       "      <th>CHGOFF</th>\n",
       "      <td>4.87</td>\n",
       "      <td>81.86</td>\n",
       "      <td>13.28</td>\n",
       "    </tr>\n",
       "    <tr>\n",
       "      <th>P I F</th>\n",
       "      <td>28.90</td>\n",
       "      <td>57.21</td>\n",
       "      <td>13.89</td>\n",
       "    </tr>\n",
       "    <tr>\n",
       "      <th>All</th>\n",
       "      <td>23.74</td>\n",
       "      <td>62.50</td>\n",
       "      <td>13.76</td>\n",
       "    </tr>\n",
       "  </tbody>\n",
       "</table>\n",
       "</div>"
      ],
      "text/plain": [
       "UrbanRural      0      1      2\n",
       "MIS_Status                     \n",
       "CHGOFF       4.87  81.86  13.28\n",
       "P I F       28.90  57.21  13.89\n",
       "All         23.74  62.50  13.76"
      ]
     },
     "execution_count": 20,
     "metadata": {},
     "output_type": "execute_result"
    }
   ],
   "source": [
    "((pd.crosstab(index=df['MIS_Status'], columns=df['UrbanRural'], normalize='index', margins=True))*100).round(2)\n",
    "\n",
    "## This code aim to know ==> most of the defaults loan come from what area ? "
   ]
  },
  {
   "cell_type": "code",
   "execution_count": 21,
   "metadata": {},
   "outputs": [
    {
     "data": {
      "image/png": "[encoded data removed]",
      "text/plain": [
       "<Figure size 432x360 with 1 Axes>"
      ]
     },
     "metadata": {
      "needs_background": "light"
     },
     "output_type": "display_data"
    }
   ],
   "source": [
    "# Visualization \n",
    "plt.figure(figsize=(6,5))\n",
    "sns.countplot(df['UrbanRural'], hue=df['MIS_Status'], palette='rainbow')\n",
    "plt.show()"
   ]
  },
  {
   "cell_type": "markdown",
   "metadata": {},
   "source": [
    "- Most of CHGOFF come from Urban with percentage 81.86%"
   ]
  },
  {
   "cell_type": "markdown",
   "metadata": {},
   "source": [
    "### `RevLineCr`"
   ]
  },
  {
   "cell_type": "code",
   "execution_count": 22,
   "metadata": {},
   "outputs": [
    {
     "data": {
      "text/html": [
       "<div>\n",
       "<style scoped>\n",
       "    .dataframe tbody tr th:only-of-type {\n",
       "        vertical-align: middle;\n",
       "    }\n",
       "\n",
       "    .dataframe tbody tr th {\n",
       "        vertical-align: top;\n",
       "    }\n",
       "\n",
       "    .dataframe thead th {\n",
       "        text-align: right;\n",
       "    }\n",
       "</style>\n",
       "<table border=\"1\" class=\"dataframe\">\n",
       "  <thead>\n",
       "    <tr style=\"text-align: right;\">\n",
       "      <th></th>\n",
       "      <th>RevLineCr</th>\n",
       "      <th>count</th>\n",
       "      <th>percent</th>\n",
       "      <th>cumulative_count</th>\n",
       "      <th>cumulative_percent</th>\n",
       "    </tr>\n",
       "  </thead>\n",
       "  <tbody>\n",
       "    <tr>\n",
       "      <th>0</th>\n",
       "      <td>N</td>\n",
       "      <td>265983</td>\n",
       "      <td>57.884554</td>\n",
       "      <td>265983</td>\n",
       "      <td>57.884554</td>\n",
       "    </tr>\n",
       "    <tr>\n",
       "      <th>1</th>\n",
       "      <td>Y</td>\n",
       "      <td>193523</td>\n",
       "      <td>42.115446</td>\n",
       "      <td>459506</td>\n",
       "      <td>100.000000</td>\n",
       "    </tr>\n",
       "  </tbody>\n",
       "</table>\n",
       "</div>"
      ],
      "text/plain": [
       "  RevLineCr   count    percent  cumulative_count  cumulative_percent\n",
       "0         N  265983  57.884554            265983           57.884554\n",
       "1         Y  193523  42.115446            459506          100.000000"
      ]
     },
     "execution_count": 22,
     "metadata": {},
     "output_type": "execute_result"
    }
   ],
   "source": [
    "#sidetable\n",
    "df.stb.freq(['RevLineCr'])\n",
    "#This code aims to find out the percentage of RevLineCr\n",
    "#It appears that mostly small business dont revolving line of credit with percentage around 57.88%"
   ]
  },
  {
   "cell_type": "code",
   "execution_count": 23,
   "metadata": {},
   "outputs": [
    {
     "data": {
      "text/html": [
       "<div>\n",
       "<style scoped>\n",
       "    .dataframe tbody tr th:only-of-type {\n",
       "        vertical-align: middle;\n",
       "    }\n",
       "\n",
       "    .dataframe tbody tr th {\n",
       "        vertical-align: top;\n",
       "    }\n",
       "\n",
       "    .dataframe thead th {\n",
       "        text-align: right;\n",
       "    }\n",
       "</style>\n",
       "<table border=\"1\" class=\"dataframe\">\n",
       "  <thead>\n",
       "    <tr style=\"text-align: right;\">\n",
       "      <th>RevLineCr</th>\n",
       "      <th>N</th>\n",
       "      <th>Y</th>\n",
       "    </tr>\n",
       "    <tr>\n",
       "      <th>MIS_Status</th>\n",
       "      <th></th>\n",
       "      <th></th>\n",
       "    </tr>\n",
       "  </thead>\n",
       "  <tbody>\n",
       "    <tr>\n",
       "      <th>CHGOFF</th>\n",
       "      <td>49.02</td>\n",
       "      <td>50.98</td>\n",
       "    </tr>\n",
       "    <tr>\n",
       "      <th>P I F</th>\n",
       "      <td>60.31</td>\n",
       "      <td>39.69</td>\n",
       "    </tr>\n",
       "    <tr>\n",
       "      <th>All</th>\n",
       "      <td>57.88</td>\n",
       "      <td>42.12</td>\n",
       "    </tr>\n",
       "  </tbody>\n",
       "</table>\n",
       "</div>"
      ],
      "text/plain": [
       "RevLineCr       N      Y\n",
       "MIS_Status              \n",
       "CHGOFF      49.02  50.98\n",
       "P I F       60.31  39.69\n",
       "All         57.88  42.12"
      ]
     },
     "execution_count": 23,
     "metadata": {},
     "output_type": "execute_result"
    }
   ],
   "source": [
    "((pd.crosstab(index=df['MIS_Status'], columns=df['RevLineCr'], normalize='index', margins=True))*100).round(2)\n",
    "\n",
    "## This code aim to know ==> is small business with revolving line credit (Y) has higher risk of default?"
   ]
  },
  {
   "cell_type": "code",
   "execution_count": 24,
   "metadata": {},
   "outputs": [
    {
     "data": {
      "image/png": "[encoded data removed]",
      "text/plain": [
       "<Figure size 432x360 with 1 Axes>"
      ]
     },
     "metadata": {
      "needs_background": "light"
     },
     "output_type": "display_data"
    }
   ],
   "source": [
    "# Visualization \n",
    "plt.figure(figsize=(6,5))\n",
    "sns.countplot(df['RevLineCr'], hue=df['MIS_Status'], palette='rainbow')\n",
    "plt.show()"
   ]
  },
  {
   "cell_type": "markdown",
   "metadata": {},
   "source": [
    "- Small busines with revolving line of credit has higher risk of default loan with percentage 50.98%"
   ]
  },
  {
   "cell_type": "markdown",
   "metadata": {},
   "source": [
    "### `LowDoc`"
   ]
  },
  {
   "cell_type": "code",
   "execution_count": 25,
   "metadata": {},
   "outputs": [
    {
     "data": {
      "text/html": [
       "<div>\n",
       "<style scoped>\n",
       "    .dataframe tbody tr th:only-of-type {\n",
       "        vertical-align: middle;\n",
       "    }\n",
       "\n",
       "    .dataframe tbody tr th {\n",
       "        vertical-align: top;\n",
       "    }\n",
       "\n",
       "    .dataframe thead th {\n",
       "        text-align: right;\n",
       "    }\n",
       "</style>\n",
       "<table border=\"1\" class=\"dataframe\">\n",
       "  <thead>\n",
       "    <tr style=\"text-align: right;\">\n",
       "      <th></th>\n",
       "      <th>LowDoc</th>\n",
       "      <th>count</th>\n",
       "      <th>percent</th>\n",
       "      <th>cumulative_count</th>\n",
       "      <th>cumulative_percent</th>\n",
       "    </tr>\n",
       "  </thead>\n",
       "  <tbody>\n",
       "    <tr>\n",
       "      <th>0</th>\n",
       "      <td>N</td>\n",
       "      <td>434364</td>\n",
       "      <td>94.528472</td>\n",
       "      <td>434364</td>\n",
       "      <td>94.528472</td>\n",
       "    </tr>\n",
       "    <tr>\n",
       "      <th>1</th>\n",
       "      <td>Y</td>\n",
       "      <td>25142</td>\n",
       "      <td>5.471528</td>\n",
       "      <td>459506</td>\n",
       "      <td>100.000000</td>\n",
       "    </tr>\n",
       "  </tbody>\n",
       "</table>\n",
       "</div>"
      ],
      "text/plain": [
       "  LowDoc   count    percent  cumulative_count  cumulative_percent\n",
       "0      N  434364  94.528472            434364           94.528472\n",
       "1      Y   25142   5.471528            459506          100.000000"
      ]
     },
     "execution_count": 25,
     "metadata": {},
     "output_type": "execute_result"
    }
   ],
   "source": [
    "#sidetable\n",
    "df.stb.freq(['LowDoc'])\n",
    "#This code aims to find out the percentage of RevLineCr\n",
    "#It appears that mostly small business dont revolving line of credit with percentage around 57.88%"
   ]
  },
  {
   "cell_type": "code",
   "execution_count": 26,
   "metadata": {},
   "outputs": [
    {
     "data": {
      "text/html": [
       "<div>\n",
       "<style scoped>\n",
       "    .dataframe tbody tr th:only-of-type {\n",
       "        vertical-align: middle;\n",
       "    }\n",
       "\n",
       "    .dataframe tbody tr th {\n",
       "        vertical-align: top;\n",
       "    }\n",
       "\n",
       "    .dataframe thead th {\n",
       "        text-align: right;\n",
       "    }\n",
       "</style>\n",
       "<table border=\"1\" class=\"dataframe\">\n",
       "  <thead>\n",
       "    <tr style=\"text-align: right;\">\n",
       "      <th>LowDoc</th>\n",
       "      <th>N</th>\n",
       "      <th>Y</th>\n",
       "    </tr>\n",
       "    <tr>\n",
       "      <th>MIS_Status</th>\n",
       "      <th></th>\n",
       "      <th></th>\n",
       "    </tr>\n",
       "  </thead>\n",
       "  <tbody>\n",
       "    <tr>\n",
       "      <th>CHGOFF</th>\n",
       "      <td>98.75</td>\n",
       "      <td>1.25</td>\n",
       "    </tr>\n",
       "    <tr>\n",
       "      <th>P I F</th>\n",
       "      <td>93.38</td>\n",
       "      <td>6.62</td>\n",
       "    </tr>\n",
       "    <tr>\n",
       "      <th>All</th>\n",
       "      <td>94.53</td>\n",
       "      <td>5.47</td>\n",
       "    </tr>\n",
       "  </tbody>\n",
       "</table>\n",
       "</div>"
      ],
      "text/plain": [
       "LowDoc          N     Y\n",
       "MIS_Status             \n",
       "CHGOFF      98.75  1.25\n",
       "P I F       93.38  6.62\n",
       "All         94.53  5.47"
      ]
     },
     "execution_count": 26,
     "metadata": {},
     "output_type": "execute_result"
    }
   ],
   "source": [
    "((pd.crosstab(index=df['MIS_Status'], columns=df['LowDoc'], normalize='index', margins=True))*100).round(2)\n",
    "\n",
    "## This code aim to know ==> is LowDoc feature could be indicate as default risk?"
   ]
  },
  {
   "cell_type": "code",
   "execution_count": 27,
   "metadata": {},
   "outputs": [
    {
     "data": {
      "text/html": [
       "<div>\n",
       "<style scoped>\n",
       "    .dataframe tbody tr th:only-of-type {\n",
       "        vertical-align: middle;\n",
       "    }\n",
       "\n",
       "    .dataframe tbody tr th {\n",
       "        vertical-align: top;\n",
       "    }\n",
       "\n",
       "    .dataframe thead th {\n",
       "        text-align: right;\n",
       "    }\n",
       "</style>\n",
       "<table border=\"1\" class=\"dataframe\">\n",
       "  <thead>\n",
       "    <tr style=\"text-align: right;\">\n",
       "      <th></th>\n",
       "      <th>Yes_Percent</th>\n",
       "      <th>No_Percent</th>\n",
       "      <th>Status</th>\n",
       "    </tr>\n",
       "  </thead>\n",
       "  <tbody>\n",
       "    <tr>\n",
       "      <th>0</th>\n",
       "      <td>1.25</td>\n",
       "      <td>98.75</td>\n",
       "      <td>CHGOFF</td>\n",
       "    </tr>\n",
       "    <tr>\n",
       "      <th>1</th>\n",
       "      <td>6.62</td>\n",
       "      <td>93.38</td>\n",
       "      <td>PIF</td>\n",
       "    </tr>\n",
       "  </tbody>\n",
       "</table>\n",
       "</div>"
      ],
      "text/plain": [
       "   Yes_Percent  No_Percent  Status\n",
       "0         1.25       98.75  CHGOFF\n",
       "1         6.62       93.38     PIF"
      ]
     },
     "execution_count": 27,
     "metadata": {},
     "output_type": "execute_result"
    }
   ],
   "source": [
    "#This code aim to make a DataFrame to visualize\n",
    "doc = {\n",
    "    'Yes_Percent' : [1.25, 6.62],\n",
    "    'No_Percent' : [98.75, 93.38],\n",
    "    'Status':['CHGOFF', 'PIF']\n",
    "}\n",
    "\n",
    "\n",
    "pd.DataFrame(data=doc)"
   ]
  },
  {
   "cell_type": "code",
   "execution_count": 28,
   "metadata": {},
   "outputs": [
    {
     "data": {
      "image/png": "[encoded data removed]",
      "text/plain": [
       "<Figure size 504x432 with 1 Axes>"
      ]
     },
     "metadata": {
      "needs_background": "light"
     },
     "output_type": "display_data"
    }
   ],
   "source": [
    "#Here are the visualize of percentage of LowDoc & MIS_Status using stacked bar\n",
    "plt.figure(figsize=(7,6))\n",
    "#plot 1 - backgroud - No\n",
    "sns.barplot(x=doc['Status'], y=doc['No_Percent'], color='green')\n",
    "\n",
    "#plot 2 - Yes\n",
    "sns.barplot(x=doc['Status'], y=doc['Yes_Percent'], color='yellow')\n",
    "\n",
    "#Setting the legend\n",
    "topbar = plt.Rectangle((0,0),1,1,fc=\"green\", edgecolor = 'none')\n",
    "bottombar = plt.Rectangle((0,0),1,1,fc='yellow',  edgecolor = 'none')\n",
    "l = plt.legend([bottombar, topbar], ['%LowDoc', '%No LowDoc'], loc='best', ncol = 1, prop={'size':10})\n",
    "\n",
    "plt.title('Percentage of LowDoc by MIS_Status')\n",
    "# plt.savefig('JobInvolvement.png')\n",
    "plt.show()"
   ]
  },
  {
   "cell_type": "markdown",
   "metadata": {},
   "source": [
    "- Mostly for small business that has default loan (CHGOFF) didn't come from LowDoc. The percentage of LowDoc that CHGOFF only 1.25%\n",
    "- For small business that succesfully paid in full (PIF) also didn't come from LowDoc"
   ]
  },
  {
   "cell_type": "markdown",
   "metadata": {},
   "source": [
    "### `DisbursementGross`"
   ]
  },
  {
   "cell_type": "code",
   "execution_count": 29,
   "metadata": {},
   "outputs": [
    {
     "data": {
      "text/plain": [
       "count    4.595060e+05\n",
       "mean     1.719659e+05\n",
       "std      2.749890e+05\n",
       "min      4.000000e+03\n",
       "25%      3.498300e+04\n",
       "50%      7.550000e+04\n",
       "75%      1.919928e+05\n",
       "max      1.144632e+07\n",
       "Name: DisbursementGross, dtype: float64"
      ]
     },
     "execution_count": 29,
     "metadata": {},
     "output_type": "execute_result"
    }
   ],
   "source": [
    "df['DisbursementGross'].describe()"
   ]
  },
  {
   "cell_type": "code",
   "execution_count": 30,
   "metadata": {},
   "outputs": [
    {
     "data": {
      "text/plain": [
       "MIS_Status\n",
       "CHGOFF    50400.0\n",
       "P I F     89000.0\n",
       "Name: DisbursementGross, dtype: float64"
      ]
     },
     "execution_count": 30,
     "metadata": {},
     "output_type": "execute_result"
    }
   ],
   "source": [
    "df['DisbursementGross'].groupby(df['MIS_Status']).median()"
   ]
  },
  {
   "cell_type": "code",
   "execution_count": 31,
   "metadata": {},
   "outputs": [],
   "source": [
    "## Binning to gain more insight\n",
    "bin_disGross=[3999.0, 75500.0, 11446325.0] #range kelompok (4000.0-75500.0, 75501.0-11446325.0)\n",
    "label = ['low','high']\n",
    "df['disGross_bin'] = pd.cut(df['DisbursementGross'], bins=bin_disGross, labels=label)"
   ]
  },
  {
   "cell_type": "code",
   "execution_count": 32,
   "metadata": {},
   "outputs": [
    {
     "data": {
      "image/png": "[encoded data removed]",
      "text/plain": [
       "<Figure size 432x360 with 1 Axes>"
      ]
     },
     "metadata": {
      "needs_background": "light"
     },
     "output_type": "display_data"
    }
   ],
   "source": [
    "#countplot visualization\n",
    "plt.figure(figsize=(6,5))\n",
    "sns.countplot(df['disGross_bin'], hue=df['MIS_Status'])\n",
    "plt.show()"
   ]
  },
  {
   "cell_type": "code",
   "execution_count": 33,
   "metadata": {},
   "outputs": [
    {
     "data": {
      "text/html": [
       "<div>\n",
       "<style scoped>\n",
       "    .dataframe tbody tr th:only-of-type {\n",
       "        vertical-align: middle;\n",
       "    }\n",
       "\n",
       "    .dataframe tbody tr th {\n",
       "        vertical-align: top;\n",
       "    }\n",
       "\n",
       "    .dataframe thead th {\n",
       "        text-align: right;\n",
       "    }\n",
       "</style>\n",
       "<table border=\"1\" class=\"dataframe\">\n",
       "  <thead>\n",
       "    <tr style=\"text-align: right;\">\n",
       "      <th>MIS_Status</th>\n",
       "      <th>CHGOFF</th>\n",
       "      <th>P I F</th>\n",
       "    </tr>\n",
       "    <tr>\n",
       "      <th>disGross_bin</th>\n",
       "      <th></th>\n",
       "      <th></th>\n",
       "    </tr>\n",
       "  </thead>\n",
       "  <tbody>\n",
       "    <tr>\n",
       "      <th>low</th>\n",
       "      <td>63.0</td>\n",
       "      <td>46.46</td>\n",
       "    </tr>\n",
       "    <tr>\n",
       "      <th>high</th>\n",
       "      <td>37.0</td>\n",
       "      <td>53.54</td>\n",
       "    </tr>\n",
       "  </tbody>\n",
       "</table>\n",
       "</div>"
      ],
      "text/plain": [
       "MIS_Status    CHGOFF  P I F\n",
       "disGross_bin               \n",
       "low             63.0  46.46\n",
       "high            37.0  53.54"
      ]
     },
     "execution_count": 33,
     "metadata": {},
     "output_type": "execute_result"
    }
   ],
   "source": [
    "((pd.crosstab(index=df['disGross_bin'], columns=df['MIS_Status'], normalize='columns'))*100).round(2)\n",
    "\n",
    "## This code aims to determine which disbursed loans that experience a default loan"
   ]
  },
  {
   "cell_type": "code",
   "execution_count": 34,
   "metadata": {},
   "outputs": [
    {
     "data": {
      "image/png": "[encoded data removed]",
      "text/plain": [
       "<Figure size 1800x432 with 2 Axes>"
      ]
     },
     "metadata": {
      "needs_background": "light"
     },
     "output_type": "display_data"
    }
   ],
   "source": [
    "## Visualization\n",
    "plt.figure(figsize=(25,6))\n",
    "\n",
    "#Gross SBA Loan Disbursement by Industry\n",
    "plt.subplot(1,2,1)\n",
    "df['DisbursementGross'].groupby(df['sector']).sum().sort_values(ascending=False).plot(kind='bar')\n",
    "plt.title('Gross SBA Loan Disbursement by Industry')\n",
    "plt.xlabel('Sector')\n",
    "plt.ylabel('Gross Loan Disbursement')\n",
    "\n",
    "#Median SBA Loan Disbursement by Industry\n",
    "plt.subplot(1,2,2)\n",
    "df['DisbursementGross'].groupby(df['sector']).median().sort_values(ascending=False).plot(kind='bar')\n",
    "plt.title('Median SBA Loan Disbursement by Industry')\n",
    "plt.xlabel('Sector')\n",
    "plt.ylabel('Median Loan Disbursement')\n",
    "\n",
    "plt.show()"
   ]
  },
  {
   "cell_type": "markdown",
   "metadata": {},
   "source": [
    "- Median of DisbursementGross that CHGOFF was 50400.0 while DisbursementGross that PIF was 89000.0\n",
    "- After binning,  CHGOFF with low DisbursementGross has higher percentage 63% rather than high DisbursementGross. Its means that mostly CHGOFF come from small business with low DisbursementGross\n",
    "- Retail trade and Manufacturing has significantly loan disbursement compare to another sector\n",
    "- Although Agriculture, forestry, fishing and hunting has total amount loan disbursement little compare to another, but they has highest median loan disbursement"
   ]
  },
  {
   "cell_type": "markdown",
   "metadata": {},
   "source": [
    "### `GrAppv`\n",
    "Gross amount of loan approved by bank"
   ]
  },
  {
   "cell_type": "code",
   "execution_count": 35,
   "metadata": {},
   "outputs": [
    {
     "data": {
      "text/plain": [
       "sector\n",
       "Ag,fores,ﬁshi,hunting           182000.0\n",
       "Mining, quar,oil_gas_ext        139250.0\n",
       "Management and enterprises      130500.0\n",
       "Manufacturing                   100000.0\n",
       "Wholesale trade                 100000.0\n",
       "Health_care,social_ass           80000.0\n",
       "Accommodation food_serv          75900.0\n",
       "Arts,enter,recreation            70300.0\n",
       "Utilities                        50500.0\n",
       "Public_admin                     50000.0\n",
       "Prof, scien, and tech_serv       50000.0\n",
       "Other_no_pub                     50000.0\n",
       "Retail trade                     50000.0\n",
       "Information                      50000.0\n",
       "Construction                     50000.0\n",
       "RE,rental, leasing               45000.0\n",
       "Finance, insurance               35000.0\n",
       "Educational services             35000.0\n",
       "Trans & Ware                     35000.0\n",
       "Admini_sup and waste_mgm_rem     35000.0\n",
       "Name: GrAppv, dtype: float64"
      ]
     },
     "execution_count": 35,
     "metadata": {},
     "output_type": "execute_result"
    }
   ],
   "source": [
    "## This code aims to know the median of gross amount of loan approved by bank groupby sector\n",
    "df['GrAppv'].groupby(df['sector']).median().sort_values(ascending=False)"
   ]
  },
  {
   "cell_type": "code",
   "execution_count": 36,
   "metadata": {},
   "outputs": [
    {
     "data": {
      "image/png": "[encoded data removed]",
      "text/plain": [
       "<Figure size 720x360 with 1 Axes>"
      ]
     },
     "metadata": {
      "needs_background": "light"
     },
     "output_type": "display_data"
    }
   ],
   "source": [
    "## Visualization\n",
    "plt.figure(figsize=(10,5))\n",
    "df['GrAppv'].groupby(df['sector']).median().sort_values(ascending=False).plot(kind='bar')\n",
    "plt.title('Median of gross amount of loan approved by bank by Sector')\n",
    "plt.xlabel('Sector')\n",
    "plt.ylabel('Median of gross amount of loan')\n",
    "plt.show()"
   ]
  },
  {
   "cell_type": "markdown",
   "metadata": {},
   "source": [
    "- Agriculture, forestry, fishing and hunting has highest median of Gross amount of loan approved by bank around 182000.0, followed by Mining, quarrying, and oil and gas extraction"
   ]
  },
  {
   "cell_type": "markdown",
   "metadata": {},
   "source": [
    "### `sector`"
   ]
  },
  {
   "cell_type": "code",
   "execution_count": 37,
   "metadata": {},
   "outputs": [
    {
     "data": {
      "text/html": [
       "<div>\n",
       "<style scoped>\n",
       "    .dataframe tbody tr th:only-of-type {\n",
       "        vertical-align: middle;\n",
       "    }\n",
       "\n",
       "    .dataframe tbody tr th {\n",
       "        vertical-align: top;\n",
       "    }\n",
       "\n",
       "    .dataframe thead th {\n",
       "        text-align: right;\n",
       "    }\n",
       "</style>\n",
       "<table border=\"1\" class=\"dataframe\">\n",
       "  <thead>\n",
       "    <tr style=\"text-align: right;\">\n",
       "      <th></th>\n",
       "      <th>sector</th>\n",
       "      <th>count</th>\n",
       "      <th>percent</th>\n",
       "      <th>cumulative_count</th>\n",
       "      <th>cumulative_percent</th>\n",
       "    </tr>\n",
       "  </thead>\n",
       "  <tbody>\n",
       "    <tr>\n",
       "      <th>0</th>\n",
       "      <td>Retail trade</td>\n",
       "      <td>81344</td>\n",
       "      <td>17.702489</td>\n",
       "      <td>81344</td>\n",
       "      <td>17.702489</td>\n",
       "    </tr>\n",
       "    <tr>\n",
       "      <th>1</th>\n",
       "      <td>Prof, scien, and tech_serv</td>\n",
       "      <td>49565</td>\n",
       "      <td>10.786584</td>\n",
       "      <td>130909</td>\n",
       "      <td>28.489073</td>\n",
       "    </tr>\n",
       "    <tr>\n",
       "      <th>2</th>\n",
       "      <td>Construction</td>\n",
       "      <td>49533</td>\n",
       "      <td>10.779620</td>\n",
       "      <td>180442</td>\n",
       "      <td>39.268693</td>\n",
       "    </tr>\n",
       "    <tr>\n",
       "      <th>3</th>\n",
       "      <td>Manufacturing</td>\n",
       "      <td>45802</td>\n",
       "      <td>9.967661</td>\n",
       "      <td>226244</td>\n",
       "      <td>49.236354</td>\n",
       "    </tr>\n",
       "    <tr>\n",
       "      <th>4</th>\n",
       "      <td>Other_no_pub</td>\n",
       "      <td>45019</td>\n",
       "      <td>9.797261</td>\n",
       "      <td>271263</td>\n",
       "      <td>59.033614</td>\n",
       "    </tr>\n",
       "    <tr>\n",
       "      <th>5</th>\n",
       "      <td>Wholesale trade</td>\n",
       "      <td>35040</td>\n",
       "      <td>7.625581</td>\n",
       "      <td>306303</td>\n",
       "      <td>66.659195</td>\n",
       "    </tr>\n",
       "    <tr>\n",
       "      <th>6</th>\n",
       "      <td>Health_care,social_ass</td>\n",
       "      <td>34741</td>\n",
       "      <td>7.560511</td>\n",
       "      <td>341044</td>\n",
       "      <td>74.219706</td>\n",
       "    </tr>\n",
       "    <tr>\n",
       "      <th>7</th>\n",
       "      <td>Accommodation food_serv</td>\n",
       "      <td>34387</td>\n",
       "      <td>7.483471</td>\n",
       "      <td>375431</td>\n",
       "      <td>81.703177</td>\n",
       "    </tr>\n",
       "    <tr>\n",
       "      <th>8</th>\n",
       "      <td>Admini_sup and waste_mgm_rem</td>\n",
       "      <td>22150</td>\n",
       "      <td>4.820394</td>\n",
       "      <td>397581</td>\n",
       "      <td>86.523571</td>\n",
       "    </tr>\n",
       "    <tr>\n",
       "      <th>9</th>\n",
       "      <td>Trans &amp; Ware</td>\n",
       "      <td>15471</td>\n",
       "      <td>3.366877</td>\n",
       "      <td>413052</td>\n",
       "      <td>89.890448</td>\n",
       "    </tr>\n",
       "    <tr>\n",
       "      <th>10</th>\n",
       "      <td>RE,rental, leasing</td>\n",
       "      <td>9592</td>\n",
       "      <td>2.087459</td>\n",
       "      <td>422644</td>\n",
       "      <td>91.977907</td>\n",
       "    </tr>\n",
       "    <tr>\n",
       "      <th>11</th>\n",
       "      <td>Arts,enter,recreation</td>\n",
       "      <td>9305</td>\n",
       "      <td>2.025001</td>\n",
       "      <td>431949</td>\n",
       "      <td>94.002907</td>\n",
       "    </tr>\n",
       "    <tr>\n",
       "      <th>12</th>\n",
       "      <td>Ag,fores,ﬁshi,hunting</td>\n",
       "      <td>7663</td>\n",
       "      <td>1.667660</td>\n",
       "      <td>439612</td>\n",
       "      <td>95.670568</td>\n",
       "    </tr>\n",
       "    <tr>\n",
       "      <th>13</th>\n",
       "      <td>Information</td>\n",
       "      <td>7389</td>\n",
       "      <td>1.608031</td>\n",
       "      <td>447001</td>\n",
       "      <td>97.278599</td>\n",
       "    </tr>\n",
       "    <tr>\n",
       "      <th>14</th>\n",
       "      <td>Finance, insurance</td>\n",
       "      <td>6371</td>\n",
       "      <td>1.386489</td>\n",
       "      <td>453372</td>\n",
       "      <td>98.665088</td>\n",
       "    </tr>\n",
       "    <tr>\n",
       "      <th>15</th>\n",
       "      <td>Educational services</td>\n",
       "      <td>4030</td>\n",
       "      <td>0.877029</td>\n",
       "      <td>457402</td>\n",
       "      <td>99.542117</td>\n",
       "    </tr>\n",
       "    <tr>\n",
       "      <th>16</th>\n",
       "      <td>Mining, quar,oil_gas_ext</td>\n",
       "      <td>1364</td>\n",
       "      <td>0.296841</td>\n",
       "      <td>458766</td>\n",
       "      <td>99.838957</td>\n",
       "    </tr>\n",
       "    <tr>\n",
       "      <th>17</th>\n",
       "      <td>Utilities</td>\n",
       "      <td>436</td>\n",
       "      <td>0.094885</td>\n",
       "      <td>459202</td>\n",
       "      <td>99.933842</td>\n",
       "    </tr>\n",
       "    <tr>\n",
       "      <th>18</th>\n",
       "      <td>Public_admin</td>\n",
       "      <td>184</td>\n",
       "      <td>0.040043</td>\n",
       "      <td>459386</td>\n",
       "      <td>99.973885</td>\n",
       "    </tr>\n",
       "    <tr>\n",
       "      <th>19</th>\n",
       "      <td>Management and enterprises</td>\n",
       "      <td>120</td>\n",
       "      <td>0.026115</td>\n",
       "      <td>459506</td>\n",
       "      <td>100.000000</td>\n",
       "    </tr>\n",
       "  </tbody>\n",
       "</table>\n",
       "</div>"
      ],
      "text/plain": [
       "                          sector  count    percent  cumulative_count  \\\n",
       "0                   Retail trade  81344  17.702489             81344   \n",
       "1     Prof, scien, and tech_serv  49565  10.786584            130909   \n",
       "2                   Construction  49533  10.779620            180442   \n",
       "3                  Manufacturing  45802   9.967661            226244   \n",
       "4                   Other_no_pub  45019   9.797261            271263   \n",
       "5                Wholesale trade  35040   7.625581            306303   \n",
       "6         Health_care,social_ass  34741   7.560511            341044   \n",
       "7        Accommodation food_serv  34387   7.483471            375431   \n",
       "8   Admini_sup and waste_mgm_rem  22150   4.820394            397581   \n",
       "9                   Trans & Ware  15471   3.366877            413052   \n",
       "10            RE,rental, leasing   9592   2.087459            422644   \n",
       "11         Arts,enter,recreation   9305   2.025001            431949   \n",
       "12         Ag,fores,ﬁshi,hunting   7663   1.667660            439612   \n",
       "13                   Information   7389   1.608031            447001   \n",
       "14            Finance, insurance   6371   1.386489            453372   \n",
       "15          Educational services   4030   0.877029            457402   \n",
       "16      Mining, quar,oil_gas_ext   1364   0.296841            458766   \n",
       "17                     Utilities    436   0.094885            459202   \n",
       "18                  Public_admin    184   0.040043            459386   \n",
       "19    Management and enterprises    120   0.026115            459506   \n",
       "\n",
       "    cumulative_percent  \n",
       "0            17.702489  \n",
       "1            28.489073  \n",
       "2            39.268693  \n",
       "3            49.236354  \n",
       "4            59.033614  \n",
       "5            66.659195  \n",
       "6            74.219706  \n",
       "7            81.703177  \n",
       "8            86.523571  \n",
       "9            89.890448  \n",
       "10           91.977907  \n",
       "11           94.002907  \n",
       "12           95.670568  \n",
       "13           97.278599  \n",
       "14           98.665088  \n",
       "15           99.542117  \n",
       "16           99.838957  \n",
       "17           99.933842  \n",
       "18           99.973885  \n",
       "19          100.000000  "
      ]
     },
     "execution_count": 37,
     "metadata": {},
     "output_type": "execute_result"
    }
   ],
   "source": [
    "#sidetable\n",
    "df.stb.freq(['sector'])\n",
    "#This code aims to find out the percentage of sector \n",
    "#It appears that Retail trade has highest percentage around 17.70%"
   ]
  },
  {
   "cell_type": "code",
   "execution_count": 38,
   "metadata": {},
   "outputs": [
    {
     "data": {
      "text/html": [
       "<div>\n",
       "<style scoped>\n",
       "    .dataframe tbody tr th:only-of-type {\n",
       "        vertical-align: middle;\n",
       "    }\n",
       "\n",
       "    .dataframe tbody tr th {\n",
       "        vertical-align: top;\n",
       "    }\n",
       "\n",
       "    .dataframe thead th {\n",
       "        text-align: right;\n",
       "    }\n",
       "</style>\n",
       "<table border=\"1\" class=\"dataframe\">\n",
       "  <thead>\n",
       "    <tr style=\"text-align: right;\">\n",
       "      <th>MIS_Status</th>\n",
       "      <th>CHGOFF</th>\n",
       "      <th>P I F</th>\n",
       "      <th>%Percent</th>\n",
       "    </tr>\n",
       "    <tr>\n",
       "      <th>sector</th>\n",
       "      <th></th>\n",
       "      <th></th>\n",
       "      <th></th>\n",
       "    </tr>\n",
       "  </thead>\n",
       "  <tbody>\n",
       "    <tr>\n",
       "      <th>Accommodation food_serv</th>\n",
       "      <td>8586</td>\n",
       "      <td>25801</td>\n",
       "      <td>0.249687</td>\n",
       "    </tr>\n",
       "    <tr>\n",
       "      <th>Admini_sup and waste_mgm_rem</th>\n",
       "      <td>5489</td>\n",
       "      <td>16661</td>\n",
       "      <td>0.247810</td>\n",
       "    </tr>\n",
       "    <tr>\n",
       "      <th>Ag,fores,ﬁshi,hunting</th>\n",
       "      <td>670</td>\n",
       "      <td>6993</td>\n",
       "      <td>0.087433</td>\n",
       "    </tr>\n",
       "    <tr>\n",
       "      <th>Arts,enter,recreation</th>\n",
       "      <td>1955</td>\n",
       "      <td>7350</td>\n",
       "      <td>0.210102</td>\n",
       "    </tr>\n",
       "    <tr>\n",
       "      <th>Construction</th>\n",
       "      <td>12200</td>\n",
       "      <td>37333</td>\n",
       "      <td>0.246300</td>\n",
       "    </tr>\n",
       "    <tr>\n",
       "      <th>Educational services</th>\n",
       "      <td>1092</td>\n",
       "      <td>2938</td>\n",
       "      <td>0.270968</td>\n",
       "    </tr>\n",
       "    <tr>\n",
       "      <th>Finance, insurance</th>\n",
       "      <td>2106</td>\n",
       "      <td>4265</td>\n",
       "      <td>0.330560</td>\n",
       "    </tr>\n",
       "    <tr>\n",
       "      <th>Health_care,social_ass</th>\n",
       "      <td>3632</td>\n",
       "      <td>31109</td>\n",
       "      <td>0.104545</td>\n",
       "    </tr>\n",
       "    <tr>\n",
       "      <th>Information</th>\n",
       "      <td>1846</td>\n",
       "      <td>5543</td>\n",
       "      <td>0.249831</td>\n",
       "    </tr>\n",
       "    <tr>\n",
       "      <th>Management and enterprises</th>\n",
       "      <td>23</td>\n",
       "      <td>97</td>\n",
       "      <td>0.191667</td>\n",
       "    </tr>\n",
       "    <tr>\n",
       "      <th>Manufacturing</th>\n",
       "      <td>7354</td>\n",
       "      <td>38448</td>\n",
       "      <td>0.160561</td>\n",
       "    </tr>\n",
       "    <tr>\n",
       "      <th>Mining, quar,oil_gas_ext</th>\n",
       "      <td>119</td>\n",
       "      <td>1245</td>\n",
       "      <td>0.087243</td>\n",
       "    </tr>\n",
       "    <tr>\n",
       "      <th>Other_no_pub</th>\n",
       "      <td>9455</td>\n",
       "      <td>35564</td>\n",
       "      <td>0.210022</td>\n",
       "    </tr>\n",
       "    <tr>\n",
       "      <th>Prof, scien, and tech_serv</th>\n",
       "      <td>9928</td>\n",
       "      <td>39637</td>\n",
       "      <td>0.200303</td>\n",
       "    </tr>\n",
       "    <tr>\n",
       "      <th>Public_admin</th>\n",
       "      <td>30</td>\n",
       "      <td>154</td>\n",
       "      <td>0.163043</td>\n",
       "    </tr>\n",
       "    <tr>\n",
       "      <th>RE,rental, leasing</th>\n",
       "      <td>3120</td>\n",
       "      <td>6472</td>\n",
       "      <td>0.325271</td>\n",
       "    </tr>\n",
       "    <tr>\n",
       "      <th>Retail trade</th>\n",
       "      <td>19276</td>\n",
       "      <td>62068</td>\n",
       "      <td>0.236969</td>\n",
       "    </tr>\n",
       "    <tr>\n",
       "      <th>Trans &amp; Ware</th>\n",
       "      <td>4478</td>\n",
       "      <td>10993</td>\n",
       "      <td>0.289445</td>\n",
       "    </tr>\n",
       "    <tr>\n",
       "      <th>Utilities</th>\n",
       "      <td>79</td>\n",
       "      <td>357</td>\n",
       "      <td>0.181193</td>\n",
       "    </tr>\n",
       "    <tr>\n",
       "      <th>Wholesale trade</th>\n",
       "      <td>7108</td>\n",
       "      <td>27932</td>\n",
       "      <td>0.202854</td>\n",
       "    </tr>\n",
       "  </tbody>\n",
       "</table>\n",
       "</div>"
      ],
      "text/plain": [
       "MIS_Status                    CHGOFF  P I F  %Percent\n",
       "sector                                               \n",
       "Accommodation food_serv         8586  25801  0.249687\n",
       "Admini_sup and waste_mgm_rem    5489  16661  0.247810\n",
       "Ag,fores,ﬁshi,hunting            670   6993  0.087433\n",
       "Arts,enter,recreation           1955   7350  0.210102\n",
       "Construction                   12200  37333  0.246300\n",
       "Educational services            1092   2938  0.270968\n",
       "Finance, insurance              2106   4265  0.330560\n",
       "Health_care,social_ass          3632  31109  0.104545\n",
       "Information                     1846   5543  0.249831\n",
       "Management and enterprises        23     97  0.191667\n",
       "Manufacturing                   7354  38448  0.160561\n",
       "Mining, quar,oil_gas_ext         119   1245  0.087243\n",
       "Other_no_pub                    9455  35564  0.210022\n",
       "Prof, scien, and tech_serv      9928  39637  0.200303\n",
       "Public_admin                      30    154  0.163043\n",
       "RE,rental, leasing              3120   6472  0.325271\n",
       "Retail trade                   19276  62068  0.236969\n",
       "Trans & Ware                    4478  10993  0.289445\n",
       "Utilities                         79    357  0.181193\n",
       "Wholesale trade                 7108  27932  0.202854"
      ]
     },
     "execution_count": 38,
     "metadata": {},
     "output_type": "execute_result"
    }
   ],
   "source": [
    "#crosstab between sector and MIS_Status\n",
    "df_sector = pd.crosstab(index=df['sector'], columns=df['MIS_Status'])\n",
    "\n",
    "#Default percentage\n",
    "df_sector['%Percent'] = df_sector['CHGOFF']/(df_sector['CHGOFF']+df_sector['P I F'])\n",
    "df_sector"
   ]
  },
  {
   "cell_type": "code",
   "execution_count": 39,
   "metadata": {},
   "outputs": [
    {
     "data": {
      "image/png": "[encoded data removed]",
      "text/plain": [
       "<Figure size 1440x720 with 1 Axes>"
      ]
     },
     "metadata": {
      "needs_background": "light"
     },
     "output_type": "display_data"
    }
   ],
   "source": [
    "## Visualization\n",
    "plt.figure(figsize=(20,10))\n",
    "plt.barh(df_sector.index, df_sector['%Percent'])\n",
    "plt.title('Percentage of Default by Sector')\n",
    "plt.xlabel('Percent of Default')\n",
    "plt.ylabel('Sector')\n",
    "plt.show()"
   ]
  },
  {
   "cell_type": "markdown",
   "metadata": {},
   "source": [
    "- Sector with highest number of loan was Retail trade with percentage around 17.70%, followed by Professional, scientific, and technical services and Construction with each percentage 10.78% and 10.77%\n",
    "- Sector that has highest default was Finance and Insurance (33.05%), followed by Real estate and rental and leasing (32.52%) and Transportation and warehousing (28.94%)"
   ]
  },
  {
   "cell_type": "markdown",
   "metadata": {},
   "source": [
    "### `ApprovalFY`"
   ]
  },
  {
   "cell_type": "code",
   "execution_count": 40,
   "metadata": {},
   "outputs": [
    {
     "data": {
      "text/html": [
       "<div>\n",
       "<style scoped>\n",
       "    .dataframe tbody tr th:only-of-type {\n",
       "        vertical-align: middle;\n",
       "    }\n",
       "\n",
       "    .dataframe tbody tr th {\n",
       "        vertical-align: top;\n",
       "    }\n",
       "\n",
       "    .dataframe thead th {\n",
       "        text-align: right;\n",
       "    }\n",
       "</style>\n",
       "<table border=\"1\" class=\"dataframe\">\n",
       "  <thead>\n",
       "    <tr style=\"text-align: right;\">\n",
       "      <th></th>\n",
       "      <th>ApprovalFY</th>\n",
       "      <th>count</th>\n",
       "      <th>percent</th>\n",
       "      <th>cumulative_count</th>\n",
       "      <th>cumulative_percent</th>\n",
       "    </tr>\n",
       "  </thead>\n",
       "  <tbody>\n",
       "    <tr>\n",
       "      <th>0</th>\n",
       "      <td>2007</td>\n",
       "      <td>57156</td>\n",
       "      <td>12.438575</td>\n",
       "      <td>57156</td>\n",
       "      <td>12.438575</td>\n",
       "    </tr>\n",
       "    <tr>\n",
       "      <th>1</th>\n",
       "      <td>2006</td>\n",
       "      <td>55800</td>\n",
       "      <td>12.143476</td>\n",
       "      <td>112956</td>\n",
       "      <td>24.582051</td>\n",
       "    </tr>\n",
       "    <tr>\n",
       "      <th>2</th>\n",
       "      <td>2005</td>\n",
       "      <td>47504</td>\n",
       "      <td>10.338059</td>\n",
       "      <td>160460</td>\n",
       "      <td>34.920110</td>\n",
       "    </tr>\n",
       "    <tr>\n",
       "      <th>3</th>\n",
       "      <td>2004</td>\n",
       "      <td>33220</td>\n",
       "      <td>7.229503</td>\n",
       "      <td>193680</td>\n",
       "      <td>42.149613</td>\n",
       "    </tr>\n",
       "    <tr>\n",
       "      <th>4</th>\n",
       "      <td>2008</td>\n",
       "      <td>29717</td>\n",
       "      <td>6.467163</td>\n",
       "      <td>223397</td>\n",
       "      <td>48.616775</td>\n",
       "    </tr>\n",
       "    <tr>\n",
       "      <th>5</th>\n",
       "      <td>2003</td>\n",
       "      <td>28596</td>\n",
       "      <td>6.223205</td>\n",
       "      <td>251993</td>\n",
       "      <td>54.839980</td>\n",
       "    </tr>\n",
       "    <tr>\n",
       "      <th>6</th>\n",
       "      <td>2002</td>\n",
       "      <td>19171</td>\n",
       "      <td>4.172089</td>\n",
       "      <td>271164</td>\n",
       "      <td>59.012069</td>\n",
       "    </tr>\n",
       "    <tr>\n",
       "      <th>7</th>\n",
       "      <td>2009</td>\n",
       "      <td>16483</td>\n",
       "      <td>3.587113</td>\n",
       "      <td>287647</td>\n",
       "      <td>62.599183</td>\n",
       "    </tr>\n",
       "    <tr>\n",
       "      <th>8</th>\n",
       "      <td>1995</td>\n",
       "      <td>16400</td>\n",
       "      <td>3.569050</td>\n",
       "      <td>304047</td>\n",
       "      <td>66.168233</td>\n",
       "    </tr>\n",
       "    <tr>\n",
       "      <th>9</th>\n",
       "      <td>2010</td>\n",
       "      <td>15935</td>\n",
       "      <td>3.467855</td>\n",
       "      <td>319982</td>\n",
       "      <td>69.636087</td>\n",
       "    </tr>\n",
       "    <tr>\n",
       "      <th>10</th>\n",
       "      <td>2001</td>\n",
       "      <td>15798</td>\n",
       "      <td>3.438040</td>\n",
       "      <td>335780</td>\n",
       "      <td>73.074127</td>\n",
       "    </tr>\n",
       "    <tr>\n",
       "      <th>11</th>\n",
       "      <td>1994</td>\n",
       "      <td>13831</td>\n",
       "      <td>3.009972</td>\n",
       "      <td>349611</td>\n",
       "      <td>76.084099</td>\n",
       "    </tr>\n",
       "    <tr>\n",
       "      <th>12</th>\n",
       "      <td>1996</td>\n",
       "      <td>12854</td>\n",
       "      <td>2.797352</td>\n",
       "      <td>362465</td>\n",
       "      <td>78.881451</td>\n",
       "    </tr>\n",
       "    <tr>\n",
       "      <th>13</th>\n",
       "      <td>2011</td>\n",
       "      <td>11787</td>\n",
       "      <td>2.565146</td>\n",
       "      <td>374252</td>\n",
       "      <td>81.446597</td>\n",
       "    </tr>\n",
       "    <tr>\n",
       "      <th>14</th>\n",
       "      <td>1997</td>\n",
       "      <td>10653</td>\n",
       "      <td>2.318359</td>\n",
       "      <td>384905</td>\n",
       "      <td>83.764956</td>\n",
       "    </tr>\n",
       "    <tr>\n",
       "      <th>15</th>\n",
       "      <td>1993</td>\n",
       "      <td>10416</td>\n",
       "      <td>2.266782</td>\n",
       "      <td>395321</td>\n",
       "      <td>86.031738</td>\n",
       "    </tr>\n",
       "    <tr>\n",
       "      <th>16</th>\n",
       "      <td>1992</td>\n",
       "      <td>9547</td>\n",
       "      <td>2.077666</td>\n",
       "      <td>404868</td>\n",
       "      <td>88.109404</td>\n",
       "    </tr>\n",
       "    <tr>\n",
       "      <th>17</th>\n",
       "      <td>1999</td>\n",
       "      <td>8800</td>\n",
       "      <td>1.915100</td>\n",
       "      <td>413668</td>\n",
       "      <td>90.024505</td>\n",
       "    </tr>\n",
       "    <tr>\n",
       "      <th>18</th>\n",
       "      <td>2000</td>\n",
       "      <td>8651</td>\n",
       "      <td>1.882674</td>\n",
       "      <td>422319</td>\n",
       "      <td>91.907179</td>\n",
       "    </tr>\n",
       "    <tr>\n",
       "      <th>19</th>\n",
       "      <td>1998</td>\n",
       "      <td>7927</td>\n",
       "      <td>1.725113</td>\n",
       "      <td>430246</td>\n",
       "      <td>93.632292</td>\n",
       "    </tr>\n",
       "    <tr>\n",
       "      <th>20</th>\n",
       "      <td>1991</td>\n",
       "      <td>7066</td>\n",
       "      <td>1.537738</td>\n",
       "      <td>437312</td>\n",
       "      <td>95.170030</td>\n",
       "    </tr>\n",
       "    <tr>\n",
       "      <th>21</th>\n",
       "      <td>1990</td>\n",
       "      <td>6594</td>\n",
       "      <td>1.435019</td>\n",
       "      <td>443906</td>\n",
       "      <td>96.605050</td>\n",
       "    </tr>\n",
       "    <tr>\n",
       "      <th>22</th>\n",
       "      <td>1989</td>\n",
       "      <td>5908</td>\n",
       "      <td>1.285729</td>\n",
       "      <td>449814</td>\n",
       "      <td>97.890778</td>\n",
       "    </tr>\n",
       "    <tr>\n",
       "      <th>23</th>\n",
       "      <td>2012</td>\n",
       "      <td>5562</td>\n",
       "      <td>1.210430</td>\n",
       "      <td>455376</td>\n",
       "      <td>99.101209</td>\n",
       "    </tr>\n",
       "    <tr>\n",
       "      <th>24</th>\n",
       "      <td>2013</td>\n",
       "      <td>2368</td>\n",
       "      <td>0.515336</td>\n",
       "      <td>457744</td>\n",
       "      <td>99.616545</td>\n",
       "    </tr>\n",
       "    <tr>\n",
       "      <th>25</th>\n",
       "      <td>1988</td>\n",
       "      <td>813</td>\n",
       "      <td>0.176929</td>\n",
       "      <td>458557</td>\n",
       "      <td>99.793474</td>\n",
       "    </tr>\n",
       "    <tr>\n",
       "      <th>26</th>\n",
       "      <td>1987</td>\n",
       "      <td>684</td>\n",
       "      <td>0.148856</td>\n",
       "      <td>459241</td>\n",
       "      <td>99.942329</td>\n",
       "    </tr>\n",
       "    <tr>\n",
       "      <th>27</th>\n",
       "      <td>2014</td>\n",
       "      <td>264</td>\n",
       "      <td>0.057453</td>\n",
       "      <td>459505</td>\n",
       "      <td>99.999782</td>\n",
       "    </tr>\n",
       "    <tr>\n",
       "      <th>28</th>\n",
       "      <td>1984</td>\n",
       "      <td>1</td>\n",
       "      <td>0.000218</td>\n",
       "      <td>459506</td>\n",
       "      <td>100.000000</td>\n",
       "    </tr>\n",
       "  </tbody>\n",
       "</table>\n",
       "</div>"
      ],
      "text/plain": [
       "    ApprovalFY  count    percent  cumulative_count  cumulative_percent\n",
       "0         2007  57156  12.438575             57156           12.438575\n",
       "1         2006  55800  12.143476            112956           24.582051\n",
       "2         2005  47504  10.338059            160460           34.920110\n",
       "3         2004  33220   7.229503            193680           42.149613\n",
       "4         2008  29717   6.467163            223397           48.616775\n",
       "5         2003  28596   6.223205            251993           54.839980\n",
       "6         2002  19171   4.172089            271164           59.012069\n",
       "7         2009  16483   3.587113            287647           62.599183\n",
       "8         1995  16400   3.569050            304047           66.168233\n",
       "9         2010  15935   3.467855            319982           69.636087\n",
       "10        2001  15798   3.438040            335780           73.074127\n",
       "11        1994  13831   3.009972            349611           76.084099\n",
       "12        1996  12854   2.797352            362465           78.881451\n",
       "13        2011  11787   2.565146            374252           81.446597\n",
       "14        1997  10653   2.318359            384905           83.764956\n",
       "15        1993  10416   2.266782            395321           86.031738\n",
       "16        1992   9547   2.077666            404868           88.109404\n",
       "17        1999   8800   1.915100            413668           90.024505\n",
       "18        2000   8651   1.882674            422319           91.907179\n",
       "19        1998   7927   1.725113            430246           93.632292\n",
       "20        1991   7066   1.537738            437312           95.170030\n",
       "21        1990   6594   1.435019            443906           96.605050\n",
       "22        1989   5908   1.285729            449814           97.890778\n",
       "23        2012   5562   1.210430            455376           99.101209\n",
       "24        2013   2368   0.515336            457744           99.616545\n",
       "25        1988    813   0.176929            458557           99.793474\n",
       "26        1987    684   0.148856            459241           99.942329\n",
       "27        2014    264   0.057453            459505           99.999782\n",
       "28        1984      1   0.000218            459506          100.000000"
      ]
     },
     "execution_count": 40,
     "metadata": {},
     "output_type": "execute_result"
    }
   ],
   "source": [
    "#sidetable\n",
    "df.stb.freq(['ApprovalFY'])\n",
    "#This code aims to find out the percentage of ApprovalFY \n",
    "#It appears that 2007 has highest percentage around 12.43%"
   ]
  },
  {
   "cell_type": "code",
   "execution_count": 41,
   "metadata": {},
   "outputs": [
    {
     "data": {
      "text/html": [
       "<div>\n",
       "<style scoped>\n",
       "    .dataframe tbody tr th:only-of-type {\n",
       "        vertical-align: middle;\n",
       "    }\n",
       "\n",
       "    .dataframe tbody tr th {\n",
       "        vertical-align: top;\n",
       "    }\n",
       "\n",
       "    .dataframe thead th {\n",
       "        text-align: right;\n",
       "    }\n",
       "</style>\n",
       "<table border=\"1\" class=\"dataframe\">\n",
       "  <thead>\n",
       "    <tr style=\"text-align: right;\">\n",
       "      <th>MIS_Status</th>\n",
       "      <th>CHGOFF</th>\n",
       "      <th>P I F</th>\n",
       "      <th>%Percent</th>\n",
       "    </tr>\n",
       "    <tr>\n",
       "      <th>ApprovalFY</th>\n",
       "      <th></th>\n",
       "      <th></th>\n",
       "      <th></th>\n",
       "    </tr>\n",
       "  </thead>\n",
       "  <tbody>\n",
       "    <tr>\n",
       "      <th>1984</th>\n",
       "      <td>0</td>\n",
       "      <td>1</td>\n",
       "      <td>0.000000</td>\n",
       "    </tr>\n",
       "    <tr>\n",
       "      <th>1987</th>\n",
       "      <td>298</td>\n",
       "      <td>386</td>\n",
       "      <td>0.435673</td>\n",
       "    </tr>\n",
       "    <tr>\n",
       "      <th>1988</th>\n",
       "      <td>399</td>\n",
       "      <td>414</td>\n",
       "      <td>0.490775</td>\n",
       "    </tr>\n",
       "    <tr>\n",
       "      <th>1989</th>\n",
       "      <td>371</td>\n",
       "      <td>5537</td>\n",
       "      <td>0.062796</td>\n",
       "    </tr>\n",
       "    <tr>\n",
       "      <th>1990</th>\n",
       "      <td>275</td>\n",
       "      <td>6319</td>\n",
       "      <td>0.041705</td>\n",
       "    </tr>\n",
       "    <tr>\n",
       "      <th>1991</th>\n",
       "      <td>172</td>\n",
       "      <td>6894</td>\n",
       "      <td>0.024342</td>\n",
       "    </tr>\n",
       "    <tr>\n",
       "      <th>1992</th>\n",
       "      <td>167</td>\n",
       "      <td>9380</td>\n",
       "      <td>0.017492</td>\n",
       "    </tr>\n",
       "    <tr>\n",
       "      <th>1993</th>\n",
       "      <td>187</td>\n",
       "      <td>10229</td>\n",
       "      <td>0.017953</td>\n",
       "    </tr>\n",
       "    <tr>\n",
       "      <th>1994</th>\n",
       "      <td>269</td>\n",
       "      <td>13562</td>\n",
       "      <td>0.019449</td>\n",
       "    </tr>\n",
       "    <tr>\n",
       "      <th>1995</th>\n",
       "      <td>460</td>\n",
       "      <td>15940</td>\n",
       "      <td>0.028049</td>\n",
       "    </tr>\n",
       "    <tr>\n",
       "      <th>1996</th>\n",
       "      <td>476</td>\n",
       "      <td>12378</td>\n",
       "      <td>0.037031</td>\n",
       "    </tr>\n",
       "    <tr>\n",
       "      <th>1997</th>\n",
       "      <td>590</td>\n",
       "      <td>10063</td>\n",
       "      <td>0.055383</td>\n",
       "    </tr>\n",
       "    <tr>\n",
       "      <th>1998</th>\n",
       "      <td>580</td>\n",
       "      <td>7347</td>\n",
       "      <td>0.073168</td>\n",
       "    </tr>\n",
       "    <tr>\n",
       "      <th>1999</th>\n",
       "      <td>729</td>\n",
       "      <td>8071</td>\n",
       "      <td>0.082841</td>\n",
       "    </tr>\n",
       "    <tr>\n",
       "      <th>2000</th>\n",
       "      <td>864</td>\n",
       "      <td>7787</td>\n",
       "      <td>0.099873</td>\n",
       "    </tr>\n",
       "    <tr>\n",
       "      <th>2001</th>\n",
       "      <td>1736</td>\n",
       "      <td>14062</td>\n",
       "      <td>0.109887</td>\n",
       "    </tr>\n",
       "    <tr>\n",
       "      <th>2002</th>\n",
       "      <td>2225</td>\n",
       "      <td>16946</td>\n",
       "      <td>0.116061</td>\n",
       "    </tr>\n",
       "    <tr>\n",
       "      <th>2003</th>\n",
       "      <td>3716</td>\n",
       "      <td>24880</td>\n",
       "      <td>0.129948</td>\n",
       "    </tr>\n",
       "    <tr>\n",
       "      <th>2004</th>\n",
       "      <td>5360</td>\n",
       "      <td>27860</td>\n",
       "      <td>0.161349</td>\n",
       "    </tr>\n",
       "    <tr>\n",
       "      <th>2005</th>\n",
       "      <td>12732</td>\n",
       "      <td>34772</td>\n",
       "      <td>0.268020</td>\n",
       "    </tr>\n",
       "    <tr>\n",
       "      <th>2006</th>\n",
       "      <td>20242</td>\n",
       "      <td>35558</td>\n",
       "      <td>0.362760</td>\n",
       "    </tr>\n",
       "    <tr>\n",
       "      <th>2007</th>\n",
       "      <td>26329</td>\n",
       "      <td>30827</td>\n",
       "      <td>0.460652</td>\n",
       "    </tr>\n",
       "    <tr>\n",
       "      <th>2008</th>\n",
       "      <td>13796</td>\n",
       "      <td>15921</td>\n",
       "      <td>0.464246</td>\n",
       "    </tr>\n",
       "    <tr>\n",
       "      <th>2009</th>\n",
       "      <td>3279</td>\n",
       "      <td>13204</td>\n",
       "      <td>0.198932</td>\n",
       "    </tr>\n",
       "    <tr>\n",
       "      <th>2010</th>\n",
       "      <td>2054</td>\n",
       "      <td>13881</td>\n",
       "      <td>0.128899</td>\n",
       "    </tr>\n",
       "    <tr>\n",
       "      <th>2011</th>\n",
       "      <td>869</td>\n",
       "      <td>10918</td>\n",
       "      <td>0.073725</td>\n",
       "    </tr>\n",
       "    <tr>\n",
       "      <th>2012</th>\n",
       "      <td>301</td>\n",
       "      <td>5261</td>\n",
       "      <td>0.054117</td>\n",
       "    </tr>\n",
       "    <tr>\n",
       "      <th>2013</th>\n",
       "      <td>65</td>\n",
       "      <td>2303</td>\n",
       "      <td>0.027449</td>\n",
       "    </tr>\n",
       "    <tr>\n",
       "      <th>2014</th>\n",
       "      <td>5</td>\n",
       "      <td>259</td>\n",
       "      <td>0.018939</td>\n",
       "    </tr>\n",
       "  </tbody>\n",
       "</table>\n",
       "</div>"
      ],
      "text/plain": [
       "MIS_Status  CHGOFF  P I F  %Percent\n",
       "ApprovalFY                         \n",
       "1984             0      1  0.000000\n",
       "1987           298    386  0.435673\n",
       "1988           399    414  0.490775\n",
       "1989           371   5537  0.062796\n",
       "1990           275   6319  0.041705\n",
       "1991           172   6894  0.024342\n",
       "1992           167   9380  0.017492\n",
       "1993           187  10229  0.017953\n",
       "1994           269  13562  0.019449\n",
       "1995           460  15940  0.028049\n",
       "1996           476  12378  0.037031\n",
       "1997           590  10063  0.055383\n",
       "1998           580   7347  0.073168\n",
       "1999           729   8071  0.082841\n",
       "2000           864   7787  0.099873\n",
       "2001          1736  14062  0.109887\n",
       "2002          2225  16946  0.116061\n",
       "2003          3716  24880  0.129948\n",
       "2004          5360  27860  0.161349\n",
       "2005         12732  34772  0.268020\n",
       "2006         20242  35558  0.362760\n",
       "2007         26329  30827  0.460652\n",
       "2008         13796  15921  0.464246\n",
       "2009          3279  13204  0.198932\n",
       "2010          2054  13881  0.128899\n",
       "2011           869  10918  0.073725\n",
       "2012           301   5261  0.054117\n",
       "2013            65   2303  0.027449\n",
       "2014             5    259  0.018939"
      ]
     },
     "execution_count": 41,
     "metadata": {},
     "output_type": "execute_result"
    }
   ],
   "source": [
    "#crosstab between sector and MIS_Status\n",
    "df_year = pd.crosstab(index=df['ApprovalFY'], columns=df['MIS_Status'])\n",
    "\n",
    "#Default percentage\n",
    "df_year['%Percent'] = df_year['CHGOFF']/(df_year['CHGOFF']+df_year['P I F'])\n",
    "df_year"
   ]
  },
  {
   "cell_type": "code",
   "execution_count": 42,
   "metadata": {},
   "outputs": [
    {
     "data": {
      "image/png": "[encoded data removed]",
      "text/plain": [
       "<Figure size 1080x432 with 1 Axes>"
      ]
     },
     "metadata": {
      "needs_background": "light"
     },
     "output_type": "display_data"
    }
   ],
   "source": [
    "#Visualization\n",
    "plt.figure(figsize=(15,6))\n",
    "plt.barh(df_year.index, df_year['%Percent'])\n",
    "plt.title('Percentage of Default by Year')\n",
    "plt.xlabel('Approval year')\n",
    "plt.ylabel('Percentage of Default')\n",
    "plt.show()"
   ]
  },
  {
   "cell_type": "code",
   "execution_count": 43,
   "metadata": {},
   "outputs": [
    {
     "data": {
      "image/png": "[encoded data removed]",
      "text/plain": [
       "<Figure size 936x360 with 1 Axes>"
      ]
     },
     "metadata": {
      "needs_background": "light"
     },
     "output_type": "display_data"
    }
   ],
   "source": [
    "plt.figure(figsize=(13,5))\n",
    "labels=['Default', 'Paid in Full']\n",
    "plt.stackplot(df_year.index, [df_year['CHGOFF'], df_year['P I F']])\n",
    "plt.title('Count of PIF/CHGOFF by Year')\n",
    "plt.xlabel('Approval year')\n",
    "plt.ylabel('Count of PIF/CHGOFF')\n",
    "plt.legend(labels)\n",
    "plt.show()"
   ]
  },
  {
   "cell_type": "markdown",
   "metadata": {},
   "source": [
    "- Year with highest number of loan was 2007 (12.43%), followed by 2006(12.14%) and 2005(10.33%)\n",
    "- Year where has highest Percentage of default loan was 1988 (49.07%), followed by 2008(46.42) and 2007(46.06)\n",
    "- From the stackplot, it show that count of PIF/CHGOFF tend to increase by year"
   ]
  },
  {
   "cell_type": "markdown",
   "metadata": {},
   "source": [
    "### `isFranchise`"
   ]
  },
  {
   "cell_type": "code",
   "execution_count": 45,
   "metadata": {},
   "outputs": [
    {
     "data": {
      "text/html": [
       "<div>\n",
       "<style scoped>\n",
       "    .dataframe tbody tr th:only-of-type {\n",
       "        vertical-align: middle;\n",
       "    }\n",
       "\n",
       "    .dataframe tbody tr th {\n",
       "        vertical-align: top;\n",
       "    }\n",
       "\n",
       "    .dataframe thead th {\n",
       "        text-align: right;\n",
       "    }\n",
       "</style>\n",
       "<table border=\"1\" class=\"dataframe\">\n",
       "  <thead>\n",
       "    <tr style=\"text-align: right;\">\n",
       "      <th></th>\n",
       "      <th>isFranchise</th>\n",
       "      <th>count</th>\n",
       "      <th>percent</th>\n",
       "      <th>cumulative_count</th>\n",
       "      <th>cumulative_percent</th>\n",
       "    </tr>\n",
       "  </thead>\n",
       "  <tbody>\n",
       "    <tr>\n",
       "      <th>0</th>\n",
       "      <td>No Franchise</td>\n",
       "      <td>445170</td>\n",
       "      <td>96.880128</td>\n",
       "      <td>445170</td>\n",
       "      <td>96.880128</td>\n",
       "    </tr>\n",
       "    <tr>\n",
       "      <th>1</th>\n",
       "      <td>Franchise</td>\n",
       "      <td>14336</td>\n",
       "      <td>3.119872</td>\n",
       "      <td>459506</td>\n",
       "      <td>100.000000</td>\n",
       "    </tr>\n",
       "  </tbody>\n",
       "</table>\n",
       "</div>"
      ],
      "text/plain": [
       "    isFranchise   count    percent  cumulative_count  cumulative_percent\n",
       "0  No Franchise  445170  96.880128            445170           96.880128\n",
       "1     Franchise   14336   3.119872            459506          100.000000"
      ]
     },
     "execution_count": 45,
     "metadata": {},
     "output_type": "execute_result"
    }
   ],
   "source": [
    "#sidetable\n",
    "df.stb.freq(['isFranchise'])\n",
    "#This code aims to find out the percentage of isFranchise \n",
    "#It appears that No Franchise has highest percentage around 96.88%"
   ]
  },
  {
   "cell_type": "code",
   "execution_count": 51,
   "metadata": {},
   "outputs": [
    {
     "data": {
      "text/html": [
       "<div>\n",
       "<style scoped>\n",
       "    .dataframe tbody tr th:only-of-type {\n",
       "        vertical-align: middle;\n",
       "    }\n",
       "\n",
       "    .dataframe tbody tr th {\n",
       "        vertical-align: top;\n",
       "    }\n",
       "\n",
       "    .dataframe thead th {\n",
       "        text-align: right;\n",
       "    }\n",
       "</style>\n",
       "<table border=\"1\" class=\"dataframe\">\n",
       "  <thead>\n",
       "    <tr style=\"text-align: right;\">\n",
       "      <th>MIS_Status</th>\n",
       "      <th>CHGOFF</th>\n",
       "      <th>P I F</th>\n",
       "    </tr>\n",
       "    <tr>\n",
       "      <th>isFranchise</th>\n",
       "      <th></th>\n",
       "      <th></th>\n",
       "    </tr>\n",
       "  </thead>\n",
       "  <tbody>\n",
       "    <tr>\n",
       "      <th>Franchise</th>\n",
       "      <td>2.29</td>\n",
       "      <td>3.35</td>\n",
       "    </tr>\n",
       "    <tr>\n",
       "      <th>No Franchise</th>\n",
       "      <td>97.71</td>\n",
       "      <td>96.65</td>\n",
       "    </tr>\n",
       "  </tbody>\n",
       "</table>\n",
       "</div>"
      ],
      "text/plain": [
       "MIS_Status    CHGOFF  P I F\n",
       "isFranchise                \n",
       "Franchise       2.29   3.35\n",
       "No Franchise   97.71  96.65"
      ]
     },
     "execution_count": 51,
     "metadata": {},
     "output_type": "execute_result"
    }
   ],
   "source": [
    "((pd.crosstab(index=df['isFranchise'], columns=df['MIS_Status'], normalize='columns'))*100).round(2)"
   ]
  },
  {
   "cell_type": "code",
   "execution_count": 53,
   "metadata": {},
   "outputs": [
    {
     "data": {
      "image/png": "[encoded data removed]",
      "text/plain": [
       "<Figure size 432x360 with 1 Axes>"
      ]
     },
     "metadata": {
      "needs_background": "light"
     },
     "output_type": "display_data"
    }
   ],
   "source": [
    "# Visualization\n",
    "plt.figure(figsize=(6,5))\n",
    "sns.countplot(df['isFranchise'], hue=df['MIS_Status'], palette='rainbow')\n",
    "plt.show()"
   ]
  },
  {
   "cell_type": "markdown",
   "metadata": {},
   "source": [
    "- Mostly small business that CHGOFF didn't come from Franchise"
   ]
  },
  {
   "cell_type": "markdown",
   "metadata": {},
   "source": [
    "### `sameState`"
   ]
  },
  {
   "cell_type": "code",
   "execution_count": 55,
   "metadata": {},
   "outputs": [
    {
     "data": {
      "text/html": [
       "<div>\n",
       "<style scoped>\n",
       "    .dataframe tbody tr th:only-of-type {\n",
       "        vertical-align: middle;\n",
       "    }\n",
       "\n",
       "    .dataframe tbody tr th {\n",
       "        vertical-align: top;\n",
       "    }\n",
       "\n",
       "    .dataframe thead th {\n",
       "        text-align: right;\n",
       "    }\n",
       "</style>\n",
       "<table border=\"1\" class=\"dataframe\">\n",
       "  <thead>\n",
       "    <tr style=\"text-align: right;\">\n",
       "      <th></th>\n",
       "      <th>sameState</th>\n",
       "      <th>count</th>\n",
       "      <th>percent</th>\n",
       "      <th>cumulative_count</th>\n",
       "      <th>cumulative_percent</th>\n",
       "    </tr>\n",
       "  </thead>\n",
       "  <tbody>\n",
       "    <tr>\n",
       "      <th>0</th>\n",
       "      <td>0</td>\n",
       "      <td>249951</td>\n",
       "      <td>54.39559</td>\n",
       "      <td>249951</td>\n",
       "      <td>54.39559</td>\n",
       "    </tr>\n",
       "    <tr>\n",
       "      <th>1</th>\n",
       "      <td>1</td>\n",
       "      <td>209555</td>\n",
       "      <td>45.60441</td>\n",
       "      <td>459506</td>\n",
       "      <td>100.00000</td>\n",
       "    </tr>\n",
       "  </tbody>\n",
       "</table>\n",
       "</div>"
      ],
      "text/plain": [
       "   sameState   count   percent  cumulative_count  cumulative_percent\n",
       "0          0  249951  54.39559            249951            54.39559\n",
       "1          1  209555  45.60441            459506           100.00000"
      ]
     },
     "execution_count": 55,
     "metadata": {},
     "output_type": "execute_result"
    }
   ],
   "source": [
    "#sidetable\n",
    "df.stb.freq(['sameState'])\n",
    "#This code aims to find out the percentage of sameState \n",
    "#It appears that different State(0) has highest percentage around 54.39%"
   ]
  },
  {
   "cell_type": "code",
   "execution_count": 59,
   "metadata": {},
   "outputs": [
    {
     "data": {
      "text/html": [
       "<div>\n",
       "<style scoped>\n",
       "    .dataframe tbody tr th:only-of-type {\n",
       "        vertical-align: middle;\n",
       "    }\n",
       "\n",
       "    .dataframe tbody tr th {\n",
       "        vertical-align: top;\n",
       "    }\n",
       "\n",
       "    .dataframe thead th {\n",
       "        text-align: right;\n",
       "    }\n",
       "</style>\n",
       "<table border=\"1\" class=\"dataframe\">\n",
       "  <thead>\n",
       "    <tr style=\"text-align: right;\">\n",
       "      <th>MIS_Status</th>\n",
       "      <th>CHGOFF</th>\n",
       "      <th>P I F</th>\n",
       "    </tr>\n",
       "    <tr>\n",
       "      <th>sameState</th>\n",
       "      <th></th>\n",
       "      <th></th>\n",
       "    </tr>\n",
       "  </thead>\n",
       "  <tbody>\n",
       "    <tr>\n",
       "      <th>0</th>\n",
       "      <td>75.44</td>\n",
       "      <td>48.65</td>\n",
       "    </tr>\n",
       "    <tr>\n",
       "      <th>1</th>\n",
       "      <td>24.56</td>\n",
       "      <td>51.35</td>\n",
       "    </tr>\n",
       "  </tbody>\n",
       "</table>\n",
       "</div>"
      ],
      "text/plain": [
       "MIS_Status  CHGOFF  P I F\n",
       "sameState                \n",
       "0            75.44  48.65\n",
       "1            24.56  51.35"
      ]
     },
     "execution_count": 59,
     "metadata": {},
     "output_type": "execute_result"
    }
   ],
   "source": [
    "((pd.crosstab(index=df['sameState'], columns=df['MIS_Status'], normalize='columns'))*100).round(2)"
   ]
  },
  {
   "cell_type": "code",
   "execution_count": 57,
   "metadata": {},
   "outputs": [
    {
     "data": {
      "image/png": "[encoded data removed]",
      "text/plain": [
       "<Figure size 432x360 with 1 Axes>"
      ]
     },
     "metadata": {
      "needs_background": "light"
     },
     "output_type": "display_data"
    }
   ],
   "source": [
    "# Visualization\n",
    "plt.figure(figsize=(6,5))\n",
    "sns.countplot(df['sameState'], hue=df['MIS_Status'], palette='rainbow')\n",
    "plt.show()"
   ]
  },
  {
   "cell_type": "markdown",
   "metadata": {},
   "source": [
    "- Mostly small business that CHGOFF come from different State with percentage 75.44%"
   ]
  },
  {
   "cell_type": "markdown",
   "metadata": {},
   "source": [
    "### `Portion`"
   ]
  },
  {
   "cell_type": "code",
   "execution_count": 10,
   "metadata": {},
   "outputs": [
    {
     "data": {
      "text/plain": [
       "sector\n",
       "Ag,fores,ﬁshi,hunting           0.766747\n",
       "Public_admin                    0.720636\n",
       "Mining, quar,oil_gas_ext        0.717124\n",
       "Manufacturing                   0.695555\n",
       "Health_care,social_ass          0.692647\n",
       "Arts,enter,recreation           0.683391\n",
       "Management and enterprises      0.677500\n",
       "Retail trade                    0.666809\n",
       "Accommodation food_serv         0.666390\n",
       "Other_no_pub                    0.665665\n",
       "Wholesale trade                 0.664078\n",
       "Utilities                       0.659342\n",
       "Information                     0.625717\n",
       "Prof, scien, and tech_serv      0.616916\n",
       "Construction                    0.615456\n",
       "Educational services            0.607020\n",
       "RE,rental, leasing              0.606633\n",
       "Admini_sup and waste_mgm_rem    0.588891\n",
       "Trans & Ware                    0.586116\n",
       "Finance, insurance              0.578442\n",
       "Name: Portion, dtype: float64"
      ]
     },
     "execution_count": 10,
     "metadata": {},
     "output_type": "execute_result"
    }
   ],
   "source": [
    "# This code aims to know which sector that has high portion\n",
    "df['Portion'].groupby(df['sector']).mean().sort_values(ascending=False)"
   ]
  },
  {
   "cell_type": "markdown",
   "metadata": {},
   "source": [
    "- Agriculture, forestry, fishing and hunting has highest mean of Portion that SBA guarantee"
   ]
  },
  {
   "cell_type": "code",
   "execution_count": null,
   "metadata": {},
   "outputs": [],
   "source": []
  }
 ],
 "metadata": {
  "kernelspec": {
   "display_name": "Python 3",
   "language": "python",
   "name": "python3"
  },
  "language_info": {
   "codemirror_mode": {
    "name": "ipython",
    "version": 3
   },
   "file_extension": ".py",
   "mimetype": "text/x-python",
   "name": "python",
   "nbconvert_exporter": "python",
   "pygments_lexer": "ipython3",
   "version": "3.8.3"
  }
 },
 "nbformat": 4,
 "nbformat_minor": 4
}
