{
 "cells": [
  {
   "cell_type": "markdown",
   "metadata": {},
   "source": [
    "<h2 style=\"text-align: center;\" > <strong>SBA Loand Default Prediction</strong></h2>\n",
    "\n",
    "### Problem\n",
    "The default rate for the 10-year period ending in 2008, when nearly 1 in 4 (24.7%) SBA loans weren’t paid back. It means that SBA would have loss due to Small Business couldn’t make repayment\n",
    "\n",
    "### Goals\n",
    "Being able to early detected of SBA loan default could reduce the risk of loss for Small Business Administration.\n",
    "\n",
    "### Step of Work\n",
    "**Step 2** : In this step, I would to analyst and Visualization the dataset "
   ]
  },
  {
   "cell_type": "code",
   "execution_count": 1,
   "metadata": {},
   "outputs": [],
   "source": [
    "import pandas as pd\n",
    "import numpy as np\n",
    "import matplotlib.pyplot as plt\n",
    "import seaborn as sns\n",
    "import sidetable as stb\n",
    "import warnings\n",
    "warnings.filterwarnings('ignore')\n",
    "\n",
    "%matplotlib inline"
   ]
  },
  {
   "cell_type": "code",
   "execution_count": 2,
   "metadata": {},
   "outputs": [
    {
     "data": {
      "text/html": [
       "<div>\n",
       "<style scoped>\n",
       "    .dataframe tbody tr th:only-of-type {\n",
       "        vertical-align: middle;\n",
       "    }\n",
       "\n",
       "    .dataframe tbody tr th {\n",
       "        vertical-align: top;\n",
       "    }\n",
       "\n",
       "    .dataframe thead th {\n",
       "        text-align: right;\n",
       "    }\n",
       "</style>\n",
       "<table border=\"1\" class=\"dataframe\">\n",
       "  <thead>\n",
       "    <tr style=\"text-align: right;\">\n",
       "      <th></th>\n",
       "      <th>ApprovalFY</th>\n",
       "      <th>Term</th>\n",
       "      <th>NoEmp</th>\n",
       "      <th>NewExist</th>\n",
       "      <th>CreateJob</th>\n",
       "      <th>RetainedJob</th>\n",
       "      <th>UrbanRural</th>\n",
       "      <th>RevLineCr</th>\n",
       "      <th>LowDoc</th>\n",
       "      <th>DisbursementGross</th>\n",
       "      <th>MIS_Status</th>\n",
       "      <th>GrAppv</th>\n",
       "      <th>sector</th>\n",
       "      <th>isFranchise</th>\n",
       "      <th>sameState</th>\n",
       "      <th>backRealEstate</th>\n",
       "      <th>Portion</th>\n",
       "    </tr>\n",
       "  </thead>\n",
       "  <tbody>\n",
       "    <tr>\n",
       "      <th>0</th>\n",
       "      <td>2006</td>\n",
       "      <td>162</td>\n",
       "      <td>2</td>\n",
       "      <td>2.0</td>\n",
       "      <td>0</td>\n",
       "      <td>0</td>\n",
       "      <td>1</td>\n",
       "      <td>N</td>\n",
       "      <td>N</td>\n",
       "      <td>253400.0</td>\n",
       "      <td>P I F</td>\n",
       "      <td>253400.0</td>\n",
       "      <td>Retail_trade</td>\n",
       "      <td>Franchise</td>\n",
       "      <td>0</td>\n",
       "      <td>0</td>\n",
       "      <td>0.75</td>\n",
       "    </tr>\n",
       "    <tr>\n",
       "      <th>1</th>\n",
       "      <td>2006</td>\n",
       "      <td>126</td>\n",
       "      <td>7</td>\n",
       "      <td>1.0</td>\n",
       "      <td>0</td>\n",
       "      <td>0</td>\n",
       "      <td>1</td>\n",
       "      <td>N</td>\n",
       "      <td>N</td>\n",
       "      <td>137300.0</td>\n",
       "      <td>P I F</td>\n",
       "      <td>137300.0</td>\n",
       "      <td>Accommodation_food_serv</td>\n",
       "      <td>No Franchise</td>\n",
       "      <td>0</td>\n",
       "      <td>0</td>\n",
       "      <td>0.85</td>\n",
       "    </tr>\n",
       "    <tr>\n",
       "      <th>2</th>\n",
       "      <td>2006</td>\n",
       "      <td>83</td>\n",
       "      <td>18</td>\n",
       "      <td>2.0</td>\n",
       "      <td>5</td>\n",
       "      <td>23</td>\n",
       "      <td>1</td>\n",
       "      <td>Y</td>\n",
       "      <td>N</td>\n",
       "      <td>438541.0</td>\n",
       "      <td>P I F</td>\n",
       "      <td>100000.0</td>\n",
       "      <td>Educational_services</td>\n",
       "      <td>No Franchise</td>\n",
       "      <td>0</td>\n",
       "      <td>0</td>\n",
       "      <td>0.50</td>\n",
       "    </tr>\n",
       "    <tr>\n",
       "      <th>3</th>\n",
       "      <td>2006</td>\n",
       "      <td>84</td>\n",
       "      <td>4</td>\n",
       "      <td>1.0</td>\n",
       "      <td>0</td>\n",
       "      <td>4</td>\n",
       "      <td>1</td>\n",
       "      <td>Y</td>\n",
       "      <td>N</td>\n",
       "      <td>51440.0</td>\n",
       "      <td>P I F</td>\n",
       "      <td>35000.0</td>\n",
       "      <td>Construction</td>\n",
       "      <td>No Franchise</td>\n",
       "      <td>1</td>\n",
       "      <td>0</td>\n",
       "      <td>0.50</td>\n",
       "    </tr>\n",
       "    <tr>\n",
       "      <th>4</th>\n",
       "      <td>2006</td>\n",
       "      <td>60</td>\n",
       "      <td>3</td>\n",
       "      <td>1.0</td>\n",
       "      <td>0</td>\n",
       "      <td>0</td>\n",
       "      <td>1</td>\n",
       "      <td>N</td>\n",
       "      <td>N</td>\n",
       "      <td>50000.0</td>\n",
       "      <td>P I F</td>\n",
       "      <td>50000.0</td>\n",
       "      <td>RE_rental_leasing</td>\n",
       "      <td>No Franchise</td>\n",
       "      <td>1</td>\n",
       "      <td>0</td>\n",
       "      <td>0.85</td>\n",
       "    </tr>\n",
       "  </tbody>\n",
       "</table>\n",
       "</div>"
      ],
      "text/plain": [
       "   ApprovalFY  Term  NoEmp  NewExist  CreateJob  RetainedJob  UrbanRural  \\\n",
       "0        2006   162      2       2.0          0            0           1   \n",
       "1        2006   126      7       1.0          0            0           1   \n",
       "2        2006    83     18       2.0          5           23           1   \n",
       "3        2006    84      4       1.0          0            4           1   \n",
       "4        2006    60      3       1.0          0            0           1   \n",
       "\n",
       "  RevLineCr LowDoc  DisbursementGross MIS_Status    GrAppv  \\\n",
       "0         N      N           253400.0      P I F  253400.0   \n",
       "1         N      N           137300.0      P I F  137300.0   \n",
       "2         Y      N           438541.0      P I F  100000.0   \n",
       "3         Y      N            51440.0      P I F   35000.0   \n",
       "4         N      N            50000.0      P I F   50000.0   \n",
       "\n",
       "                    sector   isFranchise  sameState  backRealEstate  Portion  \n",
       "0             Retail_trade     Franchise          0               0     0.75  \n",
       "1  Accommodation_food_serv  No Franchise          0               0     0.85  \n",
       "2     Educational_services  No Franchise          0               0     0.50  \n",
       "3             Construction  No Franchise          1               0     0.50  \n",
       "4        RE_rental_leasing  No Franchise          1               0     0.85  "
      ]
     },
     "execution_count": 2,
     "metadata": {},
     "output_type": "execute_result"
    }
   ],
   "source": [
    "df = pd.read_csv(r'Clean_SBA_Loan.csv')\n",
    "df.head()"
   ]
  },
  {
   "cell_type": "code",
   "execution_count": 3,
   "metadata": {},
   "outputs": [
    {
     "name": "stdout",
     "output_type": "stream",
     "text": [
      "<class 'pandas.core.frame.DataFrame'>\n",
      "RangeIndex: 334056 entries, 0 to 334055\n",
      "Data columns (total 17 columns):\n",
      " #   Column             Non-Null Count   Dtype  \n",
      "---  ------             --------------   -----  \n",
      " 0   ApprovalFY         334056 non-null  int64  \n",
      " 1   Term               334056 non-null  int64  \n",
      " 2   NoEmp              334056 non-null  int64  \n",
      " 3   NewExist           334056 non-null  float64\n",
      " 4   CreateJob          334056 non-null  int64  \n",
      " 5   RetainedJob        334056 non-null  int64  \n",
      " 6   UrbanRural         334056 non-null  int64  \n",
      " 7   RevLineCr          334056 non-null  object \n",
      " 8   LowDoc             334056 non-null  object \n",
      " 9   DisbursementGross  334056 non-null  float64\n",
      " 10  MIS_Status         334056 non-null  object \n",
      " 11  GrAppv             334056 non-null  float64\n",
      " 12  sector             334056 non-null  object \n",
      " 13  isFranchise        334056 non-null  object \n",
      " 14  sameState          334056 non-null  int64  \n",
      " 15  backRealEstate     334056 non-null  int64  \n",
      " 16  Portion            334056 non-null  float64\n",
      "dtypes: float64(4), int64(8), object(5)\n",
      "memory usage: 43.3+ MB\n"
     ]
    }
   ],
   "source": [
    "df.info()"
   ]
  },
  {
   "cell_type": "code",
   "execution_count": 4,
   "metadata": {},
   "outputs": [
    {
     "data": {
      "text/plain": [
       "ApprovalFY           0\n",
       "Term                 0\n",
       "NoEmp                0\n",
       "NewExist             0\n",
       "CreateJob            0\n",
       "RetainedJob          0\n",
       "UrbanRural           0\n",
       "RevLineCr            0\n",
       "LowDoc               0\n",
       "DisbursementGross    0\n",
       "MIS_Status           0\n",
       "GrAppv               0\n",
       "sector               0\n",
       "isFranchise          0\n",
       "sameState            0\n",
       "backRealEstate       0\n",
       "Portion              0\n",
       "dtype: int64"
      ]
     },
     "execution_count": 4,
     "metadata": {},
     "output_type": "execute_result"
    }
   ],
   "source": [
    "## Checking for missing value\n",
    "df.isnull().sum()"
   ]
  },
  {
   "cell_type": "code",
   "execution_count": 5,
   "metadata": {},
   "outputs": [
    {
     "data": {
      "text/html": [
       "<div>\n",
       "<style scoped>\n",
       "    .dataframe tbody tr th:only-of-type {\n",
       "        vertical-align: middle;\n",
       "    }\n",
       "\n",
       "    .dataframe tbody tr th {\n",
       "        vertical-align: top;\n",
       "    }\n",
       "\n",
       "    .dataframe thead th {\n",
       "        text-align: right;\n",
       "    }\n",
       "</style>\n",
       "<table border=\"1\" class=\"dataframe\">\n",
       "  <thead>\n",
       "    <tr style=\"text-align: right;\">\n",
       "      <th></th>\n",
       "      <th>count</th>\n",
       "      <th>mean</th>\n",
       "      <th>std</th>\n",
       "      <th>min</th>\n",
       "      <th>25%</th>\n",
       "      <th>50%</th>\n",
       "      <th>75%</th>\n",
       "      <th>max</th>\n",
       "    </tr>\n",
       "  </thead>\n",
       "  <tbody>\n",
       "    <tr>\n",
       "      <th>ApprovalFY</th>\n",
       "      <td>334056.0</td>\n",
       "      <td>2005.848825</td>\n",
       "      <td>2.764577</td>\n",
       "      <td>1994.00</td>\n",
       "      <td>2004.0</td>\n",
       "      <td>2006.0</td>\n",
       "      <td>2007.000000</td>\n",
       "      <td>2014.0</td>\n",
       "    </tr>\n",
       "    <tr>\n",
       "      <th>Term</th>\n",
       "      <td>334056.0</td>\n",
       "      <td>75.795648</td>\n",
       "      <td>49.841381</td>\n",
       "      <td>1.00</td>\n",
       "      <td>48.0</td>\n",
       "      <td>84.0</td>\n",
       "      <td>84.000000</td>\n",
       "      <td>527.0</td>\n",
       "    </tr>\n",
       "    <tr>\n",
       "      <th>NoEmp</th>\n",
       "      <td>334056.0</td>\n",
       "      <td>7.471858</td>\n",
       "      <td>17.081044</td>\n",
       "      <td>0.00</td>\n",
       "      <td>2.0</td>\n",
       "      <td>3.0</td>\n",
       "      <td>7.000000</td>\n",
       "      <td>1500.0</td>\n",
       "    </tr>\n",
       "    <tr>\n",
       "      <th>NewExist</th>\n",
       "      <td>334056.0</td>\n",
       "      <td>1.272146</td>\n",
       "      <td>0.445065</td>\n",
       "      <td>1.00</td>\n",
       "      <td>1.0</td>\n",
       "      <td>1.0</td>\n",
       "      <td>2.000000</td>\n",
       "      <td>2.0</td>\n",
       "    </tr>\n",
       "    <tr>\n",
       "      <th>CreateJob</th>\n",
       "      <td>334056.0</td>\n",
       "      <td>1.656564</td>\n",
       "      <td>13.926810</td>\n",
       "      <td>0.00</td>\n",
       "      <td>0.0</td>\n",
       "      <td>0.0</td>\n",
       "      <td>1.000000</td>\n",
       "      <td>5085.0</td>\n",
       "    </tr>\n",
       "    <tr>\n",
       "      <th>RetainedJob</th>\n",
       "      <td>334056.0</td>\n",
       "      <td>5.537694</td>\n",
       "      <td>15.087415</td>\n",
       "      <td>0.00</td>\n",
       "      <td>1.0</td>\n",
       "      <td>2.0</td>\n",
       "      <td>6.000000</td>\n",
       "      <td>4441.0</td>\n",
       "    </tr>\n",
       "    <tr>\n",
       "      <th>UrbanRural</th>\n",
       "      <td>334056.0</td>\n",
       "      <td>1.175956</td>\n",
       "      <td>0.380783</td>\n",
       "      <td>1.00</td>\n",
       "      <td>1.0</td>\n",
       "      <td>1.0</td>\n",
       "      <td>1.000000</td>\n",
       "      <td>2.0</td>\n",
       "    </tr>\n",
       "    <tr>\n",
       "      <th>DisbursementGross</th>\n",
       "      <td>334056.0</td>\n",
       "      <td>148739.991639</td>\n",
       "      <td>277177.832106</td>\n",
       "      <td>4000.00</td>\n",
       "      <td>25366.0</td>\n",
       "      <td>58763.0</td>\n",
       "      <td>149000.000000</td>\n",
       "      <td>11446325.0</td>\n",
       "    </tr>\n",
       "    <tr>\n",
       "      <th>GrAppv</th>\n",
       "      <td>334056.0</td>\n",
       "      <td>123713.840572</td>\n",
       "      <td>256779.756306</td>\n",
       "      <td>1000.00</td>\n",
       "      <td>25000.0</td>\n",
       "      <td>50000.0</td>\n",
       "      <td>100000.000000</td>\n",
       "      <td>5000000.0</td>\n",
       "    </tr>\n",
       "    <tr>\n",
       "      <th>sameState</th>\n",
       "      <td>334056.0</td>\n",
       "      <td>0.346181</td>\n",
       "      <td>0.475753</td>\n",
       "      <td>0.00</td>\n",
       "      <td>0.0</td>\n",
       "      <td>0.0</td>\n",
       "      <td>1.000000</td>\n",
       "      <td>1.0</td>\n",
       "    </tr>\n",
       "    <tr>\n",
       "      <th>backRealEstate</th>\n",
       "      <td>334056.0</td>\n",
       "      <td>0.034419</td>\n",
       "      <td>0.182304</td>\n",
       "      <td>0.00</td>\n",
       "      <td>0.0</td>\n",
       "      <td>0.0</td>\n",
       "      <td>0.000000</td>\n",
       "      <td>1.0</td>\n",
       "    </tr>\n",
       "    <tr>\n",
       "      <th>Portion</th>\n",
       "      <td>334056.0</td>\n",
       "      <td>0.577236</td>\n",
       "      <td>0.136739</td>\n",
       "      <td>0.05</td>\n",
       "      <td>0.5</td>\n",
       "      <td>0.5</td>\n",
       "      <td>0.719535</td>\n",
       "      <td>0.9</td>\n",
       "    </tr>\n",
       "  </tbody>\n",
       "</table>\n",
       "</div>"
      ],
      "text/plain": [
       "                      count           mean            std      min      25%  \\\n",
       "ApprovalFY         334056.0    2005.848825       2.764577  1994.00   2004.0   \n",
       "Term               334056.0      75.795648      49.841381     1.00     48.0   \n",
       "NoEmp              334056.0       7.471858      17.081044     0.00      2.0   \n",
       "NewExist           334056.0       1.272146       0.445065     1.00      1.0   \n",
       "CreateJob          334056.0       1.656564      13.926810     0.00      0.0   \n",
       "RetainedJob        334056.0       5.537694      15.087415     0.00      1.0   \n",
       "UrbanRural         334056.0       1.175956       0.380783     1.00      1.0   \n",
       "DisbursementGross  334056.0  148739.991639  277177.832106  4000.00  25366.0   \n",
       "GrAppv             334056.0  123713.840572  256779.756306  1000.00  25000.0   \n",
       "sameState          334056.0       0.346181       0.475753     0.00      0.0   \n",
       "backRealEstate     334056.0       0.034419       0.182304     0.00      0.0   \n",
       "Portion            334056.0       0.577236       0.136739     0.05      0.5   \n",
       "\n",
       "                       50%            75%         max  \n",
       "ApprovalFY          2006.0    2007.000000      2014.0  \n",
       "Term                  84.0      84.000000       527.0  \n",
       "NoEmp                  3.0       7.000000      1500.0  \n",
       "NewExist               1.0       2.000000         2.0  \n",
       "CreateJob              0.0       1.000000      5085.0  \n",
       "RetainedJob            2.0       6.000000      4441.0  \n",
       "UrbanRural             1.0       1.000000         2.0  \n",
       "DisbursementGross  58763.0  149000.000000  11446325.0  \n",
       "GrAppv             50000.0  100000.000000   5000000.0  \n",
       "sameState              0.0       1.000000         1.0  \n",
       "backRealEstate         0.0       0.000000         1.0  \n",
       "Portion                0.5       0.719535         0.9  "
      ]
     },
     "execution_count": 5,
     "metadata": {},
     "output_type": "execute_result"
    }
   ],
   "source": [
    "df.describe().T"
   ]
  },
  {
   "cell_type": "code",
   "execution_count": 6,
   "metadata": {},
   "outputs": [
    {
     "data": {
      "text/html": [
       "<div>\n",
       "<style scoped>\n",
       "    .dataframe tbody tr th:only-of-type {\n",
       "        vertical-align: middle;\n",
       "    }\n",
       "\n",
       "    .dataframe tbody tr th {\n",
       "        vertical-align: top;\n",
       "    }\n",
       "\n",
       "    .dataframe thead th {\n",
       "        text-align: right;\n",
       "    }\n",
       "</style>\n",
       "<table border=\"1\" class=\"dataframe\">\n",
       "  <thead>\n",
       "    <tr style=\"text-align: right;\">\n",
       "      <th></th>\n",
       "      <th>count</th>\n",
       "      <th>unique</th>\n",
       "      <th>top</th>\n",
       "      <th>freq</th>\n",
       "    </tr>\n",
       "  </thead>\n",
       "  <tbody>\n",
       "    <tr>\n",
       "      <th>RevLineCr</th>\n",
       "      <td>334056</td>\n",
       "      <td>2</td>\n",
       "      <td>Y</td>\n",
       "      <td>188879</td>\n",
       "    </tr>\n",
       "    <tr>\n",
       "      <th>LowDoc</th>\n",
       "      <td>334056</td>\n",
       "      <td>2</td>\n",
       "      <td>N</td>\n",
       "      <td>332780</td>\n",
       "    </tr>\n",
       "    <tr>\n",
       "      <th>MIS_Status</th>\n",
       "      <td>334056</td>\n",
       "      <td>2</td>\n",
       "      <td>P I F</td>\n",
       "      <td>241600</td>\n",
       "    </tr>\n",
       "    <tr>\n",
       "      <th>sector</th>\n",
       "      <td>334056</td>\n",
       "      <td>20</td>\n",
       "      <td>Retail_trade</td>\n",
       "      <td>56448</td>\n",
       "    </tr>\n",
       "    <tr>\n",
       "      <th>isFranchise</th>\n",
       "      <td>334056</td>\n",
       "      <td>2</td>\n",
       "      <td>No Franchise</td>\n",
       "      <td>324495</td>\n",
       "    </tr>\n",
       "  </tbody>\n",
       "</table>\n",
       "</div>"
      ],
      "text/plain": [
       "              count unique           top    freq\n",
       "RevLineCr    334056      2             Y  188879\n",
       "LowDoc       334056      2             N  332780\n",
       "MIS_Status   334056      2         P I F  241600\n",
       "sector       334056     20  Retail_trade   56448\n",
       "isFranchise  334056      2  No Franchise  324495"
      ]
     },
     "execution_count": 6,
     "metadata": {},
     "output_type": "execute_result"
    }
   ],
   "source": [
    "df.describe(include='O').T"
   ]
  },
  {
   "cell_type": "code",
   "execution_count": 7,
   "metadata": {},
   "outputs": [
    {
     "data": {
      "text/html": [
       "<div>\n",
       "<style scoped>\n",
       "    .dataframe tbody tr th:only-of-type {\n",
       "        vertical-align: middle;\n",
       "    }\n",
       "\n",
       "    .dataframe tbody tr th {\n",
       "        vertical-align: top;\n",
       "    }\n",
       "\n",
       "    .dataframe thead th {\n",
       "        text-align: right;\n",
       "    }\n",
       "</style>\n",
       "<table border=\"1\" class=\"dataframe\">\n",
       "  <thead>\n",
       "    <tr style=\"text-align: right;\">\n",
       "      <th></th>\n",
       "      <th>feature_name</th>\n",
       "      <th>type</th>\n",
       "      <th>Null</th>\n",
       "      <th>Percentage Null</th>\n",
       "      <th>No Unique</th>\n",
       "      <th>Example Unique</th>\n",
       "    </tr>\n",
       "  </thead>\n",
       "  <tbody>\n",
       "    <tr>\n",
       "      <th>0</th>\n",
       "      <td>ApprovalFY</td>\n",
       "      <td>int64</td>\n",
       "      <td>0</td>\n",
       "      <td>0.0</td>\n",
       "      <td>21</td>\n",
       "      <td>[2001, 2002]</td>\n",
       "    </tr>\n",
       "    <tr>\n",
       "      <th>1</th>\n",
       "      <td>Term</td>\n",
       "      <td>int64</td>\n",
       "      <td>0</td>\n",
       "      <td>0.0</td>\n",
       "      <td>327</td>\n",
       "      <td>[80, 21]</td>\n",
       "    </tr>\n",
       "    <tr>\n",
       "      <th>2</th>\n",
       "      <td>NoEmp</td>\n",
       "      <td>int64</td>\n",
       "      <td>0</td>\n",
       "      <td>0.0</td>\n",
       "      <td>289</td>\n",
       "      <td>[34, 260]</td>\n",
       "    </tr>\n",
       "    <tr>\n",
       "      <th>3</th>\n",
       "      <td>NewExist</td>\n",
       "      <td>float64</td>\n",
       "      <td>0</td>\n",
       "      <td>0.0</td>\n",
       "      <td>2</td>\n",
       "      <td>[2.0, 1.0]</td>\n",
       "    </tr>\n",
       "    <tr>\n",
       "      <th>4</th>\n",
       "      <td>CreateJob</td>\n",
       "      <td>int64</td>\n",
       "      <td>0</td>\n",
       "      <td>0.0</td>\n",
       "      <td>156</td>\n",
       "      <td>[77, 153]</td>\n",
       "    </tr>\n",
       "    <tr>\n",
       "      <th>5</th>\n",
       "      <td>RetainedJob</td>\n",
       "      <td>int64</td>\n",
       "      <td>0</td>\n",
       "      <td>0.0</td>\n",
       "      <td>247</td>\n",
       "      <td>[66, 498]</td>\n",
       "    </tr>\n",
       "    <tr>\n",
       "      <th>6</th>\n",
       "      <td>UrbanRural</td>\n",
       "      <td>int64</td>\n",
       "      <td>0</td>\n",
       "      <td>0.0</td>\n",
       "      <td>2</td>\n",
       "      <td>[2, 1]</td>\n",
       "    </tr>\n",
       "    <tr>\n",
       "      <th>7</th>\n",
       "      <td>RevLineCr</td>\n",
       "      <td>object</td>\n",
       "      <td>0</td>\n",
       "      <td>0.0</td>\n",
       "      <td>2</td>\n",
       "      <td>[N, Y]</td>\n",
       "    </tr>\n",
       "    <tr>\n",
       "      <th>8</th>\n",
       "      <td>LowDoc</td>\n",
       "      <td>object</td>\n",
       "      <td>0</td>\n",
       "      <td>0.0</td>\n",
       "      <td>2</td>\n",
       "      <td>[Y, N]</td>\n",
       "    </tr>\n",
       "    <tr>\n",
       "      <th>9</th>\n",
       "      <td>DisbursementGross</td>\n",
       "      <td>float64</td>\n",
       "      <td>0</td>\n",
       "      <td>0.0</td>\n",
       "      <td>95880</td>\n",
       "      <td>[134406.0, 19627.0]</td>\n",
       "    </tr>\n",
       "    <tr>\n",
       "      <th>10</th>\n",
       "      <td>MIS_Status</td>\n",
       "      <td>object</td>\n",
       "      <td>0</td>\n",
       "      <td>0.0</td>\n",
       "      <td>2</td>\n",
       "      <td>[CHGOFF, P I F]</td>\n",
       "    </tr>\n",
       "    <tr>\n",
       "      <th>11</th>\n",
       "      <td>GrAppv</td>\n",
       "      <td>float64</td>\n",
       "      <td>0</td>\n",
       "      <td>0.0</td>\n",
       "      <td>8841</td>\n",
       "      <td>[497300.0, 1637500.0]</td>\n",
       "    </tr>\n",
       "    <tr>\n",
       "      <th>12</th>\n",
       "      <td>sector</td>\n",
       "      <td>object</td>\n",
       "      <td>0</td>\n",
       "      <td>0.0</td>\n",
       "      <td>20</td>\n",
       "      <td>[Manufacturing, Trans_Ware]</td>\n",
       "    </tr>\n",
       "    <tr>\n",
       "      <th>13</th>\n",
       "      <td>isFranchise</td>\n",
       "      <td>object</td>\n",
       "      <td>0</td>\n",
       "      <td>0.0</td>\n",
       "      <td>2</td>\n",
       "      <td>[No Franchise, Franchise]</td>\n",
       "    </tr>\n",
       "    <tr>\n",
       "      <th>14</th>\n",
       "      <td>sameState</td>\n",
       "      <td>int64</td>\n",
       "      <td>0</td>\n",
       "      <td>0.0</td>\n",
       "      <td>2</td>\n",
       "      <td>[1, 0]</td>\n",
       "    </tr>\n",
       "    <tr>\n",
       "      <th>15</th>\n",
       "      <td>backRealEstate</td>\n",
       "      <td>int64</td>\n",
       "      <td>0</td>\n",
       "      <td>0.0</td>\n",
       "      <td>2</td>\n",
       "      <td>[1, 0]</td>\n",
       "    </tr>\n",
       "    <tr>\n",
       "      <th>16</th>\n",
       "      <td>Portion</td>\n",
       "      <td>float64</td>\n",
       "      <td>0</td>\n",
       "      <td>0.0</td>\n",
       "      <td>2149</td>\n",
       "      <td>[0.8499954233409611, 0.7499992451121008]</td>\n",
       "    </tr>\n",
       "  </tbody>\n",
       "</table>\n",
       "</div>"
      ],
      "text/plain": [
       "         feature_name     type  Null  Percentage Null  No Unique  \\\n",
       "0          ApprovalFY    int64     0              0.0         21   \n",
       "1                Term    int64     0              0.0        327   \n",
       "2               NoEmp    int64     0              0.0        289   \n",
       "3            NewExist  float64     0              0.0          2   \n",
       "4           CreateJob    int64     0              0.0        156   \n",
       "5         RetainedJob    int64     0              0.0        247   \n",
       "6          UrbanRural    int64     0              0.0          2   \n",
       "7           RevLineCr   object     0              0.0          2   \n",
       "8              LowDoc   object     0              0.0          2   \n",
       "9   DisbursementGross  float64     0              0.0      95880   \n",
       "10         MIS_Status   object     0              0.0          2   \n",
       "11             GrAppv  float64     0              0.0       8841   \n",
       "12             sector   object     0              0.0         20   \n",
       "13        isFranchise   object     0              0.0          2   \n",
       "14          sameState    int64     0              0.0          2   \n",
       "15     backRealEstate    int64     0              0.0          2   \n",
       "16            Portion  float64     0              0.0       2149   \n",
       "\n",
       "                              Example Unique  \n",
       "0                               [2001, 2002]  \n",
       "1                                   [80, 21]  \n",
       "2                                  [34, 260]  \n",
       "3                                 [2.0, 1.0]  \n",
       "4                                  [77, 153]  \n",
       "5                                  [66, 498]  \n",
       "6                                     [2, 1]  \n",
       "7                                     [N, Y]  \n",
       "8                                     [Y, N]  \n",
       "9                        [134406.0, 19627.0]  \n",
       "10                           [CHGOFF, P I F]  \n",
       "11                     [497300.0, 1637500.0]  \n",
       "12               [Manufacturing, Trans_Ware]  \n",
       "13                 [No Franchise, Franchise]  \n",
       "14                                    [1, 0]  \n",
       "15                                    [1, 0]  \n",
       "16  [0.8499954233409611, 0.7499992451121008]  "
      ]
     },
     "execution_count": 7,
     "metadata": {},
     "output_type": "execute_result"
    }
   ],
   "source": [
    "SBA_LoanDESC = []\n",
    "\n",
    "for i in df.columns:\n",
    "    SBA_LoanDESC.append([\n",
    "    i,\n",
    "    df[i].dtypes,\n",
    "    df[i].isna().sum(),\n",
    "    (((df[i].isna().sum())/len(df))*100).round(2),\n",
    "    df[i].nunique(),\n",
    "    df[i].drop_duplicates().sample(2).values\n",
    "    ])\n",
    "\n",
    "pd.DataFrame(data=SBA_LoanDESC, columns=['feature_name', 'type', 'Null', 'Percentage Null', 'No Unique', 'Example Unique'])"
   ]
  },
  {
   "cell_type": "markdown",
   "metadata": {},
   "source": [
    "### Data Analyst and Visualization"
   ]
  },
  {
   "cell_type": "markdown",
   "metadata": {},
   "source": [
    "### `MIS_Status`"
   ]
  },
  {
   "cell_type": "code",
   "execution_count": 8,
   "metadata": {},
   "outputs": [
    {
     "data": {
      "text/html": [
       "<div>\n",
       "<style scoped>\n",
       "    .dataframe tbody tr th:only-of-type {\n",
       "        vertical-align: middle;\n",
       "    }\n",
       "\n",
       "    .dataframe tbody tr th {\n",
       "        vertical-align: top;\n",
       "    }\n",
       "\n",
       "    .dataframe thead th {\n",
       "        text-align: right;\n",
       "    }\n",
       "</style>\n",
       "<table border=\"1\" class=\"dataframe\">\n",
       "  <thead>\n",
       "    <tr style=\"text-align: right;\">\n",
       "      <th></th>\n",
       "      <th>MIS_Status</th>\n",
       "      <th>count</th>\n",
       "      <th>percent</th>\n",
       "      <th>cumulative_count</th>\n",
       "      <th>cumulative_percent</th>\n",
       "    </tr>\n",
       "  </thead>\n",
       "  <tbody>\n",
       "    <tr>\n",
       "      <th>0</th>\n",
       "      <td>P I F</td>\n",
       "      <td>241600</td>\n",
       "      <td>72.323203</td>\n",
       "      <td>241600</td>\n",
       "      <td>72.323203</td>\n",
       "    </tr>\n",
       "    <tr>\n",
       "      <th>1</th>\n",
       "      <td>CHGOFF</td>\n",
       "      <td>92456</td>\n",
       "      <td>27.676797</td>\n",
       "      <td>334056</td>\n",
       "      <td>100.000000</td>\n",
       "    </tr>\n",
       "  </tbody>\n",
       "</table>\n",
       "</div>"
      ],
      "text/plain": [
       "  MIS_Status   count    percent  cumulative_count  cumulative_percent\n",
       "0      P I F  241600  72.323203            241600           72.323203\n",
       "1     CHGOFF   92456  27.676797            334056          100.000000"
      ]
     },
     "execution_count": 8,
     "metadata": {},
     "output_type": "execute_result"
    }
   ],
   "source": [
    "# This code aim to show the frequency of MIS_Status\n",
    "df.stb.freq(['MIS_Status'])"
   ]
  },
  {
   "cell_type": "code",
   "execution_count": 9,
   "metadata": {},
   "outputs": [
    {
     "data": {
      "image/png": "[encoded data removed]",
      "text/plain": [
       "<Figure size 432x288 with 1 Axes>"
      ]
     },
     "metadata": {},
     "output_type": "display_data"
    }
   ],
   "source": [
    "#Here are visualization of MIS_Status using pie chart\n",
    "percentage = [72.32, 27.67]\n",
    "label = ['PIF', 'CHGOFF']\n",
    "\n",
    "plt.pie( percentage, labels=label,\n",
    "        colors=[ 'green', 'yellow'],\n",
    "        startangle=0,\n",
    "        textprops ={\n",
    "            'size': 13,\n",
    "            'color':'black'\n",
    "        },\n",
    "        autopct='%1.2f%%',\n",
    "        radius=1,\n",
    "        explode=(.05, .04)\n",
    ")\n",
    "plt.title('Percentage of MIS_Status')\n",
    "# plt.savefig('MIS_Status.png')\n",
    "plt.show()"
   ]
  },
  {
   "cell_type": "markdown",
   "metadata": {},
   "source": [
    "- Percentage of borrower who pain in full (PIF) around 72.33% while borrower who charge off around 27.67%"
   ]
  },
  {
   "cell_type": "markdown",
   "metadata": {},
   "source": [
    "### `Term`"
   ]
  },
  {
   "cell_type": "code",
   "execution_count": 8,
   "metadata": {},
   "outputs": [
    {
     "data": {
      "text/html": [
       "<div>\n",
       "<style scoped>\n",
       "    .dataframe tbody tr th:only-of-type {\n",
       "        vertical-align: middle;\n",
       "    }\n",
       "\n",
       "    .dataframe tbody tr th {\n",
       "        vertical-align: top;\n",
       "    }\n",
       "\n",
       "    .dataframe thead th {\n",
       "        text-align: right;\n",
       "    }\n",
       "</style>\n",
       "<table border=\"1\" class=\"dataframe\">\n",
       "  <thead>\n",
       "    <tr style=\"text-align: right;\">\n",
       "      <th></th>\n",
       "      <th>backRealEstate</th>\n",
       "      <th>count</th>\n",
       "      <th>percent</th>\n",
       "      <th>cumulative_count</th>\n",
       "      <th>cumulative_percent</th>\n",
       "    </tr>\n",
       "  </thead>\n",
       "  <tbody>\n",
       "    <tr>\n",
       "      <th>0</th>\n",
       "      <td>0</td>\n",
       "      <td>322558</td>\n",
       "      <td>96.558062</td>\n",
       "      <td>322558</td>\n",
       "      <td>96.558062</td>\n",
       "    </tr>\n",
       "    <tr>\n",
       "      <th>1</th>\n",
       "      <td>1</td>\n",
       "      <td>11498</td>\n",
       "      <td>3.441938</td>\n",
       "      <td>334056</td>\n",
       "      <td>100.000000</td>\n",
       "    </tr>\n",
       "  </tbody>\n",
       "</table>\n",
       "</div>"
      ],
      "text/plain": [
       "   backRealEstate   count    percent  cumulative_count  cumulative_percent\n",
       "0               0  322558  96.558062            322558           96.558062\n",
       "1               1   11498   3.441938            334056          100.000000"
      ]
     },
     "execution_count": 8,
     "metadata": {},
     "output_type": "execute_result"
    }
   ],
   "source": [
    "#sidetable\n",
    "df.stb.freq(['backRealEstate'])"
   ]
  },
  {
   "cell_type": "code",
   "execution_count": 9,
   "metadata": {},
   "outputs": [
    {
     "data": {
      "image/png": "[encoded data removed]",
      "text/plain": [
       "<Figure size 504x360 with 1 Axes>"
      ]
     },
     "metadata": {
      "needs_background": "light"
     },
     "output_type": "display_data"
    }
   ],
   "source": [
    "plt.figure(figsize=(7,5))\n",
    "sns.countplot(x = df['backRealEstate'], hue=df['MIS_Status'])\n",
    "# plt.savefig('Term.png')\n",
    "plt.show()"
   ]
  },
  {
   "cell_type": "code",
   "execution_count": 12,
   "metadata": {},
   "outputs": [
    {
     "data": {
      "text/html": [
       "<div>\n",
       "<style scoped>\n",
       "    .dataframe tbody tr th:only-of-type {\n",
       "        vertical-align: middle;\n",
       "    }\n",
       "\n",
       "    .dataframe tbody tr th {\n",
       "        vertical-align: top;\n",
       "    }\n",
       "\n",
       "    .dataframe thead th {\n",
       "        text-align: right;\n",
       "    }\n",
       "</style>\n",
       "<table border=\"1\" class=\"dataframe\">\n",
       "  <thead>\n",
       "    <tr style=\"text-align: right;\">\n",
       "      <th>MIS_Status</th>\n",
       "      <th>CHGOFF</th>\n",
       "      <th>P I F</th>\n",
       "    </tr>\n",
       "    <tr>\n",
       "      <th>backRealEstate</th>\n",
       "      <th></th>\n",
       "      <th></th>\n",
       "    </tr>\n",
       "  </thead>\n",
       "  <tbody>\n",
       "    <tr>\n",
       "      <th>0</th>\n",
       "      <td>28.51</td>\n",
       "      <td>71.49</td>\n",
       "    </tr>\n",
       "    <tr>\n",
       "      <th>1</th>\n",
       "      <td>4.41</td>\n",
       "      <td>95.59</td>\n",
       "    </tr>\n",
       "  </tbody>\n",
       "</table>\n",
       "</div>"
      ],
      "text/plain": [
       "MIS_Status      CHGOFF  P I F\n",
       "backRealEstate               \n",
       "0                28.51  71.49\n",
       "1                 4.41  95.59"
      ]
     },
     "execution_count": 12,
     "metadata": {},
     "output_type": "execute_result"
    }
   ],
   "source": [
    "((pd.crosstab(index=df['backRealEstate'], columns=df['MIS_Status'], normalize='index'))*100).round(2)"
   ]
  },
  {
   "cell_type": "code",
   "execution_count": 17,
   "metadata": {},
   "outputs": [
    {
     "data": {
      "image/png": "[encoded data removed]",
      "text/plain": [
       "<Figure size 1080x576 with 1 Axes>"
      ]
     },
     "metadata": {
      "needs_background": "light"
     },
     "output_type": "display_data"
    }
   ],
   "source": [
    "## Visualization\n",
    "plt.figure(figsize=(15,8))\n",
    "sns.countplot(y=df['sector'], hue=df['backRealEstate'])\n",
    "plt.title('Numbers of Sector that Backed by Real Estate')\n",
    "plt.xlabel('Count')\n",
    "plt.ylabel('Sector')\n",
    "plt.legend(['NoRealEstate','RealEstate'], loc='right')\n",
    "plt.show()"
   ]
  },
  {
   "cell_type": "markdown",
   "metadata": {},
   "source": [
    "- Loan backed up by real estate has lower CHGOFF (4.41%) rather than not backed up by real estate (28.51%)"
   ]
  },
  {
   "cell_type": "markdown",
   "metadata": {},
   "source": [
    "### `NoEmp`"
   ]
  },
  {
   "cell_type": "code",
   "execution_count": 18,
   "metadata": {},
   "outputs": [
    {
     "data": {
      "image/png": "[encoded data removed]",
      "text/plain": [
       "<Figure size 576x360 with 1 Axes>"
      ]
     },
     "metadata": {
      "needs_background": "light"
     },
     "output_type": "display_data"
    }
   ],
   "source": [
    "plt.figure(figsize=(8,5))\n",
    "sns.distplot(df['NoEmp'])\n",
    "plt.show()"
   ]
  },
  {
   "cell_type": "code",
   "execution_count": 20,
   "metadata": {},
   "outputs": [
    {
     "data": {
      "text/plain": [
       "NewExist\n",
       "1.0    4\n",
       "2.0    2\n",
       "Name: NoEmp, dtype: int64"
      ]
     },
     "execution_count": 20,
     "metadata": {},
     "output_type": "execute_result"
    }
   ],
   "source": [
    "df['NoEmp'].groupby(df['NewExist']).median()"
   ]
  },
  {
   "cell_type": "markdown",
   "metadata": {},
   "source": [
    "- Median number of employees of Existing Business was greater than NewBusiness. "
   ]
  },
  {
   "cell_type": "markdown",
   "metadata": {},
   "source": [
    "### `NewExist`"
   ]
  },
  {
   "cell_type": "code",
   "execution_count": 21,
   "metadata": {},
   "outputs": [
    {
     "data": {
      "text/html": [
       "<div>\n",
       "<style scoped>\n",
       "    .dataframe tbody tr th:only-of-type {\n",
       "        vertical-align: middle;\n",
       "    }\n",
       "\n",
       "    .dataframe tbody tr th {\n",
       "        vertical-align: top;\n",
       "    }\n",
       "\n",
       "    .dataframe thead th {\n",
       "        text-align: right;\n",
       "    }\n",
       "</style>\n",
       "<table border=\"1\" class=\"dataframe\">\n",
       "  <thead>\n",
       "    <tr style=\"text-align: right;\">\n",
       "      <th></th>\n",
       "      <th>NewExist</th>\n",
       "      <th>count</th>\n",
       "      <th>percent</th>\n",
       "      <th>cumulative_count</th>\n",
       "      <th>cumulative_percent</th>\n",
       "    </tr>\n",
       "  </thead>\n",
       "  <tbody>\n",
       "    <tr>\n",
       "      <th>0</th>\n",
       "      <td>1.0</td>\n",
       "      <td>243144</td>\n",
       "      <td>72.785401</td>\n",
       "      <td>243144</td>\n",
       "      <td>72.785401</td>\n",
       "    </tr>\n",
       "    <tr>\n",
       "      <th>1</th>\n",
       "      <td>2.0</td>\n",
       "      <td>90912</td>\n",
       "      <td>27.214599</td>\n",
       "      <td>334056</td>\n",
       "      <td>100.000000</td>\n",
       "    </tr>\n",
       "  </tbody>\n",
       "</table>\n",
       "</div>"
      ],
      "text/plain": [
       "   NewExist   count    percent  cumulative_count  cumulative_percent\n",
       "0       1.0  243144  72.785401            243144           72.785401\n",
       "1       2.0   90912  27.214599            334056          100.000000"
      ]
     },
     "execution_count": 21,
     "metadata": {},
     "output_type": "execute_result"
    }
   ],
   "source": [
    "df.stb.freq(['NewExist'])"
   ]
  },
  {
   "cell_type": "code",
   "execution_count": 22,
   "metadata": {},
   "outputs": [
    {
     "data": {
      "image/png": "[encoded data removed]",
      "text/plain": [
       "<Figure size 432x360 with 1 Axes>"
      ]
     },
     "metadata": {
      "needs_background": "light"
     },
     "output_type": "display_data"
    }
   ],
   "source": [
    "plt.figure(figsize=(6,5))\n",
    "sns.countplot(df['NewExist'], hue=df['MIS_Status'])\n",
    "plt.show()"
   ]
  },
  {
   "cell_type": "code",
   "execution_count": 23,
   "metadata": {},
   "outputs": [
    {
     "data": {
      "text/html": [
       "<div>\n",
       "<style scoped>\n",
       "    .dataframe tbody tr th:only-of-type {\n",
       "        vertical-align: middle;\n",
       "    }\n",
       "\n",
       "    .dataframe tbody tr th {\n",
       "        vertical-align: top;\n",
       "    }\n",
       "\n",
       "    .dataframe thead th {\n",
       "        text-align: right;\n",
       "    }\n",
       "</style>\n",
       "<table border=\"1\" class=\"dataframe\">\n",
       "  <thead>\n",
       "    <tr style=\"text-align: right;\">\n",
       "      <th>MIS_Status</th>\n",
       "      <th>CHGOFF</th>\n",
       "      <th>P I F</th>\n",
       "    </tr>\n",
       "    <tr>\n",
       "      <th>NewExist</th>\n",
       "      <th></th>\n",
       "      <th></th>\n",
       "    </tr>\n",
       "  </thead>\n",
       "  <tbody>\n",
       "    <tr>\n",
       "      <th>1.0</th>\n",
       "      <td>27.99</td>\n",
       "      <td>72.01</td>\n",
       "    </tr>\n",
       "    <tr>\n",
       "      <th>2.0</th>\n",
       "      <td>26.83</td>\n",
       "      <td>73.17</td>\n",
       "    </tr>\n",
       "    <tr>\n",
       "      <th>All</th>\n",
       "      <td>27.68</td>\n",
       "      <td>72.32</td>\n",
       "    </tr>\n",
       "  </tbody>\n",
       "</table>\n",
       "</div>"
      ],
      "text/plain": [
       "MIS_Status  CHGOFF  P I F\n",
       "NewExist                 \n",
       "1.0          27.99  72.01\n",
       "2.0          26.83  73.17\n",
       "All          27.68  72.32"
      ]
     },
     "execution_count": 23,
     "metadata": {},
     "output_type": "execute_result"
    }
   ],
   "source": [
    "((pd.crosstab(index=df['NewExist'], columns=df['MIS_Status'], normalize='index', margins=True))*100).round(2)"
   ]
  },
  {
   "cell_type": "code",
   "execution_count": 24,
   "metadata": {},
   "outputs": [
    {
     "data": {
      "image/png": "[encoded data removed]",
      "text/plain": [
       "<Figure size 1080x360 with 1 Axes>"
      ]
     },
     "metadata": {
      "needs_background": "light"
     },
     "output_type": "display_data"
    }
   ],
   "source": [
    "# Visualization of Count Existing Business and New Business for Every Year\n",
    "plt.figure(figsize=(15,5))\n",
    "sns.countplot(x=df['ApprovalFY'], hue=df['NewExist'])\n",
    "plt.title('Count of Existing and New Business for Every Year')\n",
    "plt.xlabel('Year')\n",
    "plt.ylabel('Count of Business')\n",
    "plt.legend(['Existing Business','New Business'], loc='best')\n",
    "plt.show()"
   ]
  },
  {
   "cell_type": "markdown",
   "metadata": {},
   "source": [
    "- Whether the business was Existing Business or New Bussiness, both of them has same risk of CHGOFF"
   ]
  },
  {
   "cell_type": "markdown",
   "metadata": {},
   "source": [
    "### `UrbanRural`"
   ]
  },
  {
   "cell_type": "code",
   "execution_count": 26,
   "metadata": {},
   "outputs": [
    {
     "data": {
      "text/html": [
       "<div>\n",
       "<style scoped>\n",
       "    .dataframe tbody tr th:only-of-type {\n",
       "        vertical-align: middle;\n",
       "    }\n",
       "\n",
       "    .dataframe tbody tr th {\n",
       "        vertical-align: top;\n",
       "    }\n",
       "\n",
       "    .dataframe thead th {\n",
       "        text-align: right;\n",
       "    }\n",
       "</style>\n",
       "<table border=\"1\" class=\"dataframe\">\n",
       "  <thead>\n",
       "    <tr style=\"text-align: right;\">\n",
       "      <th></th>\n",
       "      <th>UrbanRural</th>\n",
       "      <th>count</th>\n",
       "      <th>percent</th>\n",
       "      <th>cumulative_count</th>\n",
       "      <th>cumulative_percent</th>\n",
       "    </tr>\n",
       "  </thead>\n",
       "  <tbody>\n",
       "    <tr>\n",
       "      <th>0</th>\n",
       "      <td>1</td>\n",
       "      <td>275277</td>\n",
       "      <td>82.404447</td>\n",
       "      <td>275277</td>\n",
       "      <td>82.404447</td>\n",
       "    </tr>\n",
       "    <tr>\n",
       "      <th>1</th>\n",
       "      <td>2</td>\n",
       "      <td>58779</td>\n",
       "      <td>17.595553</td>\n",
       "      <td>334056</td>\n",
       "      <td>100.000000</td>\n",
       "    </tr>\n",
       "  </tbody>\n",
       "</table>\n",
       "</div>"
      ],
      "text/plain": [
       "   UrbanRural   count    percent  cumulative_count  cumulative_percent\n",
       "0           1  275277  82.404447            275277           82.404447\n",
       "1           2   58779  17.595553            334056          100.000000"
      ]
     },
     "execution_count": 26,
     "metadata": {},
     "output_type": "execute_result"
    }
   ],
   "source": [
    "#sidetable\n",
    "df.stb.freq(['UrbanRural'])\n",
    "#This code aims to find out the percentage of UrbanRural\n",
    "#It appears that Urban have a higher percentage around 80.48% "
   ]
  },
  {
   "cell_type": "code",
   "execution_count": 27,
   "metadata": {},
   "outputs": [
    {
     "data": {
      "text/html": [
       "<div>\n",
       "<style scoped>\n",
       "    .dataframe tbody tr th:only-of-type {\n",
       "        vertical-align: middle;\n",
       "    }\n",
       "\n",
       "    .dataframe tbody tr th {\n",
       "        vertical-align: top;\n",
       "    }\n",
       "\n",
       "    .dataframe thead th {\n",
       "        text-align: right;\n",
       "    }\n",
       "</style>\n",
       "<table border=\"1\" class=\"dataframe\">\n",
       "  <thead>\n",
       "    <tr style=\"text-align: right;\">\n",
       "      <th>UrbanRural</th>\n",
       "      <th>1</th>\n",
       "      <th>2</th>\n",
       "    </tr>\n",
       "    <tr>\n",
       "      <th>MIS_Status</th>\n",
       "      <th></th>\n",
       "      <th></th>\n",
       "    </tr>\n",
       "  </thead>\n",
       "  <tbody>\n",
       "    <tr>\n",
       "      <th>CHGOFF</th>\n",
       "      <td>86.24</td>\n",
       "      <td>13.76</td>\n",
       "    </tr>\n",
       "    <tr>\n",
       "      <th>P I F</th>\n",
       "      <td>80.94</td>\n",
       "      <td>19.06</td>\n",
       "    </tr>\n",
       "    <tr>\n",
       "      <th>All</th>\n",
       "      <td>82.40</td>\n",
       "      <td>17.60</td>\n",
       "    </tr>\n",
       "  </tbody>\n",
       "</table>\n",
       "</div>"
      ],
      "text/plain": [
       "UrbanRural      1      2\n",
       "MIS_Status              \n",
       "CHGOFF      86.24  13.76\n",
       "P I F       80.94  19.06\n",
       "All         82.40  17.60"
      ]
     },
     "execution_count": 27,
     "metadata": {},
     "output_type": "execute_result"
    }
   ],
   "source": [
    "((pd.crosstab(index=df['MIS_Status'], columns=df['UrbanRural'], normalize='index', margins=True))*100).round(2)\n",
    "\n",
    "## This code aim to know ==> most of the defaults loan come from what area ? "
   ]
  },
  {
   "cell_type": "code",
   "execution_count": 28,
   "metadata": {},
   "outputs": [
    {
     "data": {
      "image/png": "[encoded data removed]",
      "text/plain": [
       "<Figure size 432x360 with 1 Axes>"
      ]
     },
     "metadata": {
      "needs_background": "light"
     },
     "output_type": "display_data"
    }
   ],
   "source": [
    "# Visualization \n",
    "plt.figure(figsize=(6,5))\n",
    "sns.countplot(df['UrbanRural'], hue=df['MIS_Status'], palette='rainbow')\n",
    "plt.show()"
   ]
  },
  {
   "cell_type": "markdown",
   "metadata": {},
   "source": [
    "- Most of CHGOFF come from Urban with percentage 86.24%"
   ]
  },
  {
   "cell_type": "markdown",
   "metadata": {},
   "source": [
    "### `RevLineCr`"
   ]
  },
  {
   "cell_type": "code",
   "execution_count": 30,
   "metadata": {},
   "outputs": [
    {
     "data": {
      "text/html": [
       "<div>\n",
       "<style scoped>\n",
       "    .dataframe tbody tr th:only-of-type {\n",
       "        vertical-align: middle;\n",
       "    }\n",
       "\n",
       "    .dataframe tbody tr th {\n",
       "        vertical-align: top;\n",
       "    }\n",
       "\n",
       "    .dataframe thead th {\n",
       "        text-align: right;\n",
       "    }\n",
       "</style>\n",
       "<table border=\"1\" class=\"dataframe\">\n",
       "  <thead>\n",
       "    <tr style=\"text-align: right;\">\n",
       "      <th></th>\n",
       "      <th>RevLineCr</th>\n",
       "      <th>count</th>\n",
       "      <th>percent</th>\n",
       "      <th>cumulative_count</th>\n",
       "      <th>cumulative_percent</th>\n",
       "    </tr>\n",
       "  </thead>\n",
       "  <tbody>\n",
       "    <tr>\n",
       "      <th>0</th>\n",
       "      <td>Y</td>\n",
       "      <td>188879</td>\n",
       "      <td>56.541119</td>\n",
       "      <td>188879</td>\n",
       "      <td>56.541119</td>\n",
       "    </tr>\n",
       "    <tr>\n",
       "      <th>1</th>\n",
       "      <td>N</td>\n",
       "      <td>145177</td>\n",
       "      <td>43.458881</td>\n",
       "      <td>334056</td>\n",
       "      <td>100.000000</td>\n",
       "    </tr>\n",
       "  </tbody>\n",
       "</table>\n",
       "</div>"
      ],
      "text/plain": [
       "  RevLineCr   count    percent  cumulative_count  cumulative_percent\n",
       "0         Y  188879  56.541119            188879           56.541119\n",
       "1         N  145177  43.458881            334056          100.000000"
      ]
     },
     "execution_count": 30,
     "metadata": {},
     "output_type": "execute_result"
    }
   ],
   "source": [
    "#sidetable\n",
    "df.stb.freq(['RevLineCr'])\n",
    "#This code aims to find out the percentage of RevLineCr\n",
    "#It appears that mostly small business revolving line of credit with percentage around 56.54%"
   ]
  },
  {
   "cell_type": "code",
   "execution_count": 31,
   "metadata": {},
   "outputs": [
    {
     "data": {
      "text/html": [
       "<div>\n",
       "<style scoped>\n",
       "    .dataframe tbody tr th:only-of-type {\n",
       "        vertical-align: middle;\n",
       "    }\n",
       "\n",
       "    .dataframe tbody tr th {\n",
       "        vertical-align: top;\n",
       "    }\n",
       "\n",
       "    .dataframe thead th {\n",
       "        text-align: right;\n",
       "    }\n",
       "</style>\n",
       "<table border=\"1\" class=\"dataframe\">\n",
       "  <thead>\n",
       "    <tr style=\"text-align: right;\">\n",
       "      <th>RevLineCr</th>\n",
       "      <th>N</th>\n",
       "      <th>Y</th>\n",
       "      <th>All</th>\n",
       "    </tr>\n",
       "    <tr>\n",
       "      <th>MIS_Status</th>\n",
       "      <th></th>\n",
       "      <th></th>\n",
       "      <th></th>\n",
       "    </tr>\n",
       "  </thead>\n",
       "  <tbody>\n",
       "    <tr>\n",
       "      <th>CHGOFF</th>\n",
       "      <td>29.52</td>\n",
       "      <td>26.26</td>\n",
       "      <td>27.68</td>\n",
       "    </tr>\n",
       "    <tr>\n",
       "      <th>P I F</th>\n",
       "      <td>70.48</td>\n",
       "      <td>73.74</td>\n",
       "      <td>72.32</td>\n",
       "    </tr>\n",
       "  </tbody>\n",
       "</table>\n",
       "</div>"
      ],
      "text/plain": [
       "RevLineCr       N      Y    All\n",
       "MIS_Status                     \n",
       "CHGOFF      29.52  26.26  27.68\n",
       "P I F       70.48  73.74  72.32"
      ]
     },
     "execution_count": 31,
     "metadata": {},
     "output_type": "execute_result"
    }
   ],
   "source": [
    "((pd.crosstab(index=df['MIS_Status'], columns=df['RevLineCr'], normalize='columns', margins=True))*100).round(2)\n",
    "\n",
    "## This code aim to know ==> is small business with revolving line credit (Y) has higher risk of default?"
   ]
  },
  {
   "cell_type": "code",
   "execution_count": 32,
   "metadata": {},
   "outputs": [
    {
     "data": {
      "image/png": "[encoded data removed]",
      "text/plain": [
       "<Figure size 432x360 with 1 Axes>"
      ]
     },
     "metadata": {
      "needs_background": "light"
     },
     "output_type": "display_data"
    }
   ],
   "source": [
    "# Visualization \n",
    "plt.figure(figsize=(6,5))\n",
    "sns.countplot(df['RevLineCr'], hue=df['MIS_Status'], palette='rainbow')\n",
    "plt.show()"
   ]
  },
  {
   "cell_type": "markdown",
   "metadata": {},
   "source": [
    "- Small busines with revolving line of credit has lower risk of default loan with percentage 26.26%"
   ]
  },
  {
   "cell_type": "markdown",
   "metadata": {},
   "source": [
    "### `LowDoc`"
   ]
  },
  {
   "cell_type": "code",
   "execution_count": 33,
   "metadata": {},
   "outputs": [
    {
     "data": {
      "text/html": [
       "<div>\n",
       "<style scoped>\n",
       "    .dataframe tbody tr th:only-of-type {\n",
       "        vertical-align: middle;\n",
       "    }\n",
       "\n",
       "    .dataframe tbody tr th {\n",
       "        vertical-align: top;\n",
       "    }\n",
       "\n",
       "    .dataframe thead th {\n",
       "        text-align: right;\n",
       "    }\n",
       "</style>\n",
       "<table border=\"1\" class=\"dataframe\">\n",
       "  <thead>\n",
       "    <tr style=\"text-align: right;\">\n",
       "      <th></th>\n",
       "      <th>LowDoc</th>\n",
       "      <th>count</th>\n",
       "      <th>percent</th>\n",
       "      <th>cumulative_count</th>\n",
       "      <th>cumulative_percent</th>\n",
       "    </tr>\n",
       "  </thead>\n",
       "  <tbody>\n",
       "    <tr>\n",
       "      <th>0</th>\n",
       "      <td>N</td>\n",
       "      <td>332780</td>\n",
       "      <td>99.618028</td>\n",
       "      <td>332780</td>\n",
       "      <td>99.618028</td>\n",
       "    </tr>\n",
       "    <tr>\n",
       "      <th>1</th>\n",
       "      <td>Y</td>\n",
       "      <td>1276</td>\n",
       "      <td>0.381972</td>\n",
       "      <td>334056</td>\n",
       "      <td>100.000000</td>\n",
       "    </tr>\n",
       "  </tbody>\n",
       "</table>\n",
       "</div>"
      ],
      "text/plain": [
       "  LowDoc   count    percent  cumulative_count  cumulative_percent\n",
       "0      N  332780  99.618028            332780           99.618028\n",
       "1      Y    1276   0.381972            334056          100.000000"
      ]
     },
     "execution_count": 33,
     "metadata": {},
     "output_type": "execute_result"
    }
   ],
   "source": [
    "#sidetable\n",
    "df.stb.freq(['LowDoc'])\n",
    "#This code aims to find out the percentage of LowDoc\n",
    "#It appears that mostly small business with no LowDoc with percentage around 99.61%"
   ]
  },
  {
   "cell_type": "code",
   "execution_count": 35,
   "metadata": {},
   "outputs": [
    {
     "data": {
      "text/html": [
       "<div>\n",
       "<style scoped>\n",
       "    .dataframe tbody tr th:only-of-type {\n",
       "        vertical-align: middle;\n",
       "    }\n",
       "\n",
       "    .dataframe tbody tr th {\n",
       "        vertical-align: top;\n",
       "    }\n",
       "\n",
       "    .dataframe thead th {\n",
       "        text-align: right;\n",
       "    }\n",
       "</style>\n",
       "<table border=\"1\" class=\"dataframe\">\n",
       "  <thead>\n",
       "    <tr style=\"text-align: right;\">\n",
       "      <th>LowDoc</th>\n",
       "      <th>N</th>\n",
       "      <th>Y</th>\n",
       "    </tr>\n",
       "    <tr>\n",
       "      <th>MIS_Status</th>\n",
       "      <th></th>\n",
       "      <th></th>\n",
       "    </tr>\n",
       "  </thead>\n",
       "  <tbody>\n",
       "    <tr>\n",
       "      <th>CHGOFF</th>\n",
       "      <td>27.72</td>\n",
       "      <td>15.44</td>\n",
       "    </tr>\n",
       "    <tr>\n",
       "      <th>P I F</th>\n",
       "      <td>72.28</td>\n",
       "      <td>84.56</td>\n",
       "    </tr>\n",
       "  </tbody>\n",
       "</table>\n",
       "</div>"
      ],
      "text/plain": [
       "LowDoc          N      Y\n",
       "MIS_Status              \n",
       "CHGOFF      27.72  15.44\n",
       "P I F       72.28  84.56"
      ]
     },
     "execution_count": 35,
     "metadata": {},
     "output_type": "execute_result"
    }
   ],
   "source": [
    "((pd.crosstab(index=df['MIS_Status'], columns=df['LowDoc'], normalize='columns'))*100).round(2)\n",
    "\n",
    "## This code aim to know ==> is LowDoc feature could be indicate as default risk?"
   ]
  },
  {
   "cell_type": "code",
   "execution_count": 37,
   "metadata": {},
   "outputs": [
    {
     "data": {
      "text/html": [
       "<div>\n",
       "<style scoped>\n",
       "    .dataframe tbody tr th:only-of-type {\n",
       "        vertical-align: middle;\n",
       "    }\n",
       "\n",
       "    .dataframe tbody tr th {\n",
       "        vertical-align: top;\n",
       "    }\n",
       "\n",
       "    .dataframe thead th {\n",
       "        text-align: right;\n",
       "    }\n",
       "</style>\n",
       "<table border=\"1\" class=\"dataframe\">\n",
       "  <thead>\n",
       "    <tr style=\"text-align: right;\">\n",
       "      <th></th>\n",
       "      <th>CHGOFF</th>\n",
       "      <th>PIF</th>\n",
       "      <th>Status</th>\n",
       "    </tr>\n",
       "  </thead>\n",
       "  <tbody>\n",
       "    <tr>\n",
       "      <th>0</th>\n",
       "      <td>27.72</td>\n",
       "      <td>72.28</td>\n",
       "      <td>N</td>\n",
       "    </tr>\n",
       "    <tr>\n",
       "      <th>1</th>\n",
       "      <td>15.44</td>\n",
       "      <td>84.56</td>\n",
       "      <td>Y</td>\n",
       "    </tr>\n",
       "  </tbody>\n",
       "</table>\n",
       "</div>"
      ],
      "text/plain": [
       "   CHGOFF    PIF Status\n",
       "0   27.72  72.28      N\n",
       "1   15.44  84.56      Y"
      ]
     },
     "execution_count": 37,
     "metadata": {},
     "output_type": "execute_result"
    }
   ],
   "source": [
    "#This code aim to make a DataFrame to visualize\n",
    "doc = {\n",
    "    'CHGOFF' : [27.72, 15.44],\n",
    "    'PIF' : [72.28, 84.56],\n",
    "    'Status':['N', 'Y']\n",
    "}\n",
    "\n",
    "\n",
    "pd.DataFrame(data=doc)"
   ]
  },
  {
   "cell_type": "code",
   "execution_count": 38,
   "metadata": {},
   "outputs": [
    {
     "data": {
      "image/png": "[encoded data removed]",
      "text/plain": [
       "<Figure size 504x432 with 1 Axes>"
      ]
     },
     "metadata": {
      "needs_background": "light"
     },
     "output_type": "display_data"
    }
   ],
   "source": [
    "#Here are the visualize of percentage of LowDoc & MIS_Status using stacked bar\n",
    "plt.figure(figsize=(7,6))\n",
    "#plot 1 - backgroud - PIF\n",
    "sns.barplot(x=doc['Status'], y=doc['PIF'], color='green')\n",
    "\n",
    "#plot 2 - CHGOFF\n",
    "sns.barplot(x=doc['Status'], y=doc['CHGOFF'], color='yellow')\n",
    "\n",
    "#Setting the legend\n",
    "topbar = plt.Rectangle((0,0),1,1,fc=\"green\", edgecolor = 'none')\n",
    "bottombar = plt.Rectangle((0,0),1,1,fc='yellow',  edgecolor = 'none')\n",
    "l = plt.legend([bottombar, topbar], ['%CHGOFF', '%PIF'], loc='best', ncol = 1, prop={'size':10})\n",
    "\n",
    "plt.title('Percentage of LowDoc by MIS_Status')\n",
    "# plt.savefig('JobInvolvement.png')\n",
    "plt.show()"
   ]
  },
  {
   "cell_type": "markdown",
   "metadata": {},
   "source": [
    "- Mostly for small business that has default loan (CHGOFF) didn't come from LowDoc. The percentage of LowDoc that CHGOFF only 15.44%"
   ]
  },
  {
   "cell_type": "markdown",
   "metadata": {},
   "source": [
    "### `DisbursementGross`"
   ]
  },
  {
   "cell_type": "code",
   "execution_count": 8,
   "metadata": {},
   "outputs": [
    {
     "data": {
      "image/png": "[encoded data removed]",
      "text/plain": [
       "<Figure size 1080x432 with 1 Axes>"
      ]
     },
     "metadata": {
      "needs_background": "light"
     },
     "output_type": "display_data"
    }
   ],
   "source": [
    "# Visualisasi\n",
    "plt.figure(figsize=(15,6))\n",
    "sns.barplot(x=df['ApprovalFY'], y=df['DisbursementGross'], palette='magma')\n",
    "plt.title('Loan Amount Every Year')\n",
    "plt.xlabel('Year')\n",
    "plt.ylabel('Loan Amount ($)')\n",
    "plt.show()"
   ]
  },
  {
   "cell_type": "code",
   "execution_count": 9,
   "metadata": {},
   "outputs": [
    {
     "data": {
      "text/plain": [
       "MIS_Status\n",
       "CHGOFF    50000.0\n",
       "P I F     63022.0\n",
       "Name: DisbursementGross, dtype: float64"
      ]
     },
     "execution_count": 9,
     "metadata": {},
     "output_type": "execute_result"
    }
   ],
   "source": [
    "df['DisbursementGross'].groupby(df['MIS_Status']).median()"
   ]
  },
  {
   "cell_type": "code",
   "execution_count": 10,
   "metadata": {},
   "outputs": [],
   "source": [
    "## Binning to gain more insight\n",
    "bin_disGross=[3999.0, 150000.0, 11446325.0] #range kelompok (4000.0-150000.0, 150001.0-11446325.0)\n",
    "label = ['low','high']\n",
    "df['disGross_bin'] = pd.cut(df['DisbursementGross'], bins=bin_disGross, labels=label)"
   ]
  },
  {
   "cell_type": "code",
   "execution_count": 11,
   "metadata": {},
   "outputs": [
    {
     "data": {
      "image/png": "[encoded data removed]",
      "text/plain": [
       "<Figure size 432x360 with 1 Axes>"
      ]
     },
     "metadata": {
      "needs_background": "light"
     },
     "output_type": "display_data"
    }
   ],
   "source": [
    "#countplot visualization\n",
    "plt.figure(figsize=(6,5))\n",
    "sns.countplot(df['disGross_bin'], hue=df['MIS_Status'])\n",
    "# plt.savefig('Disbursement.png')\n",
    "plt.show()"
   ]
  },
  {
   "cell_type": "code",
   "execution_count": 12,
   "metadata": {},
   "outputs": [
    {
     "data": {
      "text/html": [
       "<div>\n",
       "<style scoped>\n",
       "    .dataframe tbody tr th:only-of-type {\n",
       "        vertical-align: middle;\n",
       "    }\n",
       "\n",
       "    .dataframe tbody tr th {\n",
       "        vertical-align: top;\n",
       "    }\n",
       "\n",
       "    .dataframe thead th {\n",
       "        text-align: right;\n",
       "    }\n",
       "</style>\n",
       "<table border=\"1\" class=\"dataframe\">\n",
       "  <thead>\n",
       "    <tr style=\"text-align: right;\">\n",
       "      <th>MIS_Status</th>\n",
       "      <th>CHGOFF</th>\n",
       "      <th>P I F</th>\n",
       "    </tr>\n",
       "    <tr>\n",
       "      <th>disGross_bin</th>\n",
       "      <th></th>\n",
       "      <th></th>\n",
       "    </tr>\n",
       "  </thead>\n",
       "  <tbody>\n",
       "    <tr>\n",
       "      <th>low</th>\n",
       "      <td>30.67</td>\n",
       "      <td>69.33</td>\n",
       "    </tr>\n",
       "    <tr>\n",
       "      <th>high</th>\n",
       "      <td>17.79</td>\n",
       "      <td>82.21</td>\n",
       "    </tr>\n",
       "  </tbody>\n",
       "</table>\n",
       "</div>"
      ],
      "text/plain": [
       "MIS_Status    CHGOFF  P I F\n",
       "disGross_bin               \n",
       "low            30.67  69.33\n",
       "high           17.79  82.21"
      ]
     },
     "execution_count": 12,
     "metadata": {},
     "output_type": "execute_result"
    }
   ],
   "source": [
    "((pd.crosstab(index=df['disGross_bin'], columns=df['MIS_Status'], normalize='index'))*100).round(2)\n",
    "\n",
    "## This code aims to determine which disbursed loans that experience a default loan"
   ]
  },
  {
   "cell_type": "code",
   "execution_count": 44,
   "metadata": {},
   "outputs": [
    {
     "data": {
      "image/png": "[encoded data removed]",
      "text/plain": [
       "<Figure size 1800x432 with 2 Axes>"
      ]
     },
     "metadata": {
      "needs_background": "light"
     },
     "output_type": "display_data"
    }
   ],
   "source": [
    "## Visualization\n",
    "plt.figure(figsize=(25,6))\n",
    "\n",
    "#Gross SBA Loan Disbursement by Industry\n",
    "plt.subplot(1,2,1)\n",
    "df['DisbursementGross'].groupby(df['sector']).sum().sort_values(ascending=False).plot(kind='bar')\n",
    "plt.title('Gross SBA Loan Disbursement by Industry')\n",
    "plt.xlabel('Sector')\n",
    "plt.ylabel('Gross Loan Disbursement')\n",
    "\n",
    "#Median SBA Loan Disbursement by Industry\n",
    "plt.subplot(1,2,2)\n",
    "df['DisbursementGross'].groupby(df['sector']).median().sort_values(ascending=False).plot(kind='bar')\n",
    "plt.title('Median SBA Loan Disbursement by Industry')\n",
    "plt.xlabel('Sector')\n",
    "plt.ylabel('Median Loan Disbursement')\n",
    "\n",
    "plt.show()"
   ]
  },
  {
   "cell_type": "markdown",
   "metadata": {},
   "source": [
    "- Median of DisbursementGross that CHGOFF was 50000.0 while DisbursementGross that PIF was 63022.0\n",
    "- After binning,  CHGOFF with low DisbursementGross has higher percentage 30.67% rather than high DisbursementGross. Its means that mostly CHGOFF come from small business with low DisbursementGross\n",
    "- Retail trade and Manufacturing has significantly loan disbursement compare to another sector\n",
    "- Although Mining, quarrying, and oil and gas extraction has total amount loan disbursement little compare to another, but they has highest median loan disbursement"
   ]
  },
  {
   "cell_type": "markdown",
   "metadata": {},
   "source": [
    "### `GrAppv`\n",
    "Gross amount of loan approved by bank"
   ]
  },
  {
   "cell_type": "code",
   "execution_count": 45,
   "metadata": {},
   "outputs": [
    {
     "data": {
      "text/plain": [
       "sector\n",
       "Mining_quar_oil_gas_ext         100000.0\n",
       "Ag_fores_ﬁshi_hunting           100000.0\n",
       "Management_and_enterprises       75000.0\n",
       "Manufacturing                    60000.0\n",
       "Accommodation_food_serv          55000.0\n",
       "Retail_trade                     50000.0\n",
       "Utilities                        50000.0\n",
       "Health_care_social_ass           50000.0\n",
       "Wholesale_trade                  50000.0\n",
       "Construction                     40000.0\n",
       "Arts_enter_recreation            40000.0\n",
       "Prof_scien_and_tech_serv         35000.0\n",
       "Other_no_pub                     35000.0\n",
       "RE_rental_leasing                35000.0\n",
       "Information                      35000.0\n",
       "Finance_insurance                35000.0\n",
       "Trans_Ware                       31500.0\n",
       "Educational_services             30000.0\n",
       "Admini_sup_and_waste_mgm_rem     30000.0\n",
       "Public_admin                     25000.0\n",
       "Name: GrAppv, dtype: float64"
      ]
     },
     "execution_count": 45,
     "metadata": {},
     "output_type": "execute_result"
    }
   ],
   "source": [
    "## This code aims to know the median of gross amount of loan approved by bank groupby sector\n",
    "df['GrAppv'].groupby(df['sector']).median().sort_values(ascending=False)"
   ]
  },
  {
   "cell_type": "code",
   "execution_count": 47,
   "metadata": {},
   "outputs": [
    {
     "data": {
      "image/png": "[encoded data removed]",
      "text/plain": [
       "<Figure size 720x360 with 1 Axes>"
      ]
     },
     "metadata": {
      "needs_background": "light"
     },
     "output_type": "display_data"
    }
   ],
   "source": [
    "## Visualization\n",
    "plt.figure(figsize=(10,5))\n",
    "df['GrAppv'].groupby(df['sector']).median().sort_values(ascending=False).plot(kind='bar')\n",
    "plt.title('Median of gross amount of loan approved by bank by Sector')\n",
    "plt.xlabel('Sector')\n",
    "plt.ylabel('Median of gross amount of loan')\n",
    "plt.show()"
   ]
  },
  {
   "cell_type": "markdown",
   "metadata": {},
   "source": [
    "-  Mining, quarrying, and oil and gas extraction and Agriculture, forestry, fishing and hunting has highest median of Gross amount of loan approved by bank around 100000.0"
   ]
  },
  {
   "cell_type": "markdown",
   "metadata": {},
   "source": [
    "### `sector`"
   ]
  },
  {
   "cell_type": "code",
   "execution_count": 13,
   "metadata": {},
   "outputs": [
    {
     "data": {
      "text/html": [
       "<div>\n",
       "<style scoped>\n",
       "    .dataframe tbody tr th:only-of-type {\n",
       "        vertical-align: middle;\n",
       "    }\n",
       "\n",
       "    .dataframe tbody tr th {\n",
       "        vertical-align: top;\n",
       "    }\n",
       "\n",
       "    .dataframe thead th {\n",
       "        text-align: right;\n",
       "    }\n",
       "</style>\n",
       "<table border=\"1\" class=\"dataframe\">\n",
       "  <thead>\n",
       "    <tr style=\"text-align: right;\">\n",
       "      <th></th>\n",
       "      <th>sector</th>\n",
       "      <th>count</th>\n",
       "      <th>percent</th>\n",
       "      <th>cumulative_count</th>\n",
       "      <th>cumulative_percent</th>\n",
       "    </tr>\n",
       "  </thead>\n",
       "  <tbody>\n",
       "    <tr>\n",
       "      <th>0</th>\n",
       "      <td>Retail_trade</td>\n",
       "      <td>56448</td>\n",
       "      <td>16.897766</td>\n",
       "      <td>56448</td>\n",
       "      <td>16.897766</td>\n",
       "    </tr>\n",
       "    <tr>\n",
       "      <th>1</th>\n",
       "      <td>Prof_scien_and_tech_serv</td>\n",
       "      <td>38920</td>\n",
       "      <td>11.650741</td>\n",
       "      <td>95368</td>\n",
       "      <td>28.548507</td>\n",
       "    </tr>\n",
       "    <tr>\n",
       "      <th>2</th>\n",
       "      <td>Construction</td>\n",
       "      <td>37400</td>\n",
       "      <td>11.195728</td>\n",
       "      <td>132768</td>\n",
       "      <td>39.744234</td>\n",
       "    </tr>\n",
       "    <tr>\n",
       "      <th>3</th>\n",
       "      <td>Other_no_pub</td>\n",
       "      <td>30336</td>\n",
       "      <td>9.081112</td>\n",
       "      <td>163104</td>\n",
       "      <td>48.825347</td>\n",
       "    </tr>\n",
       "    <tr>\n",
       "      <th>4</th>\n",
       "      <td>Accommodation_food_serv</td>\n",
       "      <td>29613</td>\n",
       "      <td>8.864681</td>\n",
       "      <td>192717</td>\n",
       "      <td>57.690028</td>\n",
       "    </tr>\n",
       "    <tr>\n",
       "      <th>5</th>\n",
       "      <td>Manufacturing</td>\n",
       "      <td>28520</td>\n",
       "      <td>8.537491</td>\n",
       "      <td>221237</td>\n",
       "      <td>66.227519</td>\n",
       "    </tr>\n",
       "    <tr>\n",
       "      <th>6</th>\n",
       "      <td>Wholesale_trade</td>\n",
       "      <td>23273</td>\n",
       "      <td>6.966796</td>\n",
       "      <td>244510</td>\n",
       "      <td>73.194315</td>\n",
       "    </tr>\n",
       "    <tr>\n",
       "      <th>7</th>\n",
       "      <td>Health_care_social_ass</td>\n",
       "      <td>21845</td>\n",
       "      <td>6.539323</td>\n",
       "      <td>266355</td>\n",
       "      <td>79.733637</td>\n",
       "    </tr>\n",
       "    <tr>\n",
       "      <th>8</th>\n",
       "      <td>Admini_sup_and_waste_mgm_rem</td>\n",
       "      <td>19361</td>\n",
       "      <td>5.795735</td>\n",
       "      <td>285716</td>\n",
       "      <td>85.529372</td>\n",
       "    </tr>\n",
       "    <tr>\n",
       "      <th>9</th>\n",
       "      <td>Trans_Ware</td>\n",
       "      <td>13922</td>\n",
       "      <td>4.167565</td>\n",
       "      <td>299638</td>\n",
       "      <td>89.696937</td>\n",
       "    </tr>\n",
       "    <tr>\n",
       "      <th>10</th>\n",
       "      <td>RE_rental_leasing</td>\n",
       "      <td>8010</td>\n",
       "      <td>2.397802</td>\n",
       "      <td>307648</td>\n",
       "      <td>92.094739</td>\n",
       "    </tr>\n",
       "    <tr>\n",
       "      <th>11</th>\n",
       "      <td>Arts_enter_recreation</td>\n",
       "      <td>6233</td>\n",
       "      <td>1.865855</td>\n",
       "      <td>313881</td>\n",
       "      <td>93.960593</td>\n",
       "    </tr>\n",
       "    <tr>\n",
       "      <th>12</th>\n",
       "      <td>Finance_insurance</td>\n",
       "      <td>5963</td>\n",
       "      <td>1.785030</td>\n",
       "      <td>319844</td>\n",
       "      <td>95.745623</td>\n",
       "    </tr>\n",
       "    <tr>\n",
       "      <th>13</th>\n",
       "      <td>Information</td>\n",
       "      <td>5925</td>\n",
       "      <td>1.773655</td>\n",
       "      <td>325769</td>\n",
       "      <td>97.519278</td>\n",
       "    </tr>\n",
       "    <tr>\n",
       "      <th>14</th>\n",
       "      <td>Educational_services</td>\n",
       "      <td>3742</td>\n",
       "      <td>1.120171</td>\n",
       "      <td>329511</td>\n",
       "      <td>98.639450</td>\n",
       "    </tr>\n",
       "    <tr>\n",
       "      <th>15</th>\n",
       "      <td>Ag_fores_ﬁshi_hunting</td>\n",
       "      <td>3354</td>\n",
       "      <td>1.004023</td>\n",
       "      <td>332865</td>\n",
       "      <td>99.643473</td>\n",
       "    </tr>\n",
       "    <tr>\n",
       "      <th>16</th>\n",
       "      <td>Mining_quar_oil_gas_ext</td>\n",
       "      <td>757</td>\n",
       "      <td>0.226609</td>\n",
       "      <td>333622</td>\n",
       "      <td>99.870082</td>\n",
       "    </tr>\n",
       "    <tr>\n",
       "      <th>17</th>\n",
       "      <td>Utilities</td>\n",
       "      <td>279</td>\n",
       "      <td>0.083519</td>\n",
       "      <td>333901</td>\n",
       "      <td>99.953601</td>\n",
       "    </tr>\n",
       "    <tr>\n",
       "      <th>18</th>\n",
       "      <td>Public_admin</td>\n",
       "      <td>82</td>\n",
       "      <td>0.024547</td>\n",
       "      <td>333983</td>\n",
       "      <td>99.978147</td>\n",
       "    </tr>\n",
       "    <tr>\n",
       "      <th>19</th>\n",
       "      <td>Management_and_enterprises</td>\n",
       "      <td>73</td>\n",
       "      <td>0.021853</td>\n",
       "      <td>334056</td>\n",
       "      <td>100.000000</td>\n",
       "    </tr>\n",
       "  </tbody>\n",
       "</table>\n",
       "</div>"
      ],
      "text/plain": [
       "                          sector  count    percent  cumulative_count  \\\n",
       "0                   Retail_trade  56448  16.897766             56448   \n",
       "1       Prof_scien_and_tech_serv  38920  11.650741             95368   \n",
       "2                   Construction  37400  11.195728            132768   \n",
       "3                   Other_no_pub  30336   9.081112            163104   \n",
       "4        Accommodation_food_serv  29613   8.864681            192717   \n",
       "5                  Manufacturing  28520   8.537491            221237   \n",
       "6                Wholesale_trade  23273   6.966796            244510   \n",
       "7         Health_care_social_ass  21845   6.539323            266355   \n",
       "8   Admini_sup_and_waste_mgm_rem  19361   5.795735            285716   \n",
       "9                     Trans_Ware  13922   4.167565            299638   \n",
       "10             RE_rental_leasing   8010   2.397802            307648   \n",
       "11         Arts_enter_recreation   6233   1.865855            313881   \n",
       "12             Finance_insurance   5963   1.785030            319844   \n",
       "13                   Information   5925   1.773655            325769   \n",
       "14          Educational_services   3742   1.120171            329511   \n",
       "15         Ag_fores_ﬁshi_hunting   3354   1.004023            332865   \n",
       "16       Mining_quar_oil_gas_ext    757   0.226609            333622   \n",
       "17                     Utilities    279   0.083519            333901   \n",
       "18                  Public_admin     82   0.024547            333983   \n",
       "19    Management_and_enterprises     73   0.021853            334056   \n",
       "\n",
       "    cumulative_percent  \n",
       "0            16.897766  \n",
       "1            28.548507  \n",
       "2            39.744234  \n",
       "3            48.825347  \n",
       "4            57.690028  \n",
       "5            66.227519  \n",
       "6            73.194315  \n",
       "7            79.733637  \n",
       "8            85.529372  \n",
       "9            89.696937  \n",
       "10           92.094739  \n",
       "11           93.960593  \n",
       "12           95.745623  \n",
       "13           97.519278  \n",
       "14           98.639450  \n",
       "15           99.643473  \n",
       "16           99.870082  \n",
       "17           99.953601  \n",
       "18           99.978147  \n",
       "19          100.000000  "
      ]
     },
     "execution_count": 13,
     "metadata": {},
     "output_type": "execute_result"
    }
   ],
   "source": [
    "#sidetable\n",
    "df.stb.freq(['sector'])\n",
    "#This code aims to find out the percentage of sector \n",
    "#It appears that Retail trade has highest percentage around 16.89%"
   ]
  },
  {
   "cell_type": "code",
   "execution_count": 14,
   "metadata": {},
   "outputs": [
    {
     "data": {
      "text/html": [
       "<div>\n",
       "<style scoped>\n",
       "    .dataframe tbody tr th:only-of-type {\n",
       "        vertical-align: middle;\n",
       "    }\n",
       "\n",
       "    .dataframe tbody tr th {\n",
       "        vertical-align: top;\n",
       "    }\n",
       "\n",
       "    .dataframe thead th {\n",
       "        text-align: right;\n",
       "    }\n",
       "</style>\n",
       "<table border=\"1\" class=\"dataframe\">\n",
       "  <thead>\n",
       "    <tr style=\"text-align: right;\">\n",
       "      <th>MIS_Status</th>\n",
       "      <th>CHGOFF</th>\n",
       "      <th>P I F</th>\n",
       "      <th>%PercentDefault</th>\n",
       "    </tr>\n",
       "    <tr>\n",
       "      <th>sector</th>\n",
       "      <th></th>\n",
       "      <th></th>\n",
       "      <th></th>\n",
       "    </tr>\n",
       "  </thead>\n",
       "  <tbody>\n",
       "    <tr>\n",
       "      <th>Accommodation_food_serv</th>\n",
       "      <td>8347</td>\n",
       "      <td>21266</td>\n",
       "      <td>0.281869</td>\n",
       "    </tr>\n",
       "    <tr>\n",
       "      <th>Admini_sup_and_waste_mgm_rem</th>\n",
       "      <td>5326</td>\n",
       "      <td>14035</td>\n",
       "      <td>0.275089</td>\n",
       "    </tr>\n",
       "    <tr>\n",
       "      <th>Ag_fores_ﬁshi_hunting</th>\n",
       "      <td>503</td>\n",
       "      <td>2851</td>\n",
       "      <td>0.149970</td>\n",
       "    </tr>\n",
       "    <tr>\n",
       "      <th>Arts_enter_recreation</th>\n",
       "      <td>1804</td>\n",
       "      <td>4429</td>\n",
       "      <td>0.289427</td>\n",
       "    </tr>\n",
       "    <tr>\n",
       "      <th>Construction</th>\n",
       "      <td>11433</td>\n",
       "      <td>25967</td>\n",
       "      <td>0.305695</td>\n",
       "    </tr>\n",
       "    <tr>\n",
       "      <th>Educational_services</th>\n",
       "      <td>1074</td>\n",
       "      <td>2668</td>\n",
       "      <td>0.287012</td>\n",
       "    </tr>\n",
       "    <tr>\n",
       "      <th>Finance_insurance</th>\n",
       "      <td>2082</td>\n",
       "      <td>3881</td>\n",
       "      <td>0.349153</td>\n",
       "    </tr>\n",
       "    <tr>\n",
       "      <th>Health_care_social_ass</th>\n",
       "      <td>3326</td>\n",
       "      <td>18519</td>\n",
       "      <td>0.152255</td>\n",
       "    </tr>\n",
       "    <tr>\n",
       "      <th>Information</th>\n",
       "      <td>1762</td>\n",
       "      <td>4163</td>\n",
       "      <td>0.297384</td>\n",
       "    </tr>\n",
       "    <tr>\n",
       "      <th>Management_and_enterprises</th>\n",
       "      <td>20</td>\n",
       "      <td>53</td>\n",
       "      <td>0.273973</td>\n",
       "    </tr>\n",
       "    <tr>\n",
       "      <th>Manufacturing</th>\n",
       "      <td>6560</td>\n",
       "      <td>21960</td>\n",
       "      <td>0.230014</td>\n",
       "    </tr>\n",
       "    <tr>\n",
       "      <th>Mining_quar_oil_gas_ext</th>\n",
       "      <td>93</td>\n",
       "      <td>664</td>\n",
       "      <td>0.122853</td>\n",
       "    </tr>\n",
       "    <tr>\n",
       "      <th>Other_no_pub</th>\n",
       "      <td>8780</td>\n",
       "      <td>21556</td>\n",
       "      <td>0.289425</td>\n",
       "    </tr>\n",
       "    <tr>\n",
       "      <th>Prof_scien_and_tech_serv</th>\n",
       "      <td>9552</td>\n",
       "      <td>29368</td>\n",
       "      <td>0.245427</td>\n",
       "    </tr>\n",
       "    <tr>\n",
       "      <th>Public_admin</th>\n",
       "      <td>27</td>\n",
       "      <td>55</td>\n",
       "      <td>0.329268</td>\n",
       "    </tr>\n",
       "    <tr>\n",
       "      <th>RE_rental_leasing</th>\n",
       "      <td>3005</td>\n",
       "      <td>5005</td>\n",
       "      <td>0.375156</td>\n",
       "    </tr>\n",
       "    <tr>\n",
       "      <th>Retail_trade</th>\n",
       "      <td>17700</td>\n",
       "      <td>38748</td>\n",
       "      <td>0.313563</td>\n",
       "    </tr>\n",
       "    <tr>\n",
       "      <th>Trans_Ware</th>\n",
       "      <td>4378</td>\n",
       "      <td>9544</td>\n",
       "      <td>0.314466</td>\n",
       "    </tr>\n",
       "    <tr>\n",
       "      <th>Utilities</th>\n",
       "      <td>71</td>\n",
       "      <td>208</td>\n",
       "      <td>0.254480</td>\n",
       "    </tr>\n",
       "    <tr>\n",
       "      <th>Wholesale_trade</th>\n",
       "      <td>6613</td>\n",
       "      <td>16660</td>\n",
       "      <td>0.284149</td>\n",
       "    </tr>\n",
       "  </tbody>\n",
       "</table>\n",
       "</div>"
      ],
      "text/plain": [
       "MIS_Status                    CHGOFF  P I F  %PercentDefault\n",
       "sector                                                      \n",
       "Accommodation_food_serv         8347  21266         0.281869\n",
       "Admini_sup_and_waste_mgm_rem    5326  14035         0.275089\n",
       "Ag_fores_ﬁshi_hunting            503   2851         0.149970\n",
       "Arts_enter_recreation           1804   4429         0.289427\n",
       "Construction                   11433  25967         0.305695\n",
       "Educational_services            1074   2668         0.287012\n",
       "Finance_insurance               2082   3881         0.349153\n",
       "Health_care_social_ass          3326  18519         0.152255\n",
       "Information                     1762   4163         0.297384\n",
       "Management_and_enterprises        20     53         0.273973\n",
       "Manufacturing                   6560  21960         0.230014\n",
       "Mining_quar_oil_gas_ext           93    664         0.122853\n",
       "Other_no_pub                    8780  21556         0.289425\n",
       "Prof_scien_and_tech_serv        9552  29368         0.245427\n",
       "Public_admin                      27     55         0.329268\n",
       "RE_rental_leasing               3005   5005         0.375156\n",
       "Retail_trade                   17700  38748         0.313563\n",
       "Trans_Ware                      4378   9544         0.314466\n",
       "Utilities                         71    208         0.254480\n",
       "Wholesale_trade                 6613  16660         0.284149"
      ]
     },
     "execution_count": 14,
     "metadata": {},
     "output_type": "execute_result"
    }
   ],
   "source": [
    "#crosstab between sector and MIS_Status\n",
    "df_sector = pd.crosstab(index=df['sector'], columns=df['MIS_Status'])\n",
    "\n",
    "#Default percentage\n",
    "df_sector['%PercentDefault'] = df_sector['CHGOFF']/(df_sector['CHGOFF']+df_sector['P I F'])\n",
    "df_sector"
   ]
  },
  {
   "cell_type": "code",
   "execution_count": 15,
   "metadata": {},
   "outputs": [
    {
     "data": {
      "image/png": "[encoded data removed]",
      "text/plain": [
       "<Figure size 1440x720 with 1 Axes>"
      ]
     },
     "metadata": {
      "needs_background": "light"
     },
     "output_type": "display_data"
    }
   ],
   "source": [
    "## Visualization\n",
    "plt.figure(figsize=(20,10))\n",
    "plt.barh(df_sector.index, df_sector['%PercentDefault'])\n",
    "plt.title('Percentage of Default by Sector')\n",
    "plt.xlabel('Percent of Default')\n",
    "plt.ylabel('Sector')\n",
    "# plt.savefig('Sector.png')\n",
    "plt.show()"
   ]
  },
  {
   "cell_type": "code",
   "execution_count": 52,
   "metadata": {},
   "outputs": [
    {
     "data": {
      "image/png": "[encoded data removed]",
      "text/plain": [
       "<Figure size 1080x576 with 1 Axes>"
      ]
     },
     "metadata": {
      "needs_background": "light"
     },
     "output_type": "display_data"
    }
   ],
   "source": [
    "## Visualization\n",
    "plt.figure(figsize=(15,8))\n",
    "sns.countplot(y=df['sector'], hue=df['MIS_Status'])\n",
    "plt.title('Count of Default based on Sector')\n",
    "plt.xlabel('Count of Default')\n",
    "plt.ylabel('Sector')\n",
    "plt.legend(['PIF','CHGOFF'], loc='lower right')\n",
    "# plt.savefig('Sector.png')\n",
    "plt.show()"
   ]
  },
  {
   "cell_type": "markdown",
   "metadata": {},
   "source": [
    "- Sector with highest number of loan was Retail trade with percentage around 16.89%, followed by Professional, scientific, and technical services and Construction with each percentage 11.65% and 11.19%\n",
    "- Sector that has highest default was Real estate and rental and leasing (37.51%), followed by Finance and Insurance (34.91%) and Transportation and warehousing (31.44%)\n",
    "- Sector Mining, quarrying, and oil and gas extraction (12.28%) and Sector Health care provider (15.22%) appear to be doing well"
   ]
  },
  {
   "cell_type": "markdown",
   "metadata": {},
   "source": [
    "### `ApprovalFY`"
   ]
  },
  {
   "cell_type": "code",
   "execution_count": 8,
   "metadata": {},
   "outputs": [
    {
     "data": {
      "text/html": [
       "<div>\n",
       "<style scoped>\n",
       "    .dataframe tbody tr th:only-of-type {\n",
       "        vertical-align: middle;\n",
       "    }\n",
       "\n",
       "    .dataframe tbody tr th {\n",
       "        vertical-align: top;\n",
       "    }\n",
       "\n",
       "    .dataframe thead th {\n",
       "        text-align: right;\n",
       "    }\n",
       "</style>\n",
       "<table border=\"1\" class=\"dataframe\">\n",
       "  <thead>\n",
       "    <tr style=\"text-align: right;\">\n",
       "      <th></th>\n",
       "      <th>ApprovalFY</th>\n",
       "      <th>count</th>\n",
       "      <th>percent</th>\n",
       "      <th>cumulative_count</th>\n",
       "      <th>cumulative_percent</th>\n",
       "    </tr>\n",
       "  </thead>\n",
       "  <tbody>\n",
       "    <tr>\n",
       "      <th>0</th>\n",
       "      <td>2007</td>\n",
       "      <td>57028</td>\n",
       "      <td>17.071389</td>\n",
       "      <td>57028</td>\n",
       "      <td>17.071389</td>\n",
       "    </tr>\n",
       "    <tr>\n",
       "      <th>1</th>\n",
       "      <td>2006</td>\n",
       "      <td>55606</td>\n",
       "      <td>16.645712</td>\n",
       "      <td>112634</td>\n",
       "      <td>33.717101</td>\n",
       "    </tr>\n",
       "    <tr>\n",
       "      <th>2</th>\n",
       "      <td>2005</td>\n",
       "      <td>47292</td>\n",
       "      <td>14.156908</td>\n",
       "      <td>159926</td>\n",
       "      <td>47.874009</td>\n",
       "    </tr>\n",
       "    <tr>\n",
       "      <th>3</th>\n",
       "      <td>2004</td>\n",
       "      <td>30929</td>\n",
       "      <td>9.258627</td>\n",
       "      <td>190855</td>\n",
       "      <td>57.132636</td>\n",
       "    </tr>\n",
       "    <tr>\n",
       "      <th>4</th>\n",
       "      <td>2008</td>\n",
       "      <td>29650</td>\n",
       "      <td>8.875757</td>\n",
       "      <td>220505</td>\n",
       "      <td>66.008394</td>\n",
       "    </tr>\n",
       "    <tr>\n",
       "      <th>5</th>\n",
       "      <td>2003</td>\n",
       "      <td>25406</td>\n",
       "      <td>7.605312</td>\n",
       "      <td>245911</td>\n",
       "      <td>73.613705</td>\n",
       "    </tr>\n",
       "    <tr>\n",
       "      <th>6</th>\n",
       "      <td>2002</td>\n",
       "      <td>16396</td>\n",
       "      <td>4.908159</td>\n",
       "      <td>262307</td>\n",
       "      <td>78.521865</td>\n",
       "    </tr>\n",
       "    <tr>\n",
       "      <th>7</th>\n",
       "      <td>2009</td>\n",
       "      <td>15079</td>\n",
       "      <td>4.513914</td>\n",
       "      <td>277386</td>\n",
       "      <td>83.035778</td>\n",
       "    </tr>\n",
       "    <tr>\n",
       "      <th>8</th>\n",
       "      <td>2010</td>\n",
       "      <td>14017</td>\n",
       "      <td>4.196003</td>\n",
       "      <td>291403</td>\n",
       "      <td>87.231781</td>\n",
       "    </tr>\n",
       "    <tr>\n",
       "      <th>9</th>\n",
       "      <td>2001</td>\n",
       "      <td>12739</td>\n",
       "      <td>3.813432</td>\n",
       "      <td>304142</td>\n",
       "      <td>91.045214</td>\n",
       "    </tr>\n",
       "    <tr>\n",
       "      <th>10</th>\n",
       "      <td>2011</td>\n",
       "      <td>11724</td>\n",
       "      <td>3.509591</td>\n",
       "      <td>315866</td>\n",
       "      <td>94.554805</td>\n",
       "    </tr>\n",
       "    <tr>\n",
       "      <th>11</th>\n",
       "      <td>2000</td>\n",
       "      <td>6892</td>\n",
       "      <td>2.063127</td>\n",
       "      <td>322758</td>\n",
       "      <td>96.617932</td>\n",
       "    </tr>\n",
       "    <tr>\n",
       "      <th>12</th>\n",
       "      <td>2012</td>\n",
       "      <td>5560</td>\n",
       "      <td>1.664392</td>\n",
       "      <td>328318</td>\n",
       "      <td>98.282324</td>\n",
       "    </tr>\n",
       "    <tr>\n",
       "      <th>13</th>\n",
       "      <td>1999</td>\n",
       "      <td>2700</td>\n",
       "      <td>0.808248</td>\n",
       "      <td>331018</td>\n",
       "      <td>99.090572</td>\n",
       "    </tr>\n",
       "    <tr>\n",
       "      <th>14</th>\n",
       "      <td>2013</td>\n",
       "      <td>2368</td>\n",
       "      <td>0.708863</td>\n",
       "      <td>333386</td>\n",
       "      <td>99.799435</td>\n",
       "    </tr>\n",
       "    <tr>\n",
       "      <th>15</th>\n",
       "      <td>2014</td>\n",
       "      <td>264</td>\n",
       "      <td>0.079029</td>\n",
       "      <td>333650</td>\n",
       "      <td>99.878463</td>\n",
       "    </tr>\n",
       "    <tr>\n",
       "      <th>16</th>\n",
       "      <td>1997</td>\n",
       "      <td>166</td>\n",
       "      <td>0.049692</td>\n",
       "      <td>333816</td>\n",
       "      <td>99.928156</td>\n",
       "    </tr>\n",
       "    <tr>\n",
       "      <th>17</th>\n",
       "      <td>1995</td>\n",
       "      <td>117</td>\n",
       "      <td>0.035024</td>\n",
       "      <td>333933</td>\n",
       "      <td>99.963180</td>\n",
       "    </tr>\n",
       "    <tr>\n",
       "      <th>18</th>\n",
       "      <td>1998</td>\n",
       "      <td>71</td>\n",
       "      <td>0.021254</td>\n",
       "      <td>334004</td>\n",
       "      <td>99.984434</td>\n",
       "    </tr>\n",
       "    <tr>\n",
       "      <th>19</th>\n",
       "      <td>1996</td>\n",
       "      <td>35</td>\n",
       "      <td>0.010477</td>\n",
       "      <td>334039</td>\n",
       "      <td>99.994911</td>\n",
       "    </tr>\n",
       "    <tr>\n",
       "      <th>20</th>\n",
       "      <td>1994</td>\n",
       "      <td>17</td>\n",
       "      <td>0.005089</td>\n",
       "      <td>334056</td>\n",
       "      <td>100.000000</td>\n",
       "    </tr>\n",
       "  </tbody>\n",
       "</table>\n",
       "</div>"
      ],
      "text/plain": [
       "    ApprovalFY  count    percent  cumulative_count  cumulative_percent\n",
       "0         2007  57028  17.071389             57028           17.071389\n",
       "1         2006  55606  16.645712            112634           33.717101\n",
       "2         2005  47292  14.156908            159926           47.874009\n",
       "3         2004  30929   9.258627            190855           57.132636\n",
       "4         2008  29650   8.875757            220505           66.008394\n",
       "5         2003  25406   7.605312            245911           73.613705\n",
       "6         2002  16396   4.908159            262307           78.521865\n",
       "7         2009  15079   4.513914            277386           83.035778\n",
       "8         2010  14017   4.196003            291403           87.231781\n",
       "9         2001  12739   3.813432            304142           91.045214\n",
       "10        2011  11724   3.509591            315866           94.554805\n",
       "11        2000   6892   2.063127            322758           96.617932\n",
       "12        2012   5560   1.664392            328318           98.282324\n",
       "13        1999   2700   0.808248            331018           99.090572\n",
       "14        2013   2368   0.708863            333386           99.799435\n",
       "15        2014    264   0.079029            333650           99.878463\n",
       "16        1997    166   0.049692            333816           99.928156\n",
       "17        1995    117   0.035024            333933           99.963180\n",
       "18        1998     71   0.021254            334004           99.984434\n",
       "19        1996     35   0.010477            334039           99.994911\n",
       "20        1994     17   0.005089            334056          100.000000"
      ]
     },
     "execution_count": 8,
     "metadata": {},
     "output_type": "execute_result"
    }
   ],
   "source": [
    "#sidetable\n",
    "df.stb.freq(['ApprovalFY'])\n",
    "#This code aims to find out the percentage of ApprovalFY \n",
    "#It appears that 2007 has highest percentage around 17.07%"
   ]
  },
  {
   "cell_type": "code",
   "execution_count": 9,
   "metadata": {},
   "outputs": [
    {
     "data": {
      "text/html": [
       "<div>\n",
       "<style scoped>\n",
       "    .dataframe tbody tr th:only-of-type {\n",
       "        vertical-align: middle;\n",
       "    }\n",
       "\n",
       "    .dataframe tbody tr th {\n",
       "        vertical-align: top;\n",
       "    }\n",
       "\n",
       "    .dataframe thead th {\n",
       "        text-align: right;\n",
       "    }\n",
       "</style>\n",
       "<table border=\"1\" class=\"dataframe\">\n",
       "  <thead>\n",
       "    <tr style=\"text-align: right;\">\n",
       "      <th>MIS_Status</th>\n",
       "      <th>CHGOFF</th>\n",
       "      <th>P I F</th>\n",
       "      <th>%Percent_Default</th>\n",
       "    </tr>\n",
       "    <tr>\n",
       "      <th>ApprovalFY</th>\n",
       "      <th></th>\n",
       "      <th></th>\n",
       "      <th></th>\n",
       "    </tr>\n",
       "  </thead>\n",
       "  <tbody>\n",
       "    <tr>\n",
       "      <th>1994</th>\n",
       "      <td>1</td>\n",
       "      <td>16</td>\n",
       "      <td>0.058824</td>\n",
       "    </tr>\n",
       "    <tr>\n",
       "      <th>1995</th>\n",
       "      <td>3</td>\n",
       "      <td>114</td>\n",
       "      <td>0.025641</td>\n",
       "    </tr>\n",
       "    <tr>\n",
       "      <th>1996</th>\n",
       "      <td>4</td>\n",
       "      <td>31</td>\n",
       "      <td>0.114286</td>\n",
       "    </tr>\n",
       "    <tr>\n",
       "      <th>1997</th>\n",
       "      <td>6</td>\n",
       "      <td>160</td>\n",
       "      <td>0.036145</td>\n",
       "    </tr>\n",
       "    <tr>\n",
       "      <th>1998</th>\n",
       "      <td>14</td>\n",
       "      <td>57</td>\n",
       "      <td>0.197183</td>\n",
       "    </tr>\n",
       "    <tr>\n",
       "      <th>1999</th>\n",
       "      <td>289</td>\n",
       "      <td>2411</td>\n",
       "      <td>0.107037</td>\n",
       "    </tr>\n",
       "    <tr>\n",
       "      <th>2000</th>\n",
       "      <td>837</td>\n",
       "      <td>6055</td>\n",
       "      <td>0.121445</td>\n",
       "    </tr>\n",
       "    <tr>\n",
       "      <th>2001</th>\n",
       "      <td>1693</td>\n",
       "      <td>11046</td>\n",
       "      <td>0.132899</td>\n",
       "    </tr>\n",
       "    <tr>\n",
       "      <th>2002</th>\n",
       "      <td>2168</td>\n",
       "      <td>14228</td>\n",
       "      <td>0.132227</td>\n",
       "    </tr>\n",
       "    <tr>\n",
       "      <th>2003</th>\n",
       "      <td>3627</td>\n",
       "      <td>21779</td>\n",
       "      <td>0.142762</td>\n",
       "    </tr>\n",
       "    <tr>\n",
       "      <th>2004</th>\n",
       "      <td>5303</td>\n",
       "      <td>25626</td>\n",
       "      <td>0.171457</td>\n",
       "    </tr>\n",
       "    <tr>\n",
       "      <th>2005</th>\n",
       "      <td>12660</td>\n",
       "      <td>34632</td>\n",
       "      <td>0.267699</td>\n",
       "    </tr>\n",
       "    <tr>\n",
       "      <th>2006</th>\n",
       "      <td>20120</td>\n",
       "      <td>35486</td>\n",
       "      <td>0.361831</td>\n",
       "    </tr>\n",
       "    <tr>\n",
       "      <th>2007</th>\n",
       "      <td>26247</td>\n",
       "      <td>30781</td>\n",
       "      <td>0.460248</td>\n",
       "    </tr>\n",
       "    <tr>\n",
       "      <th>2008</th>\n",
       "      <td>13762</td>\n",
       "      <td>15888</td>\n",
       "      <td>0.464148</td>\n",
       "    </tr>\n",
       "    <tr>\n",
       "      <th>2009</th>\n",
       "      <td>2950</td>\n",
       "      <td>12129</td>\n",
       "      <td>0.195636</td>\n",
       "    </tr>\n",
       "    <tr>\n",
       "      <th>2010</th>\n",
       "      <td>1537</td>\n",
       "      <td>12480</td>\n",
       "      <td>0.109653</td>\n",
       "    </tr>\n",
       "    <tr>\n",
       "      <th>2011</th>\n",
       "      <td>865</td>\n",
       "      <td>10859</td>\n",
       "      <td>0.073780</td>\n",
       "    </tr>\n",
       "    <tr>\n",
       "      <th>2012</th>\n",
       "      <td>300</td>\n",
       "      <td>5260</td>\n",
       "      <td>0.053957</td>\n",
       "    </tr>\n",
       "    <tr>\n",
       "      <th>2013</th>\n",
       "      <td>65</td>\n",
       "      <td>2303</td>\n",
       "      <td>0.027449</td>\n",
       "    </tr>\n",
       "    <tr>\n",
       "      <th>2014</th>\n",
       "      <td>5</td>\n",
       "      <td>259</td>\n",
       "      <td>0.018939</td>\n",
       "    </tr>\n",
       "  </tbody>\n",
       "</table>\n",
       "</div>"
      ],
      "text/plain": [
       "MIS_Status  CHGOFF  P I F  %Percent_Default\n",
       "ApprovalFY                                 \n",
       "1994             1     16          0.058824\n",
       "1995             3    114          0.025641\n",
       "1996             4     31          0.114286\n",
       "1997             6    160          0.036145\n",
       "1998            14     57          0.197183\n",
       "1999           289   2411          0.107037\n",
       "2000           837   6055          0.121445\n",
       "2001          1693  11046          0.132899\n",
       "2002          2168  14228          0.132227\n",
       "2003          3627  21779          0.142762\n",
       "2004          5303  25626          0.171457\n",
       "2005         12660  34632          0.267699\n",
       "2006         20120  35486          0.361831\n",
       "2007         26247  30781          0.460248\n",
       "2008         13762  15888          0.464148\n",
       "2009          2950  12129          0.195636\n",
       "2010          1537  12480          0.109653\n",
       "2011           865  10859          0.073780\n",
       "2012           300   5260          0.053957\n",
       "2013            65   2303          0.027449\n",
       "2014             5    259          0.018939"
      ]
     },
     "execution_count": 9,
     "metadata": {},
     "output_type": "execute_result"
    }
   ],
   "source": [
    "#crosstab between sector and MIS_Status\n",
    "df_year = pd.crosstab(index=df['ApprovalFY'], columns=df['MIS_Status'])\n",
    "\n",
    "#Default percentage\n",
    "df_year['%Percent_Default'] = df_year['CHGOFF']/(df_year['CHGOFF']+df_year['P I F'])\n",
    "df_year"
   ]
  },
  {
   "cell_type": "code",
   "execution_count": 10,
   "metadata": {},
   "outputs": [
    {
     "data": {
      "image/png": "[encoded data removed]",
      "text/plain": [
       "<Figure size 1080x432 with 1 Axes>"
      ]
     },
     "metadata": {
      "needs_background": "light"
     },
     "output_type": "display_data"
    }
   ],
   "source": [
    "#Visualization\n",
    "plt.figure(figsize=(15,6))\n",
    "plt.barh(df_year.index, df_year['%Percent_Default'])\n",
    "plt.title('Percentage of Default by Year')\n",
    "plt.xlabel('Percentage of Default')\n",
    "plt.ylabel('Year')\n",
    "plt.show()"
   ]
  },
  {
   "cell_type": "code",
   "execution_count": 56,
   "metadata": {},
   "outputs": [
    {
     "data": {
      "image/png": "[encoded data removed]",
      "text/plain": [
       "<Figure size 1080x360 with 1 Axes>"
      ]
     },
     "metadata": {
      "needs_background": "light"
     },
     "output_type": "display_data"
    }
   ],
   "source": [
    "# Visualisasi\n",
    "plt.figure(figsize=(15,5))\n",
    "sns.countplot(x=df['ApprovalFY'], hue=df['MIS_Status'])\n",
    "plt.title('Count of PIF and CHGOFF for Every Year')\n",
    "plt.xlabel('Year')\n",
    "plt.ylabel('Count of Loan ($)')\n",
    "plt.legend(['PIF','CHGOFF'], loc='best')\n",
    "plt.show()"
   ]
  },
  {
   "cell_type": "markdown",
   "metadata": {},
   "source": [
    "- Year with highest number of loan was 2007 (17.07%), followed by 2006(16.64%) and 2005(14.15%)\n",
    "- Year where has highest Percentage of default loan was 2008 (46.41%), followed by 2007(46.02%)\n",
    "- in 2006-2008 there was an increase in defaults. This is due to the recession that occured in that year"
   ]
  },
  {
   "cell_type": "markdown",
   "metadata": {},
   "source": [
    "### `isFranchise`"
   ]
  },
  {
   "cell_type": "code",
   "execution_count": 58,
   "metadata": {},
   "outputs": [
    {
     "data": {
      "text/html": [
       "<div>\n",
       "<style scoped>\n",
       "    .dataframe tbody tr th:only-of-type {\n",
       "        vertical-align: middle;\n",
       "    }\n",
       "\n",
       "    .dataframe tbody tr th {\n",
       "        vertical-align: top;\n",
       "    }\n",
       "\n",
       "    .dataframe thead th {\n",
       "        text-align: right;\n",
       "    }\n",
       "</style>\n",
       "<table border=\"1\" class=\"dataframe\">\n",
       "  <thead>\n",
       "    <tr style=\"text-align: right;\">\n",
       "      <th></th>\n",
       "      <th>isFranchise</th>\n",
       "      <th>count</th>\n",
       "      <th>percent</th>\n",
       "      <th>cumulative_count</th>\n",
       "      <th>cumulative_percent</th>\n",
       "    </tr>\n",
       "  </thead>\n",
       "  <tbody>\n",
       "    <tr>\n",
       "      <th>0</th>\n",
       "      <td>No Franchise</td>\n",
       "      <td>324495</td>\n",
       "      <td>97.137905</td>\n",
       "      <td>324495</td>\n",
       "      <td>97.137905</td>\n",
       "    </tr>\n",
       "    <tr>\n",
       "      <th>1</th>\n",
       "      <td>Franchise</td>\n",
       "      <td>9561</td>\n",
       "      <td>2.862095</td>\n",
       "      <td>334056</td>\n",
       "      <td>100.000000</td>\n",
       "    </tr>\n",
       "  </tbody>\n",
       "</table>\n",
       "</div>"
      ],
      "text/plain": [
       "    isFranchise   count    percent  cumulative_count  cumulative_percent\n",
       "0  No Franchise  324495  97.137905            324495           97.137905\n",
       "1     Franchise    9561   2.862095            334056          100.000000"
      ]
     },
     "execution_count": 58,
     "metadata": {},
     "output_type": "execute_result"
    }
   ],
   "source": [
    "#sidetable\n",
    "df.stb.freq(['isFranchise'])\n",
    "#This code aims to find out the percentage of isFranchise \n",
    "#It appears that No Franchise has highest percentage around 97.13%"
   ]
  },
  {
   "cell_type": "code",
   "execution_count": 60,
   "metadata": {},
   "outputs": [
    {
     "data": {
      "text/html": [
       "<div>\n",
       "<style scoped>\n",
       "    .dataframe tbody tr th:only-of-type {\n",
       "        vertical-align: middle;\n",
       "    }\n",
       "\n",
       "    .dataframe tbody tr th {\n",
       "        vertical-align: top;\n",
       "    }\n",
       "\n",
       "    .dataframe thead th {\n",
       "        text-align: right;\n",
       "    }\n",
       "</style>\n",
       "<table border=\"1\" class=\"dataframe\">\n",
       "  <thead>\n",
       "    <tr style=\"text-align: right;\">\n",
       "      <th>MIS_Status</th>\n",
       "      <th>CHGOFF</th>\n",
       "      <th>P I F</th>\n",
       "    </tr>\n",
       "    <tr>\n",
       "      <th>isFranchise</th>\n",
       "      <th></th>\n",
       "      <th></th>\n",
       "    </tr>\n",
       "  </thead>\n",
       "  <tbody>\n",
       "    <tr>\n",
       "      <th>Franchise</th>\n",
       "      <td>2.84</td>\n",
       "      <td>4.2</td>\n",
       "    </tr>\n",
       "    <tr>\n",
       "      <th>No Franchise</th>\n",
       "      <td>97.16</td>\n",
       "      <td>95.8</td>\n",
       "    </tr>\n",
       "  </tbody>\n",
       "</table>\n",
       "</div>"
      ],
      "text/plain": [
       "MIS_Status    CHGOFF  P I F\n",
       "isFranchise                \n",
       "Franchise       2.84    4.2\n",
       "No Franchise   97.16   95.8"
      ]
     },
     "execution_count": 60,
     "metadata": {},
     "output_type": "execute_result"
    }
   ],
   "source": [
    "((pd.crosstab(index=df['isFranchise'], columns=df['MIS_Status'], normalize='columns'))*100).round(2)"
   ]
  },
  {
   "cell_type": "code",
   "execution_count": 59,
   "metadata": {},
   "outputs": [
    {
     "data": {
      "image/png": "[encoded data removed]",
      "text/plain": [
       "<Figure size 432x360 with 1 Axes>"
      ]
     },
     "metadata": {
      "needs_background": "light"
     },
     "output_type": "display_data"
    }
   ],
   "source": [
    "# Visualization\n",
    "plt.figure(figsize=(6,5))\n",
    "sns.countplot(df['isFranchise'], hue=df['MIS_Status'], palette='rainbow')\n",
    "plt.show()"
   ]
  },
  {
   "cell_type": "markdown",
   "metadata": {},
   "source": [
    "- Mostly small business that CHGOFF didn't come from Franchise"
   ]
  },
  {
   "cell_type": "markdown",
   "metadata": {},
   "source": [
    "### `sameState`"
   ]
  },
  {
   "cell_type": "code",
   "execution_count": 16,
   "metadata": {},
   "outputs": [
    {
     "data": {
      "text/html": [
       "<div>\n",
       "<style scoped>\n",
       "    .dataframe tbody tr th:only-of-type {\n",
       "        vertical-align: middle;\n",
       "    }\n",
       "\n",
       "    .dataframe tbody tr th {\n",
       "        vertical-align: top;\n",
       "    }\n",
       "\n",
       "    .dataframe thead th {\n",
       "        text-align: right;\n",
       "    }\n",
       "</style>\n",
       "<table border=\"1\" class=\"dataframe\">\n",
       "  <thead>\n",
       "    <tr style=\"text-align: right;\">\n",
       "      <th></th>\n",
       "      <th>sameState</th>\n",
       "      <th>count</th>\n",
       "      <th>percent</th>\n",
       "      <th>cumulative_count</th>\n",
       "      <th>cumulative_percent</th>\n",
       "    </tr>\n",
       "  </thead>\n",
       "  <tbody>\n",
       "    <tr>\n",
       "      <th>0</th>\n",
       "      <td>0</td>\n",
       "      <td>218412</td>\n",
       "      <td>65.381852</td>\n",
       "      <td>218412</td>\n",
       "      <td>65.381852</td>\n",
       "    </tr>\n",
       "    <tr>\n",
       "      <th>1</th>\n",
       "      <td>1</td>\n",
       "      <td>115644</td>\n",
       "      <td>34.618148</td>\n",
       "      <td>334056</td>\n",
       "      <td>100.000000</td>\n",
       "    </tr>\n",
       "  </tbody>\n",
       "</table>\n",
       "</div>"
      ],
      "text/plain": [
       "   sameState   count    percent  cumulative_count  cumulative_percent\n",
       "0          0  218412  65.381852            218412           65.381852\n",
       "1          1  115644  34.618148            334056          100.000000"
      ]
     },
     "execution_count": 16,
     "metadata": {},
     "output_type": "execute_result"
    }
   ],
   "source": [
    "#sidetable\n",
    "df.stb.freq(['sameState'])\n",
    "#This code aims to find out the percentage of sameState \n",
    "#It appears that different State(0) has highest percentage around 65.38%"
   ]
  },
  {
   "cell_type": "code",
   "execution_count": 19,
   "metadata": {},
   "outputs": [
    {
     "data": {
      "text/html": [
       "<div>\n",
       "<style scoped>\n",
       "    .dataframe tbody tr th:only-of-type {\n",
       "        vertical-align: middle;\n",
       "    }\n",
       "\n",
       "    .dataframe tbody tr th {\n",
       "        vertical-align: top;\n",
       "    }\n",
       "\n",
       "    .dataframe thead th {\n",
       "        text-align: right;\n",
       "    }\n",
       "</style>\n",
       "<table border=\"1\" class=\"dataframe\">\n",
       "  <thead>\n",
       "    <tr style=\"text-align: right;\">\n",
       "      <th>MIS_Status</th>\n",
       "      <th>CHGOFF</th>\n",
       "      <th>P I F</th>\n",
       "    </tr>\n",
       "    <tr>\n",
       "      <th>sameState</th>\n",
       "      <th></th>\n",
       "      <th></th>\n",
       "    </tr>\n",
       "  </thead>\n",
       "  <tbody>\n",
       "    <tr>\n",
       "      <th>0</th>\n",
       "      <td>77.98</td>\n",
       "      <td>60.56</td>\n",
       "    </tr>\n",
       "    <tr>\n",
       "      <th>1</th>\n",
       "      <td>22.02</td>\n",
       "      <td>39.44</td>\n",
       "    </tr>\n",
       "  </tbody>\n",
       "</table>\n",
       "</div>"
      ],
      "text/plain": [
       "MIS_Status  CHGOFF  P I F\n",
       "sameState                \n",
       "0            77.98  60.56\n",
       "1            22.02  39.44"
      ]
     },
     "execution_count": 19,
     "metadata": {},
     "output_type": "execute_result"
    }
   ],
   "source": [
    "((pd.crosstab(index=df['sameState'], columns=df['MIS_Status'], normalize='columns'))*100).round(2)"
   ]
  },
  {
   "cell_type": "code",
   "execution_count": 20,
   "metadata": {},
   "outputs": [
    {
     "data": {
      "image/png": "[encoded data removed]",
      "text/plain": [
       "<Figure size 432x360 with 1 Axes>"
      ]
     },
     "metadata": {
      "needs_background": "light"
     },
     "output_type": "display_data"
    }
   ],
   "source": [
    "# Visualization\n",
    "plt.figure(figsize=(6,5))\n",
    "sns.countplot(df['sameState'], hue=df['MIS_Status'], palette='rainbow')\n",
    "# plt.savefig('sameState.png')\n",
    "plt.show()"
   ]
  },
  {
   "cell_type": "markdown",
   "metadata": {},
   "source": [
    "- Mostly small business that CHGOFF come from different State with percentage 77.98%"
   ]
  },
  {
   "cell_type": "markdown",
   "metadata": {},
   "source": [
    "### `Portion`"
   ]
  },
  {
   "cell_type": "code",
   "execution_count": 65,
   "metadata": {},
   "outputs": [
    {
     "data": {
      "text/plain": [
       "MIS_Status\n",
       "CHGOFF    0.575369\n",
       "P I F     0.577951\n",
       "Name: Portion, dtype: float64"
      ]
     },
     "execution_count": 65,
     "metadata": {},
     "output_type": "execute_result"
    }
   ],
   "source": [
    "df['Portion'].groupby(df['MIS_Status']).mean()"
   ]
  },
  {
   "cell_type": "code",
   "execution_count": 63,
   "metadata": {},
   "outputs": [
    {
     "data": {
      "text/plain": [
       "sector\n",
       "Ag_fores_ﬁshi_hunting           0.690711\n",
       "Mining_quar_oil_gas_ext         0.632137\n",
       "Accommodation_food_serv         0.627675\n",
       "Arts_enter_recreation           0.601150\n",
       "Health_care_social_ass          0.595870\n",
       "Manufacturing                   0.595689\n",
       "Retail_trade                    0.586010\n",
       "Educational_services            0.583444\n",
       "Public_admin                    0.576829\n",
       "Other_no_pub                    0.575890\n",
       "Information                     0.573000\n",
       "Wholesale_trade                 0.572880\n",
       "Management_and_enterprises      0.566438\n",
       "Utilities                       0.565340\n",
       "RE_rental_leasing               0.557050\n",
       "Finance_insurance               0.556301\n",
       "Trans_Ware                      0.554576\n",
       "Admini_sup_and_waste_mgm_rem    0.552377\n",
       "Prof_scien_and_tech_serv        0.552264\n",
       "Construction                    0.542746\n",
       "Name: Portion, dtype: float64"
      ]
     },
     "execution_count": 63,
     "metadata": {},
     "output_type": "execute_result"
    }
   ],
   "source": [
    "# This code aims to know which sector that has high portion\n",
    "df['Portion'].groupby(df['sector']).mean().sort_values(ascending=False)"
   ]
  },
  {
   "cell_type": "code",
   "execution_count": 64,
   "metadata": {},
   "outputs": [
    {
     "data": {
      "image/png": "[encoded data removed]",
      "text/plain": [
       "<Figure size 1440x720 with 1 Axes>"
      ]
     },
     "metadata": {
      "needs_background": "light"
     },
     "output_type": "display_data"
    }
   ],
   "source": [
    "# Visualisasi\n",
    "plt.figure(figsize=(20,10))\n",
    "sns.barplot(y=df['sector'], x=df['Portion'], orient='h')\n",
    "plt.title('Portion of SBA Guarantee for Each Sector')\n",
    "plt.xlabel('Sector')\n",
    "plt.ylabel('Portion')\n",
    "plt.show()"
   ]
  },
  {
   "cell_type": "markdown",
   "metadata": {},
   "source": [
    "- Agriculture, forestry, fishing and hunting has highest mean of Portion that SBA guarantee around 69.07%"
   ]
  },
  {
   "cell_type": "markdown",
   "metadata": {},
   "source": [
    "### Conclusion\n",
    "- Percentage of borrower who pain in full (PIF) around 72.33% while borrower who charge off around 27.67%\n",
    "- Loan backed up by real estate has lower CHGOFF (4.41%) rather than not backed up by real estate (28.51%)\n",
    "- Whether the business was Existing Business or New Business, both of them has same risk of CHGOFF\n",
    "- Most of CHGOFF come from Urban with percentage 86.24%\n",
    "- Small busines with revolving line of credit has lower risk of default loan with percentage 26.26%\n",
    "- Mostly for small business that has default loan (CHGOFF) didn't come from LowDoc. The percentage of LowDoc that CHGOFF only 15.44%\n",
    "- CHGOFF with low DisbursementGross has higher percentage 30.67% rather than high DisbursementGross. Its means that mostly CHGOFF come from small business with low DisbursementGross\n",
    "- Year with highest number of loan was 2007 (17.07%), followed by 2006(16.64%) and 2005(14.15%)\n",
    "- Year where has highest Percentage of default loan was 2008 (46.41%), followed by 2007(46.02%)\n",
    "- Mostly small business that CHGOFF come from different State with percentage 77.98%\n",
    "- Agriculture, forestry, fishing and hunting has highest mean of Portion that SBA guarantee\n",
    "- Sector Feature\n",
    "    - Retail trade and Manufacturing has significantly loan disbursement compare to another sector\n",
    "    - Mining, quarrying, and oil and gas extraction  has highest median of Gross amount of loan approved by bank around 100000.0, followed by Agriculture, forestry, fishing and hunting \n",
    "    - Sector that has highest default was Real estate and rental and leasing (37.51%), followed by Finance and Insurance (34.91%) and Transportation and warehousing (31.44%)\n"
   ]
  },
  {
   "cell_type": "markdown",
   "metadata": {},
   "source": [
    "### Recommendation\n",
    "Here are some suggestion to reduce the risk of default:\n",
    "- Small Business with low amount disbursement, term less than 240 month, and come from sector Real estate and rental and leasing should more get attention by lender. Lender could recommend counseling to Business owners through SBA Program to make reduce the risk of default in future.\n",
    "- Lender should more pay attention to Small Business location to prevent default due to different State. When the borrowers has different State with Lender, lender could offer another lender that has same State.\n"
   ]
  },
  {
   "cell_type": "code",
   "execution_count": null,
   "metadata": {},
   "outputs": [],
   "source": []
  }
 ],
 "metadata": {
  "kernelspec": {
   "display_name": "Python 3",
   "language": "python",
   "name": "python3"
  },
  "language_info": {
   "codemirror_mode": {
    "name": "ipython",
    "version": 3
   },
   "file_extension": ".py",
   "mimetype": "text/x-python",
   "name": "python",
   "nbconvert_exporter": "python",
   "pygments_lexer": "ipython3",
   "version": "3.8.3"
  }
 },
 "nbformat": 4,
 "nbformat_minor": 4
}
