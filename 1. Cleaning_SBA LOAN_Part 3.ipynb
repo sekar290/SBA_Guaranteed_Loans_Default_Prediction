{
 "cells": [
  {
   "attachments": {},
   "cell_type": "markdown",
   "metadata": {},
   "source": [
    "<h2 style=\"text-align: center;\" > <strong>SBA Loand Default Prediction</strong></h2>\n",
    "\n",
    "### What is the SBA?\n",
    "The SBA was created in 1953 and is a U.S. federal government agency tasked with providing counseling, capital and contracting expertise for entrepreneurs. SBA loans are just a part of what it offers. Small business owners can also get free counseling through resource partners such as Small Business Development Centers, SCORE, Veteran’s Business Centers and Women’s Business Centers. It also provides assistance and expertise for businesses that want to qualify for government contracts or export to other countries. It is funded by taxpayers through Congressional appropriations. That means your tax dollars help it help small business owners, so be sure you take advantage of what it has to offer.\n",
    "\n",
    "Small businesses have been the primary source of employment in the United States. Helping small businesses help with job creation, which reduces unemployment. Small business growth also promotes economic growth. One of the ways the SBA helps small businesses is by guaranteeing bank loans. This guarantee reduces the risk to banks and encourages them to lend to small businesses. If the loan defaults, the SBA covers the amount guaranteed, and the bank suffers a loss for the remaining balance.\n",
    "\n",
    "### Dataset\n",
    "The dataset that I used in this analyst come from [Kaggle!](https://www.kaggle.com/mirbektoktogaraev/should-this-loan-be-approved-or-denied). This dataset contains 27 features with some categorical and numerical features. The target was MIS_Status which showed loan status (CHGOFF or PIF)\n",
    "\n",
    "### Problem\n",
    "The default rate for the 10-year period ending in 2008, when nearly 1 in 4 (24.7%) SBA loans weren’t paid back. It means that SBA would have loss due to Small Business couldn’t make repayment\n",
    "\n",
    "### Goals\n",
    "Being able to early detected of SBA loan default could reduce the risk of loss for Small Business Administration.\n",
    "\n",
    "\n",
    "\n",
    "### Step of Work\n",
    "**Step 1** : In this step, I would to clean the dataset includes handling missing values, subset data, feature engineering and feature selection for next step"
   ]
  },
  {
   "cell_type": "code",
   "execution_count": 1,
   "metadata": {},
   "outputs": [],
   "source": [
    "# import common pakages\n",
    "import pandas as pd\n",
    "import numpy as np\n",
    "import seaborn as sns\n",
    "import warnings\n",
    "warnings.filterwarnings('ignore')\n",
    "import matplotlib.pyplot as plt\n",
    "import sidetable\n",
    "\n",
    "%matplotlib inline"
   ]
  },
  {
   "cell_type": "code",
   "execution_count": 2,
   "metadata": {},
   "outputs": [
    {
     "data": {
      "text/html": [
       "<div>\n",
       "<style scoped>\n",
       "    .dataframe tbody tr th:only-of-type {\n",
       "        vertical-align: middle;\n",
       "    }\n",
       "\n",
       "    .dataframe tbody tr th {\n",
       "        vertical-align: top;\n",
       "    }\n",
       "\n",
       "    .dataframe thead th {\n",
       "        text-align: right;\n",
       "    }\n",
       "</style>\n",
       "<table border=\"1\" class=\"dataframe\">\n",
       "  <thead>\n",
       "    <tr style=\"text-align: right;\">\n",
       "      <th></th>\n",
       "      <th>LoanNr_ChkDgt</th>\n",
       "      <th>Name</th>\n",
       "      <th>City</th>\n",
       "      <th>State</th>\n",
       "      <th>Zip</th>\n",
       "      <th>Bank</th>\n",
       "      <th>BankState</th>\n",
       "      <th>NAICS</th>\n",
       "      <th>ApprovalDate</th>\n",
       "      <th>ApprovalFY</th>\n",
       "      <th>...</th>\n",
       "      <th>RevLineCr</th>\n",
       "      <th>LowDoc</th>\n",
       "      <th>ChgOffDate</th>\n",
       "      <th>DisbursementDate</th>\n",
       "      <th>DisbursementGross</th>\n",
       "      <th>BalanceGross</th>\n",
       "      <th>MIS_Status</th>\n",
       "      <th>ChgOffPrinGr</th>\n",
       "      <th>GrAppv</th>\n",
       "      <th>SBA_Appv</th>\n",
       "    </tr>\n",
       "  </thead>\n",
       "  <tbody>\n",
       "    <tr>\n",
       "      <th>0</th>\n",
       "      <td>1000014003</td>\n",
       "      <td>ABC HOBBYCRAFT</td>\n",
       "      <td>EVANSVILLE</td>\n",
       "      <td>IN</td>\n",
       "      <td>47711</td>\n",
       "      <td>FIFTH THIRD BANK</td>\n",
       "      <td>OH</td>\n",
       "      <td>451120</td>\n",
       "      <td>28-Feb-97</td>\n",
       "      <td>1997</td>\n",
       "      <td>...</td>\n",
       "      <td>N</td>\n",
       "      <td>Y</td>\n",
       "      <td>NaN</td>\n",
       "      <td>28-Feb-99</td>\n",
       "      <td>$60,000.00</td>\n",
       "      <td>$0.00</td>\n",
       "      <td>P I F</td>\n",
       "      <td>$0.00</td>\n",
       "      <td>$60,000.00</td>\n",
       "      <td>$48,000.00</td>\n",
       "    </tr>\n",
       "    <tr>\n",
       "      <th>1</th>\n",
       "      <td>1000024006</td>\n",
       "      <td>LANDMARK BAR &amp; GRILLE (THE)</td>\n",
       "      <td>NEW PARIS</td>\n",
       "      <td>IN</td>\n",
       "      <td>46526</td>\n",
       "      <td>1ST SOURCE BANK</td>\n",
       "      <td>IN</td>\n",
       "      <td>722410</td>\n",
       "      <td>28-Feb-97</td>\n",
       "      <td>1997</td>\n",
       "      <td>...</td>\n",
       "      <td>N</td>\n",
       "      <td>Y</td>\n",
       "      <td>NaN</td>\n",
       "      <td>31-May-97</td>\n",
       "      <td>$40,000.00</td>\n",
       "      <td>$0.00</td>\n",
       "      <td>P I F</td>\n",
       "      <td>$0.00</td>\n",
       "      <td>$40,000.00</td>\n",
       "      <td>$32,000.00</td>\n",
       "    </tr>\n",
       "    <tr>\n",
       "      <th>2</th>\n",
       "      <td>1000034009</td>\n",
       "      <td>WHITLOCK DDS, TODD M.</td>\n",
       "      <td>BLOOMINGTON</td>\n",
       "      <td>IN</td>\n",
       "      <td>47401</td>\n",
       "      <td>GRANT COUNTY STATE BANK</td>\n",
       "      <td>IN</td>\n",
       "      <td>621210</td>\n",
       "      <td>28-Feb-97</td>\n",
       "      <td>1997</td>\n",
       "      <td>...</td>\n",
       "      <td>N</td>\n",
       "      <td>N</td>\n",
       "      <td>NaN</td>\n",
       "      <td>31-Dec-97</td>\n",
       "      <td>$287,000.00</td>\n",
       "      <td>$0.00</td>\n",
       "      <td>P I F</td>\n",
       "      <td>$0.00</td>\n",
       "      <td>$287,000.00</td>\n",
       "      <td>$215,250.00</td>\n",
       "    </tr>\n",
       "    <tr>\n",
       "      <th>3</th>\n",
       "      <td>1000044001</td>\n",
       "      <td>BIG BUCKS PAWN &amp; JEWELRY, LLC</td>\n",
       "      <td>BROKEN ARROW</td>\n",
       "      <td>OK</td>\n",
       "      <td>74012</td>\n",
       "      <td>1ST NATL BK &amp; TR CO OF BROKEN</td>\n",
       "      <td>OK</td>\n",
       "      <td>0</td>\n",
       "      <td>28-Feb-97</td>\n",
       "      <td>1997</td>\n",
       "      <td>...</td>\n",
       "      <td>N</td>\n",
       "      <td>Y</td>\n",
       "      <td>NaN</td>\n",
       "      <td>30-Jun-97</td>\n",
       "      <td>$35,000.00</td>\n",
       "      <td>$0.00</td>\n",
       "      <td>P I F</td>\n",
       "      <td>$0.00</td>\n",
       "      <td>$35,000.00</td>\n",
       "      <td>$28,000.00</td>\n",
       "    </tr>\n",
       "    <tr>\n",
       "      <th>4</th>\n",
       "      <td>1000054004</td>\n",
       "      <td>ANASTASIA CONFECTIONS, INC.</td>\n",
       "      <td>ORLANDO</td>\n",
       "      <td>FL</td>\n",
       "      <td>32801</td>\n",
       "      <td>FLORIDA BUS. DEVEL CORP</td>\n",
       "      <td>FL</td>\n",
       "      <td>0</td>\n",
       "      <td>28-Feb-97</td>\n",
       "      <td>1997</td>\n",
       "      <td>...</td>\n",
       "      <td>N</td>\n",
       "      <td>N</td>\n",
       "      <td>NaN</td>\n",
       "      <td>14-May-97</td>\n",
       "      <td>$229,000.00</td>\n",
       "      <td>$0.00</td>\n",
       "      <td>P I F</td>\n",
       "      <td>$0.00</td>\n",
       "      <td>$229,000.00</td>\n",
       "      <td>$229,000.00</td>\n",
       "    </tr>\n",
       "  </tbody>\n",
       "</table>\n",
       "<p>5 rows × 27 columns</p>\n",
       "</div>"
      ],
      "text/plain": [
       "   LoanNr_ChkDgt                           Name          City State    Zip  \\\n",
       "0     1000014003                 ABC HOBBYCRAFT    EVANSVILLE    IN  47711   \n",
       "1     1000024006    LANDMARK BAR & GRILLE (THE)     NEW PARIS    IN  46526   \n",
       "2     1000034009          WHITLOCK DDS, TODD M.   BLOOMINGTON    IN  47401   \n",
       "3     1000044001  BIG BUCKS PAWN & JEWELRY, LLC  BROKEN ARROW    OK  74012   \n",
       "4     1000054004    ANASTASIA CONFECTIONS, INC.       ORLANDO    FL  32801   \n",
       "\n",
       "                            Bank BankState   NAICS ApprovalDate ApprovalFY  \\\n",
       "0               FIFTH THIRD BANK        OH  451120    28-Feb-97       1997   \n",
       "1                1ST SOURCE BANK        IN  722410    28-Feb-97       1997   \n",
       "2        GRANT COUNTY STATE BANK        IN  621210    28-Feb-97       1997   \n",
       "3  1ST NATL BK & TR CO OF BROKEN        OK       0    28-Feb-97       1997   \n",
       "4        FLORIDA BUS. DEVEL CORP        FL       0    28-Feb-97       1997   \n",
       "\n",
       "   ...  RevLineCr  LowDoc  ChgOffDate  DisbursementDate  DisbursementGross  \\\n",
       "0  ...          N       Y         NaN         28-Feb-99        $60,000.00    \n",
       "1  ...          N       Y         NaN         31-May-97        $40,000.00    \n",
       "2  ...          N       N         NaN         31-Dec-97       $287,000.00    \n",
       "3  ...          N       Y         NaN         30-Jun-97        $35,000.00    \n",
       "4  ...          N       N         NaN         14-May-97       $229,000.00    \n",
       "\n",
       "   BalanceGross  MIS_Status ChgOffPrinGr        GrAppv      SBA_Appv  \n",
       "0        $0.00        P I F       $0.00    $60,000.00    $48,000.00   \n",
       "1        $0.00        P I F       $0.00    $40,000.00    $32,000.00   \n",
       "2        $0.00        P I F       $0.00   $287,000.00   $215,250.00   \n",
       "3        $0.00        P I F       $0.00    $35,000.00    $28,000.00   \n",
       "4        $0.00        P I F       $0.00   $229,000.00   $229,000.00   \n",
       "\n",
       "[5 rows x 27 columns]"
      ]
     },
     "execution_count": 2,
     "metadata": {},
     "output_type": "execute_result"
    }
   ],
   "source": [
    "df = pd.read_csv(r'SBAnational.csv')\n",
    "df.head()"
   ]
  },
  {
   "cell_type": "code",
   "execution_count": 3,
   "metadata": {},
   "outputs": [
    {
     "data": {
      "text/plain": [
       "LoanNr_ChkDgt          int64\n",
       "Name                  object\n",
       "City                  object\n",
       "State                 object\n",
       "Zip                    int64\n",
       "Bank                  object\n",
       "BankState             object\n",
       "NAICS                  int64\n",
       "ApprovalDate          object\n",
       "ApprovalFY            object\n",
       "Term                   int64\n",
       "NoEmp                  int64\n",
       "NewExist             float64\n",
       "CreateJob              int64\n",
       "RetainedJob            int64\n",
       "FranchiseCode          int64\n",
       "UrbanRural             int64\n",
       "RevLineCr             object\n",
       "LowDoc                object\n",
       "ChgOffDate            object\n",
       "DisbursementDate      object\n",
       "DisbursementGross     object\n",
       "BalanceGross          object\n",
       "MIS_Status            object\n",
       "ChgOffPrinGr          object\n",
       "GrAppv                object\n",
       "SBA_Appv              object\n",
       "dtype: object"
      ]
     },
     "execution_count": 3,
     "metadata": {},
     "output_type": "execute_result"
    }
   ],
   "source": [
    "df.dtypes"
   ]
  },
  {
   "cell_type": "code",
   "execution_count": 4,
   "metadata": {},
   "outputs": [
    {
     "name": "stdout",
     "output_type": "stream",
     "text": [
      "<class 'pandas.core.frame.DataFrame'>\n",
      "RangeIndex: 899164 entries, 0 to 899163\n",
      "Data columns (total 27 columns):\n",
      " #   Column             Non-Null Count   Dtype  \n",
      "---  ------             --------------   -----  \n",
      " 0   LoanNr_ChkDgt      899164 non-null  int64  \n",
      " 1   Name               899150 non-null  object \n",
      " 2   City               899134 non-null  object \n",
      " 3   State              899150 non-null  object \n",
      " 4   Zip                899164 non-null  int64  \n",
      " 5   Bank               897605 non-null  object \n",
      " 6   BankState          897598 non-null  object \n",
      " 7   NAICS              899164 non-null  int64  \n",
      " 8   ApprovalDate       899164 non-null  object \n",
      " 9   ApprovalFY         899164 non-null  object \n",
      " 10  Term               899164 non-null  int64  \n",
      " 11  NoEmp              899164 non-null  int64  \n",
      " 12  NewExist           899028 non-null  float64\n",
      " 13  CreateJob          899164 non-null  int64  \n",
      " 14  RetainedJob        899164 non-null  int64  \n",
      " 15  FranchiseCode      899164 non-null  int64  \n",
      " 16  UrbanRural         899164 non-null  int64  \n",
      " 17  RevLineCr          894636 non-null  object \n",
      " 18  LowDoc             896582 non-null  object \n",
      " 19  ChgOffDate         162699 non-null  object \n",
      " 20  DisbursementDate   896796 non-null  object \n",
      " 21  DisbursementGross  899164 non-null  object \n",
      " 22  BalanceGross       899164 non-null  object \n",
      " 23  MIS_Status         897167 non-null  object \n",
      " 24  ChgOffPrinGr       899164 non-null  object \n",
      " 25  GrAppv             899164 non-null  object \n",
      " 26  SBA_Appv           899164 non-null  object \n",
      "dtypes: float64(1), int64(9), object(17)\n",
      "memory usage: 185.2+ MB\n"
     ]
    }
   ],
   "source": [
    "df.info()"
   ]
  },
  {
   "cell_type": "markdown",
   "metadata": {},
   "source": [
    "### Missing Values"
   ]
  },
  {
   "cell_type": "code",
   "execution_count": 5,
   "metadata": {},
   "outputs": [
    {
     "data": {
      "text/plain": [
       "LoanNr_ChkDgt         0.0000\n",
       "Name                  0.0016\n",
       "City                  0.0033\n",
       "State                 0.0016\n",
       "Zip                   0.0000\n",
       "Bank                  0.1734\n",
       "BankState             0.1742\n",
       "NAICS                 0.0000\n",
       "ApprovalDate          0.0000\n",
       "ApprovalFY            0.0000\n",
       "Term                  0.0000\n",
       "NoEmp                 0.0000\n",
       "NewExist              0.0151\n",
       "CreateJob             0.0000\n",
       "RetainedJob           0.0000\n",
       "FranchiseCode         0.0000\n",
       "UrbanRural            0.0000\n",
       "RevLineCr             0.5036\n",
       "LowDoc                0.2872\n",
       "ChgOffDate           81.9055\n",
       "DisbursementDate      0.2634\n",
       "DisbursementGross     0.0000\n",
       "BalanceGross          0.0000\n",
       "MIS_Status            0.2221\n",
       "ChgOffPrinGr          0.0000\n",
       "GrAppv                0.0000\n",
       "SBA_Appv              0.0000\n",
       "dtype: float64"
      ]
     },
     "execution_count": 5,
     "metadata": {},
     "output_type": "execute_result"
    }
   ],
   "source": [
    "## Checking missing value\n",
    "(((df.isna().sum())/len(df))*100).round(4)"
   ]
  },
  {
   "cell_type": "markdown",
   "metadata": {},
   "source": [
    "### Handling Missing Values, Feature Engineering, Feature Selection"
   ]
  },
  {
   "cell_type": "markdown",
   "metadata": {},
   "source": [
    "### Name, City, State, Zip"
   ]
  },
  {
   "cell_type": "code",
   "execution_count": 6,
   "metadata": {},
   "outputs": [],
   "source": [
    "## Handling Missing Value\n",
    "\n",
    "# Name, City, State and Zip columns is Borrower information\n",
    "# Name columns has 0.0016 missing values, in this column I would not impute since it was unique and I would not use the column for analyst\n",
    "# So, I drop Name column\n",
    "df.drop(columns='Name', inplace=True)"
   ]
  },
  {
   "cell_type": "code",
   "execution_count": 7,
   "metadata": {},
   "outputs": [],
   "source": [
    "## Handling Missing Values\n",
    "\n",
    "# For City and State columns has missing values each 0.0033 and 0.0016\n",
    "# Zip columns has no missing values\n",
    "# I would imputes City and State columns using Zip\n",
    "# Since City and State has object type, I would use mode\n",
    "\n",
    "df['City'] = df.groupby('Zip')['City'].transform(lambda x: x.fillna(x.mode()[0] if not x.mode().empty else 'Empty'))\n",
    "df['State'] = df.groupby('Zip')['State'].transform(lambda x: x.fillna(x.mode()[0] if not x.mode().empty else 'Empty'))\n"
   ]
  },
  {
   "cell_type": "code",
   "execution_count": 8,
   "metadata": {},
   "outputs": [
    {
     "data": {
      "text/html": [
       "<div>\n",
       "<style scoped>\n",
       "    .dataframe tbody tr th:only-of-type {\n",
       "        vertical-align: middle;\n",
       "    }\n",
       "\n",
       "    .dataframe tbody tr th {\n",
       "        vertical-align: top;\n",
       "    }\n",
       "\n",
       "    .dataframe thead th {\n",
       "        text-align: right;\n",
       "    }\n",
       "</style>\n",
       "<table border=\"1\" class=\"dataframe\">\n",
       "  <thead>\n",
       "    <tr style=\"text-align: right;\">\n",
       "      <th></th>\n",
       "      <th>LoanNr_ChkDgt</th>\n",
       "      <th>City</th>\n",
       "      <th>State</th>\n",
       "      <th>Zip</th>\n",
       "      <th>Bank</th>\n",
       "      <th>BankState</th>\n",
       "      <th>NAICS</th>\n",
       "      <th>ApprovalDate</th>\n",
       "      <th>ApprovalFY</th>\n",
       "      <th>Term</th>\n",
       "      <th>...</th>\n",
       "      <th>RevLineCr</th>\n",
       "      <th>LowDoc</th>\n",
       "      <th>ChgOffDate</th>\n",
       "      <th>DisbursementDate</th>\n",
       "      <th>DisbursementGross</th>\n",
       "      <th>BalanceGross</th>\n",
       "      <th>MIS_Status</th>\n",
       "      <th>ChgOffPrinGr</th>\n",
       "      <th>GrAppv</th>\n",
       "      <th>SBA_Appv</th>\n",
       "    </tr>\n",
       "  </thead>\n",
       "  <tbody>\n",
       "    <tr>\n",
       "      <th>306274</th>\n",
       "      <td>3113583009</td>\n",
       "      <td>BOX 267, APO  AP</td>\n",
       "      <td>Empty</td>\n",
       "      <td>96205</td>\n",
       "      <td>RTC/WESTPORT SAVINGS BANK</td>\n",
       "      <td>CA</td>\n",
       "      <td>541511</td>\n",
       "      <td>21-Jan-88</td>\n",
       "      <td>1988</td>\n",
       "      <td>73</td>\n",
       "      <td>...</td>\n",
       "      <td>N</td>\n",
       "      <td>N</td>\n",
       "      <td>18-Sep-93</td>\n",
       "      <td>16-Mar-88</td>\n",
       "      <td>$50,000.00</td>\n",
       "      <td>$0.00</td>\n",
       "      <td>CHGOFF</td>\n",
       "      <td>$30,589.00</td>\n",
       "      <td>$50,000.00</td>\n",
       "      <td>$45,000.00</td>\n",
       "    </tr>\n",
       "  </tbody>\n",
       "</table>\n",
       "<p>1 rows × 26 columns</p>\n",
       "</div>"
      ],
      "text/plain": [
       "        LoanNr_ChkDgt              City  State    Zip  \\\n",
       "306274     3113583009  BOX 267, APO  AP  Empty  96205   \n",
       "\n",
       "                             Bank BankState   NAICS ApprovalDate ApprovalFY  \\\n",
       "306274  RTC/WESTPORT SAVINGS BANK        CA  541511    21-Jan-88       1988   \n",
       "\n",
       "        Term  ...  RevLineCr  LowDoc  ChgOffDate  DisbursementDate  \\\n",
       "306274    73  ...          N       N   18-Sep-93         16-Mar-88   \n",
       "\n",
       "        DisbursementGross  BalanceGross MIS_Status ChgOffPrinGr       GrAppv  \\\n",
       "306274        $50,000.00         $0.00      CHGOFF  $30,589.00   $50,000.00    \n",
       "\n",
       "           SBA_Appv  \n",
       "306274  $45,000.00   \n",
       "\n",
       "[1 rows x 26 columns]"
      ]
     },
     "execution_count": 8,
     "metadata": {},
     "output_type": "execute_result"
    }
   ],
   "source": [
    "## lets check for City and State after imputation\n",
    "df[(df['City'] == 'Empty') | (df['State'] == 'Empty') ]"
   ]
  },
  {
   "cell_type": "code",
   "execution_count": 9,
   "metadata": {},
   "outputs": [
    {
     "data": {
      "text/plain": [
       "(899164, 26)"
      ]
     },
     "execution_count": 9,
     "metadata": {},
     "output_type": "execute_result"
    }
   ],
   "source": [
    "df.shape"
   ]
  },
  {
   "cell_type": "code",
   "execution_count": 10,
   "metadata": {},
   "outputs": [
    {
     "data": {
      "text/plain": [
       "(899163, 26)"
      ]
     },
     "execution_count": 10,
     "metadata": {},
     "output_type": "execute_result"
    }
   ],
   "source": [
    "## Since 1 row contain 'Empty', means that there isno information about the State\n",
    "## I would delete the row\n",
    "\n",
    "df = df[df['State'] != 'Empty']\n",
    "\n",
    "df.shape"
   ]
  },
  {
   "cell_type": "code",
   "execution_count": null,
   "metadata": {},
   "outputs": [],
   "source": [
    "# sample df1 to impute missing values\n",
    "\n",
    "# df1={'CIK': ['C','C','B','B','A', 'A', 'C', 'B', 'C','A', 'D', 'D', 'D'],\n",
    "#     'SIK': ['2','1','4',np.nan,np.nan, '6', '2', '4', '3','6', np.nan, np.nan, np.nan]}\n",
    "\n",
    "# df1 = pd.DataFrame(data=df1)\n",
    "# df1['SIK'] = df1.groupby('CIK')['SIK'].transform(lambda x: x.fillna(x.mode()[0] if not x.mode().empty else 'Empty'))\n",
    "# df1"
   ]
  },
  {
   "cell_type": "markdown",
   "metadata": {},
   "source": [
    "### NewExist"
   ]
  },
  {
   "cell_type": "code",
   "execution_count": 11,
   "metadata": {},
   "outputs": [
    {
     "name": "stdout",
     "output_type": "stream",
     "text": [
      "--------------------------------------------------\n",
      "19\n",
      "1.0    645138\n",
      "2.0    253125\n",
      "0.0       881\n",
      "Name: NewExist, dtype: int64\n"
     ]
    }
   ],
   "source": [
    "## Handling Missing Values\n",
    "\n",
    "# NewExist \n",
    "# For actually, we just has binary for NewExist feature (1 = Existing Business, 2 = New Business)\n",
    "# In fact, there 0 values that should be handle beside NaN\n",
    "# I assume that we could replace 0 and impute NaN using RetainedJobs\n",
    "# If RetainedJob > 0 ==> Existing Business (1)\n",
    "\n",
    "# If NewExist == 0 & RetainedJob>0 ==> 1\n",
    "# Looping 1\n",
    "cond = df[(df['NewExist'] == 0) & (df['RetainedJob']>0)].index\n",
    "for i in cond:\n",
    "    df.loc[i, ['NewExist']] = 1\n",
    "\n",
    "# If NewExist == Nan & RetainedJob>0 ==> 1  \n",
    "# Looping 2\n",
    "cond1 = df[(df['NewExist'].isna()) & (df['RetainedJob']>0)].index\n",
    "for i in cond1:\n",
    "    df.loc[i, ['NewExist']] = 1\n",
    "    \n",
    "print('-'*50)\n",
    "print(df['NewExist'].isna().sum()) #Nan 19 row\n",
    "print(df['NewExist'].value_counts()) # 0 881 row"
   ]
  },
  {
   "cell_type": "markdown",
   "metadata": {},
   "source": [
    "After some imputation on NewExist feature, we still have 19 NaN. There is no way I could impute with another feature again. So, I decided to drop row of NewExist that contains with NaN"
   ]
  },
  {
   "cell_type": "code",
   "execution_count": 12,
   "metadata": {},
   "outputs": [],
   "source": [
    "## Handling Missing Values\n",
    "\n",
    "df.dropna(subset=['NewExist'], inplace=True)"
   ]
  },
  {
   "cell_type": "markdown",
   "metadata": {},
   "source": [
    "### ChgOffDate"
   ]
  },
  {
   "cell_type": "code",
   "execution_count": 13,
   "metadata": {},
   "outputs": [],
   "source": [
    "## Handling Missing Value\n",
    "\n",
    "# Since ChgOffDate has more than 80% Missing value, I would drop this column\n",
    "df.drop(columns='ChgOffDate', inplace=True)"
   ]
  },
  {
   "cell_type": "markdown",
   "metadata": {},
   "source": [
    "### MIS_Status"
   ]
  },
  {
   "cell_type": "code",
   "execution_count": 14,
   "metadata": {},
   "outputs": [],
   "source": [
    "## Handling Missing Values\n",
    "## Since this feature is the target, I would not impute \n",
    "\n",
    "df.dropna(subset=['MIS_Status'], inplace=True)"
   ]
  },
  {
   "cell_type": "code",
   "execution_count": 15,
   "metadata": {},
   "outputs": [
    {
     "data": {
      "text/plain": [
       "0"
      ]
     },
     "execution_count": 15,
     "metadata": {},
     "output_type": "execute_result"
    }
   ],
   "source": [
    "df['MIS_Status'].isna().sum()"
   ]
  },
  {
   "cell_type": "markdown",
   "metadata": {},
   "source": [
    "Next, let's check for the types of features"
   ]
  },
  {
   "cell_type": "code",
   "execution_count": 16,
   "metadata": {},
   "outputs": [
    {
     "data": {
      "text/plain": [
       "LoanNr_ChkDgt          int64\n",
       "City                  object\n",
       "State                 object\n",
       "Zip                    int64\n",
       "Bank                  object\n",
       "BankState             object\n",
       "NAICS                  int64\n",
       "ApprovalDate          object\n",
       "ApprovalFY            object\n",
       "Term                   int64\n",
       "NoEmp                  int64\n",
       "NewExist             float64\n",
       "CreateJob              int64\n",
       "RetainedJob            int64\n",
       "FranchiseCode          int64\n",
       "UrbanRural             int64\n",
       "RevLineCr             object\n",
       "LowDoc                object\n",
       "DisbursementDate      object\n",
       "DisbursementGross     object\n",
       "BalanceGross          object\n",
       "MIS_Status            object\n",
       "ChgOffPrinGr          object\n",
       "GrAppv                object\n",
       "SBA_Appv              object\n",
       "dtype: object"
      ]
     },
     "execution_count": 16,
     "metadata": {},
     "output_type": "execute_result"
    }
   ],
   "source": [
    "# Check data types\n",
    "df.dtypes"
   ]
  },
  {
   "cell_type": "markdown",
   "metadata": {},
   "source": [
    "I would like to change some features that should be floats but read as objects"
   ]
  },
  {
   "cell_type": "code",
   "execution_count": 17,
   "metadata": {},
   "outputs": [
    {
     "data": {
      "text/html": [
       "<div>\n",
       "<style scoped>\n",
       "    .dataframe tbody tr th:only-of-type {\n",
       "        vertical-align: middle;\n",
       "    }\n",
       "\n",
       "    .dataframe tbody tr th {\n",
       "        vertical-align: top;\n",
       "    }\n",
       "\n",
       "    .dataframe thead th {\n",
       "        text-align: right;\n",
       "    }\n",
       "</style>\n",
       "<table border=\"1\" class=\"dataframe\">\n",
       "  <thead>\n",
       "    <tr style=\"text-align: right;\">\n",
       "      <th></th>\n",
       "      <th>DisbursementGross</th>\n",
       "      <th>BalanceGross</th>\n",
       "      <th>ChgOffPrinGr</th>\n",
       "      <th>GrAppv</th>\n",
       "      <th>SBA_Appv</th>\n",
       "    </tr>\n",
       "  </thead>\n",
       "  <tbody>\n",
       "    <tr>\n",
       "      <th>0</th>\n",
       "      <td>$60,000.00</td>\n",
       "      <td>$0.00</td>\n",
       "      <td>$0.00</td>\n",
       "      <td>$60,000.00</td>\n",
       "      <td>$48,000.00</td>\n",
       "    </tr>\n",
       "    <tr>\n",
       "      <th>1</th>\n",
       "      <td>$40,000.00</td>\n",
       "      <td>$0.00</td>\n",
       "      <td>$0.00</td>\n",
       "      <td>$40,000.00</td>\n",
       "      <td>$32,000.00</td>\n",
       "    </tr>\n",
       "    <tr>\n",
       "      <th>2</th>\n",
       "      <td>$287,000.00</td>\n",
       "      <td>$0.00</td>\n",
       "      <td>$0.00</td>\n",
       "      <td>$287,000.00</td>\n",
       "      <td>$215,250.00</td>\n",
       "    </tr>\n",
       "    <tr>\n",
       "      <th>3</th>\n",
       "      <td>$35,000.00</td>\n",
       "      <td>$0.00</td>\n",
       "      <td>$0.00</td>\n",
       "      <td>$35,000.00</td>\n",
       "      <td>$28,000.00</td>\n",
       "    </tr>\n",
       "    <tr>\n",
       "      <th>4</th>\n",
       "      <td>$229,000.00</td>\n",
       "      <td>$0.00</td>\n",
       "      <td>$0.00</td>\n",
       "      <td>$229,000.00</td>\n",
       "      <td>$229,000.00</td>\n",
       "    </tr>\n",
       "  </tbody>\n",
       "</table>\n",
       "</div>"
      ],
      "text/plain": [
       "  DisbursementGross BalanceGross ChgOffPrinGr        GrAppv      SBA_Appv\n",
       "0       $60,000.00        $0.00        $0.00    $60,000.00    $48,000.00 \n",
       "1       $40,000.00        $0.00        $0.00    $40,000.00    $32,000.00 \n",
       "2      $287,000.00        $0.00        $0.00   $287,000.00   $215,250.00 \n",
       "3       $35,000.00        $0.00        $0.00    $35,000.00    $28,000.00 \n",
       "4      $229,000.00        $0.00        $0.00   $229,000.00   $229,000.00 "
      ]
     },
     "execution_count": 17,
     "metadata": {},
     "output_type": "execute_result"
    }
   ],
   "source": [
    "df[['DisbursementGross', 'BalanceGross', 'ChgOffPrinGr', 'GrAppv','SBA_Appv']].head()"
   ]
  },
  {
   "cell_type": "markdown",
   "metadata": {},
   "source": [
    "Let's removing '$' and ',' that caused data types object"
   ]
  },
  {
   "cell_type": "code",
   "execution_count": 18,
   "metadata": {},
   "outputs": [],
   "source": [
    "## I would replace '$' and ',' from the data and change to float\n",
    "\n",
    "# DisbursementGross\n",
    "df['DisbursementGross'] = df['DisbursementGross'].apply(lambda x:x.replace('$', ''))\n",
    "df['DisbursementGross'] = df['DisbursementGross'].apply(lambda x:x.replace(',', ''))\n",
    "\n",
    "# BalanceGross\n",
    "df['BalanceGross'] = df['BalanceGross'].apply(lambda x:x.replace('$', ''))\n",
    "df['BalanceGross'] = df['BalanceGross'].apply(lambda x:x.replace(',', ''))\n",
    "\n",
    "# ChgOffPrinGr\n",
    "df['ChgOffPrinGr'] = df['ChgOffPrinGr'].apply(lambda x:x.replace('$', ''))\n",
    "df['ChgOffPrinGr'] = df['ChgOffPrinGr'].apply(lambda x:x.replace(',', ''))\n",
    "\n",
    "# GrAppv\n",
    "df['GrAppv'] = df['GrAppv'].apply(lambda x:x.replace('$', ''))\n",
    "df['GrAppv'] = df['GrAppv'].apply(lambda x:x.replace(',', ''))\n",
    "\n",
    "# SBA_Appv\n",
    "df['SBA_Appv'] = df['SBA_Appv'].apply(lambda x:x.replace('$', ''))\n",
    "df['SBA_Appv'] = df['SBA_Appv'].apply(lambda x:x.replace(',', ''))\n"
   ]
  },
  {
   "cell_type": "markdown",
   "metadata": {},
   "source": [
    "### ApprovalFY"
   ]
  },
  {
   "cell_type": "markdown",
   "metadata": {},
   "source": [
    "Now, lets look for ApprovalFY features"
   ]
  },
  {
   "cell_type": "code",
   "execution_count": 19,
   "metadata": {},
   "outputs": [
    {
     "data": {
      "text/plain": [
       "array([1997, 1980, 2006, 1998, 1999, 2000, 2001, 1972, 2003, 2004, 1978,\n",
       "       1979, 1981, 2005, 1982, 1966, 1983, 1973, 1984, 2007, 1985, 1986,\n",
       "       1987, 2008, 1988, 2009, 1989, 1991, 1990, 1974, 2010, 2011, 1992,\n",
       "       1993, 2002, 2012, 2013, 1994, 2014, 1975, 1977, 1976, '2004',\n",
       "       '1994', '1979', '1976', '1975', '1974', '1977', '1981', '1982',\n",
       "       '1983', '1984', '1978', '1980', '1968', '1976A', '1969', '1995',\n",
       "       '1970', '2005', '1996', '1971', 1996, 1971], dtype=object)"
      ]
     },
     "execution_count": 19,
     "metadata": {},
     "output_type": "execute_result"
    }
   ],
   "source": [
    "# Unique value of ApprovalFY\n",
    "df['ApprovalFY'].unique()"
   ]
  },
  {
   "cell_type": "markdown",
   "metadata": {},
   "source": [
    "There one record that include 'A' as well, so it need to be clean"
   ]
  },
  {
   "cell_type": "code",
   "execution_count": 20,
   "metadata": {},
   "outputs": [],
   "source": [
    "# function\n",
    "def clean(x):\n",
    "    if type(x) == str:\n",
    "        return x.replace('A', '')\n",
    "    else:\n",
    "        return x\n",
    "    \n",
    "df['ApprovalFY'] = df['ApprovalFY'].apply(clean).astype('int64')"
   ]
  },
  {
   "cell_type": "markdown",
   "metadata": {},
   "source": [
    "### ApprovalDate & DisbursementDate"
   ]
  },
  {
   "cell_type": "markdown",
   "metadata": {},
   "source": [
    "Next, I would to look at ApprovalDate and DisbursementDate. For ApprovalDate features contains information about Date SBA commitment issued while DisbursementDate features contains information about Disbursement date."
   ]
  },
  {
   "cell_type": "code",
   "execution_count": 21,
   "metadata": {},
   "outputs": [],
   "source": [
    "# Change the type of data\n",
    "df['ApprovalDate'] = pd.to_datetime(df['ApprovalDate'], format='%d-%b-%y')\n",
    "df['DisbursementDate'] = pd.to_datetime(df['DisbursementDate'], format='%d-%b-%y')"
   ]
  },
  {
   "cell_type": "code",
   "execution_count": 22,
   "metadata": {},
   "outputs": [
    {
     "data": {
      "text/plain": [
       "LoanNr_ChkDgt                 int64\n",
       "City                         object\n",
       "State                        object\n",
       "Zip                           int64\n",
       "Bank                         object\n",
       "BankState                    object\n",
       "NAICS                         int64\n",
       "ApprovalDate         datetime64[ns]\n",
       "ApprovalFY                    int64\n",
       "Term                          int64\n",
       "NoEmp                         int64\n",
       "NewExist                    float64\n",
       "CreateJob                     int64\n",
       "RetainedJob                   int64\n",
       "FranchiseCode                 int64\n",
       "UrbanRural                    int64\n",
       "RevLineCr                    object\n",
       "LowDoc                       object\n",
       "DisbursementDate     datetime64[ns]\n",
       "DisbursementGross            object\n",
       "BalanceGross                 object\n",
       "MIS_Status                   object\n",
       "ChgOffPrinGr                 object\n",
       "GrAppv                       object\n",
       "SBA_Appv                     object\n",
       "dtype: object"
      ]
     },
     "execution_count": 22,
     "metadata": {},
     "output_type": "execute_result"
    }
   ],
   "source": [
    "df.dtypes"
   ]
  },
  {
   "cell_type": "code",
   "execution_count": 23,
   "metadata": {},
   "outputs": [],
   "source": [
    "## Change some features\n",
    "df = df.astype({'Zip':'str', 'NewExist':'str', 'UrbanRural':'str', \n",
    "                 'DisbursementGross':'float', 'BalanceGross':'float',\n",
    "                'ChgOffPrinGr':'float', 'GrAppv':'float', 'SBA_Appv':'float'})"
   ]
  },
  {
   "cell_type": "markdown",
   "metadata": {},
   "source": [
    "### NAICS"
   ]
  },
  {
   "cell_type": "markdown",
   "metadata": {},
   "source": [
    "Next, I would to look at NAICS. NAICS is North American industry classification system code, the first two digits of the NAICS classification represent the economic sector"
   ]
  },
  {
   "cell_type": "code",
   "execution_count": 24,
   "metadata": {},
   "outputs": [
    {
     "name": "stdout",
     "output_type": "stream",
     "text": [
      "695480\n",
      "201667\n"
     ]
    }
   ],
   "source": [
    "## Lets make sure that NAICS has 6 digits\n",
    "naics_true=0\n",
    "naics_false=0\n",
    "for x in df['NAICS'].astype(str):\n",
    "    if len(x) == 6 :\n",
    "        naics_true += 1\n",
    "    else:\n",
    "        naics_false += 1\n",
    "print(naics_true)\n",
    "print(naics_false)"
   ]
  },
  {
   "cell_type": "markdown",
   "metadata": {},
   "source": [
    "After little investigate, 201667 NAICS has 0 value so it dont has 6 digits, I will subset the data"
   ]
  },
  {
   "cell_type": "code",
   "execution_count": 25,
   "metadata": {},
   "outputs": [],
   "source": [
    "df = df[df['NAICS'] != 0]"
   ]
  },
  {
   "cell_type": "code",
   "execution_count": 26,
   "metadata": {},
   "outputs": [],
   "source": [
    "## first lets take first 2 digits from NAICS\n",
    "df['sector'] = df['NAICS'].astype(str).apply(lambda x:x[:2])"
   ]
  },
  {
   "cell_type": "code",
   "execution_count": 27,
   "metadata": {},
   "outputs": [],
   "source": [
    "## Lets encode sector feature base on the sector\n",
    "df['sector'] = df['sector'].map({\n",
    "    '11':'Ag_fores_ﬁshi_hunting',\n",
    "    '21':'Mining_quar_oil_gas_ext',\n",
    "    '22':'Utilities',\n",
    "    '23':'Construction',\n",
    "    '31':'Manufacturing',\n",
    "    '32':'Manufacturing',\n",
    "    '33':'Manufacturing',\n",
    "    '42':'Wholesale_trade',\n",
    "    '44':'Retail_trade',\n",
    "    '45':'Retail_trade',\n",
    "    '48':'Trans_Ware',\n",
    "    '49':'Trans_Ware',\n",
    "    '51':'Information',\n",
    "    '52':'Finance_insurance',\n",
    "    '53':'RE_rental_leasing',\n",
    "    '54':'Prof_scien_and_tech_serv',\n",
    "    '55':'Management_and_enterprises',\n",
    "    '56':'Admini_sup_and_waste_mgm_rem',\n",
    "    '61':'Educational_services',\n",
    "    '62':'Health_care_social_ass',\n",
    "    '71':'Arts_enter_recreation',\n",
    "    '72':'Accommodation_food_serv',\n",
    "    '81':'Other_no_pub',\n",
    "    '92':'Public_admin',\n",
    "})"
   ]
  },
  {
   "cell_type": "markdown",
   "metadata": {},
   "source": [
    "### FranchiseCode"
   ]
  },
  {
   "cell_type": "markdown",
   "metadata": {},
   "source": [
    "Next, I would like to look at FranchiseCode feature. This feature contains information about Franchise code where (00000 or 00001) = No franchise. So, I would make a new feature to know whether the business is Franchise or No franchise "
   ]
  },
  {
   "cell_type": "code",
   "execution_count": 28,
   "metadata": {},
   "outputs": [],
   "source": [
    "## Function\n",
    "def isfranchise(x):\n",
    "    if x == 0 or x == 1:\n",
    "        return 'No Franchise'\n",
    "    else:\n",
    "        return 'Franchise'\n",
    "## Make a new feature\n",
    "df['isFranchise'] = df['FranchiseCode'].apply(isfranchise)"
   ]
  },
  {
   "cell_type": "markdown",
   "metadata": {},
   "source": [
    "### State and BankState"
   ]
  },
  {
   "cell_type": "markdown",
   "metadata": {},
   "source": [
    "Next, lets look for whether or not the bank service the laon was in the same state that small business was located."
   ]
  },
  {
   "cell_type": "code",
   "execution_count": 29,
   "metadata": {},
   "outputs": [],
   "source": [
    "#Dropping Misiing value in BankState\n",
    "df.dropna(subset=['BankState'], inplace=True)"
   ]
  },
  {
   "cell_type": "code",
   "execution_count": 30,
   "metadata": {},
   "outputs": [],
   "source": [
    "# Create syntetic feature\n",
    "df['sameState'] = np.where(df['State'] == df['BankState'], 1, 0)"
   ]
  },
  {
   "cell_type": "markdown",
   "metadata": {},
   "source": [
    "### Term"
   ]
  },
  {
   "cell_type": "markdown",
   "metadata": {},
   "source": [
    "Making New Features, according to the jurnal small business that has term loan more than 240 months were backed by real estate. But I would to subset the data that has Term=0, Maturities depend on the use of loan\n",
    "proceeds but typically range from 5 to 25 years"
   ]
  },
  {
   "cell_type": "code",
   "execution_count": 31,
   "metadata": {},
   "outputs": [],
   "source": [
    "df = df[df['Term'] !=0]"
   ]
  },
  {
   "cell_type": "code",
   "execution_count": 32,
   "metadata": {},
   "outputs": [],
   "source": [
    "#New feature\n",
    "df['backRealEstate'] = df['Term'].apply(lambda x:1 if x>=240 else 0)"
   ]
  },
  {
   "cell_type": "code",
   "execution_count": 33,
   "metadata": {},
   "outputs": [
    {
     "data": {
      "text/plain": [
       "(694123, 29)"
      ]
     },
     "execution_count": 33,
     "metadata": {},
     "output_type": "execute_result"
    }
   ],
   "source": [
    "df.shape"
   ]
  },
  {
   "cell_type": "markdown",
   "metadata": {},
   "source": [
    "### Portion"
   ]
  },
  {
   "cell_type": "markdown",
   "metadata": {},
   "source": [
    "Next, I wanna know the portion that SBA guaranteed the loan. This could be done by calculating the ratio of amount of the loan SBA guarantees and the gross amount approved by the bank"
   ]
  },
  {
   "cell_type": "code",
   "execution_count": 34,
   "metadata": {},
   "outputs": [],
   "source": [
    "# New Features\n",
    "df['Portion'] = df['SBA_Appv']/df['GrAppv']"
   ]
  },
  {
   "cell_type": "markdown",
   "metadata": {},
   "source": [
    "The maximum SBA guarantee program is 85% for loans up to 150.000 and 75% for loans greater than 150.000. For International Trade the maximum guarantee could be 90%. Now I would checking the maximum of SBA guarantee in this the data"
   ]
  },
  {
   "cell_type": "code",
   "execution_count": 35,
   "metadata": {},
   "outputs": [
    {
     "data": {
      "text/plain": [
       "count    694123.000000\n",
       "mean          0.680419\n",
       "std           0.175572\n",
       "min           0.028140\n",
       "25%           0.500000\n",
       "50%           0.750000\n",
       "75%           0.850000\n",
       "max           1.000000\n",
       "Name: Portion, dtype: float64"
      ]
     },
     "execution_count": 35,
     "metadata": {},
     "output_type": "execute_result"
    }
   ],
   "source": [
    "df['Portion'].describe()"
   ]
  },
  {
   "cell_type": "markdown",
   "metadata": {},
   "source": [
    "Since the max of guarantee for this data is 1, I would subset the data base on for Portion under 1"
   ]
  },
  {
   "cell_type": "code",
   "execution_count": 37,
   "metadata": {},
   "outputs": [],
   "source": [
    "df = df[df['Portion'] <= 0.90]"
   ]
  },
  {
   "cell_type": "code",
   "execution_count": 38,
   "metadata": {},
   "outputs": [
    {
     "data": {
      "text/plain": [
       "(647850, 30)"
      ]
     },
     "execution_count": 38,
     "metadata": {},
     "output_type": "execute_result"
    }
   ],
   "source": [
    "df.shape"
   ]
  },
  {
   "cell_type": "markdown",
   "metadata": {},
   "source": [
    "### NoEmp"
   ]
  },
  {
   "cell_type": "markdown",
   "metadata": {},
   "source": [
    "Next, I would checking on NoEmp feature. Well, according to the SBA, a small businesses have a maximum of anywhere between 250 and 1500 employees — all depending on the specific industry the business is in"
   ]
  },
  {
   "cell_type": "code",
   "execution_count": 39,
   "metadata": {},
   "outputs": [
    {
     "data": {
      "text/plain": [
       "count    647850.000000\n",
       "mean          8.930791\n",
       "std          60.588436\n",
       "min           0.000000\n",
       "25%           2.000000\n",
       "50%           4.000000\n",
       "75%           8.000000\n",
       "max        9999.000000\n",
       "Name: NoEmp, dtype: float64"
      ]
     },
     "execution_count": 39,
     "metadata": {},
     "output_type": "execute_result"
    }
   ],
   "source": [
    "df['NoEmp'].describe()"
   ]
  },
  {
   "cell_type": "markdown",
   "metadata": {},
   "source": [
    "it look like NoEmp has outliers, So I would subset the data"
   ]
  },
  {
   "cell_type": "code",
   "execution_count": 40,
   "metadata": {},
   "outputs": [],
   "source": [
    "df = df[df['NoEmp'] <= 1500]"
   ]
  },
  {
   "cell_type": "code",
   "execution_count": 41,
   "metadata": {},
   "outputs": [
    {
     "data": {
      "text/plain": [
       "(647750, 30)"
      ]
     },
     "execution_count": 41,
     "metadata": {},
     "output_type": "execute_result"
    }
   ],
   "source": [
    "df.shape"
   ]
  },
  {
   "cell_type": "markdown",
   "metadata": {},
   "source": [
    "### RevLineCr"
   ]
  },
  {
   "cell_type": "code",
   "execution_count": 42,
   "metadata": {},
   "outputs": [
    {
     "data": {
      "text/plain": [
       "array(['N', 'Y', '0', 'T', '`', ',', nan, '1', 'C', '2', 'R', '7', '-',\n",
       "       'Q'], dtype=object)"
      ]
     },
     "execution_count": 42,
     "metadata": {},
     "output_type": "execute_result"
    }
   ],
   "source": [
    "# Revolving line of credit: Y = Yes, N = No\n",
    "df['RevLineCr'].unique()"
   ]
  },
  {
   "cell_type": "markdown",
   "metadata": {},
   "source": [
    "Since Revolving line of credit just contain 2 value (Yes and No), so I will subset the data"
   ]
  },
  {
   "cell_type": "code",
   "execution_count": 43,
   "metadata": {},
   "outputs": [],
   "source": [
    "df = df[(df['RevLineCr'] == 'Y') | (df['RevLineCr'] == 'N')]"
   ]
  },
  {
   "cell_type": "code",
   "execution_count": 44,
   "metadata": {},
   "outputs": [
    {
     "data": {
      "text/plain": [
       "(434164, 30)"
      ]
     },
     "execution_count": 44,
     "metadata": {},
     "output_type": "execute_result"
    }
   ],
   "source": [
    "df.shape"
   ]
  },
  {
   "cell_type": "markdown",
   "metadata": {},
   "source": [
    "### LowDoc"
   ]
  },
  {
   "cell_type": "code",
   "execution_count": 45,
   "metadata": {},
   "outputs": [
    {
     "data": {
      "text/plain": [
       "array(['Y', 'N', 'C', '1', nan, 'S', 'R', 'A', '0'], dtype=object)"
      ]
     },
     "execution_count": 45,
     "metadata": {},
     "output_type": "execute_result"
    }
   ],
   "source": [
    "# LowDoc Loan Program: Y = Yes, N = No\n",
    "df['LowDoc'].unique()"
   ]
  },
  {
   "cell_type": "markdown",
   "metadata": {},
   "source": [
    "Since LowDoc Loan Program just contain 2 value (Yes and No), so I will subset the data"
   ]
  },
  {
   "cell_type": "code",
   "execution_count": 46,
   "metadata": {},
   "outputs": [],
   "source": [
    "df = df[(df['LowDoc'] == 'Y') | (df['LowDoc'] == 'N')]"
   ]
  },
  {
   "cell_type": "code",
   "execution_count": 47,
   "metadata": {},
   "outputs": [
    {
     "data": {
      "text/plain": [
       "(429899, 30)"
      ]
     },
     "execution_count": 47,
     "metadata": {},
     "output_type": "execute_result"
    }
   ],
   "source": [
    "df.shape"
   ]
  },
  {
   "cell_type": "markdown",
   "metadata": {},
   "source": [
    "### NewExist"
   ]
  },
  {
   "cell_type": "code",
   "execution_count": 48,
   "metadata": {},
   "outputs": [
    {
     "data": {
      "text/plain": [
       "array(['2.0', '1.0', '0.0'], dtype=object)"
      ]
     },
     "execution_count": 48,
     "metadata": {},
     "output_type": "execute_result"
    }
   ],
   "source": [
    "## NewExist\n",
    "df['NewExist'].unique()"
   ]
  },
  {
   "cell_type": "markdown",
   "metadata": {},
   "source": [
    "Since NewExist just contain with 1 = Existing business, 2 = New business, I would drop others"
   ]
  },
  {
   "cell_type": "code",
   "execution_count": 49,
   "metadata": {},
   "outputs": [],
   "source": [
    "df = df[(df['NewExist'] == '1.0') | (df['NewExist'] == '2.0')]"
   ]
  },
  {
   "cell_type": "code",
   "execution_count": 50,
   "metadata": {},
   "outputs": [
    {
     "data": {
      "text/plain": [
       "(429368, 30)"
      ]
     },
     "execution_count": 50,
     "metadata": {},
     "output_type": "execute_result"
    }
   ],
   "source": [
    "df.shape"
   ]
  },
  {
   "cell_type": "markdown",
   "metadata": {},
   "source": [
    "### UrbanRural"
   ]
  },
  {
   "cell_type": "code",
   "execution_count": 51,
   "metadata": {},
   "outputs": [
    {
     "data": {
      "text/plain": [
       "array(['0', '1', '2'], dtype=object)"
      ]
     },
     "execution_count": 51,
     "metadata": {},
     "output_type": "execute_result"
    }
   ],
   "source": [
    "## UrbanRural\n",
    "# 1 : Urban, 2 : rural, 0 : undefined\n",
    "df['UrbanRural'].unique()"
   ]
  },
  {
   "cell_type": "markdown",
   "metadata": {},
   "source": [
    "I would subset the data just base Urban and Rural"
   ]
  },
  {
   "cell_type": "code",
   "execution_count": 52,
   "metadata": {},
   "outputs": [],
   "source": [
    "df = df[(df['UrbanRural'] == '1') | (df['UrbanRural'] == '2')]"
   ]
  },
  {
   "cell_type": "code",
   "execution_count": 53,
   "metadata": {},
   "outputs": [
    {
     "data": {
      "text/plain": [
       "(334056, 30)"
      ]
     },
     "execution_count": 53,
     "metadata": {},
     "output_type": "execute_result"
    }
   ],
   "source": [
    "df.shape"
   ]
  },
  {
   "cell_type": "code",
   "execution_count": 54,
   "metadata": {},
   "outputs": [
    {
     "data": {
      "text/plain": [
       "LoanNr_ChkDgt                 int64\n",
       "City                         object\n",
       "State                        object\n",
       "Zip                          object\n",
       "Bank                         object\n",
       "BankState                    object\n",
       "NAICS                         int64\n",
       "ApprovalDate         datetime64[ns]\n",
       "ApprovalFY                    int64\n",
       "Term                          int64\n",
       "NoEmp                         int64\n",
       "NewExist                     object\n",
       "CreateJob                     int64\n",
       "RetainedJob                   int64\n",
       "FranchiseCode                 int64\n",
       "UrbanRural                   object\n",
       "RevLineCr                    object\n",
       "LowDoc                       object\n",
       "DisbursementDate     datetime64[ns]\n",
       "DisbursementGross           float64\n",
       "BalanceGross                float64\n",
       "MIS_Status                   object\n",
       "ChgOffPrinGr                float64\n",
       "GrAppv                      float64\n",
       "SBA_Appv                    float64\n",
       "sector                       object\n",
       "isFranchise                  object\n",
       "sameState                     int32\n",
       "backRealEstate                int64\n",
       "Portion                     float64\n",
       "dtype: object"
      ]
     },
     "execution_count": 54,
     "metadata": {},
     "output_type": "execute_result"
    }
   ],
   "source": [
    "# checking data type after some adding syntetic feature\n",
    "df.dtypes"
   ]
  },
  {
   "cell_type": "code",
   "execution_count": 55,
   "metadata": {},
   "outputs": [],
   "source": [
    "## Change some features\n",
    "df = df.astype({'sameState':'str', 'backRealEstate':'str'})"
   ]
  },
  {
   "cell_type": "markdown",
   "metadata": {},
   "source": [
    "it seem like all feature has the right data type. Then we could remove some feature that would not use in the analysis.\n",
    "- LoanNr_ChkDgt -- this is just Identifier Primary key\n",
    "- City, State, Zip -- this is information about borrower\n",
    "- Bank and BankState -- this is information about Bank that provide services loan. \n",
    "- NAICS -- replace by sector\n",
    "- FranchiseCode -- replace by isFranchise\n",
    "- DisbursementDate --  this feature just contain date where amount disbursed\n",
    "- SBA_Appv - guaranteed amount is based on percentage of gross loan amount, replace by Portion\n"
   ]
  },
  {
   "cell_type": "code",
   "execution_count": 56,
   "metadata": {},
   "outputs": [],
   "source": [
    "df.drop(columns=['LoanNr_ChkDgt', 'City', 'Zip', 'Bank', 'NAICS', \n",
    "                 'FranchiseCode', 'DisbursementDate', 'ApprovalDate'], inplace=True)"
   ]
  },
  {
   "cell_type": "code",
   "execution_count": 57,
   "metadata": {},
   "outputs": [],
   "source": [
    "df.drop(columns=['State', 'BankState'], inplace=True)"
   ]
  },
  {
   "cell_type": "code",
   "execution_count": 58,
   "metadata": {},
   "outputs": [],
   "source": [
    "df.drop(columns=['ChgOffPrinGr', 'BalanceGross'], inplace=True)"
   ]
  },
  {
   "cell_type": "code",
   "execution_count": 59,
   "metadata": {},
   "outputs": [],
   "source": [
    "df.drop(columns=['SBA_Appv'], inplace=True)"
   ]
  },
  {
   "cell_type": "code",
   "execution_count": 60,
   "metadata": {},
   "outputs": [
    {
     "data": {
      "text/plain": [
       "ApprovalFY           0\n",
       "Term                 0\n",
       "NoEmp                0\n",
       "NewExist             0\n",
       "CreateJob            0\n",
       "RetainedJob          0\n",
       "UrbanRural           0\n",
       "RevLineCr            0\n",
       "LowDoc               0\n",
       "DisbursementGross    0\n",
       "MIS_Status           0\n",
       "GrAppv               0\n",
       "sector               0\n",
       "isFranchise          0\n",
       "sameState            0\n",
       "backRealEstate       0\n",
       "Portion              0\n",
       "dtype: int64"
      ]
     },
     "execution_count": 60,
     "metadata": {},
     "output_type": "execute_result"
    }
   ],
   "source": [
    "## Checking the missing value\n",
    "df.isna().sum()"
   ]
  },
  {
   "cell_type": "markdown",
   "metadata": {},
   "source": [
    "#### Export Dataset\n",
    "Save the dataframe to CSV format for the next step"
   ]
  },
  {
   "cell_type": "code",
   "execution_count": 61,
   "metadata": {},
   "outputs": [],
   "source": [
    "# df.to_csv('Clean_SBA_Loan.csv', index=False)"
   ]
  },
  {
   "cell_type": "code",
   "execution_count": null,
   "metadata": {},
   "outputs": [],
   "source": []
  }
 ],
 "metadata": {
  "kernelspec": {
   "display_name": "Python 3",
   "language": "python",
   "name": "python3"
  },
  "language_info": {
   "codemirror_mode": {
    "name": "ipython",
    "version": 3
   },
   "file_extension": ".py",
   "mimetype": "text/x-python",
   "name": "python",
   "nbconvert_exporter": "python",
   "pygments_lexer": "ipython3",
   "version": "3.8.3"
  }
 },
 "nbformat": 4,
 "nbformat_minor": 4
}
