{
 "cells": [
  {
   "cell_type": "code",
   "execution_count": 1,
   "metadata": {},
   "outputs": [],
   "source": [
    "## Import common pakages\n",
    "import pandas as pd\n",
    "import numpy as np\n",
    "import matplotlib.pyplot as plt\n",
    "import seaborn as sns\n",
    "import sidetable as stb\n",
    "import warnings\n",
    "warnings.filterwarnings('ignore')\n",
    "\n",
    "%matplotlib inline"
   ]
  },
  {
   "cell_type": "code",
   "execution_count": 2,
   "metadata": {},
   "outputs": [
    {
     "data": {
      "text/html": [
       "<div>\n",
       "<style scoped>\n",
       "    .dataframe tbody tr th:only-of-type {\n",
       "        vertical-align: middle;\n",
       "    }\n",
       "\n",
       "    .dataframe tbody tr th {\n",
       "        vertical-align: top;\n",
       "    }\n",
       "\n",
       "    .dataframe thead th {\n",
       "        text-align: right;\n",
       "    }\n",
       "</style>\n",
       "<table border=\"1\" class=\"dataframe\">\n",
       "  <thead>\n",
       "    <tr style=\"text-align: right;\">\n",
       "      <th></th>\n",
       "      <th>ApprovalFY</th>\n",
       "      <th>Term</th>\n",
       "      <th>NoEmp</th>\n",
       "      <th>NewExist</th>\n",
       "      <th>CreateJob</th>\n",
       "      <th>RetainedJob</th>\n",
       "      <th>UrbanRural</th>\n",
       "      <th>RevLineCr</th>\n",
       "      <th>LowDoc</th>\n",
       "      <th>DisbursementGross</th>\n",
       "      <th>MIS_Status</th>\n",
       "      <th>GrAppv</th>\n",
       "      <th>SBA_Appv</th>\n",
       "      <th>sector</th>\n",
       "      <th>isFranchise</th>\n",
       "      <th>sameState</th>\n",
       "      <th>Portion</th>\n",
       "    </tr>\n",
       "  </thead>\n",
       "  <tbody>\n",
       "    <tr>\n",
       "      <th>0</th>\n",
       "      <td>1997</td>\n",
       "      <td>84</td>\n",
       "      <td>4</td>\n",
       "      <td>2</td>\n",
       "      <td>0</td>\n",
       "      <td>0</td>\n",
       "      <td>0</td>\n",
       "      <td>N</td>\n",
       "      <td>Y</td>\n",
       "      <td>60000.0</td>\n",
       "      <td>P I F</td>\n",
       "      <td>60000.0</td>\n",
       "      <td>48000.0</td>\n",
       "      <td>Retail_trade</td>\n",
       "      <td>No Franchise</td>\n",
       "      <td>0</td>\n",
       "      <td>0.80</td>\n",
       "    </tr>\n",
       "    <tr>\n",
       "      <th>1</th>\n",
       "      <td>1997</td>\n",
       "      <td>60</td>\n",
       "      <td>2</td>\n",
       "      <td>2</td>\n",
       "      <td>0</td>\n",
       "      <td>0</td>\n",
       "      <td>0</td>\n",
       "      <td>N</td>\n",
       "      <td>Y</td>\n",
       "      <td>40000.0</td>\n",
       "      <td>P I F</td>\n",
       "      <td>40000.0</td>\n",
       "      <td>32000.0</td>\n",
       "      <td>Accommodation_food_serv</td>\n",
       "      <td>No Franchise</td>\n",
       "      <td>1</td>\n",
       "      <td>0.80</td>\n",
       "    </tr>\n",
       "    <tr>\n",
       "      <th>2</th>\n",
       "      <td>1997</td>\n",
       "      <td>180</td>\n",
       "      <td>7</td>\n",
       "      <td>1</td>\n",
       "      <td>0</td>\n",
       "      <td>0</td>\n",
       "      <td>0</td>\n",
       "      <td>N</td>\n",
       "      <td>N</td>\n",
       "      <td>287000.0</td>\n",
       "      <td>P I F</td>\n",
       "      <td>287000.0</td>\n",
       "      <td>215250.0</td>\n",
       "      <td>Health_care_social_ass</td>\n",
       "      <td>No Franchise</td>\n",
       "      <td>1</td>\n",
       "      <td>0.75</td>\n",
       "    </tr>\n",
       "    <tr>\n",
       "      <th>3</th>\n",
       "      <td>1997</td>\n",
       "      <td>120</td>\n",
       "      <td>19</td>\n",
       "      <td>1</td>\n",
       "      <td>0</td>\n",
       "      <td>0</td>\n",
       "      <td>0</td>\n",
       "      <td>N</td>\n",
       "      <td>N</td>\n",
       "      <td>517000.0</td>\n",
       "      <td>P I F</td>\n",
       "      <td>517000.0</td>\n",
       "      <td>387750.0</td>\n",
       "      <td>Manufacturing</td>\n",
       "      <td>No Franchise</td>\n",
       "      <td>0</td>\n",
       "      <td>0.75</td>\n",
       "    </tr>\n",
       "    <tr>\n",
       "      <th>4</th>\n",
       "      <td>1997</td>\n",
       "      <td>84</td>\n",
       "      <td>1</td>\n",
       "      <td>2</td>\n",
       "      <td>0</td>\n",
       "      <td>0</td>\n",
       "      <td>0</td>\n",
       "      <td>N</td>\n",
       "      <td>Y</td>\n",
       "      <td>45000.0</td>\n",
       "      <td>P I F</td>\n",
       "      <td>45000.0</td>\n",
       "      <td>36000.0</td>\n",
       "      <td>Other_no_pub</td>\n",
       "      <td>No Franchise</td>\n",
       "      <td>0</td>\n",
       "      <td>0.80</td>\n",
       "    </tr>\n",
       "  </tbody>\n",
       "</table>\n",
       "</div>"
      ],
      "text/plain": [
       "   ApprovalFY  Term  NoEmp  NewExist  CreateJob  RetainedJob  UrbanRural  \\\n",
       "0        1997    84      4         2          0            0           0   \n",
       "1        1997    60      2         2          0            0           0   \n",
       "2        1997   180      7         1          0            0           0   \n",
       "3        1997   120     19         1          0            0           0   \n",
       "4        1997    84      1         2          0            0           0   \n",
       "\n",
       "  RevLineCr LowDoc  DisbursementGross MIS_Status    GrAppv  SBA_Appv  \\\n",
       "0         N      Y            60000.0      P I F   60000.0   48000.0   \n",
       "1         N      Y            40000.0      P I F   40000.0   32000.0   \n",
       "2         N      N           287000.0      P I F  287000.0  215250.0   \n",
       "3         N      N           517000.0      P I F  517000.0  387750.0   \n",
       "4         N      Y            45000.0      P I F   45000.0   36000.0   \n",
       "\n",
       "                    sector   isFranchise  sameState  Portion  \n",
       "0             Retail_trade  No Franchise          0     0.80  \n",
       "1  Accommodation_food_serv  No Franchise          1     0.80  \n",
       "2   Health_care_social_ass  No Franchise          1     0.75  \n",
       "3            Manufacturing  No Franchise          0     0.75  \n",
       "4             Other_no_pub  No Franchise          0     0.80  "
      ]
     },
     "execution_count": 2,
     "metadata": {},
     "output_type": "execute_result"
    }
   ],
   "source": [
    "df = pd.read_csv(r'Clean_SBA_Loan.csv')\n",
    "df.head()"
   ]
  },
  {
   "cell_type": "code",
   "execution_count": 3,
   "metadata": {},
   "outputs": [
    {
     "name": "stdout",
     "output_type": "stream",
     "text": [
      "<class 'pandas.core.frame.DataFrame'>\n",
      "RangeIndex: 459506 entries, 0 to 459505\n",
      "Data columns (total 17 columns):\n",
      " #   Column             Non-Null Count   Dtype  \n",
      "---  ------             --------------   -----  \n",
      " 0   ApprovalFY         459506 non-null  int64  \n",
      " 1   Term               459506 non-null  int64  \n",
      " 2   NoEmp              459506 non-null  int64  \n",
      " 3   NewExist           459506 non-null  int64  \n",
      " 4   CreateJob          459506 non-null  int64  \n",
      " 5   RetainedJob        459506 non-null  int64  \n",
      " 6   UrbanRural         459506 non-null  int64  \n",
      " 7   RevLineCr          459506 non-null  object \n",
      " 8   LowDoc             459506 non-null  object \n",
      " 9   DisbursementGross  459506 non-null  float64\n",
      " 10  MIS_Status         459506 non-null  object \n",
      " 11  GrAppv             459506 non-null  float64\n",
      " 12  SBA_Appv           459506 non-null  float64\n",
      " 13  sector             459506 non-null  object \n",
      " 14  isFranchise        459506 non-null  object \n",
      " 15  sameState          459506 non-null  int64  \n",
      " 16  Portion            459506 non-null  float64\n",
      "dtypes: float64(4), int64(8), object(5)\n",
      "memory usage: 59.6+ MB\n"
     ]
    }
   ],
   "source": [
    "df.info()"
   ]
  },
  {
   "cell_type": "code",
   "execution_count": 4,
   "metadata": {},
   "outputs": [
    {
     "data": {
      "text/plain": [
       "ApprovalFY           0\n",
       "Term                 0\n",
       "NoEmp                0\n",
       "NewExist             0\n",
       "CreateJob            0\n",
       "RetainedJob          0\n",
       "UrbanRural           0\n",
       "RevLineCr            0\n",
       "LowDoc               0\n",
       "DisbursementGross    0\n",
       "MIS_Status           0\n",
       "GrAppv               0\n",
       "SBA_Appv             0\n",
       "sector               0\n",
       "isFranchise          0\n",
       "sameState            0\n",
       "Portion              0\n",
       "dtype: int64"
      ]
     },
     "execution_count": 4,
     "metadata": {},
     "output_type": "execute_result"
    }
   ],
   "source": [
    "## Checking for missing value\n",
    "df.isnull().sum()"
   ]
  },
  {
   "cell_type": "code",
   "execution_count": 5,
   "metadata": {},
   "outputs": [
    {
     "data": {
      "text/html": [
       "<div>\n",
       "<style scoped>\n",
       "    .dataframe tbody tr th:only-of-type {\n",
       "        vertical-align: middle;\n",
       "    }\n",
       "\n",
       "    .dataframe tbody tr th {\n",
       "        vertical-align: top;\n",
       "    }\n",
       "\n",
       "    .dataframe thead th {\n",
       "        text-align: right;\n",
       "    }\n",
       "</style>\n",
       "<table border=\"1\" class=\"dataframe\">\n",
       "  <thead>\n",
       "    <tr style=\"text-align: right;\">\n",
       "      <th></th>\n",
       "      <th>count</th>\n",
       "      <th>unique</th>\n",
       "      <th>top</th>\n",
       "      <th>freq</th>\n",
       "    </tr>\n",
       "  </thead>\n",
       "  <tbody>\n",
       "    <tr>\n",
       "      <th>RevLineCr</th>\n",
       "      <td>459506</td>\n",
       "      <td>2</td>\n",
       "      <td>N</td>\n",
       "      <td>265983</td>\n",
       "    </tr>\n",
       "    <tr>\n",
       "      <th>LowDoc</th>\n",
       "      <td>459506</td>\n",
       "      <td>2</td>\n",
       "      <td>N</td>\n",
       "      <td>434364</td>\n",
       "    </tr>\n",
       "    <tr>\n",
       "      <th>MIS_Status</th>\n",
       "      <td>459506</td>\n",
       "      <td>2</td>\n",
       "      <td>P I F</td>\n",
       "      <td>360960</td>\n",
       "    </tr>\n",
       "    <tr>\n",
       "      <th>sector</th>\n",
       "      <td>459506</td>\n",
       "      <td>20</td>\n",
       "      <td>Retail_trade</td>\n",
       "      <td>81344</td>\n",
       "    </tr>\n",
       "    <tr>\n",
       "      <th>isFranchise</th>\n",
       "      <td>459506</td>\n",
       "      <td>2</td>\n",
       "      <td>No Franchise</td>\n",
       "      <td>445170</td>\n",
       "    </tr>\n",
       "  </tbody>\n",
       "</table>\n",
       "</div>"
      ],
      "text/plain": [
       "              count unique           top    freq\n",
       "RevLineCr    459506      2             N  265983\n",
       "LowDoc       459506      2             N  434364\n",
       "MIS_Status   459506      2         P I F  360960\n",
       "sector       459506     20  Retail_trade   81344\n",
       "isFranchise  459506      2  No Franchise  445170"
      ]
     },
     "execution_count": 5,
     "metadata": {},
     "output_type": "execute_result"
    }
   ],
   "source": [
    "df.describe(include='O').T"
   ]
  },
  {
   "cell_type": "code",
   "execution_count": 6,
   "metadata": {},
   "outputs": [
    {
     "data": {
      "text/html": [
       "<div>\n",
       "<style scoped>\n",
       "    .dataframe tbody tr th:only-of-type {\n",
       "        vertical-align: middle;\n",
       "    }\n",
       "\n",
       "    .dataframe tbody tr th {\n",
       "        vertical-align: top;\n",
       "    }\n",
       "\n",
       "    .dataframe thead th {\n",
       "        text-align: right;\n",
       "    }\n",
       "</style>\n",
       "<table border=\"1\" class=\"dataframe\">\n",
       "  <thead>\n",
       "    <tr style=\"text-align: right;\">\n",
       "      <th></th>\n",
       "      <th>count</th>\n",
       "      <th>mean</th>\n",
       "      <th>std</th>\n",
       "      <th>min</th>\n",
       "      <th>25%</th>\n",
       "      <th>50%</th>\n",
       "      <th>75%</th>\n",
       "      <th>max</th>\n",
       "    </tr>\n",
       "  </thead>\n",
       "  <tbody>\n",
       "    <tr>\n",
       "      <th>ApprovalFY</th>\n",
       "      <td>459506.0</td>\n",
       "      <td>2003.016381</td>\n",
       "      <td>5.667214</td>\n",
       "      <td>1984.00</td>\n",
       "      <td>2000.0</td>\n",
       "      <td>2005.0</td>\n",
       "      <td>2007.00</td>\n",
       "      <td>2014.0</td>\n",
       "    </tr>\n",
       "    <tr>\n",
       "      <th>Term</th>\n",
       "      <td>459506.0</td>\n",
       "      <td>93.719986</td>\n",
       "      <td>68.305137</td>\n",
       "      <td>0.00</td>\n",
       "      <td>59.0</td>\n",
       "      <td>84.0</td>\n",
       "      <td>90.00</td>\n",
       "      <td>527.0</td>\n",
       "    </tr>\n",
       "    <tr>\n",
       "      <th>NoEmp</th>\n",
       "      <td>459506.0</td>\n",
       "      <td>9.893912</td>\n",
       "      <td>56.664519</td>\n",
       "      <td>0.00</td>\n",
       "      <td>2.0</td>\n",
       "      <td>4.0</td>\n",
       "      <td>9.00</td>\n",
       "      <td>9999.0</td>\n",
       "    </tr>\n",
       "    <tr>\n",
       "      <th>NewExist</th>\n",
       "      <td>459506.0</td>\n",
       "      <td>1.264884</td>\n",
       "      <td>0.441272</td>\n",
       "      <td>1.00</td>\n",
       "      <td>1.0</td>\n",
       "      <td>1.0</td>\n",
       "      <td>2.00</td>\n",
       "      <td>2.0</td>\n",
       "    </tr>\n",
       "    <tr>\n",
       "      <th>CreateJob</th>\n",
       "      <td>459506.0</td>\n",
       "      <td>1.905098</td>\n",
       "      <td>16.910585</td>\n",
       "      <td>0.00</td>\n",
       "      <td>0.0</td>\n",
       "      <td>0.0</td>\n",
       "      <td>1.00</td>\n",
       "      <td>5621.0</td>\n",
       "    </tr>\n",
       "    <tr>\n",
       "      <th>RetainedJob</th>\n",
       "      <td>459506.0</td>\n",
       "      <td>4.786976</td>\n",
       "      <td>15.685655</td>\n",
       "      <td>0.00</td>\n",
       "      <td>0.0</td>\n",
       "      <td>1.0</td>\n",
       "      <td>5.00</td>\n",
       "      <td>4441.0</td>\n",
       "    </tr>\n",
       "    <tr>\n",
       "      <th>UrbanRural</th>\n",
       "      <td>459506.0</td>\n",
       "      <td>0.900169</td>\n",
       "      <td>0.604199</td>\n",
       "      <td>0.00</td>\n",
       "      <td>1.0</td>\n",
       "      <td>1.0</td>\n",
       "      <td>1.00</td>\n",
       "      <td>2.0</td>\n",
       "    </tr>\n",
       "    <tr>\n",
       "      <th>DisbursementGross</th>\n",
       "      <td>459506.0</td>\n",
       "      <td>171965.924027</td>\n",
       "      <td>274989.012959</td>\n",
       "      <td>4000.00</td>\n",
       "      <td>34983.0</td>\n",
       "      <td>75500.0</td>\n",
       "      <td>191992.75</td>\n",
       "      <td>11446325.0</td>\n",
       "    </tr>\n",
       "    <tr>\n",
       "      <th>GrAppv</th>\n",
       "      <td>459506.0</td>\n",
       "      <td>154066.817809</td>\n",
       "      <td>261217.184151</td>\n",
       "      <td>1000.00</td>\n",
       "      <td>25000.0</td>\n",
       "      <td>50000.0</td>\n",
       "      <td>156000.00</td>\n",
       "      <td>5000000.0</td>\n",
       "    </tr>\n",
       "    <tr>\n",
       "      <th>SBA_Appv</th>\n",
       "      <td>459506.0</td>\n",
       "      <td>117096.220844</td>\n",
       "      <td>214163.395536</td>\n",
       "      <td>500.00</td>\n",
       "      <td>12750.0</td>\n",
       "      <td>35000.0</td>\n",
       "      <td>125000.00</td>\n",
       "      <td>4500000.0</td>\n",
       "    </tr>\n",
       "    <tr>\n",
       "      <th>sameState</th>\n",
       "      <td>459506.0</td>\n",
       "      <td>0.456044</td>\n",
       "      <td>0.498065</td>\n",
       "      <td>0.00</td>\n",
       "      <td>0.0</td>\n",
       "      <td>0.0</td>\n",
       "      <td>1.00</td>\n",
       "      <td>1.0</td>\n",
       "    </tr>\n",
       "    <tr>\n",
       "      <th>Portion</th>\n",
       "      <td>459506.0</td>\n",
       "      <td>0.652388</td>\n",
       "      <td>0.179353</td>\n",
       "      <td>0.05</td>\n",
       "      <td>0.5</td>\n",
       "      <td>0.5</td>\n",
       "      <td>0.82</td>\n",
       "      <td>1.0</td>\n",
       "    </tr>\n",
       "  </tbody>\n",
       "</table>\n",
       "</div>"
      ],
      "text/plain": [
       "                      count           mean            std      min      25%  \\\n",
       "ApprovalFY         459506.0    2003.016381       5.667214  1984.00   2000.0   \n",
       "Term               459506.0      93.719986      68.305137     0.00     59.0   \n",
       "NoEmp              459506.0       9.893912      56.664519     0.00      2.0   \n",
       "NewExist           459506.0       1.264884       0.441272     1.00      1.0   \n",
       "CreateJob          459506.0       1.905098      16.910585     0.00      0.0   \n",
       "RetainedJob        459506.0       4.786976      15.685655     0.00      0.0   \n",
       "UrbanRural         459506.0       0.900169       0.604199     0.00      1.0   \n",
       "DisbursementGross  459506.0  171965.924027  274989.012959  4000.00  34983.0   \n",
       "GrAppv             459506.0  154066.817809  261217.184151  1000.00  25000.0   \n",
       "SBA_Appv           459506.0  117096.220844  214163.395536   500.00  12750.0   \n",
       "sameState          459506.0       0.456044       0.498065     0.00      0.0   \n",
       "Portion            459506.0       0.652388       0.179353     0.05      0.5   \n",
       "\n",
       "                       50%        75%         max  \n",
       "ApprovalFY          2005.0    2007.00      2014.0  \n",
       "Term                  84.0      90.00       527.0  \n",
       "NoEmp                  4.0       9.00      9999.0  \n",
       "NewExist               1.0       2.00         2.0  \n",
       "CreateJob              0.0       1.00      5621.0  \n",
       "RetainedJob            1.0       5.00      4441.0  \n",
       "UrbanRural             1.0       1.00         2.0  \n",
       "DisbursementGross  75500.0  191992.75  11446325.0  \n",
       "GrAppv             50000.0  156000.00   5000000.0  \n",
       "SBA_Appv           35000.0  125000.00   4500000.0  \n",
       "sameState              0.0       1.00         1.0  \n",
       "Portion                0.5       0.82         1.0  "
      ]
     },
     "execution_count": 6,
     "metadata": {},
     "output_type": "execute_result"
    }
   ],
   "source": [
    "df.describe().T"
   ]
  },
  {
   "cell_type": "code",
   "execution_count": 7,
   "metadata": {},
   "outputs": [
    {
     "data": {
      "text/html": [
       "<div>\n",
       "<style scoped>\n",
       "    .dataframe tbody tr th:only-of-type {\n",
       "        vertical-align: middle;\n",
       "    }\n",
       "\n",
       "    .dataframe tbody tr th {\n",
       "        vertical-align: top;\n",
       "    }\n",
       "\n",
       "    .dataframe thead th {\n",
       "        text-align: right;\n",
       "    }\n",
       "</style>\n",
       "<table border=\"1\" class=\"dataframe\">\n",
       "  <thead>\n",
       "    <tr style=\"text-align: right;\">\n",
       "      <th></th>\n",
       "      <th>feature_name</th>\n",
       "      <th>type</th>\n",
       "      <th>Null</th>\n",
       "      <th>Percentage Null</th>\n",
       "      <th>No Unique</th>\n",
       "      <th>Example Unique</th>\n",
       "    </tr>\n",
       "  </thead>\n",
       "  <tbody>\n",
       "    <tr>\n",
       "      <th>0</th>\n",
       "      <td>ApprovalFY</td>\n",
       "      <td>int64</td>\n",
       "      <td>0</td>\n",
       "      <td>0.0</td>\n",
       "      <td>29</td>\n",
       "      <td>[2009, 1994]</td>\n",
       "    </tr>\n",
       "    <tr>\n",
       "      <th>1</th>\n",
       "      <td>Term</td>\n",
       "      <td>int64</td>\n",
       "      <td>0</td>\n",
       "      <td>0.0</td>\n",
       "      <td>373</td>\n",
       "      <td>[142, 312]</td>\n",
       "    </tr>\n",
       "    <tr>\n",
       "      <th>2</th>\n",
       "      <td>NoEmp</td>\n",
       "      <td>int64</td>\n",
       "      <td>0</td>\n",
       "      <td>0.0</td>\n",
       "      <td>432</td>\n",
       "      <td>[544, 138]</td>\n",
       "    </tr>\n",
       "    <tr>\n",
       "      <th>3</th>\n",
       "      <td>NewExist</td>\n",
       "      <td>int64</td>\n",
       "      <td>0</td>\n",
       "      <td>0.0</td>\n",
       "      <td>2</td>\n",
       "      <td>[1, 2]</td>\n",
       "    </tr>\n",
       "    <tr>\n",
       "      <th>4</th>\n",
       "      <td>CreateJob</td>\n",
       "      <td>int64</td>\n",
       "      <td>0</td>\n",
       "      <td>0.0</td>\n",
       "      <td>193</td>\n",
       "      <td>[451, 144]</td>\n",
       "    </tr>\n",
       "    <tr>\n",
       "      <th>5</th>\n",
       "      <td>RetainedJob</td>\n",
       "      <td>int64</td>\n",
       "      <td>0</td>\n",
       "      <td>0.0</td>\n",
       "      <td>276</td>\n",
       "      <td>[113, 128]</td>\n",
       "    </tr>\n",
       "    <tr>\n",
       "      <th>6</th>\n",
       "      <td>UrbanRural</td>\n",
       "      <td>int64</td>\n",
       "      <td>0</td>\n",
       "      <td>0.0</td>\n",
       "      <td>3</td>\n",
       "      <td>[1, 0]</td>\n",
       "    </tr>\n",
       "    <tr>\n",
       "      <th>7</th>\n",
       "      <td>RevLineCr</td>\n",
       "      <td>object</td>\n",
       "      <td>0</td>\n",
       "      <td>0.0</td>\n",
       "      <td>2</td>\n",
       "      <td>[N, Y]</td>\n",
       "    </tr>\n",
       "    <tr>\n",
       "      <th>8</th>\n",
       "      <td>LowDoc</td>\n",
       "      <td>object</td>\n",
       "      <td>0</td>\n",
       "      <td>0.0</td>\n",
       "      <td>2</td>\n",
       "      <td>[Y, N]</td>\n",
       "    </tr>\n",
       "    <tr>\n",
       "      <th>9</th>\n",
       "      <td>DisbursementGross</td>\n",
       "      <td>float64</td>\n",
       "      <td>0</td>\n",
       "      <td>0.0</td>\n",
       "      <td>101013</td>\n",
       "      <td>[105767.0, 44922.0]</td>\n",
       "    </tr>\n",
       "    <tr>\n",
       "      <th>10</th>\n",
       "      <td>MIS_Status</td>\n",
       "      <td>object</td>\n",
       "      <td>0</td>\n",
       "      <td>0.0</td>\n",
       "      <td>2</td>\n",
       "      <td>[CHGOFF, P I F]</td>\n",
       "    </tr>\n",
       "    <tr>\n",
       "      <th>11</th>\n",
       "      <td>GrAppv</td>\n",
       "      <td>float64</td>\n",
       "      <td>0</td>\n",
       "      <td>0.0</td>\n",
       "      <td>12805</td>\n",
       "      <td>[350857.0, 14264.0]</td>\n",
       "    </tr>\n",
       "    <tr>\n",
       "      <th>12</th>\n",
       "      <td>SBA_Appv</td>\n",
       "      <td>float64</td>\n",
       "      <td>0</td>\n",
       "      <td>0.0</td>\n",
       "      <td>22281</td>\n",
       "      <td>[695668.0, 482400.0]</td>\n",
       "    </tr>\n",
       "    <tr>\n",
       "      <th>13</th>\n",
       "      <td>sector</td>\n",
       "      <td>object</td>\n",
       "      <td>0</td>\n",
       "      <td>0.0</td>\n",
       "      <td>20</td>\n",
       "      <td>[Mining_quar_oil_gas_ext, Health_care_social_ass]</td>\n",
       "    </tr>\n",
       "    <tr>\n",
       "      <th>14</th>\n",
       "      <td>isFranchise</td>\n",
       "      <td>object</td>\n",
       "      <td>0</td>\n",
       "      <td>0.0</td>\n",
       "      <td>2</td>\n",
       "      <td>[Franchise, No Franchise]</td>\n",
       "    </tr>\n",
       "    <tr>\n",
       "      <th>15</th>\n",
       "      <td>sameState</td>\n",
       "      <td>int64</td>\n",
       "      <td>0</td>\n",
       "      <td>0.0</td>\n",
       "      <td>2</td>\n",
       "      <td>[0, 1]</td>\n",
       "    </tr>\n",
       "    <tr>\n",
       "      <th>16</th>\n",
       "      <td>Portion</td>\n",
       "      <td>float64</td>\n",
       "      <td>0</td>\n",
       "      <td>0.0</td>\n",
       "      <td>5746</td>\n",
       "      <td>[0.5395, 0.41600000000000004]</td>\n",
       "    </tr>\n",
       "  </tbody>\n",
       "</table>\n",
       "</div>"
      ],
      "text/plain": [
       "         feature_name     type  Null  Percentage Null  No Unique  \\\n",
       "0          ApprovalFY    int64     0              0.0         29   \n",
       "1                Term    int64     0              0.0        373   \n",
       "2               NoEmp    int64     0              0.0        432   \n",
       "3            NewExist    int64     0              0.0          2   \n",
       "4           CreateJob    int64     0              0.0        193   \n",
       "5         RetainedJob    int64     0              0.0        276   \n",
       "6          UrbanRural    int64     0              0.0          3   \n",
       "7           RevLineCr   object     0              0.0          2   \n",
       "8              LowDoc   object     0              0.0          2   \n",
       "9   DisbursementGross  float64     0              0.0     101013   \n",
       "10         MIS_Status   object     0              0.0          2   \n",
       "11             GrAppv  float64     0              0.0      12805   \n",
       "12           SBA_Appv  float64     0              0.0      22281   \n",
       "13             sector   object     0              0.0         20   \n",
       "14        isFranchise   object     0              0.0          2   \n",
       "15          sameState    int64     0              0.0          2   \n",
       "16            Portion  float64     0              0.0       5746   \n",
       "\n",
       "                                       Example Unique  \n",
       "0                                        [2009, 1994]  \n",
       "1                                          [142, 312]  \n",
       "2                                          [544, 138]  \n",
       "3                                              [1, 2]  \n",
       "4                                          [451, 144]  \n",
       "5                                          [113, 128]  \n",
       "6                                              [1, 0]  \n",
       "7                                              [N, Y]  \n",
       "8                                              [Y, N]  \n",
       "9                                 [105767.0, 44922.0]  \n",
       "10                                    [CHGOFF, P I F]  \n",
       "11                                [350857.0, 14264.0]  \n",
       "12                               [695668.0, 482400.0]  \n",
       "13  [Mining_quar_oil_gas_ext, Health_care_social_ass]  \n",
       "14                          [Franchise, No Franchise]  \n",
       "15                                             [0, 1]  \n",
       "16                      [0.5395, 0.41600000000000004]  "
      ]
     },
     "execution_count": 7,
     "metadata": {},
     "output_type": "execute_result"
    }
   ],
   "source": [
    "SBA_LoanDESC = []\n",
    "\n",
    "for i in df.columns:\n",
    "    SBA_LoanDESC.append([\n",
    "    i,\n",
    "    df[i].dtypes,\n",
    "    df[i].isna().sum(),\n",
    "    (((df[i].isna().sum())/len(df))*100).round(2),\n",
    "    df[i].nunique(),\n",
    "    df[i].drop_duplicates().sample(2).values\n",
    "    ])\n",
    "    \n",
    "pd.DataFrame(data=SBA_LoanDESC, columns=['feature_name', 'type', 'Null', 'Percentage Null', 'No Unique', 'Example Unique'])"
   ]
  },
  {
   "cell_type": "markdown",
   "metadata": {},
   "source": [
    "### Data Preparation"
   ]
  },
  {
   "cell_type": "code",
   "execution_count": 8,
   "metadata": {},
   "outputs": [
    {
     "data": {
      "text/plain": [
       "P I F     78.55\n",
       "CHGOFF    21.45\n",
       "Name: MIS_Status, dtype: float64"
      ]
     },
     "execution_count": 8,
     "metadata": {},
     "output_type": "execute_result"
    }
   ],
   "source": [
    "## Checking for balance/ imbalance data of target\n",
    "(((df['MIS_Status'].value_counts())/len(df))*100).round(2)"
   ]
  },
  {
   "cell_type": "code",
   "execution_count": 9,
   "metadata": {},
   "outputs": [],
   "source": [
    "## Encoding \n",
    "df['RevLineCr'] = df['RevLineCr'].map({'N':0, 'Y':1})\n",
    "df['LowDoc'] = df['LowDoc'].map({'N':0, 'Y':1})\n",
    "df['MIS_Status'] = df['MIS_Status'].map({'P I F':0, 'CHGOFF':1})\n",
    "df['isFranchise'] = df['isFranchise'].map({'No Franchise':0, 'Franchise':1})"
   ]
  },
  {
   "cell_type": "code",
   "execution_count": 10,
   "metadata": {},
   "outputs": [
    {
     "data": {
      "image/png": "[encoded data removed]",
      "text/plain": [
       "<Figure size 1080x504 with 2 Axes>"
      ]
     },
     "metadata": {
      "needs_background": "light"
     },
     "output_type": "display_data"
    }
   ],
   "source": [
    "## Checking for correlation among features\n",
    "plt.figure(figsize=(15,7))\n",
    "sns.heatmap(df.corr(), annot=True)\n",
    "plt.show()"
   ]
  },
  {
   "cell_type": "code",
   "execution_count": 11,
   "metadata": {},
   "outputs": [
    {
     "data": {
      "text/plain": [
       "ApprovalFY           0.239770\n",
       "UrbanRural           0.159055\n",
       "RevLineCr            0.093822\n",
       "NewExist            -0.000460\n",
       "RetainedJob         -0.006162\n",
       "CreateJob           -0.007491\n",
       "isFranchise         -0.024963\n",
       "NoEmp               -0.034723\n",
       "LowDoc              -0.096939\n",
       "DisbursementGross   -0.126766\n",
       "GrAppv              -0.138854\n",
       "SBA_Appv            -0.148793\n",
       "Portion             -0.182906\n",
       "sameState           -0.220812\n",
       "Term                -0.338692\n",
       "Name: MIS_Status, dtype: float64"
      ]
     },
     "execution_count": 11,
     "metadata": {},
     "output_type": "execute_result"
    }
   ],
   "source": [
    "##Correlation within Target\n",
    "df.corr()['MIS_Status'].sort_values(ascending=False)[1:]"
   ]
  },
  {
   "cell_type": "markdown",
   "metadata": {},
   "source": [
    "#### Feature Selection"
   ]
  },
  {
   "cell_type": "markdown",
   "metadata": {},
   "source": [
    "Note :\n",
    "\n",
    "- ApprovalFY, this feature show Fiscal year of commitment from 1984 - 2014. So, I would not use this for modeling\n",
    "- UrbanRural features give information about small business, since it has high correlation within target, I would use this for future modeling\n",
    "- Drop features that has little correlation :\n",
    "  - RetainedJob\n",
    "  - CreateJob\n",
    "  - isFranchise\n",
    "  - NoEmp\n",
    "- SBA_Appv and Portion -- I would like to use Portion one because it has higher correlation and drop SBA_Appv\n",
    "- Dropping DisbursementGross"
   ]
  },
  {
   "cell_type": "code",
   "execution_count": 12,
   "metadata": {},
   "outputs": [],
   "source": [
    "df.drop(columns=['ApprovalFY','RetainedJob','CreateJob','isFranchise','NoEmp','DisbursementGross', 'SBA_Appv'], inplace=True)"
   ]
  },
  {
   "cell_type": "code",
   "execution_count": 13,
   "metadata": {},
   "outputs": [
    {
     "data": {
      "text/plain": [
       "Term            int64\n",
       "NewExist        int64\n",
       "UrbanRural      int64\n",
       "RevLineCr       int64\n",
       "LowDoc          int64\n",
       "MIS_Status      int64\n",
       "GrAppv        float64\n",
       "sector         object\n",
       "sameState       int64\n",
       "Portion       float64\n",
       "dtype: object"
      ]
     },
     "execution_count": 13,
     "metadata": {},
     "output_type": "execute_result"
    }
   ],
   "source": [
    "## Type of features after encoding\n",
    "df.dtypes"
   ]
  },
  {
   "cell_type": "code",
   "execution_count": 14,
   "metadata": {},
   "outputs": [],
   "source": [
    "## Encoding\n",
    "## One Hot Encoding Using Pandas\n",
    "df = pd.get_dummies(data=df, columns=['sector'], prefix_sep='__')"
   ]
  },
  {
   "cell_type": "code",
   "execution_count": 15,
   "metadata": {},
   "outputs": [
    {
     "data": {
      "text/html": [
       "<div>\n",
       "<style scoped>\n",
       "    .dataframe tbody tr th:only-of-type {\n",
       "        vertical-align: middle;\n",
       "    }\n",
       "\n",
       "    .dataframe tbody tr th {\n",
       "        vertical-align: top;\n",
       "    }\n",
       "\n",
       "    .dataframe thead th {\n",
       "        text-align: right;\n",
       "    }\n",
       "</style>\n",
       "<table border=\"1\" class=\"dataframe\">\n",
       "  <thead>\n",
       "    <tr style=\"text-align: right;\">\n",
       "      <th></th>\n",
       "      <th>Term</th>\n",
       "      <th>NewExist</th>\n",
       "      <th>UrbanRural</th>\n",
       "      <th>RevLineCr</th>\n",
       "      <th>LowDoc</th>\n",
       "      <th>MIS_Status</th>\n",
       "      <th>GrAppv</th>\n",
       "      <th>sameState</th>\n",
       "      <th>Portion</th>\n",
       "      <th>sector__Accommodation_food_serv</th>\n",
       "      <th>...</th>\n",
       "      <th>sector__Manufacturing</th>\n",
       "      <th>sector__Mining_quar_oil_gas_ext</th>\n",
       "      <th>sector__Other_no_pub</th>\n",
       "      <th>sector__Prof_scien_and_tech_serv</th>\n",
       "      <th>sector__Public_admin</th>\n",
       "      <th>sector__RE,rental_leasing</th>\n",
       "      <th>sector__Retail_trade</th>\n",
       "      <th>sector__Trans_Ware</th>\n",
       "      <th>sector__Utilities</th>\n",
       "      <th>sector__Wholesale_trade</th>\n",
       "    </tr>\n",
       "  </thead>\n",
       "  <tbody>\n",
       "    <tr>\n",
       "      <th>0</th>\n",
       "      <td>84</td>\n",
       "      <td>2</td>\n",
       "      <td>0</td>\n",
       "      <td>0</td>\n",
       "      <td>1</td>\n",
       "      <td>0</td>\n",
       "      <td>60000.0</td>\n",
       "      <td>0</td>\n",
       "      <td>0.80</td>\n",
       "      <td>0</td>\n",
       "      <td>...</td>\n",
       "      <td>0</td>\n",
       "      <td>0</td>\n",
       "      <td>0</td>\n",
       "      <td>0</td>\n",
       "      <td>0</td>\n",
       "      <td>0</td>\n",
       "      <td>1</td>\n",
       "      <td>0</td>\n",
       "      <td>0</td>\n",
       "      <td>0</td>\n",
       "    </tr>\n",
       "    <tr>\n",
       "      <th>1</th>\n",
       "      <td>60</td>\n",
       "      <td>2</td>\n",
       "      <td>0</td>\n",
       "      <td>0</td>\n",
       "      <td>1</td>\n",
       "      <td>0</td>\n",
       "      <td>40000.0</td>\n",
       "      <td>1</td>\n",
       "      <td>0.80</td>\n",
       "      <td>1</td>\n",
       "      <td>...</td>\n",
       "      <td>0</td>\n",
       "      <td>0</td>\n",
       "      <td>0</td>\n",
       "      <td>0</td>\n",
       "      <td>0</td>\n",
       "      <td>0</td>\n",
       "      <td>0</td>\n",
       "      <td>0</td>\n",
       "      <td>0</td>\n",
       "      <td>0</td>\n",
       "    </tr>\n",
       "    <tr>\n",
       "      <th>2</th>\n",
       "      <td>180</td>\n",
       "      <td>1</td>\n",
       "      <td>0</td>\n",
       "      <td>0</td>\n",
       "      <td>0</td>\n",
       "      <td>0</td>\n",
       "      <td>287000.0</td>\n",
       "      <td>1</td>\n",
       "      <td>0.75</td>\n",
       "      <td>0</td>\n",
       "      <td>...</td>\n",
       "      <td>0</td>\n",
       "      <td>0</td>\n",
       "      <td>0</td>\n",
       "      <td>0</td>\n",
       "      <td>0</td>\n",
       "      <td>0</td>\n",
       "      <td>0</td>\n",
       "      <td>0</td>\n",
       "      <td>0</td>\n",
       "      <td>0</td>\n",
       "    </tr>\n",
       "    <tr>\n",
       "      <th>3</th>\n",
       "      <td>120</td>\n",
       "      <td>1</td>\n",
       "      <td>0</td>\n",
       "      <td>0</td>\n",
       "      <td>0</td>\n",
       "      <td>0</td>\n",
       "      <td>517000.0</td>\n",
       "      <td>0</td>\n",
       "      <td>0.75</td>\n",
       "      <td>0</td>\n",
       "      <td>...</td>\n",
       "      <td>1</td>\n",
       "      <td>0</td>\n",
       "      <td>0</td>\n",
       "      <td>0</td>\n",
       "      <td>0</td>\n",
       "      <td>0</td>\n",
       "      <td>0</td>\n",
       "      <td>0</td>\n",
       "      <td>0</td>\n",
       "      <td>0</td>\n",
       "    </tr>\n",
       "    <tr>\n",
       "      <th>4</th>\n",
       "      <td>84</td>\n",
       "      <td>2</td>\n",
       "      <td>0</td>\n",
       "      <td>0</td>\n",
       "      <td>1</td>\n",
       "      <td>0</td>\n",
       "      <td>45000.0</td>\n",
       "      <td>0</td>\n",
       "      <td>0.80</td>\n",
       "      <td>0</td>\n",
       "      <td>...</td>\n",
       "      <td>0</td>\n",
       "      <td>0</td>\n",
       "      <td>1</td>\n",
       "      <td>0</td>\n",
       "      <td>0</td>\n",
       "      <td>0</td>\n",
       "      <td>0</td>\n",
       "      <td>0</td>\n",
       "      <td>0</td>\n",
       "      <td>0</td>\n",
       "    </tr>\n",
       "  </tbody>\n",
       "</table>\n",
       "<p>5 rows × 29 columns</p>\n",
       "</div>"
      ],
      "text/plain": [
       "   Term  NewExist  UrbanRural  RevLineCr  LowDoc  MIS_Status    GrAppv  \\\n",
       "0    84         2           0          0       1           0   60000.0   \n",
       "1    60         2           0          0       1           0   40000.0   \n",
       "2   180         1           0          0       0           0  287000.0   \n",
       "3   120         1           0          0       0           0  517000.0   \n",
       "4    84         2           0          0       1           0   45000.0   \n",
       "\n",
       "   sameState  Portion  sector__Accommodation_food_serv  ...  \\\n",
       "0          0     0.80                                0  ...   \n",
       "1          1     0.80                                1  ...   \n",
       "2          1     0.75                                0  ...   \n",
       "3          0     0.75                                0  ...   \n",
       "4          0     0.80                                0  ...   \n",
       "\n",
       "   sector__Manufacturing  sector__Mining_quar_oil_gas_ext  \\\n",
       "0                      0                                0   \n",
       "1                      0                                0   \n",
       "2                      0                                0   \n",
       "3                      1                                0   \n",
       "4                      0                                0   \n",
       "\n",
       "   sector__Other_no_pub  sector__Prof_scien_and_tech_serv  \\\n",
       "0                     0                                 0   \n",
       "1                     0                                 0   \n",
       "2                     0                                 0   \n",
       "3                     0                                 0   \n",
       "4                     1                                 0   \n",
       "\n",
       "   sector__Public_admin  sector__RE,rental_leasing  sector__Retail_trade  \\\n",
       "0                     0                          0                     1   \n",
       "1                     0                          0                     0   \n",
       "2                     0                          0                     0   \n",
       "3                     0                          0                     0   \n",
       "4                     0                          0                     0   \n",
       "\n",
       "   sector__Trans_Ware  sector__Utilities  sector__Wholesale_trade  \n",
       "0                   0                  0                        0  \n",
       "1                   0                  0                        0  \n",
       "2                   0                  0                        0  \n",
       "3                   0                  0                        0  \n",
       "4                   0                  0                        0  \n",
       "\n",
       "[5 rows x 29 columns]"
      ]
     },
     "execution_count": 15,
     "metadata": {},
     "output_type": "execute_result"
    }
   ],
   "source": [
    "df.head()"
   ]
  },
  {
   "cell_type": "code",
   "execution_count": 16,
   "metadata": {},
   "outputs": [
    {
     "data": {
      "text/plain": [
       "Index(['Term', 'NewExist', 'UrbanRural', 'RevLineCr', 'LowDoc', 'MIS_Status',\n",
       "       'GrAppv', 'sameState', 'Portion', 'sector__Accommodation_food_serv',\n",
       "       'sector__Admini_sup_and_waste_mgm_rem', 'sector__Ag_fores_ﬁshi_hunting',\n",
       "       'sector__Arts_enter_recreation', 'sector__Construction',\n",
       "       'sector__Educational_services', 'sector__Finance_insurance',\n",
       "       'sector__Health_care_social_ass', 'sector__Information',\n",
       "       'sector__Management_and_enterprises', 'sector__Manufacturing',\n",
       "       'sector__Mining_quar_oil_gas_ext', 'sector__Other_no_pub',\n",
       "       'sector__Prof_scien_and_tech_serv', 'sector__Public_admin',\n",
       "       'sector__RE,rental_leasing', 'sector__Retail_trade',\n",
       "       'sector__Trans_Ware', 'sector__Utilities', 'sector__Wholesale_trade'],\n",
       "      dtype='object')"
      ]
     },
     "execution_count": 16,
     "metadata": {},
     "output_type": "execute_result"
    }
   ],
   "source": [
    "df.columns"
   ]
  },
  {
   "cell_type": "markdown",
   "metadata": {},
   "source": [
    "### Machine Learning Building"
   ]
  },
  {
   "cell_type": "code",
   "execution_count": 17,
   "metadata": {},
   "outputs": [],
   "source": [
    "from sklearn.model_selection import train_test_split, GridSearchCV\n",
    "\n",
    "from sklearn import set_config\n",
    "set_config(print_changed_only=False)\n",
    "\n",
    "## Evaluation Matrix\n",
    "from sklearn.metrics import classification_report, confusion_matrix, recall_score, precision_score, f1_score, accuracy_score"
   ]
  },
  {
   "cell_type": "code",
   "execution_count": 18,
   "metadata": {},
   "outputs": [],
   "source": [
    "x = df.drop(columns='MIS_Status') \n",
    "y = df['MIS_Status']"
   ]
  },
  {
   "cell_type": "code",
   "execution_count": 19,
   "metadata": {},
   "outputs": [],
   "source": [
    "#Splitting Data\n",
    "x_train, x_test, y_train, y_test = train_test_split(x,y, stratify=y, train_size=.80, random_state=42)"
   ]
  },
  {
   "cell_type": "markdown",
   "metadata": {},
   "source": [
    "#### Handling Imbalance Data"
   ]
  },
  {
   "cell_type": "markdown",
   "metadata": {},
   "source": [
    "#### SMOTE"
   ]
  },
  {
   "cell_type": "code",
   "execution_count": 21,
   "metadata": {},
   "outputs": [],
   "source": [
    "import imblearn\n",
    "from imblearn.over_sampling import SMOTE\n",
    "\n",
    "sm = SMOTE (random_state=42)\n",
    "x_train_sm, y_train_sm = sm.fit_sample(x_train, y_train)"
   ]
  },
  {
   "cell_type": "markdown",
   "metadata": {},
   "source": [
    "### Base Modeling"
   ]
  },
  {
   "cell_type": "markdown",
   "metadata": {},
   "source": [
    "#### 1. Decision Tree"
   ]
  },
  {
   "cell_type": "code",
   "execution_count": 22,
   "metadata": {},
   "outputs": [],
   "source": [
    "from sklearn.tree import DecisionTreeClassifier\n",
    "\n",
    "modelDT_sm = DecisionTreeClassifier()\n",
    "#fit model\n",
    "modelDT_sm.fit(x_train_sm, y_train_sm)\n",
    "y_predDT_sm = modelDT_sm.predict(x_test)"
   ]
  },
  {
   "cell_type": "code",
   "execution_count": 31,
   "metadata": {},
   "outputs": [],
   "source": [
    "# Evaluation Matrix for Train\n",
    "y_trainDT_sm = modelDT_sm.predict(x_train_sm)\n",
    "\n",
    "acc_trainDT_sm = accuracy_score(y_train_sm, y_trainDT_sm)\n",
    "prec_trainDT_sm = precision_score(y_train_sm, y_trainDT_sm)\n",
    "rec_trainDT_sm = recall_score(y_train_sm, y_trainDT_sm)\n",
    "f1_trainDT_sm =f1_score(y_train_sm, y_trainDT_sm)"
   ]
  },
  {
   "cell_type": "code",
   "execution_count": 23,
   "metadata": {},
   "outputs": [
    {
     "name": "stdout",
     "output_type": "stream",
     "text": [
      "              precision    recall  f1-score   support\n",
      "\n",
      "           0       0.95      0.93      0.94     72193\n",
      "           1       0.77      0.83      0.80     19709\n",
      "\n",
      "    accuracy                           0.91     91902\n",
      "   macro avg       0.86      0.88      0.87     91902\n",
      "weighted avg       0.91      0.91      0.91     91902\n",
      "\n"
     ]
    }
   ],
   "source": [
    "# Evaluation Matrix for Test\n",
    "acc_DT_sm = accuracy_score(y_test, y_predDT_sm)\n",
    "prec_DT_sm = precision_score(y_test, y_predDT_sm)\n",
    "rec_DT_sm = recall_score(y_test, y_predDT_sm)\n",
    "f1_DT_sm =f1_score(y_test, y_predDT_sm)\n",
    "\n",
    "print(classification_report(y_test, y_predDT_sm))"
   ]
  },
  {
   "cell_type": "code",
   "execution_count": 33,
   "metadata": {},
   "outputs": [
    {
     "data": {
      "text/html": [
       "<div>\n",
       "<style scoped>\n",
       "    .dataframe tbody tr th:only-of-type {\n",
       "        vertical-align: middle;\n",
       "    }\n",
       "\n",
       "    .dataframe tbody tr th {\n",
       "        vertical-align: top;\n",
       "    }\n",
       "\n",
       "    .dataframe thead th {\n",
       "        text-align: right;\n",
       "    }\n",
       "</style>\n",
       "<table border=\"1\" class=\"dataframe\">\n",
       "  <thead>\n",
       "    <tr style=\"text-align: right;\">\n",
       "      <th></th>\n",
       "      <th>Training</th>\n",
       "      <th>Testing</th>\n",
       "    </tr>\n",
       "  </thead>\n",
       "  <tbody>\n",
       "    <tr>\n",
       "      <th>Accuracy</th>\n",
       "      <td>0.982495</td>\n",
       "      <td>0.909121</td>\n",
       "    </tr>\n",
       "    <tr>\n",
       "      <th>Precision</th>\n",
       "      <td>0.983368</td>\n",
       "      <td>0.767538</td>\n",
       "    </tr>\n",
       "    <tr>\n",
       "      <th>Recall</th>\n",
       "      <td>0.981591</td>\n",
       "      <td>0.826577</td>\n",
       "    </tr>\n",
       "    <tr>\n",
       "      <th>F1-score</th>\n",
       "      <td>0.982479</td>\n",
       "      <td>0.795964</td>\n",
       "    </tr>\n",
       "  </tbody>\n",
       "</table>\n",
       "</div>"
      ],
      "text/plain": [
       "           Training   Testing\n",
       "Accuracy   0.982495  0.909121\n",
       "Precision  0.983368  0.767538\n",
       "Recall     0.981591  0.826577\n",
       "F1-score   0.982479  0.795964"
      ]
     },
     "execution_count": 33,
     "metadata": {},
     "output_type": "execute_result"
    }
   ],
   "source": [
    "DT = {\n",
    "    'Training':[acc_trainDT_sm, prec_trainDT_sm, rec_trainDT_sm, f1_trainDT_sm],\n",
    "    'Testing':[acc_DT_sm, prec_DT_sm, rec_DT_sm, f1_DT_sm]\n",
    "}\n",
    "pd.DataFrame(data=DT, index=['Accuracy','Precision','Recall','F1-score'])"
   ]
  },
  {
   "cell_type": "code",
   "execution_count": 24,
   "metadata": {},
   "outputs": [
    {
     "data": {
      "text/html": [
       "<div>\n",
       "<style scoped>\n",
       "    .dataframe tbody tr th:only-of-type {\n",
       "        vertical-align: middle;\n",
       "    }\n",
       "\n",
       "    .dataframe tbody tr th {\n",
       "        vertical-align: top;\n",
       "    }\n",
       "\n",
       "    .dataframe thead th {\n",
       "        text-align: right;\n",
       "    }\n",
       "</style>\n",
       "<table border=\"1\" class=\"dataframe\">\n",
       "  <thead>\n",
       "    <tr style=\"text-align: right;\">\n",
       "      <th></th>\n",
       "      <th>Pred 1</th>\n",
       "      <th>Pred 0</th>\n",
       "    </tr>\n",
       "  </thead>\n",
       "  <tbody>\n",
       "    <tr>\n",
       "      <th>Akt 1</th>\n",
       "      <td>16291</td>\n",
       "      <td>3418</td>\n",
       "    </tr>\n",
       "    <tr>\n",
       "      <th>Akt 0</th>\n",
       "      <td>4934</td>\n",
       "      <td>67259</td>\n",
       "    </tr>\n",
       "  </tbody>\n",
       "</table>\n",
       "</div>"
      ],
      "text/plain": [
       "       Pred 1  Pred 0\n",
       "Akt 1   16291    3418\n",
       "Akt 0    4934   67259"
      ]
     },
     "execution_count": 24,
     "metadata": {},
     "output_type": "execute_result"
    }
   ],
   "source": [
    "cm_DT_sm = confusion_matrix(y_test, y_predDT_sm, labels=[1,0])\n",
    "df_cm_DT_sm = pd.DataFrame(data=cm_DT_sm, columns=['Pred 1', 'Pred 0'], index=['Akt 1', 'Akt 0'])\n",
    "df_cm_DT_sm"
   ]
  },
  {
   "cell_type": "code",
   "execution_count": 25,
   "metadata": {},
   "outputs": [
    {
     "data": {
      "text/plain": [
       "<matplotlib.axes._subplots.AxesSubplot at 0x1738b132b50>"
      ]
     },
     "execution_count": 25,
     "metadata": {},
     "output_type": "execute_result"
    },
    {
     "data": {
      "image/png": "[encoded data removed]",
      "text/plain": [
       "<Figure size 432x288 with 2 Axes>"
      ]
     },
     "metadata": {
      "needs_background": "light"
     },
     "output_type": "display_data"
    }
   ],
   "source": [
    "sns.heatmap(df_cm_DT_sm, annot=True, fmt='g')"
   ]
  },
  {
   "cell_type": "markdown",
   "metadata": {},
   "source": [
    "#### 2. Random Forest"
   ]
  },
  {
   "cell_type": "code",
   "execution_count": 26,
   "metadata": {},
   "outputs": [],
   "source": [
    "from sklearn.ensemble import RandomForestClassifier\n",
    "\n",
    "modelRF_sm = RandomForestClassifier()\n",
    "modelRF_sm.fit(x_train_sm, y_train_sm)\n",
    "y_predRF_sm = modelRF_sm.predict(x_test)"
   ]
  },
  {
   "cell_type": "code",
   "execution_count": 34,
   "metadata": {},
   "outputs": [],
   "source": [
    "# Evaluation Matrix for Train\n",
    "y_trainRF_sm = modelRF_sm.predict(x_train_sm)\n",
    "\n",
    "acc_trainRF_sm = accuracy_score(y_train_sm, y_trainRF_sm)\n",
    "prec_trainRF_sm = precision_score(y_train_sm, y_trainRF_sm)\n",
    "rec_trainRF_sm = recall_score(y_train_sm, y_trainRF_sm)\n",
    "f1_trainRF_sm =f1_score(y_train_sm, y_trainRF_sm)"
   ]
  },
  {
   "cell_type": "code",
   "execution_count": 27,
   "metadata": {},
   "outputs": [
    {
     "name": "stdout",
     "output_type": "stream",
     "text": [
      "              precision    recall  f1-score   support\n",
      "\n",
      "           0       0.95      0.95      0.95     72193\n",
      "           1       0.81      0.83      0.82     19709\n",
      "\n",
      "    accuracy                           0.92     91902\n",
      "   macro avg       0.88      0.89      0.88     91902\n",
      "weighted avg       0.92      0.92      0.92     91902\n",
      "\n"
     ]
    }
   ],
   "source": [
    "# Evaluation matrix for Testing\n",
    "acc_RF_sm = accuracy_score(y_test, y_predRF_sm)\n",
    "prec_RF_sm = precision_score(y_test, y_predRF_sm)\n",
    "rec_RF_sm = recall_score(y_test, y_predRF_sm)\n",
    "f1_RF_sm =f1_score(y_test, y_predRF_sm)\n",
    "\n",
    "print(classification_report(y_test, y_predRF_sm))"
   ]
  },
  {
   "cell_type": "code",
   "execution_count": 35,
   "metadata": {},
   "outputs": [
    {
     "data": {
      "text/html": [
       "<div>\n",
       "<style scoped>\n",
       "    .dataframe tbody tr th:only-of-type {\n",
       "        vertical-align: middle;\n",
       "    }\n",
       "\n",
       "    .dataframe tbody tr th {\n",
       "        vertical-align: top;\n",
       "    }\n",
       "\n",
       "    .dataframe thead th {\n",
       "        text-align: right;\n",
       "    }\n",
       "</style>\n",
       "<table border=\"1\" class=\"dataframe\">\n",
       "  <thead>\n",
       "    <tr style=\"text-align: right;\">\n",
       "      <th></th>\n",
       "      <th>Training</th>\n",
       "      <th>Testing</th>\n",
       "    </tr>\n",
       "  </thead>\n",
       "  <tbody>\n",
       "    <tr>\n",
       "      <th>Accuracy</th>\n",
       "      <td>0.982475</td>\n",
       "      <td>0.921340</td>\n",
       "    </tr>\n",
       "    <tr>\n",
       "      <th>Precision</th>\n",
       "      <td>0.981064</td>\n",
       "      <td>0.809462</td>\n",
       "    </tr>\n",
       "    <tr>\n",
       "      <th>Recall</th>\n",
       "      <td>0.983942</td>\n",
       "      <td>0.828150</td>\n",
       "    </tr>\n",
       "    <tr>\n",
       "      <th>F1-score</th>\n",
       "      <td>0.982501</td>\n",
       "      <td>0.818699</td>\n",
       "    </tr>\n",
       "  </tbody>\n",
       "</table>\n",
       "</div>"
      ],
      "text/plain": [
       "           Training   Testing\n",
       "Accuracy   0.982475  0.921340\n",
       "Precision  0.981064  0.809462\n",
       "Recall     0.983942  0.828150\n",
       "F1-score   0.982501  0.818699"
      ]
     },
     "execution_count": 35,
     "metadata": {},
     "output_type": "execute_result"
    }
   ],
   "source": [
    "RF = {\n",
    "    'Training':[acc_trainRF_sm, prec_trainRF_sm, rec_trainRF_sm, f1_trainRF_sm],\n",
    "    'Testing':[acc_RF_sm, prec_RF_sm, rec_RF_sm, f1_RF_sm]\n",
    "}\n",
    "pd.DataFrame(data=RF, index=['Accuracy','Precision','Recall','F1-score'])"
   ]
  },
  {
   "cell_type": "code",
   "execution_count": 28,
   "metadata": {},
   "outputs": [
    {
     "data": {
      "text/html": [
       "<div>\n",
       "<style scoped>\n",
       "    .dataframe tbody tr th:only-of-type {\n",
       "        vertical-align: middle;\n",
       "    }\n",
       "\n",
       "    .dataframe tbody tr th {\n",
       "        vertical-align: top;\n",
       "    }\n",
       "\n",
       "    .dataframe thead th {\n",
       "        text-align: right;\n",
       "    }\n",
       "</style>\n",
       "<table border=\"1\" class=\"dataframe\">\n",
       "  <thead>\n",
       "    <tr style=\"text-align: right;\">\n",
       "      <th></th>\n",
       "      <th>Pred 1</th>\n",
       "      <th>Pred 0</th>\n",
       "    </tr>\n",
       "  </thead>\n",
       "  <tbody>\n",
       "    <tr>\n",
       "      <th>Akt 1</th>\n",
       "      <td>16322</td>\n",
       "      <td>3387</td>\n",
       "    </tr>\n",
       "    <tr>\n",
       "      <th>Akt 0</th>\n",
       "      <td>3842</td>\n",
       "      <td>68351</td>\n",
       "    </tr>\n",
       "  </tbody>\n",
       "</table>\n",
       "</div>"
      ],
      "text/plain": [
       "       Pred 1  Pred 0\n",
       "Akt 1   16322    3387\n",
       "Akt 0    3842   68351"
      ]
     },
     "execution_count": 28,
     "metadata": {},
     "output_type": "execute_result"
    }
   ],
   "source": [
    "cm_RF_sm = confusion_matrix(y_test, y_predRF_sm, labels=[1,0])\n",
    "df_cm_RF_sm = pd.DataFrame(data=cm_RF_sm, columns=['Pred 1', 'Pred 0'], index=['Akt 1', 'Akt 0'])\n",
    "df_cm_RF_sm"
   ]
  },
  {
   "cell_type": "code",
   "execution_count": 29,
   "metadata": {},
   "outputs": [
    {
     "data": {
      "text/plain": [
       "<matplotlib.axes._subplots.AxesSubplot at 0x17386ef4bb0>"
      ]
     },
     "execution_count": 29,
     "metadata": {},
     "output_type": "execute_result"
    },
    {
     "data": {
      "image/png": "[encoded data removed]",
      "text/plain": [
       "<Figure size 432x288 with 2 Axes>"
      ]
     },
     "metadata": {
      "needs_background": "light"
     },
     "output_type": "display_data"
    }
   ],
   "source": [
    "sns.heatmap(df_cm_RF_sm, annot=True, fmt='g')"
   ]
  },
  {
   "cell_type": "markdown",
   "metadata": {},
   "source": [
    "#### 3. XGBoost"
   ]
  },
  {
   "cell_type": "code",
   "execution_count": 36,
   "metadata": {},
   "outputs": [],
   "source": [
    "from sklearn.ensemble import GradientBoostingClassifier\n",
    "from xgboost import XGBClassifier"
   ]
  },
  {
   "cell_type": "code",
   "execution_count": 37,
   "metadata": {},
   "outputs": [],
   "source": [
    "modelXGB_sm = XGBClassifier()\n",
    "modelXGB_sm.fit(x_train_sm, y_train_sm)\n",
    "y_predXGB_sm = modelXGB_sm.predict(x_test)"
   ]
  },
  {
   "cell_type": "code",
   "execution_count": 40,
   "metadata": {},
   "outputs": [],
   "source": [
    "# Evaluation Matrix for Train\n",
    "y_trainXGB_sm = modelXGB_sm.predict(x_train_sm)\n",
    "\n",
    "acc_trainXGB_sm = accuracy_score(y_train_sm, y_trainXGB_sm)\n",
    "prec_trainXGB_sm = precision_score(y_train_sm, y_trainXGB_sm)\n",
    "rec_trainXGB_sm = recall_score(y_train_sm, y_trainXGB_sm)\n",
    "f1_trainXGB_sm =f1_score(y_train_sm, y_trainXGB_sm)"
   ]
  },
  {
   "cell_type": "code",
   "execution_count": 39,
   "metadata": {},
   "outputs": [
    {
     "name": "stdout",
     "output_type": "stream",
     "text": [
      "              precision    recall  f1-score   support\n",
      "\n",
      "           0       0.97      0.94      0.96     72193\n",
      "           1       0.81      0.88      0.85     19709\n",
      "\n",
      "    accuracy                           0.93     91902\n",
      "   macro avg       0.89      0.91      0.90     91902\n",
      "weighted avg       0.93      0.93      0.93     91902\n",
      "\n"
     ]
    }
   ],
   "source": [
    "# Evaluation Matrix for Testing\n",
    "acc_XGB_sm = accuracy_score(y_test, y_predXGB_sm)\n",
    "prec_XGB_sm = precision_score(y_test, y_predXGB_sm)\n",
    "rec_XGB_sm = recall_score(y_test, y_predXGB_sm)\n",
    "f1_XGB_sm =f1_score(y_test, y_predXGB_sm)\n",
    "\n",
    "print(classification_report(y_test, y_predXGB_sm))"
   ]
  },
  {
   "cell_type": "code",
   "execution_count": 41,
   "metadata": {},
   "outputs": [
    {
     "data": {
      "text/html": [
       "<div>\n",
       "<style scoped>\n",
       "    .dataframe tbody tr th:only-of-type {\n",
       "        vertical-align: middle;\n",
       "    }\n",
       "\n",
       "    .dataframe tbody tr th {\n",
       "        vertical-align: top;\n",
       "    }\n",
       "\n",
       "    .dataframe thead th {\n",
       "        text-align: right;\n",
       "    }\n",
       "</style>\n",
       "<table border=\"1\" class=\"dataframe\">\n",
       "  <thead>\n",
       "    <tr style=\"text-align: right;\">\n",
       "      <th></th>\n",
       "      <th>Training</th>\n",
       "      <th>Testing</th>\n",
       "    </tr>\n",
       "  </thead>\n",
       "  <tbody>\n",
       "    <tr>\n",
       "      <th>Accuracy</th>\n",
       "      <td>0.947991</td>\n",
       "      <td>0.930981</td>\n",
       "    </tr>\n",
       "    <tr>\n",
       "      <th>Precision</th>\n",
       "      <td>0.947515</td>\n",
       "      <td>0.812290</td>\n",
       "    </tr>\n",
       "    <tr>\n",
       "      <th>Recall</th>\n",
       "      <td>0.948523</td>\n",
       "      <td>0.881983</td>\n",
       "    </tr>\n",
       "    <tr>\n",
       "      <th>F1-score</th>\n",
       "      <td>0.948019</td>\n",
       "      <td>0.845703</td>\n",
       "    </tr>\n",
       "  </tbody>\n",
       "</table>\n",
       "</div>"
      ],
      "text/plain": [
       "           Training   Testing\n",
       "Accuracy   0.947991  0.930981\n",
       "Precision  0.947515  0.812290\n",
       "Recall     0.948523  0.881983\n",
       "F1-score   0.948019  0.845703"
      ]
     },
     "execution_count": 41,
     "metadata": {},
     "output_type": "execute_result"
    }
   ],
   "source": [
    "XGB = {\n",
    "    'Training':[acc_trainXGB_sm, prec_trainXGB_sm, rec_trainXGB_sm, f1_trainXGB_sm],\n",
    "    'Testing':[acc_XGB_sm, prec_XGB_sm, rec_XGB_sm, f1_XGB_sm]\n",
    "}\n",
    "pd.DataFrame(data=XGB, index=['Accuracy','Precision','Recall','F1-score'])"
   ]
  },
  {
   "cell_type": "code",
   "execution_count": 42,
   "metadata": {},
   "outputs": [
    {
     "data": {
      "text/html": [
       "<div>\n",
       "<style scoped>\n",
       "    .dataframe tbody tr th:only-of-type {\n",
       "        vertical-align: middle;\n",
       "    }\n",
       "\n",
       "    .dataframe tbody tr th {\n",
       "        vertical-align: top;\n",
       "    }\n",
       "\n",
       "    .dataframe thead th {\n",
       "        text-align: right;\n",
       "    }\n",
       "</style>\n",
       "<table border=\"1\" class=\"dataframe\">\n",
       "  <thead>\n",
       "    <tr style=\"text-align: right;\">\n",
       "      <th></th>\n",
       "      <th>Pred 1</th>\n",
       "      <th>Pred 0</th>\n",
       "    </tr>\n",
       "  </thead>\n",
       "  <tbody>\n",
       "    <tr>\n",
       "      <th>Akt 1</th>\n",
       "      <td>17383</td>\n",
       "      <td>2326</td>\n",
       "    </tr>\n",
       "    <tr>\n",
       "      <th>Akt 0</th>\n",
       "      <td>4017</td>\n",
       "      <td>68176</td>\n",
       "    </tr>\n",
       "  </tbody>\n",
       "</table>\n",
       "</div>"
      ],
      "text/plain": [
       "       Pred 1  Pred 0\n",
       "Akt 1   17383    2326\n",
       "Akt 0    4017   68176"
      ]
     },
     "execution_count": 42,
     "metadata": {},
     "output_type": "execute_result"
    }
   ],
   "source": [
    "cm_XGB_sm = confusion_matrix(y_test, y_predXGB_sm, labels=[1,0])\n",
    "df_cm_XGB_sm = pd.DataFrame(data=cm_XGB_sm, columns=['Pred 1', 'Pred 0'], index=['Akt 1', 'Akt 0'])\n",
    "df_cm_XGB_sm"
   ]
  },
  {
   "cell_type": "code",
   "execution_count": 43,
   "metadata": {},
   "outputs": [
    {
     "data": {
      "text/plain": [
       "<matplotlib.axes._subplots.AxesSubplot at 0x1738bf76e20>"
      ]
     },
     "execution_count": 43,
     "metadata": {},
     "output_type": "execute_result"
    },
    {
     "data": {
      "image/png": "[encoded data removed]",
      "text/plain": [
       "<Figure size 432x288 with 2 Axes>"
      ]
     },
     "metadata": {
      "needs_background": "light"
     },
     "output_type": "display_data"
    }
   ],
   "source": [
    "sns.heatmap(df_cm_XGB_sm, annot=True, fmt='g')"
   ]
  },
  {
   "cell_type": "markdown",
   "metadata": {},
   "source": [
    "### Hyper Parameter Tuning"
   ]
  },
  {
   "cell_type": "markdown",
   "metadata": {},
   "source": [
    "#### 1. Decision Tree Tuning"
   ]
  },
  {
   "cell_type": "code",
   "execution_count": 44,
   "metadata": {},
   "outputs": [],
   "source": [
    "from sklearn.tree import DecisionTreeClassifier"
   ]
  },
  {
   "cell_type": "code",
   "execution_count": 45,
   "metadata": {},
   "outputs": [],
   "source": [
    "DT_tuned = DecisionTreeClassifier()\n",
    "param_DT = {'max_depth':[None, 10, 20],\n",
    "           'min_samples_split':[2,22,32],\n",
    "           'min_samples_leaf':[1,11,16],\n",
    "           'max_features':[None, 4, .5]}"
   ]
  },
  {
   "cell_type": "code",
   "execution_count": 46,
   "metadata": {},
   "outputs": [],
   "source": [
    "model_DT = GridSearchCV(estimator=DT_tuned, param_grid=param_DT,\n",
    "                       cv=3,\n",
    "                       n_jobs=-1,\n",
    "                        verbose=1,\n",
    "                        scoring='recall'\n",
    "                       )"
   ]
  },
  {
   "cell_type": "code",
   "execution_count": 47,
   "metadata": {},
   "outputs": [
    {
     "name": "stdout",
     "output_type": "stream",
     "text": [
      "Fitting 3 folds for each of 81 candidates, totalling 243 fits\n"
     ]
    },
    {
     "name": "stderr",
     "output_type": "stream",
     "text": [
      "[Parallel(n_jobs=-1)]: Using backend LokyBackend with 8 concurrent workers.\n",
      "[Parallel(n_jobs=-1)]: Done  34 tasks      | elapsed:   28.2s\n",
      "[Parallel(n_jobs=-1)]: Done 184 tasks      | elapsed:  1.6min\n",
      "[Parallel(n_jobs=-1)]: Done 243 out of 243 | elapsed:  2.0min finished\n"
     ]
    },
    {
     "data": {
      "text/plain": [
       "GridSearchCV(cv=3, error_score=nan,\n",
       "             estimator=DecisionTreeClassifier(ccp_alpha=0.0, class_weight=None,\n",
       "                                              criterion='gini', max_depth=None,\n",
       "                                              max_features=None,\n",
       "                                              max_leaf_nodes=None,\n",
       "                                              min_impurity_decrease=0.0,\n",
       "                                              min_impurity_split=None,\n",
       "                                              min_samples_leaf=1,\n",
       "                                              min_samples_split=2,\n",
       "                                              min_weight_fraction_leaf=0.0,\n",
       "                                              presort='deprecated',\n",
       "                                              random_state=None,\n",
       "                                              splitter='best'),\n",
       "             iid='deprecated', n_jobs=-1,\n",
       "             param_grid={'max_depth': [None, 10, 20],\n",
       "                         'max_features': [None, 4, 0.5],\n",
       "                         'min_samples_leaf': [1, 11, 16],\n",
       "                         'min_samples_split': [2, 22, 32]},\n",
       "             pre_dispatch='2*n_jobs', refit=True, return_train_score=False,\n",
       "             scoring='recall', verbose=1)"
      ]
     },
     "execution_count": 47,
     "metadata": {},
     "output_type": "execute_result"
    }
   ],
   "source": [
    "model_DT.fit(x_train_sm, y_train_sm)"
   ]
  },
  {
   "cell_type": "code",
   "execution_count": 49,
   "metadata": {},
   "outputs": [
    {
     "data": {
      "text/plain": [
       "DecisionTreeClassifier(ccp_alpha=0.0, class_weight=None, criterion='gini',\n",
       "                       max_depth=20, max_features=None, max_leaf_nodes=None,\n",
       "                       min_impurity_decrease=0.0, min_impurity_split=None,\n",
       "                       min_samples_leaf=1, min_samples_split=2,\n",
       "                       min_weight_fraction_leaf=0.0, presort='deprecated',\n",
       "                       random_state=None, splitter='best')"
      ]
     },
     "execution_count": 49,
     "metadata": {},
     "output_type": "execute_result"
    }
   ],
   "source": [
    "DT_tuned = model_DT.best_estimator_\n",
    "DT_tuned"
   ]
  },
  {
   "cell_type": "code",
   "execution_count": 50,
   "metadata": {},
   "outputs": [],
   "source": [
    "y_tunedDT = DT_tuned.predict(x_test)"
   ]
  },
  {
   "cell_type": "code",
   "execution_count": 51,
   "metadata": {},
   "outputs": [],
   "source": [
    "# Evaluation Matrix for Train\n",
    "y_trainDT_sm_tuned = DT_tuned.predict(x_train_sm)\n",
    "\n",
    "acc_trainDT_sm_tuned = accuracy_score(y_train_sm, y_trainDT_sm_tuned)\n",
    "prec_trainDT_sm_tuned = precision_score(y_train_sm, y_trainDT_sm_tuned)\n",
    "rec_trainDT_sm_tuned = recall_score(y_train_sm, y_trainDT_sm_tuned)\n",
    "f1_trainDT_sm_tuned =f1_score(y_train_sm, y_trainDT_sm_tuned)"
   ]
  },
  {
   "cell_type": "code",
   "execution_count": 52,
   "metadata": {},
   "outputs": [
    {
     "name": "stdout",
     "output_type": "stream",
     "text": [
      "              precision    recall  f1-score   support\n",
      "\n",
      "           0       0.96      0.93      0.95     72193\n",
      "           1       0.77      0.87      0.82     19709\n",
      "\n",
      "    accuracy                           0.92     91902\n",
      "   macro avg       0.87      0.90      0.88     91902\n",
      "weighted avg       0.92      0.92      0.92     91902\n",
      "\n"
     ]
    }
   ],
   "source": [
    "# Evaluation MAtix for Testing\n",
    "acc_DT_tuned = accuracy_score(y_test, y_tunedDT)\n",
    "prec_DT_tuned = precision_score(y_test, y_tunedDT)\n",
    "rec_DT_tuned = recall_score(y_test, y_tunedDT)\n",
    "f1_DT_tuned =f1_score(y_test, y_tunedDT)\n",
    "\n",
    "print(classification_report(y_test, y_tunedDT))"
   ]
  },
  {
   "cell_type": "code",
   "execution_count": 53,
   "metadata": {},
   "outputs": [
    {
     "data": {
      "text/html": [
       "<div>\n",
       "<style scoped>\n",
       "    .dataframe tbody tr th:only-of-type {\n",
       "        vertical-align: middle;\n",
       "    }\n",
       "\n",
       "    .dataframe tbody tr th {\n",
       "        vertical-align: top;\n",
       "    }\n",
       "\n",
       "    .dataframe thead th {\n",
       "        text-align: right;\n",
       "    }\n",
       "</style>\n",
       "<table border=\"1\" class=\"dataframe\">\n",
       "  <thead>\n",
       "    <tr style=\"text-align: right;\">\n",
       "      <th></th>\n",
       "      <th>Training</th>\n",
       "      <th>Testing</th>\n",
       "    </tr>\n",
       "  </thead>\n",
       "  <tbody>\n",
       "    <tr>\n",
       "      <th>Accuracy</th>\n",
       "      <td>0.964322</td>\n",
       "      <td>0.916085</td>\n",
       "    </tr>\n",
       "    <tr>\n",
       "      <th>Precision</th>\n",
       "      <td>0.960984</td>\n",
       "      <td>0.770020</td>\n",
       "    </tr>\n",
       "    <tr>\n",
       "      <th>Recall</th>\n",
       "      <td>0.967943</td>\n",
       "      <td>0.867928</td>\n",
       "    </tr>\n",
       "    <tr>\n",
       "      <th>F1-score</th>\n",
       "      <td>0.964451</td>\n",
       "      <td>0.816048</td>\n",
       "    </tr>\n",
       "  </tbody>\n",
       "</table>\n",
       "</div>"
      ],
      "text/plain": [
       "           Training   Testing\n",
       "Accuracy   0.964322  0.916085\n",
       "Precision  0.960984  0.770020\n",
       "Recall     0.967943  0.867928\n",
       "F1-score   0.964451  0.816048"
      ]
     },
     "execution_count": 53,
     "metadata": {},
     "output_type": "execute_result"
    }
   ],
   "source": [
    "DT_tuned = {\n",
    "    'Training':[acc_trainDT_sm_tuned, prec_trainDT_sm_tuned, rec_trainDT_sm_tuned, f1_trainDT_sm_tuned],\n",
    "    'Testing':[acc_DT_tuned, prec_DT_tuned, rec_DT_tuned, f1_DT_tuned]\n",
    "}\n",
    "pd.DataFrame(data=DT_tuned, index=['Accuracy','Precision','Recall','F1-score'])"
   ]
  },
  {
   "cell_type": "code",
   "execution_count": 54,
   "metadata": {},
   "outputs": [
    {
     "data": {
      "text/html": [
       "<div>\n",
       "<style scoped>\n",
       "    .dataframe tbody tr th:only-of-type {\n",
       "        vertical-align: middle;\n",
       "    }\n",
       "\n",
       "    .dataframe tbody tr th {\n",
       "        vertical-align: top;\n",
       "    }\n",
       "\n",
       "    .dataframe thead th {\n",
       "        text-align: right;\n",
       "    }\n",
       "</style>\n",
       "<table border=\"1\" class=\"dataframe\">\n",
       "  <thead>\n",
       "    <tr style=\"text-align: right;\">\n",
       "      <th></th>\n",
       "      <th>Pred 1</th>\n",
       "      <th>Pred 0</th>\n",
       "    </tr>\n",
       "  </thead>\n",
       "  <tbody>\n",
       "    <tr>\n",
       "      <th>Akt 1</th>\n",
       "      <td>17106</td>\n",
       "      <td>2603</td>\n",
       "    </tr>\n",
       "    <tr>\n",
       "      <th>Akt 0</th>\n",
       "      <td>5109</td>\n",
       "      <td>67084</td>\n",
       "    </tr>\n",
       "  </tbody>\n",
       "</table>\n",
       "</div>"
      ],
      "text/plain": [
       "       Pred 1  Pred 0\n",
       "Akt 1   17106    2603\n",
       "Akt 0    5109   67084"
      ]
     },
     "execution_count": 54,
     "metadata": {},
     "output_type": "execute_result"
    }
   ],
   "source": [
    "cm_DT_tuned = confusion_matrix(y_test, y_tunedDT, labels=[1,0])\n",
    "df_cm_DT_tuned = pd.DataFrame(data=cm_DT_tuned, columns=['Pred 1', 'Pred 0'], index=['Akt 1', 'Akt 0'])\n",
    "df_cm_DT_tuned"
   ]
  },
  {
   "cell_type": "code",
   "execution_count": 55,
   "metadata": {},
   "outputs": [
    {
     "data": {
      "text/plain": [
       "<matplotlib.axes._subplots.AxesSubplot at 0x1738c4cd4f0>"
      ]
     },
     "execution_count": 55,
     "metadata": {},
     "output_type": "execute_result"
    },
    {
     "data": {
      "image/png": "[encoded data removed]",
      "text/plain": [
       "<Figure size 432x288 with 2 Axes>"
      ]
     },
     "metadata": {
      "needs_background": "light"
     },
     "output_type": "display_data"
    }
   ],
   "source": [
    "sns.heatmap(df_cm_DT_tuned, annot=True, fmt='g')"
   ]
  },
  {
   "cell_type": "markdown",
   "metadata": {},
   "source": [
    "#### 2. Random Forest Tuning"
   ]
  },
  {
   "cell_type": "code",
   "execution_count": 56,
   "metadata": {},
   "outputs": [],
   "source": [
    "from sklearn.ensemble import RandomForestClassifier"
   ]
  },
  {
   "cell_type": "code",
   "execution_count": 57,
   "metadata": {},
   "outputs": [],
   "source": [
    "RF = RandomForestClassifier()\n",
    "\n",
    "param_RF = {'n_estimators': [100, 200],\n",
    "           'max_depth':[None, 20],\n",
    "           'min_samples_split':[2,30],\n",
    "           'min_samples_leaf':[1,15],\n",
    "           'max_features':[None,.6]}"
   ]
  },
  {
   "cell_type": "code",
   "execution_count": 58,
   "metadata": {},
   "outputs": [],
   "source": [
    "model_RF = GridSearchCV(estimator=RF, param_grid=param_RF, cv=2, n_jobs=-1, verbose=1, scoring='recall')"
   ]
  },
  {
   "cell_type": "code",
   "execution_count": 59,
   "metadata": {},
   "outputs": [
    {
     "name": "stdout",
     "output_type": "stream",
     "text": [
      "Fitting 2 folds for each of 32 candidates, totalling 64 fits\n"
     ]
    },
    {
     "name": "stderr",
     "output_type": "stream",
     "text": [
      "[Parallel(n_jobs=-1)]: Using backend LokyBackend with 8 concurrent workers.\n",
      "[Parallel(n_jobs=-1)]: Done  34 tasks      | elapsed: 30.0min\n",
      "[Parallel(n_jobs=-1)]: Done  64 out of  64 | elapsed: 52.7min finished\n"
     ]
    },
    {
     "data": {
      "text/plain": [
       "GridSearchCV(cv=2, error_score=nan,\n",
       "             estimator=RandomForestClassifier(bootstrap=True, ccp_alpha=0.0,\n",
       "                                              class_weight=None,\n",
       "                                              criterion='gini', max_depth=None,\n",
       "                                              max_features='auto',\n",
       "                                              max_leaf_nodes=None,\n",
       "                                              max_samples=None,\n",
       "                                              min_impurity_decrease=0.0,\n",
       "                                              min_impurity_split=None,\n",
       "                                              min_samples_leaf=1,\n",
       "                                              min_samples_split=2,\n",
       "                                              min_weight_fraction_leaf=0.0,\n",
       "                                              n_estimators=100, n_jobs=None,\n",
       "                                              oob_score=False,\n",
       "                                              random_state=None, verbose=0,\n",
       "                                              warm_start=False),\n",
       "             iid='deprecated', n_jobs=-1,\n",
       "             param_grid={'max_depth': [None, 20], 'max_features': [None, 0.6],\n",
       "                         'min_samples_leaf': [1, 15],\n",
       "                         'min_samples_split': [2, 30],\n",
       "                         'n_estimators': [100, 200]},\n",
       "             pre_dispatch='2*n_jobs', refit=True, return_train_score=False,\n",
       "             scoring='recall', verbose=1)"
      ]
     },
     "execution_count": 59,
     "metadata": {},
     "output_type": "execute_result"
    }
   ],
   "source": [
    "model_RF.fit(x_train_sm, y_train_sm)"
   ]
  },
  {
   "cell_type": "code",
   "execution_count": 60,
   "metadata": {},
   "outputs": [
    {
     "data": {
      "text/plain": [
       "RandomForestClassifier(bootstrap=True, ccp_alpha=0.0, class_weight=None,\n",
       "                       criterion='gini', max_depth=20, max_features=0.6,\n",
       "                       max_leaf_nodes=None, max_samples=None,\n",
       "                       min_impurity_decrease=0.0, min_impurity_split=None,\n",
       "                       min_samples_leaf=1, min_samples_split=2,\n",
       "                       min_weight_fraction_leaf=0.0, n_estimators=100,\n",
       "                       n_jobs=None, oob_score=False, random_state=None,\n",
       "                       verbose=0, warm_start=False)"
      ]
     },
     "execution_count": 60,
     "metadata": {},
     "output_type": "execute_result"
    }
   ],
   "source": [
    "RF_tuned = model_RF.best_estimator_\n",
    "RF_tuned"
   ]
  },
  {
   "cell_type": "code",
   "execution_count": 61,
   "metadata": {},
   "outputs": [],
   "source": [
    "y_predRF_sm_tuned = RF_tuned.predict(x_test)"
   ]
  },
  {
   "cell_type": "code",
   "execution_count": 62,
   "metadata": {},
   "outputs": [],
   "source": [
    "# Evaluation Matrix for Train\n",
    "y_trainRF_sm_tuned = RF_tuned.predict(x_train_sm)\n",
    "\n",
    "acc_trainRF_sm_tuned = accuracy_score(y_train_sm, y_trainRF_sm_tuned)\n",
    "prec_trainRF_sm_tuned = precision_score(y_train_sm, y_trainRF_sm_tuned)\n",
    "rec_trainRF_sm_tuned = recall_score(y_train_sm, y_trainRF_sm_tuned)\n",
    "f1_trainRF_sm_tuned =f1_score(y_train_sm, y_trainRF_sm_tuned)"
   ]
  },
  {
   "cell_type": "code",
   "execution_count": 63,
   "metadata": {},
   "outputs": [
    {
     "name": "stdout",
     "output_type": "stream",
     "text": [
      "              precision    recall  f1-score   support\n",
      "\n",
      "           0       0.97      0.94      0.95     72193\n",
      "           1       0.80      0.89      0.84     19709\n",
      "\n",
      "    accuracy                           0.93     91902\n",
      "   macro avg       0.88      0.91      0.90     91902\n",
      "weighted avg       0.93      0.93      0.93     91902\n",
      "\n"
     ]
    }
   ],
   "source": [
    "# Evaluation Matrix for Testing\n",
    "acc_RF_sm_tuned = accuracy_score(y_test, y_predRF_sm_tuned)\n",
    "prec_RF_sm_tuned = precision_score(y_test, y_predRF_sm_tuned)\n",
    "rec_RF_sm_tuned = recall_score(y_test, y_predRF_sm_tuned)\n",
    "f1_RF_sm_tuned =f1_score(y_test, y_predRF_sm_tuned)\n",
    "\n",
    "print(classification_report(y_test, y_predRF_sm_tuned))"
   ]
  },
  {
   "cell_type": "code",
   "execution_count": 64,
   "metadata": {},
   "outputs": [
    {
     "data": {
      "text/html": [
       "<div>\n",
       "<style scoped>\n",
       "    .dataframe tbody tr th:only-of-type {\n",
       "        vertical-align: middle;\n",
       "    }\n",
       "\n",
       "    .dataframe tbody tr th {\n",
       "        vertical-align: top;\n",
       "    }\n",
       "\n",
       "    .dataframe thead th {\n",
       "        text-align: right;\n",
       "    }\n",
       "</style>\n",
       "<table border=\"1\" class=\"dataframe\">\n",
       "  <thead>\n",
       "    <tr style=\"text-align: right;\">\n",
       "      <th></th>\n",
       "      <th>Training</th>\n",
       "      <th>Testing</th>\n",
       "    </tr>\n",
       "  </thead>\n",
       "  <tbody>\n",
       "    <tr>\n",
       "      <th>Accuracy</th>\n",
       "      <td>0.967302</td>\n",
       "      <td>0.927738</td>\n",
       "    </tr>\n",
       "    <tr>\n",
       "      <th>Precision</th>\n",
       "      <td>0.962608</td>\n",
       "      <td>0.798847</td>\n",
       "    </tr>\n",
       "    <tr>\n",
       "      <th>Recall</th>\n",
       "      <td>0.972376</td>\n",
       "      <td>0.886194</td>\n",
       "    </tr>\n",
       "    <tr>\n",
       "      <th>F1-score</th>\n",
       "      <td>0.967467</td>\n",
       "      <td>0.840257</td>\n",
       "    </tr>\n",
       "  </tbody>\n",
       "</table>\n",
       "</div>"
      ],
      "text/plain": [
       "           Training   Testing\n",
       "Accuracy   0.967302  0.927738\n",
       "Precision  0.962608  0.798847\n",
       "Recall     0.972376  0.886194\n",
       "F1-score   0.967467  0.840257"
      ]
     },
     "execution_count": 64,
     "metadata": {},
     "output_type": "execute_result"
    }
   ],
   "source": [
    "RF_tuned = {\n",
    "    'Training':[acc_trainRF_sm_tuned, prec_trainRF_sm_tuned, rec_trainRF_sm_tuned, f1_trainRF_sm_tuned],\n",
    "    'Testing':[acc_RF_sm_tuned, prec_RF_sm_tuned, rec_RF_sm_tuned, f1_RF_sm_tuned]\n",
    "}\n",
    "pd.DataFrame(data=RF_tuned, index=['Accuracy','Precision','Recall','F1-score'])"
   ]
  },
  {
   "cell_type": "code",
   "execution_count": 65,
   "metadata": {},
   "outputs": [
    {
     "data": {
      "text/html": [
       "<div>\n",
       "<style scoped>\n",
       "    .dataframe tbody tr th:only-of-type {\n",
       "        vertical-align: middle;\n",
       "    }\n",
       "\n",
       "    .dataframe tbody tr th {\n",
       "        vertical-align: top;\n",
       "    }\n",
       "\n",
       "    .dataframe thead th {\n",
       "        text-align: right;\n",
       "    }\n",
       "</style>\n",
       "<table border=\"1\" class=\"dataframe\">\n",
       "  <thead>\n",
       "    <tr style=\"text-align: right;\">\n",
       "      <th></th>\n",
       "      <th>Pred 1</th>\n",
       "      <th>Pred 0</th>\n",
       "    </tr>\n",
       "  </thead>\n",
       "  <tbody>\n",
       "    <tr>\n",
       "      <th>Akt 1</th>\n",
       "      <td>17466</td>\n",
       "      <td>2243</td>\n",
       "    </tr>\n",
       "    <tr>\n",
       "      <th>Akt 0</th>\n",
       "      <td>4398</td>\n",
       "      <td>67795</td>\n",
       "    </tr>\n",
       "  </tbody>\n",
       "</table>\n",
       "</div>"
      ],
      "text/plain": [
       "       Pred 1  Pred 0\n",
       "Akt 1   17466    2243\n",
       "Akt 0    4398   67795"
      ]
     },
     "execution_count": 65,
     "metadata": {},
     "output_type": "execute_result"
    }
   ],
   "source": [
    "cm_RF_sm_tuned = confusion_matrix(y_test, y_predRF_sm_tuned, labels=[1,0])\n",
    "df_cm_RF_sm_tuned = pd.DataFrame(data=cm_RF_sm_tuned, columns=['Pred 1', 'Pred 0'], index=['Akt 1', 'Akt 0'])\n",
    "df_cm_RF_sm_tuned"
   ]
  },
  {
   "cell_type": "code",
   "execution_count": 66,
   "metadata": {},
   "outputs": [
    {
     "data": {
      "text/plain": [
       "<matplotlib.axes._subplots.AxesSubplot at 0x1738c57e640>"
      ]
     },
     "execution_count": 66,
     "metadata": {},
     "output_type": "execute_result"
    },
    {
     "data": {
      "image/png": "[encoded data removed]",
      "text/plain": [
       "<Figure size 432x288 with 2 Axes>"
      ]
     },
     "metadata": {
      "needs_background": "light"
     },
     "output_type": "display_data"
    }
   ],
   "source": [
    "sns.heatmap(df_cm_RF_sm_tuned, annot=True, fmt='g')"
   ]
  },
  {
   "cell_type": "markdown",
   "metadata": {},
   "source": [
    "#### XGBoost Tuning"
   ]
  },
  {
   "cell_type": "code",
   "execution_count": 67,
   "metadata": {},
   "outputs": [],
   "source": [
    "from xgboost import XGBClassifier"
   ]
  },
  {
   "cell_type": "code",
   "execution_count": 68,
   "metadata": {},
   "outputs": [],
   "source": [
    "XGB_sm = XGBClassifier()\n",
    "\n",
    "param_XGB = {'n_estimators': [100, 200],\n",
    "           'max_depth':[None, 20],\n",
    "           'learning_rate':[0.1, 0.3],\n",
    "           'colsample_bytree':[None,.5]}"
   ]
  },
  {
   "cell_type": "code",
   "execution_count": 69,
   "metadata": {},
   "outputs": [],
   "source": [
    "model_XGB = GridSearchCV(estimator=XGB_sm, param_grid=param_XGB, cv=2, n_jobs=-1, verbose=1, scoring='recall')"
   ]
  },
  {
   "cell_type": "code",
   "execution_count": 70,
   "metadata": {},
   "outputs": [
    {
     "name": "stdout",
     "output_type": "stream",
     "text": [
      "Fitting 2 folds for each of 16 candidates, totalling 32 fits\n"
     ]
    },
    {
     "name": "stderr",
     "output_type": "stream",
     "text": [
      "[Parallel(n_jobs=-1)]: Using backend LokyBackend with 8 concurrent workers.\n",
      "[Parallel(n_jobs=-1)]: Done  32 out of  32 | elapsed: 16.7min finished\n"
     ]
    },
    {
     "data": {
      "text/plain": [
       "GridSearchCV(cv=2, error_score=nan,\n",
       "             estimator=XGBClassifier(base_score=None, booster=None,\n",
       "                                     colsample_bylevel=None,\n",
       "                                     colsample_bynode=None,\n",
       "                                     colsample_bytree=None, gamma=None,\n",
       "                                     gpu_id=None, importance_type='gain',\n",
       "                                     interaction_constraints=None,\n",
       "                                     learning_rate=None, max_delta_step=None,\n",
       "                                     max_depth=None, min_child_weight=None,\n",
       "                                     missing=nan, monotone_constraints=None,\n",
       "                                     n_estim...\n",
       "                                     random_state=None, reg_alpha=None,\n",
       "                                     reg_lambda=None, scale_pos_weight=None,\n",
       "                                     subsample=None, tree_method=None,\n",
       "                                     validate_parameters=None, verbosity=None),\n",
       "             iid='deprecated', n_jobs=-1,\n",
       "             param_grid={'colsample_bytree': [None, 0.5],\n",
       "                         'learning_rate': [0.1, 0.3], 'max_depth': [None, 20],\n",
       "                         'n_estimators': [100, 200]},\n",
       "             pre_dispatch='2*n_jobs', refit=True, return_train_score=False,\n",
       "             scoring='recall', verbose=1)"
      ]
     },
     "execution_count": 70,
     "metadata": {},
     "output_type": "execute_result"
    }
   ],
   "source": [
    "model_XGB.fit(x_train_sm, y_train_sm)"
   ]
  },
  {
   "cell_type": "code",
   "execution_count": 88,
   "metadata": {},
   "outputs": [
    {
     "data": {
      "text/plain": [
       "XGBClassifier(base_score=0.5, booster='gbtree', colsample_bylevel=1,\n",
       "              colsample_bynode=1, colsample_bytree=1, gamma=0, gpu_id=-1,\n",
       "              importance_type='gain', interaction_constraints='',\n",
       "              learning_rate=0.1, max_delta_step=0, max_depth=6,\n",
       "              min_child_weight=1, missing=nan, monotone_constraints='()',\n",
       "              n_estimators=100, n_jobs=0, num_parallel_tree=1,\n",
       "              objective='binary:logistic', random_state=0, reg_alpha=0,\n",
       "              reg_lambda=1, scale_pos_weight=1, subsample=1,\n",
       "              tree_method='exact', validate_parameters=1, verbosity=None)"
      ]
     },
     "execution_count": 88,
     "metadata": {},
     "output_type": "execute_result"
    }
   ],
   "source": [
    "XGB_tuned = model_XGB.best_estimator_\n",
    "XGB_tuned"
   ]
  },
  {
   "cell_type": "code",
   "execution_count": 89,
   "metadata": {},
   "outputs": [],
   "source": [
    "y_predXGB_sm_tuned = XGB_tuned.predict(x_test)"
   ]
  },
  {
   "cell_type": "code",
   "execution_count": 90,
   "metadata": {},
   "outputs": [],
   "source": [
    "# Evaluation Matrix for Train\n",
    "y_trainXGB_sm_tuned = XGB_tuned.predict(x_train_sm)\n",
    "\n",
    "acc_trainXGB_sm_tuned = accuracy_score(y_train_sm, y_trainXGB_sm_tuned)\n",
    "prec_trainXGB_sm_tuned = precision_score(y_train_sm, y_trainXGB_sm_tuned)\n",
    "rec_trainXGB_sm_tuned = recall_score(y_train_sm, y_trainXGB_sm_tuned)\n",
    "f1_trainXGB_sm_tuned =f1_score(y_train_sm, y_trainXGB_sm_tuned)"
   ]
  },
  {
   "cell_type": "code",
   "execution_count": 91,
   "metadata": {},
   "outputs": [
    {
     "name": "stdout",
     "output_type": "stream",
     "text": [
      "              precision    recall  f1-score   support\n",
      "\n",
      "           0       0.97      0.93      0.95     72193\n",
      "           1       0.77      0.89      0.83     19709\n",
      "\n",
      "    accuracy                           0.92     91902\n",
      "   macro avg       0.87      0.91      0.89     91902\n",
      "weighted avg       0.93      0.92      0.92     91902\n",
      "\n"
     ]
    }
   ],
   "source": [
    "# Evaluation Matrix for Testing\n",
    "acc_XGB_tuned = accuracy_score(y_test, y_predXGB_sm_tuned)\n",
    "prec_XGB_tuned = precision_score(y_test, y_predXGB_sm_tuned)\n",
    "rec_XGB_tuned = recall_score(y_test, y_predXGB_sm_tuned)\n",
    "f1_XGB_tuned =f1_score(y_test, y_predXGB_sm_tuned)\n",
    "\n",
    "print(classification_report(y_test, y_predXGB_sm_tuned))"
   ]
  },
  {
   "cell_type": "code",
   "execution_count": 92,
   "metadata": {},
   "outputs": [
    {
     "data": {
      "text/html": [
       "<div>\n",
       "<style scoped>\n",
       "    .dataframe tbody tr th:only-of-type {\n",
       "        vertical-align: middle;\n",
       "    }\n",
       "\n",
       "    .dataframe tbody tr th {\n",
       "        vertical-align: top;\n",
       "    }\n",
       "\n",
       "    .dataframe thead th {\n",
       "        text-align: right;\n",
       "    }\n",
       "</style>\n",
       "<table border=\"1\" class=\"dataframe\">\n",
       "  <thead>\n",
       "    <tr style=\"text-align: right;\">\n",
       "      <th></th>\n",
       "      <th>Training</th>\n",
       "      <th>Testing</th>\n",
       "    </tr>\n",
       "  </thead>\n",
       "  <tbody>\n",
       "    <tr>\n",
       "      <th>Accuracy</th>\n",
       "      <td>0.939410</td>\n",
       "      <td>0.921112</td>\n",
       "    </tr>\n",
       "    <tr>\n",
       "      <th>Precision</th>\n",
       "      <td>0.931568</td>\n",
       "      <td>0.773716</td>\n",
       "    </tr>\n",
       "    <tr>\n",
       "      <th>Recall</th>\n",
       "      <td>0.948495</td>\n",
       "      <td>0.893450</td>\n",
       "    </tr>\n",
       "    <tr>\n",
       "      <th>F1-score</th>\n",
       "      <td>0.939955</td>\n",
       "      <td>0.829283</td>\n",
       "    </tr>\n",
       "  </tbody>\n",
       "</table>\n",
       "</div>"
      ],
      "text/plain": [
       "           Training   Testing\n",
       "Accuracy   0.939410  0.921112\n",
       "Precision  0.931568  0.773716\n",
       "Recall     0.948495  0.893450\n",
       "F1-score   0.939955  0.829283"
      ]
     },
     "execution_count": 92,
     "metadata": {},
     "output_type": "execute_result"
    }
   ],
   "source": [
    "XGB_tun = {\n",
    "    'Training':[acc_trainXGB_sm_tuned, prec_trainXGB_sm_tuned, rec_trainXGB_sm_tuned, f1_trainXGB_sm_tuned],\n",
    "    'Testing':[acc_XGB_tuned, prec_XGB_tuned, rec_XGB_tuned, f1_XGB_tuned]\n",
    "}\n",
    "pd.DataFrame(data=XGB_tun, index=['Accuracy','Precision','Recall','F1-score'])"
   ]
  },
  {
   "cell_type": "code",
   "execution_count": 93,
   "metadata": {},
   "outputs": [
    {
     "data": {
      "text/html": [
       "<div>\n",
       "<style scoped>\n",
       "    .dataframe tbody tr th:only-of-type {\n",
       "        vertical-align: middle;\n",
       "    }\n",
       "\n",
       "    .dataframe tbody tr th {\n",
       "        vertical-align: top;\n",
       "    }\n",
       "\n",
       "    .dataframe thead th {\n",
       "        text-align: right;\n",
       "    }\n",
       "</style>\n",
       "<table border=\"1\" class=\"dataframe\">\n",
       "  <thead>\n",
       "    <tr style=\"text-align: right;\">\n",
       "      <th></th>\n",
       "      <th>Pred 1</th>\n",
       "      <th>Pred 0</th>\n",
       "    </tr>\n",
       "  </thead>\n",
       "  <tbody>\n",
       "    <tr>\n",
       "      <th>Akt 1</th>\n",
       "      <td>17609</td>\n",
       "      <td>2100</td>\n",
       "    </tr>\n",
       "    <tr>\n",
       "      <th>Akt 0</th>\n",
       "      <td>5150</td>\n",
       "      <td>67043</td>\n",
       "    </tr>\n",
       "  </tbody>\n",
       "</table>\n",
       "</div>"
      ],
      "text/plain": [
       "       Pred 1  Pred 0\n",
       "Akt 1   17609    2100\n",
       "Akt 0    5150   67043"
      ]
     },
     "execution_count": 93,
     "metadata": {},
     "output_type": "execute_result"
    }
   ],
   "source": [
    "cm_XGB_sm_tuned = confusion_matrix(y_test, y_predXGB_sm_tuned, labels=[1,0])\n",
    "df_cm_XGB_sm_tuned = pd.DataFrame(data=cm_XGB_sm_tuned, columns=['Pred 1', 'Pred 0'], index=['Akt 1', 'Akt 0'])\n",
    "df_cm_XGB_sm_tuned"
   ]
  },
  {
   "cell_type": "code",
   "execution_count": 94,
   "metadata": {},
   "outputs": [
    {
     "data": {
      "text/plain": [
       "<matplotlib.axes._subplots.AxesSubplot at 0x1738c574670>"
      ]
     },
     "execution_count": 94,
     "metadata": {},
     "output_type": "execute_result"
    },
    {
     "data": {
      "image/png": "[encoded data removed]",
      "text/plain": [
       "<Figure size 432x288 with 2 Axes>"
      ]
     },
     "metadata": {
      "needs_background": "light"
     },
     "output_type": "display_data"
    }
   ],
   "source": [
    "sns.heatmap(df_cm_XGB_sm_tuned, annot=True, fmt='g')"
   ]
  },
  {
   "cell_type": "markdown",
   "metadata": {},
   "source": [
    "### Evaluation Matrix"
   ]
  },
  {
   "cell_type": "code",
   "execution_count": 95,
   "metadata": {},
   "outputs": [],
   "source": [
    "eva_mat = {\n",
    "    'Decision Tree':[acc_DT_sm, prec_DT_sm, rec_DT_sm, f1_DT_sm],\n",
    "    'Decision Tree Tuned':[acc_DT_tuned, prec_DT_tuned, rec_DT_tuned, f1_DT_tuned],\n",
    "    'Random Forest':[acc_RF_sm, prec_RF_sm, rec_RF_sm, f1_RF_sm],\n",
    "    'Random Forest Tuned':[acc_RF_sm_tuned, prec_RF_sm_tuned, rec_RF_sm_tuned, f1_RF_sm_tuned],\n",
    "    'XGBoost':[acc_XGB_sm, prec_XGB_sm, rec_XGB_sm, f1_XGB_sm],\n",
    "    'XGBoost tuned':[acc_XGB_tuned, prec_XGB_tuned, rec_XGB_tuned, f1_XGB_tuned]\n",
    "}"
   ]
  },
  {
   "cell_type": "code",
   "execution_count": 96,
   "metadata": {},
   "outputs": [
    {
     "data": {
      "text/html": [
       "<div>\n",
       "<style scoped>\n",
       "    .dataframe tbody tr th:only-of-type {\n",
       "        vertical-align: middle;\n",
       "    }\n",
       "\n",
       "    .dataframe tbody tr th {\n",
       "        vertical-align: top;\n",
       "    }\n",
       "\n",
       "    .dataframe thead th {\n",
       "        text-align: right;\n",
       "    }\n",
       "</style>\n",
       "<table border=\"1\" class=\"dataframe\">\n",
       "  <thead>\n",
       "    <tr style=\"text-align: right;\">\n",
       "      <th></th>\n",
       "      <th>Decision Tree</th>\n",
       "      <th>Decision Tree Tuned</th>\n",
       "      <th>Random Forest</th>\n",
       "      <th>Random Forest Tuned</th>\n",
       "      <th>XGBoost</th>\n",
       "      <th>XGBoost tuned</th>\n",
       "    </tr>\n",
       "  </thead>\n",
       "  <tbody>\n",
       "    <tr>\n",
       "      <th>Accuracy</th>\n",
       "      <td>0.909121</td>\n",
       "      <td>0.916085</td>\n",
       "      <td>0.921340</td>\n",
       "      <td>0.927738</td>\n",
       "      <td>0.930981</td>\n",
       "      <td>0.921112</td>\n",
       "    </tr>\n",
       "    <tr>\n",
       "      <th>Precision</th>\n",
       "      <td>0.767538</td>\n",
       "      <td>0.770020</td>\n",
       "      <td>0.809462</td>\n",
       "      <td>0.798847</td>\n",
       "      <td>0.812290</td>\n",
       "      <td>0.773716</td>\n",
       "    </tr>\n",
       "    <tr>\n",
       "      <th>Recall</th>\n",
       "      <td>0.826577</td>\n",
       "      <td>0.867928</td>\n",
       "      <td>0.828150</td>\n",
       "      <td>0.886194</td>\n",
       "      <td>0.881983</td>\n",
       "      <td>0.893450</td>\n",
       "    </tr>\n",
       "    <tr>\n",
       "      <th>F1-score</th>\n",
       "      <td>0.795964</td>\n",
       "      <td>0.816048</td>\n",
       "      <td>0.818699</td>\n",
       "      <td>0.840257</td>\n",
       "      <td>0.845703</td>\n",
       "      <td>0.829283</td>\n",
       "    </tr>\n",
       "  </tbody>\n",
       "</table>\n",
       "</div>"
      ],
      "text/plain": [
       "           Decision Tree  Decision Tree Tuned  Random Forest  \\\n",
       "Accuracy        0.909121             0.916085       0.921340   \n",
       "Precision       0.767538             0.770020       0.809462   \n",
       "Recall          0.826577             0.867928       0.828150   \n",
       "F1-score        0.795964             0.816048       0.818699   \n",
       "\n",
       "           Random Forest Tuned   XGBoost  XGBoost tuned  \n",
       "Accuracy              0.927738  0.930981       0.921112  \n",
       "Precision             0.798847  0.812290       0.773716  \n",
       "Recall                0.886194  0.881983       0.893450  \n",
       "F1-score              0.840257  0.845703       0.829283  "
      ]
     },
     "execution_count": 96,
     "metadata": {},
     "output_type": "execute_result"
    }
   ],
   "source": [
    "pd.DataFrame(data=eva_mat, index=['Accuracy','Precision','Recall','F1-score'])"
   ]
  },
  {
   "cell_type": "markdown",
   "metadata": {},
   "source": [
    "#### Predict Proba"
   ]
  },
  {
   "cell_type": "code",
   "execution_count": 98,
   "metadata": {},
   "outputs": [],
   "source": [
    "pred_proba = XGB_tuned.predict_proba(x_test)"
   ]
  },
  {
   "cell_type": "code",
   "execution_count": 99,
   "metadata": {},
   "outputs": [
    {
     "data": {
      "text/plain": [
       "array([[0.8107837 , 0.18921632],\n",
       "       [0.8947532 , 0.10524681],\n",
       "       [0.04833579, 0.9516642 ],\n",
       "       ...,\n",
       "       [0.25496745, 0.74503255],\n",
       "       [0.0615992 , 0.9384008 ],\n",
       "       [0.55601966, 0.44398034]], dtype=float32)"
      ]
     },
     "execution_count": 99,
     "metadata": {},
     "output_type": "execute_result"
    }
   ],
   "source": [
    "pred_proba"
   ]
  },
  {
   "cell_type": "markdown",
   "metadata": {},
   "source": [
    "#### Export Model"
   ]
  },
  {
   "cell_type": "code",
   "execution_count": null,
   "metadata": {},
   "outputs": [],
   "source": [
    "import joblib"
   ]
  },
  {
   "cell_type": "code",
   "execution_count": null,
   "metadata": {},
   "outputs": [],
   "source": [
    "# joblib.dump(XGB_tuned, 'ModelSBA_loan')"
   ]
  },
  {
   "cell_type": "code",
   "execution_count": null,
   "metadata": {},
   "outputs": [],
   "source": []
  }
 ],
 "metadata": {
  "kernelspec": {
   "display_name": "Python 3",
   "language": "python",
   "name": "python3"
  },
  "language_info": {
   "codemirror_mode": {
    "name": "ipython",
    "version": 3
   },
   "file_extension": ".py",
   "mimetype": "text/x-python",
   "name": "python",
   "nbconvert_exporter": "python",
   "pygments_lexer": "ipython3",
   "version": "3.8.3"
  }
 },
 "nbformat": 4,
 "nbformat_minor": 4
}
