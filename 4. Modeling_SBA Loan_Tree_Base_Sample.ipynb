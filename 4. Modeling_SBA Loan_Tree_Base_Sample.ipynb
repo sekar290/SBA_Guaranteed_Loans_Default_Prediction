{
 "cells": [
  {
   "cell_type": "markdown",
   "metadata": {},
   "source": [
    "<h2 style=\"text-align: center;\" > <strong>SBA Loand Default Prediction</strong></h2>\n",
    "\n",
    "### Problem\n",
    "The default rate for the 10-year period ending in 2008, when nearly 1 in 4 (24.7%) SBA loans weren’t paid back. It means that SBA would have loss due to Small Business couldn’t make repayment\n",
    "\n",
    "### Goals\n",
    "Being able to early detected of SBA loan default could reduce the risk of loss for Small Business Administration.\n",
    "\n",
    "### Step of Work\n",
    "**Step 3** : In this step, I would to Building Machine Learning using algorithms base tree "
   ]
  },
  {
   "cell_type": "code",
   "execution_count": 1,
   "metadata": {},
   "outputs": [],
   "source": [
    "## Import common pakages\n",
    "import pandas as pd\n",
    "import numpy as np\n",
    "import matplotlib.pyplot as plt\n",
    "import seaborn as sns\n",
    "import sidetable as stb\n",
    "import warnings\n",
    "warnings.filterwarnings('ignore')\n",
    "\n",
    "%matplotlib inline"
   ]
  },
  {
   "cell_type": "code",
   "execution_count": 2,
   "metadata": {},
   "outputs": [
    {
     "data": {
      "text/html": [
       "<div>\n",
       "<style scoped>\n",
       "    .dataframe tbody tr th:only-of-type {\n",
       "        vertical-align: middle;\n",
       "    }\n",
       "\n",
       "    .dataframe tbody tr th {\n",
       "        vertical-align: top;\n",
       "    }\n",
       "\n",
       "    .dataframe thead th {\n",
       "        text-align: right;\n",
       "    }\n",
       "</style>\n",
       "<table border=\"1\" class=\"dataframe\">\n",
       "  <thead>\n",
       "    <tr style=\"text-align: right;\">\n",
       "      <th></th>\n",
       "      <th>ApprovalFY</th>\n",
       "      <th>Term</th>\n",
       "      <th>NoEmp</th>\n",
       "      <th>NewExist</th>\n",
       "      <th>CreateJob</th>\n",
       "      <th>RetainedJob</th>\n",
       "      <th>UrbanRural</th>\n",
       "      <th>RevLineCr</th>\n",
       "      <th>LowDoc</th>\n",
       "      <th>DisbursementGross</th>\n",
       "      <th>MIS_Status</th>\n",
       "      <th>GrAppv</th>\n",
       "      <th>sector</th>\n",
       "      <th>isFranchise</th>\n",
       "      <th>sameState</th>\n",
       "      <th>backRealEstate</th>\n",
       "      <th>Portion</th>\n",
       "    </tr>\n",
       "  </thead>\n",
       "  <tbody>\n",
       "    <tr>\n",
       "      <th>0</th>\n",
       "      <td>2007</td>\n",
       "      <td>37</td>\n",
       "      <td>1</td>\n",
       "      <td>2.0</td>\n",
       "      <td>5</td>\n",
       "      <td>6</td>\n",
       "      <td>1</td>\n",
       "      <td>Y</td>\n",
       "      <td>N</td>\n",
       "      <td>39272.0</td>\n",
       "      <td>CHGOFF</td>\n",
       "      <td>20000.0</td>\n",
       "      <td>Other_no_pub</td>\n",
       "      <td>No Franchise</td>\n",
       "      <td>0</td>\n",
       "      <td>0</td>\n",
       "      <td>0.5</td>\n",
       "    </tr>\n",
       "    <tr>\n",
       "      <th>1</th>\n",
       "      <td>2006</td>\n",
       "      <td>41</td>\n",
       "      <td>7</td>\n",
       "      <td>1.0</td>\n",
       "      <td>0</td>\n",
       "      <td>7</td>\n",
       "      <td>1</td>\n",
       "      <td>Y</td>\n",
       "      <td>N</td>\n",
       "      <td>127500.0</td>\n",
       "      <td>CHGOFF</td>\n",
       "      <td>85000.0</td>\n",
       "      <td>Wholesale_trade</td>\n",
       "      <td>No Franchise</td>\n",
       "      <td>0</td>\n",
       "      <td>0</td>\n",
       "      <td>0.5</td>\n",
       "    </tr>\n",
       "    <tr>\n",
       "      <th>2</th>\n",
       "      <td>2006</td>\n",
       "      <td>27</td>\n",
       "      <td>1</td>\n",
       "      <td>1.0</td>\n",
       "      <td>0</td>\n",
       "      <td>1</td>\n",
       "      <td>1</td>\n",
       "      <td>N</td>\n",
       "      <td>N</td>\n",
       "      <td>22000.0</td>\n",
       "      <td>CHGOFF</td>\n",
       "      <td>22000.0</td>\n",
       "      <td>Trans_Ware</td>\n",
       "      <td>No Franchise</td>\n",
       "      <td>0</td>\n",
       "      <td>0</td>\n",
       "      <td>0.5</td>\n",
       "    </tr>\n",
       "    <tr>\n",
       "      <th>3</th>\n",
       "      <td>2006</td>\n",
       "      <td>52</td>\n",
       "      <td>3</td>\n",
       "      <td>2.0</td>\n",
       "      <td>1</td>\n",
       "      <td>3</td>\n",
       "      <td>1</td>\n",
       "      <td>N</td>\n",
       "      <td>N</td>\n",
       "      <td>35000.0</td>\n",
       "      <td>CHGOFF</td>\n",
       "      <td>25000.0</td>\n",
       "      <td>Trans_Ware</td>\n",
       "      <td>No Franchise</td>\n",
       "      <td>0</td>\n",
       "      <td>0</td>\n",
       "      <td>0.5</td>\n",
       "    </tr>\n",
       "    <tr>\n",
       "      <th>4</th>\n",
       "      <td>2001</td>\n",
       "      <td>13</td>\n",
       "      <td>14</td>\n",
       "      <td>1.0</td>\n",
       "      <td>14</td>\n",
       "      <td>14</td>\n",
       "      <td>1</td>\n",
       "      <td>Y</td>\n",
       "      <td>N</td>\n",
       "      <td>75011.0</td>\n",
       "      <td>CHGOFF</td>\n",
       "      <td>75000.0</td>\n",
       "      <td>Wholesale_trade</td>\n",
       "      <td>No Franchise</td>\n",
       "      <td>0</td>\n",
       "      <td>0</td>\n",
       "      <td>0.5</td>\n",
       "    </tr>\n",
       "  </tbody>\n",
       "</table>\n",
       "</div>"
      ],
      "text/plain": [
       "   ApprovalFY  Term  NoEmp  NewExist  CreateJob  RetainedJob  UrbanRural  \\\n",
       "0        2007    37      1       2.0          5            6           1   \n",
       "1        2006    41      7       1.0          0            7           1   \n",
       "2        2006    27      1       1.0          0            1           1   \n",
       "3        2006    52      3       2.0          1            3           1   \n",
       "4        2001    13     14       1.0         14           14           1   \n",
       "\n",
       "  RevLineCr LowDoc  DisbursementGross MIS_Status   GrAppv           sector  \\\n",
       "0         Y      N            39272.0     CHGOFF  20000.0     Other_no_pub   \n",
       "1         Y      N           127500.0     CHGOFF  85000.0  Wholesale_trade   \n",
       "2         N      N            22000.0     CHGOFF  22000.0       Trans_Ware   \n",
       "3         N      N            35000.0     CHGOFF  25000.0       Trans_Ware   \n",
       "4         Y      N            75011.0     CHGOFF  75000.0  Wholesale_trade   \n",
       "\n",
       "    isFranchise  sameState  backRealEstate  Portion  \n",
       "0  No Franchise          0               0      0.5  \n",
       "1  No Franchise          0               0      0.5  \n",
       "2  No Franchise          0               0      0.5  \n",
       "3  No Franchise          0               0      0.5  \n",
       "4  No Franchise          0               0      0.5  "
      ]
     },
     "execution_count": 2,
     "metadata": {},
     "output_type": "execute_result"
    }
   ],
   "source": [
    "df = pd.read_csv(r'SBA_Loan_Sample.csv')\n",
    "df.head()"
   ]
  },
  {
   "cell_type": "code",
   "execution_count": 3,
   "metadata": {},
   "outputs": [
    {
     "name": "stdout",
     "output_type": "stream",
     "text": [
      "<class 'pandas.core.frame.DataFrame'>\n",
      "RangeIndex: 15801 entries, 0 to 15800\n",
      "Data columns (total 17 columns):\n",
      " #   Column             Non-Null Count  Dtype  \n",
      "---  ------             --------------  -----  \n",
      " 0   ApprovalFY         15801 non-null  int64  \n",
      " 1   Term               15801 non-null  int64  \n",
      " 2   NoEmp              15801 non-null  int64  \n",
      " 3   NewExist           15801 non-null  float64\n",
      " 4   CreateJob          15801 non-null  int64  \n",
      " 5   RetainedJob        15801 non-null  int64  \n",
      " 6   UrbanRural         15801 non-null  int64  \n",
      " 7   RevLineCr          15801 non-null  object \n",
      " 8   LowDoc             15801 non-null  object \n",
      " 9   DisbursementGross  15801 non-null  float64\n",
      " 10  MIS_Status         15801 non-null  object \n",
      " 11  GrAppv             15801 non-null  float64\n",
      " 12  sector             15801 non-null  object \n",
      " 13  isFranchise        15801 non-null  object \n",
      " 14  sameState          15801 non-null  int64  \n",
      " 15  backRealEstate     15801 non-null  int64  \n",
      " 16  Portion            15801 non-null  float64\n",
      "dtypes: float64(4), int64(8), object(5)\n",
      "memory usage: 2.0+ MB\n"
     ]
    }
   ],
   "source": [
    "df.info()"
   ]
  },
  {
   "cell_type": "code",
   "execution_count": 4,
   "metadata": {},
   "outputs": [
    {
     "data": {
      "text/plain": [
       "ApprovalFY           0\n",
       "Term                 0\n",
       "NoEmp                0\n",
       "NewExist             0\n",
       "CreateJob            0\n",
       "RetainedJob          0\n",
       "UrbanRural           0\n",
       "RevLineCr            0\n",
       "LowDoc               0\n",
       "DisbursementGross    0\n",
       "MIS_Status           0\n",
       "GrAppv               0\n",
       "sector               0\n",
       "isFranchise          0\n",
       "sameState            0\n",
       "backRealEstate       0\n",
       "Portion              0\n",
       "dtype: int64"
      ]
     },
     "execution_count": 4,
     "metadata": {},
     "output_type": "execute_result"
    }
   ],
   "source": [
    "## Checking for missing value\n",
    "df.isnull().sum()"
   ]
  },
  {
   "cell_type": "code",
   "execution_count": 5,
   "metadata": {},
   "outputs": [
    {
     "data": {
      "text/html": [
       "<div>\n",
       "<style scoped>\n",
       "    .dataframe tbody tr th:only-of-type {\n",
       "        vertical-align: middle;\n",
       "    }\n",
       "\n",
       "    .dataframe tbody tr th {\n",
       "        vertical-align: top;\n",
       "    }\n",
       "\n",
       "    .dataframe thead th {\n",
       "        text-align: right;\n",
       "    }\n",
       "</style>\n",
       "<table border=\"1\" class=\"dataframe\">\n",
       "  <thead>\n",
       "    <tr style=\"text-align: right;\">\n",
       "      <th></th>\n",
       "      <th>count</th>\n",
       "      <th>unique</th>\n",
       "      <th>top</th>\n",
       "      <th>freq</th>\n",
       "    </tr>\n",
       "  </thead>\n",
       "  <tbody>\n",
       "    <tr>\n",
       "      <th>RevLineCr</th>\n",
       "      <td>15801</td>\n",
       "      <td>2</td>\n",
       "      <td>Y</td>\n",
       "      <td>8924</td>\n",
       "    </tr>\n",
       "    <tr>\n",
       "      <th>LowDoc</th>\n",
       "      <td>15801</td>\n",
       "      <td>2</td>\n",
       "      <td>N</td>\n",
       "      <td>15743</td>\n",
       "    </tr>\n",
       "    <tr>\n",
       "      <th>MIS_Status</th>\n",
       "      <td>15801</td>\n",
       "      <td>2</td>\n",
       "      <td>P I F</td>\n",
       "      <td>11428</td>\n",
       "    </tr>\n",
       "    <tr>\n",
       "      <th>sector</th>\n",
       "      <td>15801</td>\n",
       "      <td>20</td>\n",
       "      <td>Retail_trade</td>\n",
       "      <td>2627</td>\n",
       "    </tr>\n",
       "    <tr>\n",
       "      <th>isFranchise</th>\n",
       "      <td>15801</td>\n",
       "      <td>2</td>\n",
       "      <td>No Franchise</td>\n",
       "      <td>15320</td>\n",
       "    </tr>\n",
       "  </tbody>\n",
       "</table>\n",
       "</div>"
      ],
      "text/plain": [
       "             count unique           top   freq\n",
       "RevLineCr    15801      2             Y   8924\n",
       "LowDoc       15801      2             N  15743\n",
       "MIS_Status   15801      2         P I F  11428\n",
       "sector       15801     20  Retail_trade   2627\n",
       "isFranchise  15801      2  No Franchise  15320"
      ]
     },
     "execution_count": 5,
     "metadata": {},
     "output_type": "execute_result"
    }
   ],
   "source": [
    "df.describe(include='O').T"
   ]
  },
  {
   "cell_type": "code",
   "execution_count": 6,
   "metadata": {},
   "outputs": [
    {
     "data": {
      "text/html": [
       "<div>\n",
       "<style scoped>\n",
       "    .dataframe tbody tr th:only-of-type {\n",
       "        vertical-align: middle;\n",
       "    }\n",
       "\n",
       "    .dataframe tbody tr th {\n",
       "        vertical-align: top;\n",
       "    }\n",
       "\n",
       "    .dataframe thead th {\n",
       "        text-align: right;\n",
       "    }\n",
       "</style>\n",
       "<table border=\"1\" class=\"dataframe\">\n",
       "  <thead>\n",
       "    <tr style=\"text-align: right;\">\n",
       "      <th></th>\n",
       "      <th>count</th>\n",
       "      <th>mean</th>\n",
       "      <th>std</th>\n",
       "      <th>min</th>\n",
       "      <th>25%</th>\n",
       "      <th>50%</th>\n",
       "      <th>75%</th>\n",
       "      <th>max</th>\n",
       "    </tr>\n",
       "  </thead>\n",
       "  <tbody>\n",
       "    <tr>\n",
       "      <th>ApprovalFY</th>\n",
       "      <td>15801.0</td>\n",
       "      <td>2005.853237</td>\n",
       "      <td>2.753119</td>\n",
       "      <td>1994.0</td>\n",
       "      <td>2004.0</td>\n",
       "      <td>2006.0</td>\n",
       "      <td>2007.0</td>\n",
       "      <td>2014.0</td>\n",
       "    </tr>\n",
       "    <tr>\n",
       "      <th>Term</th>\n",
       "      <td>15801.0</td>\n",
       "      <td>75.803430</td>\n",
       "      <td>49.998669</td>\n",
       "      <td>1.0</td>\n",
       "      <td>48.0</td>\n",
       "      <td>84.0</td>\n",
       "      <td>84.0</td>\n",
       "      <td>360.0</td>\n",
       "    </tr>\n",
       "    <tr>\n",
       "      <th>NoEmp</th>\n",
       "      <td>15801.0</td>\n",
       "      <td>7.347953</td>\n",
       "      <td>16.451361</td>\n",
       "      <td>0.0</td>\n",
       "      <td>2.0</td>\n",
       "      <td>3.0</td>\n",
       "      <td>7.0</td>\n",
       "      <td>1000.0</td>\n",
       "    </tr>\n",
       "    <tr>\n",
       "      <th>NewExist</th>\n",
       "      <td>15801.0</td>\n",
       "      <td>1.274160</td>\n",
       "      <td>0.446104</td>\n",
       "      <td>1.0</td>\n",
       "      <td>1.0</td>\n",
       "      <td>1.0</td>\n",
       "      <td>2.0</td>\n",
       "      <td>2.0</td>\n",
       "    </tr>\n",
       "    <tr>\n",
       "      <th>CreateJob</th>\n",
       "      <td>15801.0</td>\n",
       "      <td>1.725777</td>\n",
       "      <td>12.335199</td>\n",
       "      <td>0.0</td>\n",
       "      <td>0.0</td>\n",
       "      <td>0.0</td>\n",
       "      <td>1.0</td>\n",
       "      <td>454.0</td>\n",
       "    </tr>\n",
       "    <tr>\n",
       "      <th>RetainedJob</th>\n",
       "      <td>15801.0</td>\n",
       "      <td>5.817290</td>\n",
       "      <td>37.395862</td>\n",
       "      <td>0.0</td>\n",
       "      <td>1.0</td>\n",
       "      <td>2.0</td>\n",
       "      <td>6.0</td>\n",
       "      <td>4441.0</td>\n",
       "    </tr>\n",
       "    <tr>\n",
       "      <th>UrbanRural</th>\n",
       "      <td>15801.0</td>\n",
       "      <td>1.176065</td>\n",
       "      <td>0.380887</td>\n",
       "      <td>1.0</td>\n",
       "      <td>1.0</td>\n",
       "      <td>1.0</td>\n",
       "      <td>1.0</td>\n",
       "      <td>2.0</td>\n",
       "    </tr>\n",
       "    <tr>\n",
       "      <th>DisbursementGross</th>\n",
       "      <td>15801.0</td>\n",
       "      <td>148717.938738</td>\n",
       "      <td>279372.284521</td>\n",
       "      <td>4000.0</td>\n",
       "      <td>25991.0</td>\n",
       "      <td>58970.0</td>\n",
       "      <td>149055.0</td>\n",
       "      <td>5000000.0</td>\n",
       "    </tr>\n",
       "    <tr>\n",
       "      <th>GrAppv</th>\n",
       "      <td>15801.0</td>\n",
       "      <td>123349.934878</td>\n",
       "      <td>260398.484736</td>\n",
       "      <td>1000.0</td>\n",
       "      <td>25000.0</td>\n",
       "      <td>50000.0</td>\n",
       "      <td>100000.0</td>\n",
       "      <td>5000000.0</td>\n",
       "    </tr>\n",
       "    <tr>\n",
       "      <th>sameState</th>\n",
       "      <td>15801.0</td>\n",
       "      <td>0.347067</td>\n",
       "      <td>0.476052</td>\n",
       "      <td>0.0</td>\n",
       "      <td>0.0</td>\n",
       "      <td>0.0</td>\n",
       "      <td>1.0</td>\n",
       "      <td>1.0</td>\n",
       "    </tr>\n",
       "    <tr>\n",
       "      <th>backRealEstate</th>\n",
       "      <td>15801.0</td>\n",
       "      <td>0.033732</td>\n",
       "      <td>0.180544</td>\n",
       "      <td>0.0</td>\n",
       "      <td>0.0</td>\n",
       "      <td>0.0</td>\n",
       "      <td>0.0</td>\n",
       "      <td>1.0</td>\n",
       "    </tr>\n",
       "    <tr>\n",
       "      <th>Portion</th>\n",
       "      <td>15801.0</td>\n",
       "      <td>0.575859</td>\n",
       "      <td>0.135859</td>\n",
       "      <td>0.1</td>\n",
       "      <td>0.5</td>\n",
       "      <td>0.5</td>\n",
       "      <td>0.5</td>\n",
       "      <td>0.9</td>\n",
       "    </tr>\n",
       "  </tbody>\n",
       "</table>\n",
       "</div>"
      ],
      "text/plain": [
       "                     count           mean            std     min      25%  \\\n",
       "ApprovalFY         15801.0    2005.853237       2.753119  1994.0   2004.0   \n",
       "Term               15801.0      75.803430      49.998669     1.0     48.0   \n",
       "NoEmp              15801.0       7.347953      16.451361     0.0      2.0   \n",
       "NewExist           15801.0       1.274160       0.446104     1.0      1.0   \n",
       "CreateJob          15801.0       1.725777      12.335199     0.0      0.0   \n",
       "RetainedJob        15801.0       5.817290      37.395862     0.0      1.0   \n",
       "UrbanRural         15801.0       1.176065       0.380887     1.0      1.0   \n",
       "DisbursementGross  15801.0  148717.938738  279372.284521  4000.0  25991.0   \n",
       "GrAppv             15801.0  123349.934878  260398.484736  1000.0  25000.0   \n",
       "sameState          15801.0       0.347067       0.476052     0.0      0.0   \n",
       "backRealEstate     15801.0       0.033732       0.180544     0.0      0.0   \n",
       "Portion            15801.0       0.575859       0.135859     0.1      0.5   \n",
       "\n",
       "                       50%       75%        max  \n",
       "ApprovalFY          2006.0    2007.0     2014.0  \n",
       "Term                  84.0      84.0      360.0  \n",
       "NoEmp                  3.0       7.0     1000.0  \n",
       "NewExist               1.0       2.0        2.0  \n",
       "CreateJob              0.0       1.0      454.0  \n",
       "RetainedJob            2.0       6.0     4441.0  \n",
       "UrbanRural             1.0       1.0        2.0  \n",
       "DisbursementGross  58970.0  149055.0  5000000.0  \n",
       "GrAppv             50000.0  100000.0  5000000.0  \n",
       "sameState              0.0       1.0        1.0  \n",
       "backRealEstate         0.0       0.0        1.0  \n",
       "Portion                0.5       0.5        0.9  "
      ]
     },
     "execution_count": 6,
     "metadata": {},
     "output_type": "execute_result"
    }
   ],
   "source": [
    "df.describe().T"
   ]
  },
  {
   "cell_type": "code",
   "execution_count": 7,
   "metadata": {},
   "outputs": [
    {
     "data": {
      "text/html": [
       "<div>\n",
       "<style scoped>\n",
       "    .dataframe tbody tr th:only-of-type {\n",
       "        vertical-align: middle;\n",
       "    }\n",
       "\n",
       "    .dataframe tbody tr th {\n",
       "        vertical-align: top;\n",
       "    }\n",
       "\n",
       "    .dataframe thead th {\n",
       "        text-align: right;\n",
       "    }\n",
       "</style>\n",
       "<table border=\"1\" class=\"dataframe\">\n",
       "  <thead>\n",
       "    <tr style=\"text-align: right;\">\n",
       "      <th></th>\n",
       "      <th>feature_name</th>\n",
       "      <th>type</th>\n",
       "      <th>Null</th>\n",
       "      <th>Percentage Null</th>\n",
       "      <th>No Unique</th>\n",
       "      <th>Example Unique</th>\n",
       "    </tr>\n",
       "  </thead>\n",
       "  <tbody>\n",
       "    <tr>\n",
       "      <th>0</th>\n",
       "      <td>ApprovalFY</td>\n",
       "      <td>int64</td>\n",
       "      <td>0</td>\n",
       "      <td>0.0</td>\n",
       "      <td>21</td>\n",
       "      <td>[1998, 1994]</td>\n",
       "    </tr>\n",
       "    <tr>\n",
       "      <th>1</th>\n",
       "      <td>Term</td>\n",
       "      <td>int64</td>\n",
       "      <td>0</td>\n",
       "      <td>0.0</td>\n",
       "      <td>259</td>\n",
       "      <td>[86, 277]</td>\n",
       "    </tr>\n",
       "    <tr>\n",
       "      <th>2</th>\n",
       "      <td>NoEmp</td>\n",
       "      <td>int64</td>\n",
       "      <td>0</td>\n",
       "      <td>0.0</td>\n",
       "      <td>125</td>\n",
       "      <td>[60, 95]</td>\n",
       "    </tr>\n",
       "    <tr>\n",
       "      <th>3</th>\n",
       "      <td>NewExist</td>\n",
       "      <td>float64</td>\n",
       "      <td>0</td>\n",
       "      <td>0.0</td>\n",
       "      <td>2</td>\n",
       "      <td>[2.0, 1.0]</td>\n",
       "    </tr>\n",
       "    <tr>\n",
       "      <th>4</th>\n",
       "      <td>CreateJob</td>\n",
       "      <td>int64</td>\n",
       "      <td>0</td>\n",
       "      <td>0.0</td>\n",
       "      <td>62</td>\n",
       "      <td>[13, 30]</td>\n",
       "    </tr>\n",
       "    <tr>\n",
       "      <th>5</th>\n",
       "      <td>RetainedJob</td>\n",
       "      <td>int64</td>\n",
       "      <td>0</td>\n",
       "      <td>0.0</td>\n",
       "      <td>114</td>\n",
       "      <td>[4441, 44]</td>\n",
       "    </tr>\n",
       "    <tr>\n",
       "      <th>6</th>\n",
       "      <td>UrbanRural</td>\n",
       "      <td>int64</td>\n",
       "      <td>0</td>\n",
       "      <td>0.0</td>\n",
       "      <td>2</td>\n",
       "      <td>[1, 2]</td>\n",
       "    </tr>\n",
       "    <tr>\n",
       "      <th>7</th>\n",
       "      <td>RevLineCr</td>\n",
       "      <td>object</td>\n",
       "      <td>0</td>\n",
       "      <td>0.0</td>\n",
       "      <td>2</td>\n",
       "      <td>[N, Y]</td>\n",
       "    </tr>\n",
       "    <tr>\n",
       "      <th>8</th>\n",
       "      <td>LowDoc</td>\n",
       "      <td>object</td>\n",
       "      <td>0</td>\n",
       "      <td>0.0</td>\n",
       "      <td>2</td>\n",
       "      <td>[Y, N]</td>\n",
       "    </tr>\n",
       "    <tr>\n",
       "      <th>9</th>\n",
       "      <td>DisbursementGross</td>\n",
       "      <td>float64</td>\n",
       "      <td>0</td>\n",
       "      <td>0.0</td>\n",
       "      <td>7408</td>\n",
       "      <td>[20099.0, 156686.0]</td>\n",
       "    </tr>\n",
       "    <tr>\n",
       "      <th>10</th>\n",
       "      <td>MIS_Status</td>\n",
       "      <td>object</td>\n",
       "      <td>0</td>\n",
       "      <td>0.0</td>\n",
       "      <td>2</td>\n",
       "      <td>[CHGOFF, P I F]</td>\n",
       "    </tr>\n",
       "    <tr>\n",
       "      <th>11</th>\n",
       "      <td>GrAppv</td>\n",
       "      <td>float64</td>\n",
       "      <td>0</td>\n",
       "      <td>0.0</td>\n",
       "      <td>1620</td>\n",
       "      <td>[1036000.0, 29700.0]</td>\n",
       "    </tr>\n",
       "    <tr>\n",
       "      <th>12</th>\n",
       "      <td>sector</td>\n",
       "      <td>object</td>\n",
       "      <td>0</td>\n",
       "      <td>0.0</td>\n",
       "      <td>20</td>\n",
       "      <td>[Other_no_pub, Utilities]</td>\n",
       "    </tr>\n",
       "    <tr>\n",
       "      <th>13</th>\n",
       "      <td>isFranchise</td>\n",
       "      <td>object</td>\n",
       "      <td>0</td>\n",
       "      <td>0.0</td>\n",
       "      <td>2</td>\n",
       "      <td>[Franchise, No Franchise]</td>\n",
       "    </tr>\n",
       "    <tr>\n",
       "      <th>14</th>\n",
       "      <td>sameState</td>\n",
       "      <td>int64</td>\n",
       "      <td>0</td>\n",
       "      <td>0.0</td>\n",
       "      <td>2</td>\n",
       "      <td>[1, 0]</td>\n",
       "    </tr>\n",
       "    <tr>\n",
       "      <th>15</th>\n",
       "      <td>backRealEstate</td>\n",
       "      <td>int64</td>\n",
       "      <td>0</td>\n",
       "      <td>0.0</td>\n",
       "      <td>2</td>\n",
       "      <td>[1, 0]</td>\n",
       "    </tr>\n",
       "    <tr>\n",
       "      <th>16</th>\n",
       "      <td>Portion</td>\n",
       "      <td>float64</td>\n",
       "      <td>0</td>\n",
       "      <td>0.0</td>\n",
       "      <td>136</td>\n",
       "      <td>[0.5433720307877056, 0.7645]</td>\n",
       "    </tr>\n",
       "  </tbody>\n",
       "</table>\n",
       "</div>"
      ],
      "text/plain": [
       "         feature_name     type  Null  Percentage Null  No Unique  \\\n",
       "0          ApprovalFY    int64     0              0.0         21   \n",
       "1                Term    int64     0              0.0        259   \n",
       "2               NoEmp    int64     0              0.0        125   \n",
       "3            NewExist  float64     0              0.0          2   \n",
       "4           CreateJob    int64     0              0.0         62   \n",
       "5         RetainedJob    int64     0              0.0        114   \n",
       "6          UrbanRural    int64     0              0.0          2   \n",
       "7           RevLineCr   object     0              0.0          2   \n",
       "8              LowDoc   object     0              0.0          2   \n",
       "9   DisbursementGross  float64     0              0.0       7408   \n",
       "10         MIS_Status   object     0              0.0          2   \n",
       "11             GrAppv  float64     0              0.0       1620   \n",
       "12             sector   object     0              0.0         20   \n",
       "13        isFranchise   object     0              0.0          2   \n",
       "14          sameState    int64     0              0.0          2   \n",
       "15     backRealEstate    int64     0              0.0          2   \n",
       "16            Portion  float64     0              0.0        136   \n",
       "\n",
       "                  Example Unique  \n",
       "0                   [1998, 1994]  \n",
       "1                      [86, 277]  \n",
       "2                       [60, 95]  \n",
       "3                     [2.0, 1.0]  \n",
       "4                       [13, 30]  \n",
       "5                     [4441, 44]  \n",
       "6                         [1, 2]  \n",
       "7                         [N, Y]  \n",
       "8                         [Y, N]  \n",
       "9            [20099.0, 156686.0]  \n",
       "10               [CHGOFF, P I F]  \n",
       "11          [1036000.0, 29700.0]  \n",
       "12     [Other_no_pub, Utilities]  \n",
       "13     [Franchise, No Franchise]  \n",
       "14                        [1, 0]  \n",
       "15                        [1, 0]  \n",
       "16  [0.5433720307877056, 0.7645]  "
      ]
     },
     "execution_count": 7,
     "metadata": {},
     "output_type": "execute_result"
    }
   ],
   "source": [
    "SBA_LoanDESC = []\n",
    "\n",
    "for i in df.columns:\n",
    "    SBA_LoanDESC.append([\n",
    "    i,\n",
    "    df[i].dtypes,\n",
    "    df[i].isna().sum(),\n",
    "    (((df[i].isna().sum())/len(df))*100).round(2),\n",
    "    df[i].nunique(),\n",
    "    df[i].drop_duplicates().sample(2).values\n",
    "    ])\n",
    "    \n",
    "pd.DataFrame(data=SBA_LoanDESC, columns=['feature_name', 'type', 'Null', 'Percentage Null', 'No Unique', 'Example Unique'])"
   ]
  },
  {
   "cell_type": "markdown",
   "metadata": {},
   "source": [
    "### Data Preparation"
   ]
  },
  {
   "cell_type": "code",
   "execution_count": 8,
   "metadata": {},
   "outputs": [
    {
     "data": {
      "text/plain": [
       "P I F     72.32\n",
       "CHGOFF    27.68\n",
       "Name: MIS_Status, dtype: float64"
      ]
     },
     "execution_count": 8,
     "metadata": {},
     "output_type": "execute_result"
    }
   ],
   "source": [
    "## Checking for balance/ imbalance data of target\n",
    "(((df['MIS_Status'].value_counts())/len(df))*100).round(2)"
   ]
  },
  {
   "cell_type": "code",
   "execution_count": 9,
   "metadata": {},
   "outputs": [],
   "source": [
    "## Encoding \n",
    "df['RevLineCr'] = df['RevLineCr'].map({'N':0, 'Y':1})\n",
    "df['LowDoc'] = df['LowDoc'].map({'N':0, 'Y':1})\n",
    "df['MIS_Status'] = df['MIS_Status'].map({'P I F':0, 'CHGOFF':1})\n",
    "df['isFranchise'] = df['isFranchise'].map({'No Franchise':0, 'Franchise':1})"
   ]
  },
  {
   "cell_type": "code",
   "execution_count": 10,
   "metadata": {},
   "outputs": [],
   "source": [
    "df['NewExist'] = df['NewExist'].astype(str)"
   ]
  },
  {
   "cell_type": "code",
   "execution_count": 11,
   "metadata": {},
   "outputs": [],
   "source": [
    "df['NewExist'] = df['NewExist'].map({'1.0':0, '2.0':1})"
   ]
  },
  {
   "cell_type": "code",
   "execution_count": 12,
   "metadata": {},
   "outputs": [
    {
     "data": {
      "image/png": "[encoded data removed]",
      "text/plain": [
       "<Figure size 1080x504 with 2 Axes>"
      ]
     },
     "metadata": {
      "needs_background": "light"
     },
     "output_type": "display_data"
    }
   ],
   "source": [
    "## Checking for correlation among features\n",
    "plt.figure(figsize=(15,7))\n",
    "sns.heatmap(df.corr(), annot=True)\n",
    "plt.show()"
   ]
  },
  {
   "cell_type": "code",
   "execution_count": 13,
   "metadata": {},
   "outputs": [
    {
     "data": {
      "text/plain": [
       "ApprovalFY           0.074134\n",
       "CreateJob            0.018730\n",
       "RetainedJob          0.000530\n",
       "NewExist            -0.003774\n",
       "Portion             -0.007486\n",
       "LowDoc              -0.016495\n",
       "RevLineCr           -0.028178\n",
       "isFranchise         -0.030564\n",
       "UrbanRural          -0.067941\n",
       "NoEmp               -0.071968\n",
       "GrAppv              -0.101722\n",
       "backRealEstate      -0.103042\n",
       "DisbursementGross   -0.104896\n",
       "sameState           -0.159490\n",
       "Term                -0.332677\n",
       "Name: MIS_Status, dtype: float64"
      ]
     },
     "execution_count": 13,
     "metadata": {},
     "output_type": "execute_result"
    }
   ],
   "source": [
    "##Correlation within Target\n",
    "df.corr()['MIS_Status'].sort_values(ascending=False)[1:]"
   ]
  },
  {
   "cell_type": "markdown",
   "metadata": {},
   "source": [
    "#### Feature Selection"
   ]
  },
  {
   "cell_type": "markdown",
   "metadata": {},
   "source": [
    "Note :\n",
    "\n",
    "- ApprovalFY, this feature show Fiscal year of commitment from 1984 - 2014. So, I would not use this for modeling\n",
    "- Drop features that has little correlation :\n",
    "  - RetainedJob\n",
    "  - CreateJob\n",
    "  - RevLineCr\n",
    "  - LowDoc\n",
    "  - Portion\n",
    "  - NewExist\n",
    "- DisbursementGross and GrAppv, this feature has same value -- Drop DisbursementGross\n",
    "- Term and backRealEstate  -- Drop backRealEstate"
   ]
  },
  {
   "cell_type": "code",
   "execution_count": 14,
   "metadata": {},
   "outputs": [
    {
     "data": {
      "text/plain": [
       "Index(['ApprovalFY', 'Term', 'NoEmp', 'NewExist', 'CreateJob', 'RetainedJob',\n",
       "       'UrbanRural', 'RevLineCr', 'LowDoc', 'DisbursementGross', 'MIS_Status',\n",
       "       'GrAppv', 'sector', 'isFranchise', 'sameState', 'backRealEstate',\n",
       "       'Portion'],\n",
       "      dtype='object')"
      ]
     },
     "execution_count": 14,
     "metadata": {},
     "output_type": "execute_result"
    }
   ],
   "source": [
    "df.columns"
   ]
  },
  {
   "cell_type": "code",
   "execution_count": 15,
   "metadata": {},
   "outputs": [],
   "source": [
    "df.drop(columns=['ApprovalFY','RetainedJob','CreateJob','RevLineCr','LowDoc','DisbursementGross','NewExist', 'backRealEstate','Portion'], inplace=True)"
   ]
  },
  {
   "cell_type": "code",
   "execution_count": 16,
   "metadata": {},
   "outputs": [
    {
     "data": {
      "text/plain": [
       "Term             int64\n",
       "NoEmp            int64\n",
       "UrbanRural       int64\n",
       "MIS_Status       int64\n",
       "GrAppv         float64\n",
       "sector          object\n",
       "isFranchise      int64\n",
       "sameState        int64\n",
       "dtype: object"
      ]
     },
     "execution_count": 16,
     "metadata": {},
     "output_type": "execute_result"
    }
   ],
   "source": [
    "## Type of features after encoding\n",
    "df.dtypes"
   ]
  },
  {
   "cell_type": "code",
   "execution_count": 17,
   "metadata": {},
   "outputs": [],
   "source": [
    "## Encoding\n",
    "## One Hot Encoding Using Pandas\n",
    "df = pd.get_dummies(data=df, columns=['sector'], prefix_sep='__')"
   ]
  },
  {
   "cell_type": "code",
   "execution_count": 18,
   "metadata": {},
   "outputs": [
    {
     "data": {
      "text/html": [
       "<div>\n",
       "<style scoped>\n",
       "    .dataframe tbody tr th:only-of-type {\n",
       "        vertical-align: middle;\n",
       "    }\n",
       "\n",
       "    .dataframe tbody tr th {\n",
       "        vertical-align: top;\n",
       "    }\n",
       "\n",
       "    .dataframe thead th {\n",
       "        text-align: right;\n",
       "    }\n",
       "</style>\n",
       "<table border=\"1\" class=\"dataframe\">\n",
       "  <thead>\n",
       "    <tr style=\"text-align: right;\">\n",
       "      <th></th>\n",
       "      <th>Term</th>\n",
       "      <th>NoEmp</th>\n",
       "      <th>UrbanRural</th>\n",
       "      <th>MIS_Status</th>\n",
       "      <th>GrAppv</th>\n",
       "      <th>isFranchise</th>\n",
       "      <th>sameState</th>\n",
       "      <th>sector__Accommodation_food_serv</th>\n",
       "      <th>sector__Admini_sup_and_waste_mgm_rem</th>\n",
       "      <th>sector__Ag_fores_ﬁshi_hunting</th>\n",
       "      <th>...</th>\n",
       "      <th>sector__Manufacturing</th>\n",
       "      <th>sector__Mining_quar_oil_gas_ext</th>\n",
       "      <th>sector__Other_no_pub</th>\n",
       "      <th>sector__Prof_scien_and_tech_serv</th>\n",
       "      <th>sector__Public_admin</th>\n",
       "      <th>sector__RE_rental_leasing</th>\n",
       "      <th>sector__Retail_trade</th>\n",
       "      <th>sector__Trans_Ware</th>\n",
       "      <th>sector__Utilities</th>\n",
       "      <th>sector__Wholesale_trade</th>\n",
       "    </tr>\n",
       "  </thead>\n",
       "  <tbody>\n",
       "    <tr>\n",
       "      <th>0</th>\n",
       "      <td>37</td>\n",
       "      <td>1</td>\n",
       "      <td>1</td>\n",
       "      <td>1</td>\n",
       "      <td>20000.0</td>\n",
       "      <td>0</td>\n",
       "      <td>0</td>\n",
       "      <td>0</td>\n",
       "      <td>0</td>\n",
       "      <td>0</td>\n",
       "      <td>...</td>\n",
       "      <td>0</td>\n",
       "      <td>0</td>\n",
       "      <td>1</td>\n",
       "      <td>0</td>\n",
       "      <td>0</td>\n",
       "      <td>0</td>\n",
       "      <td>0</td>\n",
       "      <td>0</td>\n",
       "      <td>0</td>\n",
       "      <td>0</td>\n",
       "    </tr>\n",
       "    <tr>\n",
       "      <th>1</th>\n",
       "      <td>41</td>\n",
       "      <td>7</td>\n",
       "      <td>1</td>\n",
       "      <td>1</td>\n",
       "      <td>85000.0</td>\n",
       "      <td>0</td>\n",
       "      <td>0</td>\n",
       "      <td>0</td>\n",
       "      <td>0</td>\n",
       "      <td>0</td>\n",
       "      <td>...</td>\n",
       "      <td>0</td>\n",
       "      <td>0</td>\n",
       "      <td>0</td>\n",
       "      <td>0</td>\n",
       "      <td>0</td>\n",
       "      <td>0</td>\n",
       "      <td>0</td>\n",
       "      <td>0</td>\n",
       "      <td>0</td>\n",
       "      <td>1</td>\n",
       "    </tr>\n",
       "    <tr>\n",
       "      <th>2</th>\n",
       "      <td>27</td>\n",
       "      <td>1</td>\n",
       "      <td>1</td>\n",
       "      <td>1</td>\n",
       "      <td>22000.0</td>\n",
       "      <td>0</td>\n",
       "      <td>0</td>\n",
       "      <td>0</td>\n",
       "      <td>0</td>\n",
       "      <td>0</td>\n",
       "      <td>...</td>\n",
       "      <td>0</td>\n",
       "      <td>0</td>\n",
       "      <td>0</td>\n",
       "      <td>0</td>\n",
       "      <td>0</td>\n",
       "      <td>0</td>\n",
       "      <td>0</td>\n",
       "      <td>1</td>\n",
       "      <td>0</td>\n",
       "      <td>0</td>\n",
       "    </tr>\n",
       "    <tr>\n",
       "      <th>3</th>\n",
       "      <td>52</td>\n",
       "      <td>3</td>\n",
       "      <td>1</td>\n",
       "      <td>1</td>\n",
       "      <td>25000.0</td>\n",
       "      <td>0</td>\n",
       "      <td>0</td>\n",
       "      <td>0</td>\n",
       "      <td>0</td>\n",
       "      <td>0</td>\n",
       "      <td>...</td>\n",
       "      <td>0</td>\n",
       "      <td>0</td>\n",
       "      <td>0</td>\n",
       "      <td>0</td>\n",
       "      <td>0</td>\n",
       "      <td>0</td>\n",
       "      <td>0</td>\n",
       "      <td>1</td>\n",
       "      <td>0</td>\n",
       "      <td>0</td>\n",
       "    </tr>\n",
       "    <tr>\n",
       "      <th>4</th>\n",
       "      <td>13</td>\n",
       "      <td>14</td>\n",
       "      <td>1</td>\n",
       "      <td>1</td>\n",
       "      <td>75000.0</td>\n",
       "      <td>0</td>\n",
       "      <td>0</td>\n",
       "      <td>0</td>\n",
       "      <td>0</td>\n",
       "      <td>0</td>\n",
       "      <td>...</td>\n",
       "      <td>0</td>\n",
       "      <td>0</td>\n",
       "      <td>0</td>\n",
       "      <td>0</td>\n",
       "      <td>0</td>\n",
       "      <td>0</td>\n",
       "      <td>0</td>\n",
       "      <td>0</td>\n",
       "      <td>0</td>\n",
       "      <td>1</td>\n",
       "    </tr>\n",
       "  </tbody>\n",
       "</table>\n",
       "<p>5 rows × 27 columns</p>\n",
       "</div>"
      ],
      "text/plain": [
       "   Term  NoEmp  UrbanRural  MIS_Status   GrAppv  isFranchise  sameState  \\\n",
       "0    37      1           1           1  20000.0            0          0   \n",
       "1    41      7           1           1  85000.0            0          0   \n",
       "2    27      1           1           1  22000.0            0          0   \n",
       "3    52      3           1           1  25000.0            0          0   \n",
       "4    13     14           1           1  75000.0            0          0   \n",
       "\n",
       "   sector__Accommodation_food_serv  sector__Admini_sup_and_waste_mgm_rem  \\\n",
       "0                                0                                     0   \n",
       "1                                0                                     0   \n",
       "2                                0                                     0   \n",
       "3                                0                                     0   \n",
       "4                                0                                     0   \n",
       "\n",
       "   sector__Ag_fores_ﬁshi_hunting  ...  sector__Manufacturing  \\\n",
       "0                              0  ...                      0   \n",
       "1                              0  ...                      0   \n",
       "2                              0  ...                      0   \n",
       "3                              0  ...                      0   \n",
       "4                              0  ...                      0   \n",
       "\n",
       "   sector__Mining_quar_oil_gas_ext  sector__Other_no_pub  \\\n",
       "0                                0                     1   \n",
       "1                                0                     0   \n",
       "2                                0                     0   \n",
       "3                                0                     0   \n",
       "4                                0                     0   \n",
       "\n",
       "   sector__Prof_scien_and_tech_serv  sector__Public_admin  \\\n",
       "0                                 0                     0   \n",
       "1                                 0                     0   \n",
       "2                                 0                     0   \n",
       "3                                 0                     0   \n",
       "4                                 0                     0   \n",
       "\n",
       "   sector__RE_rental_leasing  sector__Retail_trade  sector__Trans_Ware  \\\n",
       "0                          0                     0                   0   \n",
       "1                          0                     0                   0   \n",
       "2                          0                     0                   1   \n",
       "3                          0                     0                   1   \n",
       "4                          0                     0                   0   \n",
       "\n",
       "   sector__Utilities  sector__Wholesale_trade  \n",
       "0                  0                        0  \n",
       "1                  0                        1  \n",
       "2                  0                        0  \n",
       "3                  0                        0  \n",
       "4                  0                        1  \n",
       "\n",
       "[5 rows x 27 columns]"
      ]
     },
     "execution_count": 18,
     "metadata": {},
     "output_type": "execute_result"
    }
   ],
   "source": [
    "df.head()"
   ]
  },
  {
   "cell_type": "code",
   "execution_count": 19,
   "metadata": {},
   "outputs": [
    {
     "data": {
      "text/plain": [
       "Index(['Term', 'NoEmp', 'UrbanRural', 'MIS_Status', 'GrAppv', 'isFranchise',\n",
       "       'sameState', 'sector__Accommodation_food_serv',\n",
       "       'sector__Admini_sup_and_waste_mgm_rem', 'sector__Ag_fores_ﬁshi_hunting',\n",
       "       'sector__Arts_enter_recreation', 'sector__Construction',\n",
       "       'sector__Educational_services', 'sector__Finance_insurance',\n",
       "       'sector__Health_care_social_ass', 'sector__Information',\n",
       "       'sector__Management_and_enterprises', 'sector__Manufacturing',\n",
       "       'sector__Mining_quar_oil_gas_ext', 'sector__Other_no_pub',\n",
       "       'sector__Prof_scien_and_tech_serv', 'sector__Public_admin',\n",
       "       'sector__RE_rental_leasing', 'sector__Retail_trade',\n",
       "       'sector__Trans_Ware', 'sector__Utilities', 'sector__Wholesale_trade'],\n",
       "      dtype='object')"
      ]
     },
     "execution_count": 19,
     "metadata": {},
     "output_type": "execute_result"
    }
   ],
   "source": [
    "df.columns"
   ]
  },
  {
   "cell_type": "markdown",
   "metadata": {},
   "source": [
    "### Machine Learning Building"
   ]
  },
  {
   "cell_type": "code",
   "execution_count": 20,
   "metadata": {},
   "outputs": [],
   "source": [
    "from sklearn.model_selection import train_test_split, GridSearchCV, RandomizedSearchCV\n",
    "\n",
    "from sklearn import set_config\n",
    "set_config(print_changed_only=False)\n",
    "\n",
    "## Evaluation Matrix\n",
    "from sklearn.metrics import classification_report, confusion_matrix, recall_score, precision_score, f1_score, accuracy_score"
   ]
  },
  {
   "cell_type": "code",
   "execution_count": 21,
   "metadata": {},
   "outputs": [],
   "source": [
    "x = df.drop(columns='MIS_Status') \n",
    "y = df['MIS_Status']"
   ]
  },
  {
   "cell_type": "code",
   "execution_count": 22,
   "metadata": {},
   "outputs": [],
   "source": [
    "#Splitting Data\n",
    "x_train, x_test, y_train, y_test = train_test_split(x,y, stratify=y, train_size=.80, random_state=42)"
   ]
  },
  {
   "cell_type": "markdown",
   "metadata": {},
   "source": [
    "### Base Model"
   ]
  },
  {
   "cell_type": "markdown",
   "metadata": {},
   "source": [
    "#### 1. Decision Tree"
   ]
  },
  {
   "cell_type": "code",
   "execution_count": 23,
   "metadata": {},
   "outputs": [],
   "source": [
    "from sklearn.tree import DecisionTreeClassifier\n",
    "\n",
    "modelDT = DecisionTreeClassifier()\n",
    "#fit model\n",
    "modelDT.fit(x_train, y_train)\n",
    "y_predDT = modelDT.predict(x_test)"
   ]
  },
  {
   "cell_type": "code",
   "execution_count": 24,
   "metadata": {},
   "outputs": [],
   "source": [
    "# Evaluation Matrix for Train\n",
    "y_trainDT = modelDT.predict(x_train)\n",
    "\n",
    "acc_trainDT = accuracy_score(y_train, y_trainDT)\n",
    "prec_trainDT = precision_score(y_train, y_trainDT)\n",
    "rec_trainDT = recall_score(y_train, y_trainDT)\n",
    "f1_trainDT =f1_score(y_train, y_trainDT)"
   ]
  },
  {
   "cell_type": "code",
   "execution_count": 25,
   "metadata": {},
   "outputs": [
    {
     "name": "stdout",
     "output_type": "stream",
     "text": [
      "              precision    recall  f1-score   support\n",
      "\n",
      "           0       0.92      0.91      0.91      2286\n",
      "           1       0.77      0.79      0.78       875\n",
      "\n",
      "    accuracy                           0.88      3161\n",
      "   macro avg       0.85      0.85      0.85      3161\n",
      "weighted avg       0.88      0.88      0.88      3161\n",
      "\n"
     ]
    }
   ],
   "source": [
    "# Evaluation Matrix for Test\n",
    "acc_DT = accuracy_score(y_test, y_predDT)\n",
    "prec_DT = precision_score(y_test, y_predDT)\n",
    "rec_DT = recall_score(y_test, y_predDT)\n",
    "f1_DT =f1_score(y_test, y_predDT)\n",
    "\n",
    "print(classification_report(y_test, y_predDT))"
   ]
  },
  {
   "cell_type": "code",
   "execution_count": 26,
   "metadata": {},
   "outputs": [
    {
     "data": {
      "text/html": [
       "<div>\n",
       "<style scoped>\n",
       "    .dataframe tbody tr th:only-of-type {\n",
       "        vertical-align: middle;\n",
       "    }\n",
       "\n",
       "    .dataframe tbody tr th {\n",
       "        vertical-align: top;\n",
       "    }\n",
       "\n",
       "    .dataframe thead th {\n",
       "        text-align: right;\n",
       "    }\n",
       "</style>\n",
       "<table border=\"1\" class=\"dataframe\">\n",
       "  <thead>\n",
       "    <tr style=\"text-align: right;\">\n",
       "      <th></th>\n",
       "      <th>Training</th>\n",
       "      <th>Testing</th>\n",
       "    </tr>\n",
       "  </thead>\n",
       "  <tbody>\n",
       "    <tr>\n",
       "      <th>Accuracy</th>\n",
       "      <td>0.996519</td>\n",
       "      <td>0.877254</td>\n",
       "    </tr>\n",
       "    <tr>\n",
       "      <th>Precision</th>\n",
       "      <td>0.999711</td>\n",
       "      <td>0.772067</td>\n",
       "    </tr>\n",
       "    <tr>\n",
       "      <th>Recall</th>\n",
       "      <td>0.987707</td>\n",
       "      <td>0.789714</td>\n",
       "    </tr>\n",
       "    <tr>\n",
       "      <th>F1-score</th>\n",
       "      <td>0.993673</td>\n",
       "      <td>0.780791</td>\n",
       "    </tr>\n",
       "  </tbody>\n",
       "</table>\n",
       "</div>"
      ],
      "text/plain": [
       "           Training   Testing\n",
       "Accuracy   0.996519  0.877254\n",
       "Precision  0.999711  0.772067\n",
       "Recall     0.987707  0.789714\n",
       "F1-score   0.993673  0.780791"
      ]
     },
     "execution_count": 26,
     "metadata": {},
     "output_type": "execute_result"
    }
   ],
   "source": [
    "DT_base = {\n",
    "    'Training':[acc_trainDT, prec_trainDT, rec_trainDT, f1_trainDT],\n",
    "    'Testing':[acc_DT, prec_DT, rec_DT, f1_DT]\n",
    "}\n",
    "pd.DataFrame(data=DT_base, index=['Accuracy','Precision','Recall','F1-score'])"
   ]
  },
  {
   "cell_type": "code",
   "execution_count": 27,
   "metadata": {},
   "outputs": [
    {
     "data": {
      "text/html": [
       "<div>\n",
       "<style scoped>\n",
       "    .dataframe tbody tr th:only-of-type {\n",
       "        vertical-align: middle;\n",
       "    }\n",
       "\n",
       "    .dataframe tbody tr th {\n",
       "        vertical-align: top;\n",
       "    }\n",
       "\n",
       "    .dataframe thead th {\n",
       "        text-align: right;\n",
       "    }\n",
       "</style>\n",
       "<table border=\"1\" class=\"dataframe\">\n",
       "  <thead>\n",
       "    <tr style=\"text-align: right;\">\n",
       "      <th></th>\n",
       "      <th>Pred 1</th>\n",
       "      <th>Pred 0</th>\n",
       "    </tr>\n",
       "  </thead>\n",
       "  <tbody>\n",
       "    <tr>\n",
       "      <th>Akt 1</th>\n",
       "      <td>691</td>\n",
       "      <td>184</td>\n",
       "    </tr>\n",
       "    <tr>\n",
       "      <th>Akt 0</th>\n",
       "      <td>204</td>\n",
       "      <td>2082</td>\n",
       "    </tr>\n",
       "  </tbody>\n",
       "</table>\n",
       "</div>"
      ],
      "text/plain": [
       "       Pred 1  Pred 0\n",
       "Akt 1     691     184\n",
       "Akt 0     204    2082"
      ]
     },
     "execution_count": 27,
     "metadata": {},
     "output_type": "execute_result"
    }
   ],
   "source": [
    "cm_DT = confusion_matrix(y_test, y_predDT, labels=[1,0])\n",
    "df_cm_DT = pd.DataFrame(data=cm_DT, columns=['Pred 1', 'Pred 0'], index=['Akt 1', 'Akt 0'])\n",
    "df_cm_DT"
   ]
  },
  {
   "cell_type": "code",
   "execution_count": 28,
   "metadata": {},
   "outputs": [
    {
     "data": {
      "text/plain": [
       "<matplotlib.axes._subplots.AxesSubplot at 0x1e7b49ca5b0>"
      ]
     },
     "execution_count": 28,
     "metadata": {},
     "output_type": "execute_result"
    },
    {
     "data": {
      "image/png": "[encoded data removed]",
      "text/plain": [
       "<Figure size 432x288 with 2 Axes>"
      ]
     },
     "metadata": {
      "needs_background": "light"
     },
     "output_type": "display_data"
    }
   ],
   "source": [
    "sns.heatmap(df_cm_DT, annot=True, fmt='g')"
   ]
  },
  {
   "cell_type": "markdown",
   "metadata": {},
   "source": [
    "#### 2. Random Forest"
   ]
  },
  {
   "cell_type": "code",
   "execution_count": 29,
   "metadata": {},
   "outputs": [],
   "source": [
    "from sklearn.ensemble import RandomForestClassifier\n",
    "\n",
    "modelRF = RandomForestClassifier()\n",
    "modelRF.fit(x_train, y_train)\n",
    "y_predRF = modelRF.predict(x_test)"
   ]
  },
  {
   "cell_type": "code",
   "execution_count": 30,
   "metadata": {},
   "outputs": [],
   "source": [
    "# Evaluation Matrix for Train\n",
    "y_trainRF = modelRF.predict(x_train)\n",
    "\n",
    "acc_trainRF = accuracy_score(y_train, y_trainRF)\n",
    "prec_trainRF = precision_score(y_train, y_trainRF)\n",
    "rec_trainRF = recall_score(y_train, y_trainRF)\n",
    "f1_trainRF =f1_score(y_train, y_trainRF)"
   ]
  },
  {
   "cell_type": "code",
   "execution_count": 31,
   "metadata": {},
   "outputs": [
    {
     "name": "stdout",
     "output_type": "stream",
     "text": [
      "              precision    recall  f1-score   support\n",
      "\n",
      "           0       0.91      0.93      0.92      2286\n",
      "           1       0.81      0.76      0.78       875\n",
      "\n",
      "    accuracy                           0.88      3161\n",
      "   macro avg       0.86      0.84      0.85      3161\n",
      "weighted avg       0.88      0.88      0.88      3161\n",
      "\n"
     ]
    }
   ],
   "source": [
    "# Evaluation matrix for Testing\n",
    "acc_RF = accuracy_score(y_test, y_predRF)\n",
    "prec_RF = precision_score(y_test, y_predRF)\n",
    "rec_RF = recall_score(y_test, y_predRF)\n",
    "f1_RF =f1_score(y_test, y_predRF)\n",
    "\n",
    "print(classification_report(y_test, y_predRF))"
   ]
  },
  {
   "cell_type": "code",
   "execution_count": 32,
   "metadata": {},
   "outputs": [
    {
     "data": {
      "text/html": [
       "<div>\n",
       "<style scoped>\n",
       "    .dataframe tbody tr th:only-of-type {\n",
       "        vertical-align: middle;\n",
       "    }\n",
       "\n",
       "    .dataframe tbody tr th {\n",
       "        vertical-align: top;\n",
       "    }\n",
       "\n",
       "    .dataframe thead th {\n",
       "        text-align: right;\n",
       "    }\n",
       "</style>\n",
       "<table border=\"1\" class=\"dataframe\">\n",
       "  <thead>\n",
       "    <tr style=\"text-align: right;\">\n",
       "      <th></th>\n",
       "      <th>Training</th>\n",
       "      <th>Testing</th>\n",
       "    </tr>\n",
       "  </thead>\n",
       "  <tbody>\n",
       "    <tr>\n",
       "      <th>Accuracy</th>\n",
       "      <td>0.996519</td>\n",
       "      <td>0.881683</td>\n",
       "    </tr>\n",
       "    <tr>\n",
       "      <th>Precision</th>\n",
       "      <td>0.995126</td>\n",
       "      <td>0.805116</td>\n",
       "    </tr>\n",
       "    <tr>\n",
       "      <th>Recall</th>\n",
       "      <td>0.992281</td>\n",
       "      <td>0.755429</td>\n",
       "    </tr>\n",
       "    <tr>\n",
       "      <th>F1-score</th>\n",
       "      <td>0.993702</td>\n",
       "      <td>0.779481</td>\n",
       "    </tr>\n",
       "  </tbody>\n",
       "</table>\n",
       "</div>"
      ],
      "text/plain": [
       "           Training   Testing\n",
       "Accuracy   0.996519  0.881683\n",
       "Precision  0.995126  0.805116\n",
       "Recall     0.992281  0.755429\n",
       "F1-score   0.993702  0.779481"
      ]
     },
     "execution_count": 32,
     "metadata": {},
     "output_type": "execute_result"
    }
   ],
   "source": [
    "RF_base = {\n",
    "    'Training':[acc_trainRF, prec_trainRF, rec_trainRF, f1_trainRF],\n",
    "    'Testing':[acc_RF, prec_RF, rec_RF, f1_RF]\n",
    "}\n",
    "pd.DataFrame(data=RF_base, index=['Accuracy','Precision','Recall','F1-score'])"
   ]
  },
  {
   "cell_type": "code",
   "execution_count": 33,
   "metadata": {},
   "outputs": [
    {
     "data": {
      "text/html": [
       "<div>\n",
       "<style scoped>\n",
       "    .dataframe tbody tr th:only-of-type {\n",
       "        vertical-align: middle;\n",
       "    }\n",
       "\n",
       "    .dataframe tbody tr th {\n",
       "        vertical-align: top;\n",
       "    }\n",
       "\n",
       "    .dataframe thead th {\n",
       "        text-align: right;\n",
       "    }\n",
       "</style>\n",
       "<table border=\"1\" class=\"dataframe\">\n",
       "  <thead>\n",
       "    <tr style=\"text-align: right;\">\n",
       "      <th></th>\n",
       "      <th>Pred 1</th>\n",
       "      <th>Pred 0</th>\n",
       "    </tr>\n",
       "  </thead>\n",
       "  <tbody>\n",
       "    <tr>\n",
       "      <th>Akt 1</th>\n",
       "      <td>661</td>\n",
       "      <td>214</td>\n",
       "    </tr>\n",
       "    <tr>\n",
       "      <th>Akt 0</th>\n",
       "      <td>160</td>\n",
       "      <td>2126</td>\n",
       "    </tr>\n",
       "  </tbody>\n",
       "</table>\n",
       "</div>"
      ],
      "text/plain": [
       "       Pred 1  Pred 0\n",
       "Akt 1     661     214\n",
       "Akt 0     160    2126"
      ]
     },
     "execution_count": 33,
     "metadata": {},
     "output_type": "execute_result"
    }
   ],
   "source": [
    "cm_RF = confusion_matrix(y_test, y_predRF, labels=[1,0])\n",
    "df_cm_RF = pd.DataFrame(data=cm_RF, columns=['Pred 1', 'Pred 0'], index=['Akt 1', 'Akt 0'])\n",
    "df_cm_RF"
   ]
  },
  {
   "cell_type": "code",
   "execution_count": 34,
   "metadata": {},
   "outputs": [
    {
     "data": {
      "text/plain": [
       "<matplotlib.axes._subplots.AxesSubplot at 0x1e7b4af3eb0>"
      ]
     },
     "execution_count": 34,
     "metadata": {},
     "output_type": "execute_result"
    },
    {
     "data": {
      "image/png": "[encoded data removed]",
      "text/plain": [
       "<Figure size 432x288 with 2 Axes>"
      ]
     },
     "metadata": {
      "needs_background": "light"
     },
     "output_type": "display_data"
    }
   ],
   "source": [
    "sns.heatmap(df_cm_RF, annot=True, fmt='g')"
   ]
  },
  {
   "cell_type": "markdown",
   "metadata": {},
   "source": [
    "#### 3. XGBoost"
   ]
  },
  {
   "cell_type": "code",
   "execution_count": 35,
   "metadata": {},
   "outputs": [],
   "source": [
    "from sklearn.ensemble import GradientBoostingClassifier\n",
    "from xgboost import XGBClassifier"
   ]
  },
  {
   "cell_type": "code",
   "execution_count": 36,
   "metadata": {},
   "outputs": [],
   "source": [
    "modelXGB = XGBClassifier()\n",
    "modelXGB.fit(x_train, y_train)\n",
    "y_predXGB = modelXGB.predict(x_test)"
   ]
  },
  {
   "cell_type": "code",
   "execution_count": 37,
   "metadata": {},
   "outputs": [],
   "source": [
    "# Evaluation Matrix for Train\n",
    "y_trainXGB = modelXGB.predict(x_train)\n",
    "\n",
    "acc_trainXGB = accuracy_score(y_train, y_trainXGB)\n",
    "prec_trainXGB = precision_score(y_train, y_trainXGB)\n",
    "rec_trainXGB = recall_score(y_train, y_trainXGB)\n",
    "f1_trainXGB =f1_score(y_train, y_trainXGB)"
   ]
  },
  {
   "cell_type": "code",
   "execution_count": 38,
   "metadata": {},
   "outputs": [
    {
     "name": "stdout",
     "output_type": "stream",
     "text": [
      "              precision    recall  f1-score   support\n",
      "\n",
      "           0       0.94      0.94      0.94      2286\n",
      "           1       0.84      0.85      0.84       875\n",
      "\n",
      "    accuracy                           0.91      3161\n",
      "   macro avg       0.89      0.89      0.89      3161\n",
      "weighted avg       0.91      0.91      0.91      3161\n",
      "\n"
     ]
    }
   ],
   "source": [
    "# Evaluation Matrix for Testing\n",
    "acc_XGB = accuracy_score(y_test, y_predXGB)\n",
    "prec_XGB = precision_score(y_test, y_predXGB)\n",
    "rec_XGB = recall_score(y_test, y_predXGB)\n",
    "f1_XGB =f1_score(y_test, y_predXGB)\n",
    "\n",
    "print(classification_report(y_test, y_predXGB))"
   ]
  },
  {
   "cell_type": "code",
   "execution_count": 39,
   "metadata": {},
   "outputs": [
    {
     "data": {
      "text/html": [
       "<div>\n",
       "<style scoped>\n",
       "    .dataframe tbody tr th:only-of-type {\n",
       "        vertical-align: middle;\n",
       "    }\n",
       "\n",
       "    .dataframe tbody tr th {\n",
       "        vertical-align: top;\n",
       "    }\n",
       "\n",
       "    .dataframe thead th {\n",
       "        text-align: right;\n",
       "    }\n",
       "</style>\n",
       "<table border=\"1\" class=\"dataframe\">\n",
       "  <thead>\n",
       "    <tr style=\"text-align: right;\">\n",
       "      <th></th>\n",
       "      <th>Training</th>\n",
       "      <th>Testing</th>\n",
       "    </tr>\n",
       "  </thead>\n",
       "  <tbody>\n",
       "    <tr>\n",
       "      <th>Accuracy</th>\n",
       "      <td>0.955459</td>\n",
       "      <td>0.913951</td>\n",
       "    </tr>\n",
       "    <tr>\n",
       "      <th>Precision</th>\n",
       "      <td>0.917972</td>\n",
       "      <td>0.843003</td>\n",
       "    </tr>\n",
       "    <tr>\n",
       "      <th>Recall</th>\n",
       "      <td>0.921384</td>\n",
       "      <td>0.846857</td>\n",
       "    </tr>\n",
       "    <tr>\n",
       "      <th>F1-score</th>\n",
       "      <td>0.919675</td>\n",
       "      <td>0.844926</td>\n",
       "    </tr>\n",
       "  </tbody>\n",
       "</table>\n",
       "</div>"
      ],
      "text/plain": [
       "           Training   Testing\n",
       "Accuracy   0.955459  0.913951\n",
       "Precision  0.917972  0.843003\n",
       "Recall     0.921384  0.846857\n",
       "F1-score   0.919675  0.844926"
      ]
     },
     "execution_count": 39,
     "metadata": {},
     "output_type": "execute_result"
    }
   ],
   "source": [
    "XGB_base = {\n",
    "    'Training':[acc_trainXGB, prec_trainXGB, rec_trainXGB, f1_trainXGB],\n",
    "    'Testing':[acc_XGB, prec_XGB, rec_XGB, f1_XGB]\n",
    "}\n",
    "pd.DataFrame(data=XGB_base, index=['Accuracy','Precision','Recall','F1-score'])"
   ]
  },
  {
   "cell_type": "code",
   "execution_count": 40,
   "metadata": {},
   "outputs": [
    {
     "data": {
      "text/html": [
       "<div>\n",
       "<style scoped>\n",
       "    .dataframe tbody tr th:only-of-type {\n",
       "        vertical-align: middle;\n",
       "    }\n",
       "\n",
       "    .dataframe tbody tr th {\n",
       "        vertical-align: top;\n",
       "    }\n",
       "\n",
       "    .dataframe thead th {\n",
       "        text-align: right;\n",
       "    }\n",
       "</style>\n",
       "<table border=\"1\" class=\"dataframe\">\n",
       "  <thead>\n",
       "    <tr style=\"text-align: right;\">\n",
       "      <th></th>\n",
       "      <th>Pred 1</th>\n",
       "      <th>Pred 0</th>\n",
       "    </tr>\n",
       "  </thead>\n",
       "  <tbody>\n",
       "    <tr>\n",
       "      <th>Akt 1</th>\n",
       "      <td>741</td>\n",
       "      <td>134</td>\n",
       "    </tr>\n",
       "    <tr>\n",
       "      <th>Akt 0</th>\n",
       "      <td>138</td>\n",
       "      <td>2148</td>\n",
       "    </tr>\n",
       "  </tbody>\n",
       "</table>\n",
       "</div>"
      ],
      "text/plain": [
       "       Pred 1  Pred 0\n",
       "Akt 1     741     134\n",
       "Akt 0     138    2148"
      ]
     },
     "execution_count": 40,
     "metadata": {},
     "output_type": "execute_result"
    }
   ],
   "source": [
    "cm_XGB = confusion_matrix(y_test, y_predXGB, labels=[1,0])\n",
    "df_cm_XGB = pd.DataFrame(data=cm_XGB, columns=['Pred 1', 'Pred 0'], index=['Akt 1', 'Akt 0'])\n",
    "df_cm_XGB"
   ]
  },
  {
   "cell_type": "code",
   "execution_count": 41,
   "metadata": {},
   "outputs": [
    {
     "data": {
      "text/plain": [
       "<matplotlib.axes._subplots.AxesSubplot at 0x1e7b46dc340>"
      ]
     },
     "execution_count": 41,
     "metadata": {},
     "output_type": "execute_result"
    },
    {
     "data": {
      "image/png": "[encoded data removed]",
      "text/plain": [
       "<Figure size 432x288 with 2 Axes>"
      ]
     },
     "metadata": {
      "needs_background": "light"
     },
     "output_type": "display_data"
    }
   ],
   "source": [
    "sns.heatmap(df_cm_XGB, annot=True, fmt='g')"
   ]
  },
  {
   "cell_type": "markdown",
   "metadata": {},
   "source": [
    "### Optimize Model"
   ]
  },
  {
   "cell_type": "markdown",
   "metadata": {},
   "source": [
    "#### A. Handling Imbalance Data"
   ]
  },
  {
   "cell_type": "markdown",
   "metadata": {},
   "source": [
    "#### SMOTE"
   ]
  },
  {
   "cell_type": "code",
   "execution_count": 23,
   "metadata": {},
   "outputs": [],
   "source": [
    "import imblearn\n",
    "from imblearn.over_sampling import SMOTE\n",
    "\n",
    "sm = SMOTE(random_state=42)\n",
    "x_train_sm, y_train_sm = sm.fit_sample(x_train, y_train)"
   ]
  },
  {
   "cell_type": "code",
   "execution_count": 24,
   "metadata": {},
   "outputs": [
    {
     "data": {
      "text/plain": [
       "Index(['Term', 'NoEmp', 'UrbanRural', 'GrAppv', 'isFranchise', 'sameState',\n",
       "       'sector__Accommodation_food_serv',\n",
       "       'sector__Admini_sup_and_waste_mgm_rem', 'sector__Ag_fores_ﬁshi_hunting',\n",
       "       'sector__Arts_enter_recreation', 'sector__Construction',\n",
       "       'sector__Educational_services', 'sector__Finance_insurance',\n",
       "       'sector__Health_care_social_ass', 'sector__Information',\n",
       "       'sector__Management_and_enterprises', 'sector__Manufacturing',\n",
       "       'sector__Mining_quar_oil_gas_ext', 'sector__Other_no_pub',\n",
       "       'sector__Prof_scien_and_tech_serv', 'sector__Public_admin',\n",
       "       'sector__RE_rental_leasing', 'sector__Retail_trade',\n",
       "       'sector__Trans_Ware', 'sector__Utilities', 'sector__Wholesale_trade'],\n",
       "      dtype='object')"
      ]
     },
     "execution_count": 24,
     "metadata": {},
     "output_type": "execute_result"
    }
   ],
   "source": [
    "x_train_sm.columns"
   ]
  },
  {
   "cell_type": "markdown",
   "metadata": {},
   "source": [
    "#### 1. Decision Tree"
   ]
  },
  {
   "cell_type": "code",
   "execution_count": 58,
   "metadata": {},
   "outputs": [],
   "source": [
    "from sklearn.tree import DecisionTreeClassifier\n",
    "\n",
    "modelDT_sm = DecisionTreeClassifier()\n",
    "#fit model\n",
    "modelDT_sm.fit(x_train_sm, y_train_sm)\n",
    "y_predDT_sm = modelDT_sm.predict(x_test)"
   ]
  },
  {
   "cell_type": "code",
   "execution_count": 59,
   "metadata": {},
   "outputs": [],
   "source": [
    "# Evaluation Matrix for Train\n",
    "y_trainDT_sm = modelDT_sm.predict(x_train_sm)\n",
    "\n",
    "acc_trainDT_sm = accuracy_score(y_train_sm, y_trainDT_sm)\n",
    "prec_trainDT_sm = precision_score(y_train_sm, y_trainDT_sm)\n",
    "rec_trainDT_sm = recall_score(y_train_sm, y_trainDT_sm)\n",
    "f1_trainDT_sm =f1_score(y_train_sm, y_trainDT_sm)"
   ]
  },
  {
   "cell_type": "code",
   "execution_count": 60,
   "metadata": {},
   "outputs": [
    {
     "name": "stdout",
     "output_type": "stream",
     "text": [
      "              precision    recall  f1-score   support\n",
      "\n",
      "           0       0.92      0.90      0.91      2286\n",
      "           1       0.75      0.79      0.77       875\n",
      "\n",
      "    accuracy                           0.87      3161\n",
      "   macro avg       0.83      0.84      0.84      3161\n",
      "weighted avg       0.87      0.87      0.87      3161\n",
      "\n"
     ]
    }
   ],
   "source": [
    "# Evaluation Matrix for Test\n",
    "acc_DT_sm = accuracy_score(y_test, y_predDT_sm)\n",
    "prec_DT_sm = precision_score(y_test, y_predDT_sm)\n",
    "rec_DT_sm = recall_score(y_test, y_predDT_sm)\n",
    "f1_DT_sm =f1_score(y_test, y_predDT_sm)\n",
    "\n",
    "print(classification_report(y_test, y_predDT_sm))"
   ]
  },
  {
   "cell_type": "code",
   "execution_count": 61,
   "metadata": {},
   "outputs": [
    {
     "data": {
      "text/html": [
       "<div>\n",
       "<style scoped>\n",
       "    .dataframe tbody tr th:only-of-type {\n",
       "        vertical-align: middle;\n",
       "    }\n",
       "\n",
       "    .dataframe tbody tr th {\n",
       "        vertical-align: top;\n",
       "    }\n",
       "\n",
       "    .dataframe thead th {\n",
       "        text-align: right;\n",
       "    }\n",
       "</style>\n",
       "<table border=\"1\" class=\"dataframe\">\n",
       "  <thead>\n",
       "    <tr style=\"text-align: right;\">\n",
       "      <th></th>\n",
       "      <th>Training</th>\n",
       "      <th>Testing</th>\n",
       "    </tr>\n",
       "  </thead>\n",
       "  <tbody>\n",
       "    <tr>\n",
       "      <th>Accuracy</th>\n",
       "      <td>0.997211</td>\n",
       "      <td>0.868396</td>\n",
       "    </tr>\n",
       "    <tr>\n",
       "      <th>Precision</th>\n",
       "      <td>0.998793</td>\n",
       "      <td>0.748646</td>\n",
       "    </tr>\n",
       "    <tr>\n",
       "      <th>Recall</th>\n",
       "      <td>0.995625</td>\n",
       "      <td>0.789714</td>\n",
       "    </tr>\n",
       "    <tr>\n",
       "      <th>F1-score</th>\n",
       "      <td>0.997206</td>\n",
       "      <td>0.768632</td>\n",
       "    </tr>\n",
       "  </tbody>\n",
       "</table>\n",
       "</div>"
      ],
      "text/plain": [
       "           Training   Testing\n",
       "Accuracy   0.997211  0.868396\n",
       "Precision  0.998793  0.748646\n",
       "Recall     0.995625  0.789714\n",
       "F1-score   0.997206  0.768632"
      ]
     },
     "execution_count": 61,
     "metadata": {},
     "output_type": "execute_result"
    }
   ],
   "source": [
    "DT_sm = {\n",
    "    'Training':[acc_trainDT_sm, prec_trainDT_sm, rec_trainDT_sm, f1_trainDT_sm],\n",
    "    'Testing':[acc_DT_sm, prec_DT_sm, rec_DT_sm, f1_DT_sm]\n",
    "}\n",
    "pd.DataFrame(data=DT_sm, index=['Accuracy','Precision','Recall','F1-score'])"
   ]
  },
  {
   "cell_type": "code",
   "execution_count": 62,
   "metadata": {},
   "outputs": [
    {
     "data": {
      "text/html": [
       "<div>\n",
       "<style scoped>\n",
       "    .dataframe tbody tr th:only-of-type {\n",
       "        vertical-align: middle;\n",
       "    }\n",
       "\n",
       "    .dataframe tbody tr th {\n",
       "        vertical-align: top;\n",
       "    }\n",
       "\n",
       "    .dataframe thead th {\n",
       "        text-align: right;\n",
       "    }\n",
       "</style>\n",
       "<table border=\"1\" class=\"dataframe\">\n",
       "  <thead>\n",
       "    <tr style=\"text-align: right;\">\n",
       "      <th></th>\n",
       "      <th>Pred 1</th>\n",
       "      <th>Pred 0</th>\n",
       "    </tr>\n",
       "  </thead>\n",
       "  <tbody>\n",
       "    <tr>\n",
       "      <th>Akt 1</th>\n",
       "      <td>691</td>\n",
       "      <td>184</td>\n",
       "    </tr>\n",
       "    <tr>\n",
       "      <th>Akt 0</th>\n",
       "      <td>232</td>\n",
       "      <td>2054</td>\n",
       "    </tr>\n",
       "  </tbody>\n",
       "</table>\n",
       "</div>"
      ],
      "text/plain": [
       "       Pred 1  Pred 0\n",
       "Akt 1     691     184\n",
       "Akt 0     232    2054"
      ]
     },
     "execution_count": 62,
     "metadata": {},
     "output_type": "execute_result"
    }
   ],
   "source": [
    "cm_DT_sm = confusion_matrix(y_test, y_predDT_sm, labels=[1,0])\n",
    "df_cm_DT_sm = pd.DataFrame(data=cm_DT_sm, columns=['Pred 1', 'Pred 0'], index=['Akt 1', 'Akt 0'])\n",
    "df_cm_DT_sm"
   ]
  },
  {
   "cell_type": "code",
   "execution_count": 63,
   "metadata": {},
   "outputs": [
    {
     "data": {
      "text/plain": [
       "<matplotlib.axes._subplots.AxesSubplot at 0x1c070d38d00>"
      ]
     },
     "execution_count": 63,
     "metadata": {},
     "output_type": "execute_result"
    },
    {
     "data": {
      "image/png": "[encoded data removed]",
      "text/plain": [
       "<Figure size 432x288 with 2 Axes>"
      ]
     },
     "metadata": {
      "needs_background": "light"
     },
     "output_type": "display_data"
    }
   ],
   "source": [
    "sns.heatmap(df_cm_DT_sm, annot=True, fmt='g')"
   ]
  },
  {
   "cell_type": "markdown",
   "metadata": {},
   "source": [
    "#### 2. Random Forest"
   ]
  },
  {
   "cell_type": "code",
   "execution_count": 64,
   "metadata": {},
   "outputs": [],
   "source": [
    "from sklearn.ensemble import RandomForestClassifier\n",
    "\n",
    "modelRF_sm = RandomForestClassifier()\n",
    "modelRF_sm.fit(x_train_sm, y_train_sm)\n",
    "y_predRF_sm = modelRF_sm.predict(x_test)"
   ]
  },
  {
   "cell_type": "code",
   "execution_count": 65,
   "metadata": {},
   "outputs": [],
   "source": [
    "# Evaluation Matrix for Train\n",
    "y_trainRF_sm = modelRF_sm.predict(x_train_sm)\n",
    "\n",
    "acc_trainRF_sm = accuracy_score(y_train_sm, y_trainRF_sm)\n",
    "prec_trainRF_sm = precision_score(y_train_sm, y_trainRF_sm)\n",
    "rec_trainRF_sm = recall_score(y_train_sm, y_trainRF_sm)\n",
    "f1_trainRF_sm =f1_score(y_train_sm, y_trainRF_sm)"
   ]
  },
  {
   "cell_type": "code",
   "execution_count": 66,
   "metadata": {},
   "outputs": [
    {
     "name": "stdout",
     "output_type": "stream",
     "text": [
      "              precision    recall  f1-score   support\n",
      "\n",
      "           0       0.91      0.92      0.91      2286\n",
      "           1       0.78      0.77      0.78       875\n",
      "\n",
      "    accuracy                           0.88      3161\n",
      "   macro avg       0.85      0.84      0.85      3161\n",
      "weighted avg       0.88      0.88      0.88      3161\n",
      "\n"
     ]
    }
   ],
   "source": [
    "# Evaluation matrix for Testing\n",
    "acc_RF_sm = accuracy_score(y_test, y_predRF_sm)\n",
    "prec_RF_sm = precision_score(y_test, y_predRF_sm)\n",
    "rec_RF_sm = recall_score(y_test, y_predRF_sm)\n",
    "f1_RF_sm =f1_score(y_test, y_predRF_sm)\n",
    "\n",
    "print(classification_report(y_test, y_predRF_sm))"
   ]
  },
  {
   "cell_type": "code",
   "execution_count": 67,
   "metadata": {},
   "outputs": [
    {
     "data": {
      "text/html": [
       "<div>\n",
       "<style scoped>\n",
       "    .dataframe tbody tr th:only-of-type {\n",
       "        vertical-align: middle;\n",
       "    }\n",
       "\n",
       "    .dataframe tbody tr th {\n",
       "        vertical-align: top;\n",
       "    }\n",
       "\n",
       "    .dataframe thead th {\n",
       "        text-align: right;\n",
       "    }\n",
       "</style>\n",
       "<table border=\"1\" class=\"dataframe\">\n",
       "  <thead>\n",
       "    <tr style=\"text-align: right;\">\n",
       "      <th></th>\n",
       "      <th>Training</th>\n",
       "      <th>Testing</th>\n",
       "    </tr>\n",
       "  </thead>\n",
       "  <tbody>\n",
       "    <tr>\n",
       "      <th>Accuracy</th>\n",
       "      <td>0.997211</td>\n",
       "      <td>0.876305</td>\n",
       "    </tr>\n",
       "    <tr>\n",
       "      <th>Precision</th>\n",
       "      <td>0.997374</td>\n",
       "      <td>0.778161</td>\n",
       "    </tr>\n",
       "    <tr>\n",
       "      <th>Recall</th>\n",
       "      <td>0.997047</td>\n",
       "      <td>0.773714</td>\n",
       "    </tr>\n",
       "    <tr>\n",
       "      <th>F1-score</th>\n",
       "      <td>0.997210</td>\n",
       "      <td>0.775931</td>\n",
       "    </tr>\n",
       "  </tbody>\n",
       "</table>\n",
       "</div>"
      ],
      "text/plain": [
       "           Training   Testing\n",
       "Accuracy   0.997211  0.876305\n",
       "Precision  0.997374  0.778161\n",
       "Recall     0.997047  0.773714\n",
       "F1-score   0.997210  0.775931"
      ]
     },
     "execution_count": 67,
     "metadata": {},
     "output_type": "execute_result"
    }
   ],
   "source": [
    "RF_sm = {\n",
    "    'Training':[acc_trainRF_sm, prec_trainRF_sm, rec_trainRF_sm, f1_trainRF_sm],\n",
    "    'Testing':[acc_RF_sm, prec_RF_sm, rec_RF_sm, f1_RF_sm]\n",
    "}\n",
    "pd.DataFrame(data=RF_sm, index=['Accuracy','Precision','Recall','F1-score'])"
   ]
  },
  {
   "cell_type": "code",
   "execution_count": 68,
   "metadata": {},
   "outputs": [
    {
     "data": {
      "text/html": [
       "<div>\n",
       "<style scoped>\n",
       "    .dataframe tbody tr th:only-of-type {\n",
       "        vertical-align: middle;\n",
       "    }\n",
       "\n",
       "    .dataframe tbody tr th {\n",
       "        vertical-align: top;\n",
       "    }\n",
       "\n",
       "    .dataframe thead th {\n",
       "        text-align: right;\n",
       "    }\n",
       "</style>\n",
       "<table border=\"1\" class=\"dataframe\">\n",
       "  <thead>\n",
       "    <tr style=\"text-align: right;\">\n",
       "      <th></th>\n",
       "      <th>Pred 1</th>\n",
       "      <th>Pred 0</th>\n",
       "    </tr>\n",
       "  </thead>\n",
       "  <tbody>\n",
       "    <tr>\n",
       "      <th>Akt 1</th>\n",
       "      <td>677</td>\n",
       "      <td>198</td>\n",
       "    </tr>\n",
       "    <tr>\n",
       "      <th>Akt 0</th>\n",
       "      <td>193</td>\n",
       "      <td>2093</td>\n",
       "    </tr>\n",
       "  </tbody>\n",
       "</table>\n",
       "</div>"
      ],
      "text/plain": [
       "       Pred 1  Pred 0\n",
       "Akt 1     677     198\n",
       "Akt 0     193    2093"
      ]
     },
     "execution_count": 68,
     "metadata": {},
     "output_type": "execute_result"
    }
   ],
   "source": [
    "cm_RF_sm = confusion_matrix(y_test, y_predRF_sm, labels=[1,0])\n",
    "df_cm_RF_sm = pd.DataFrame(data=cm_RF_sm, columns=['Pred 1', 'Pred 0'], index=['Akt 1', 'Akt 0'])\n",
    "df_cm_RF_sm"
   ]
  },
  {
   "cell_type": "code",
   "execution_count": 69,
   "metadata": {},
   "outputs": [
    {
     "data": {
      "text/plain": [
       "<matplotlib.axes._subplots.AxesSubplot at 0x1c0704bce20>"
      ]
     },
     "execution_count": 69,
     "metadata": {},
     "output_type": "execute_result"
    },
    {
     "data": {
      "image/png": "[encoded data removed]",
      "text/plain": [
       "<Figure size 432x288 with 2 Axes>"
      ]
     },
     "metadata": {
      "needs_background": "light"
     },
     "output_type": "display_data"
    }
   ],
   "source": [
    "sns.heatmap(df_cm_RF_sm, annot=True, fmt='g')"
   ]
  },
  {
   "cell_type": "markdown",
   "metadata": {},
   "source": [
    "#### 3. XGBoost"
   ]
  },
  {
   "cell_type": "code",
   "execution_count": 70,
   "metadata": {},
   "outputs": [],
   "source": [
    "from sklearn.ensemble import GradientBoostingClassifier\n",
    "from xgboost import XGBClassifier"
   ]
  },
  {
   "cell_type": "code",
   "execution_count": 71,
   "metadata": {},
   "outputs": [],
   "source": [
    "modelXGB_sm = XGBClassifier()\n",
    "modelXGB_sm.fit(x_train_sm, y_train_sm)\n",
    "y_predXGB_sm = modelXGB_sm.predict(x_test)"
   ]
  },
  {
   "cell_type": "code",
   "execution_count": 72,
   "metadata": {},
   "outputs": [],
   "source": [
    "# Evaluation Matrix for Train\n",
    "y_trainXGB_sm = modelXGB_sm.predict(x_train_sm)\n",
    "\n",
    "acc_trainXGB_sm = accuracy_score(y_train_sm, y_trainXGB_sm)\n",
    "prec_trainXGB_sm = precision_score(y_train_sm, y_trainXGB_sm)\n",
    "rec_trainXGB_sm = recall_score(y_train_sm, y_trainXGB_sm)\n",
    "f1_trainXGB_sm =f1_score(y_train_sm, y_trainXGB_sm)"
   ]
  },
  {
   "cell_type": "code",
   "execution_count": 73,
   "metadata": {},
   "outputs": [
    {
     "name": "stdout",
     "output_type": "stream",
     "text": [
      "              precision    recall  f1-score   support\n",
      "\n",
      "           0       0.95      0.93      0.94      2286\n",
      "           1       0.83      0.87      0.85       875\n",
      "\n",
      "    accuracy                           0.91      3161\n",
      "   macro avg       0.89      0.90      0.90      3161\n",
      "weighted avg       0.92      0.91      0.92      3161\n",
      "\n"
     ]
    }
   ],
   "source": [
    "# Evaluation Matrix for Testing\n",
    "acc_XGB_sm = accuracy_score(y_test, y_predXGB_sm)\n",
    "prec_XGB_sm = precision_score(y_test, y_predXGB_sm)\n",
    "rec_XGB_sm = recall_score(y_test, y_predXGB_sm)\n",
    "f1_XGB_sm =f1_score(y_test, y_predXGB_sm)\n",
    "\n",
    "print(classification_report(y_test, y_predXGB_sm))"
   ]
  },
  {
   "cell_type": "code",
   "execution_count": 74,
   "metadata": {},
   "outputs": [
    {
     "data": {
      "text/html": [
       "<div>\n",
       "<style scoped>\n",
       "    .dataframe tbody tr th:only-of-type {\n",
       "        vertical-align: middle;\n",
       "    }\n",
       "\n",
       "    .dataframe tbody tr th {\n",
       "        vertical-align: top;\n",
       "    }\n",
       "\n",
       "    .dataframe thead th {\n",
       "        text-align: right;\n",
       "    }\n",
       "</style>\n",
       "<table border=\"1\" class=\"dataframe\">\n",
       "  <thead>\n",
       "    <tr style=\"text-align: right;\">\n",
       "      <th></th>\n",
       "      <th>Training</th>\n",
       "      <th>Testing</th>\n",
       "    </tr>\n",
       "  </thead>\n",
       "  <tbody>\n",
       "    <tr>\n",
       "      <th>Accuracy</th>\n",
       "      <td>0.963192</td>\n",
       "      <td>0.914900</td>\n",
       "    </tr>\n",
       "    <tr>\n",
       "      <th>Precision</th>\n",
       "      <td>0.959822</td>\n",
       "      <td>0.828633</td>\n",
       "    </tr>\n",
       "    <tr>\n",
       "      <th>Recall</th>\n",
       "      <td>0.966856</td>\n",
       "      <td>0.873143</td>\n",
       "    </tr>\n",
       "    <tr>\n",
       "      <th>F1-score</th>\n",
       "      <td>0.963326</td>\n",
       "      <td>0.850306</td>\n",
       "    </tr>\n",
       "  </tbody>\n",
       "</table>\n",
       "</div>"
      ],
      "text/plain": [
       "           Training   Testing\n",
       "Accuracy   0.963192  0.914900\n",
       "Precision  0.959822  0.828633\n",
       "Recall     0.966856  0.873143\n",
       "F1-score   0.963326  0.850306"
      ]
     },
     "execution_count": 74,
     "metadata": {},
     "output_type": "execute_result"
    }
   ],
   "source": [
    "XGB_sm = {\n",
    "    'Training':[acc_trainXGB_sm, prec_trainXGB_sm, rec_trainXGB_sm, f1_trainXGB_sm],\n",
    "    'Testing':[acc_XGB_sm, prec_XGB_sm, rec_XGB_sm, f1_XGB_sm]\n",
    "}\n",
    "pd.DataFrame(data=XGB_sm, index=['Accuracy','Precision','Recall','F1-score'])"
   ]
  },
  {
   "cell_type": "code",
   "execution_count": 75,
   "metadata": {},
   "outputs": [
    {
     "data": {
      "text/html": [
       "<div>\n",
       "<style scoped>\n",
       "    .dataframe tbody tr th:only-of-type {\n",
       "        vertical-align: middle;\n",
       "    }\n",
       "\n",
       "    .dataframe tbody tr th {\n",
       "        vertical-align: top;\n",
       "    }\n",
       "\n",
       "    .dataframe thead th {\n",
       "        text-align: right;\n",
       "    }\n",
       "</style>\n",
       "<table border=\"1\" class=\"dataframe\">\n",
       "  <thead>\n",
       "    <tr style=\"text-align: right;\">\n",
       "      <th></th>\n",
       "      <th>Pred 1</th>\n",
       "      <th>Pred 0</th>\n",
       "    </tr>\n",
       "  </thead>\n",
       "  <tbody>\n",
       "    <tr>\n",
       "      <th>Akt 1</th>\n",
       "      <td>764</td>\n",
       "      <td>111</td>\n",
       "    </tr>\n",
       "    <tr>\n",
       "      <th>Akt 0</th>\n",
       "      <td>158</td>\n",
       "      <td>2128</td>\n",
       "    </tr>\n",
       "  </tbody>\n",
       "</table>\n",
       "</div>"
      ],
      "text/plain": [
       "       Pred 1  Pred 0\n",
       "Akt 1     764     111\n",
       "Akt 0     158    2128"
      ]
     },
     "execution_count": 75,
     "metadata": {},
     "output_type": "execute_result"
    }
   ],
   "source": [
    "cm_XGB_sm = confusion_matrix(y_test, y_predXGB_sm, labels=[1,0])\n",
    "df_cm_XGB_sm = pd.DataFrame(data=cm_XGB_sm, columns=['Pred 1', 'Pred 0'], index=['Akt 1', 'Akt 0'])\n",
    "df_cm_XGB_sm"
   ]
  },
  {
   "cell_type": "code",
   "execution_count": 76,
   "metadata": {},
   "outputs": [
    {
     "data": {
      "text/plain": [
       "<matplotlib.axes._subplots.AxesSubplot at 0x1c070572250>"
      ]
     },
     "execution_count": 76,
     "metadata": {},
     "output_type": "execute_result"
    },
    {
     "data": {
      "image/png": "[encoded data removed]",
      "text/plain": [
       "<Figure size 432x288 with 2 Axes>"
      ]
     },
     "metadata": {
      "needs_background": "light"
     },
     "output_type": "display_data"
    }
   ],
   "source": [
    "sns.heatmap(df_cm_XGB_sm, annot=True, fmt='g')"
   ]
  },
  {
   "cell_type": "markdown",
   "metadata": {},
   "source": [
    "#### B. Hyper Parameter Tuning"
   ]
  },
  {
   "cell_type": "markdown",
   "metadata": {},
   "source": [
    "#### 1. Decision Tree Tuning"
   ]
  },
  {
   "cell_type": "code",
   "execution_count": 47,
   "metadata": {},
   "outputs": [],
   "source": [
    "from sklearn.tree import DecisionTreeClassifier"
   ]
  },
  {
   "cell_type": "code",
   "execution_count": 48,
   "metadata": {},
   "outputs": [],
   "source": [
    "DT_tuned = DecisionTreeClassifier()\n",
    "param_DT = {'max_depth':[None, 10, 8],\n",
    "           'min_samples_split':[2,50,72],\n",
    "           'min_samples_leaf':[1,25,36],\n",
    "           'max_features':[None, .4, .3]}"
   ]
  },
  {
   "cell_type": "code",
   "execution_count": 49,
   "metadata": {},
   "outputs": [],
   "source": [
    "model_DT = GridSearchCV(estimator=DT_tuned, param_grid=param_DT,\n",
    "                       cv=3,\n",
    "                       n_jobs=-1,\n",
    "                        verbose=1,\n",
    "                        scoring='recall'\n",
    "                       )"
   ]
  },
  {
   "cell_type": "code",
   "execution_count": 50,
   "metadata": {},
   "outputs": [
    {
     "name": "stdout",
     "output_type": "stream",
     "text": [
      "Fitting 3 folds for each of 81 candidates, totalling 243 fits\n"
     ]
    },
    {
     "name": "stderr",
     "output_type": "stream",
     "text": [
      "[Parallel(n_jobs=-1)]: Using backend LokyBackend with 8 concurrent workers.\n",
      "[Parallel(n_jobs=-1)]: Done  52 tasks      | elapsed:    0.4s\n",
      "[Parallel(n_jobs=-1)]: Done 243 out of 243 | elapsed:    1.4s finished\n"
     ]
    },
    {
     "data": {
      "text/plain": [
       "GridSearchCV(cv=3, error_score=nan,\n",
       "             estimator=DecisionTreeClassifier(ccp_alpha=0.0, class_weight=None,\n",
       "                                              criterion='gini', max_depth=None,\n",
       "                                              max_features=None,\n",
       "                                              max_leaf_nodes=None,\n",
       "                                              min_impurity_decrease=0.0,\n",
       "                                              min_impurity_split=None,\n",
       "                                              min_samples_leaf=1,\n",
       "                                              min_samples_split=2,\n",
       "                                              min_weight_fraction_leaf=0.0,\n",
       "                                              presort='deprecated',\n",
       "                                              random_state=None,\n",
       "                                              splitter='best'),\n",
       "             iid='deprecated', n_jobs=-1,\n",
       "             param_grid={'max_depth': [None, 10, 8],\n",
       "                         'max_features': [None, 0.4, 0.3],\n",
       "                         'min_samples_leaf': [1, 25, 36],\n",
       "                         'min_samples_split': [2, 50, 72]},\n",
       "             pre_dispatch='2*n_jobs', refit=True, return_train_score=False,\n",
       "             scoring='recall', verbose=1)"
      ]
     },
     "execution_count": 50,
     "metadata": {},
     "output_type": "execute_result"
    }
   ],
   "source": [
    "model_DT.fit(x_train_sm, y_train_sm)"
   ]
  },
  {
   "cell_type": "code",
   "execution_count": 51,
   "metadata": {},
   "outputs": [
    {
     "data": {
      "text/plain": [
       "DecisionTreeClassifier(ccp_alpha=0.0, class_weight=None, criterion='gini',\n",
       "                       max_depth=8, max_features=None, max_leaf_nodes=None,\n",
       "                       min_impurity_decrease=0.0, min_impurity_split=None,\n",
       "                       min_samples_leaf=1, min_samples_split=2,\n",
       "                       min_weight_fraction_leaf=0.0, presort='deprecated',\n",
       "                       random_state=None, splitter='best')"
      ]
     },
     "execution_count": 51,
     "metadata": {},
     "output_type": "execute_result"
    }
   ],
   "source": [
    "DT_tuned = model_DT.best_estimator_\n",
    "DT_tuned"
   ]
  },
  {
   "cell_type": "code",
   "execution_count": 52,
   "metadata": {},
   "outputs": [],
   "source": [
    "y_tunedDT = DT_tuned.predict(x_test)"
   ]
  },
  {
   "cell_type": "code",
   "execution_count": 53,
   "metadata": {},
   "outputs": [],
   "source": [
    "# Evaluation Matrix for Train\n",
    "y_trainDT_sm_tuned = DT_tuned.predict(x_train_sm)\n",
    "\n",
    "acc_trainDT_sm_tuned = accuracy_score(y_train_sm, y_trainDT_sm_tuned)\n",
    "prec_trainDT_sm_tuned = precision_score(y_train_sm, y_trainDT_sm_tuned)\n",
    "rec_trainDT_sm_tuned = recall_score(y_train_sm, y_trainDT_sm_tuned)\n",
    "f1_trainDT_sm_tuned =f1_score(y_train_sm, y_trainDT_sm_tuned)"
   ]
  },
  {
   "cell_type": "code",
   "execution_count": 54,
   "metadata": {},
   "outputs": [
    {
     "name": "stdout",
     "output_type": "stream",
     "text": [
      "              precision    recall  f1-score   support\n",
      "\n",
      "           0       0.96      0.86      0.91      2286\n",
      "           1       0.71      0.91      0.80       875\n",
      "\n",
      "    accuracy                           0.87      3161\n",
      "   macro avg       0.83      0.88      0.85      3161\n",
      "weighted avg       0.89      0.87      0.87      3161\n",
      "\n"
     ]
    }
   ],
   "source": [
    "# Evaluation MAtix for Testing\n",
    "acc_DT_tuned = accuracy_score(y_test, y_tunedDT)\n",
    "prec_DT_tuned = precision_score(y_test, y_tunedDT)\n",
    "rec_DT_tuned = recall_score(y_test, y_tunedDT)\n",
    "f1_DT_tuned =f1_score(y_test, y_tunedDT)\n",
    "\n",
    "print(classification_report(y_test, y_tunedDT))"
   ]
  },
  {
   "cell_type": "code",
   "execution_count": 55,
   "metadata": {},
   "outputs": [
    {
     "data": {
      "text/html": [
       "<div>\n",
       "<style scoped>\n",
       "    .dataframe tbody tr th:only-of-type {\n",
       "        vertical-align: middle;\n",
       "    }\n",
       "\n",
       "    .dataframe tbody tr th {\n",
       "        vertical-align: top;\n",
       "    }\n",
       "\n",
       "    .dataframe thead th {\n",
       "        text-align: right;\n",
       "    }\n",
       "</style>\n",
       "<table border=\"1\" class=\"dataframe\">\n",
       "  <thead>\n",
       "    <tr style=\"text-align: right;\">\n",
       "      <th></th>\n",
       "      <th>Training</th>\n",
       "      <th>Testing</th>\n",
       "    </tr>\n",
       "  </thead>\n",
       "  <tbody>\n",
       "    <tr>\n",
       "      <th>Accuracy</th>\n",
       "      <td>0.915773</td>\n",
       "      <td>0.870611</td>\n",
       "    </tr>\n",
       "    <tr>\n",
       "      <th>Precision</th>\n",
       "      <td>0.888889</td>\n",
       "      <td>0.706560</td>\n",
       "    </tr>\n",
       "    <tr>\n",
       "      <th>Recall</th>\n",
       "      <td>0.950339</td>\n",
       "      <td>0.910857</td>\n",
       "    </tr>\n",
       "    <tr>\n",
       "      <th>F1-score</th>\n",
       "      <td>0.918587</td>\n",
       "      <td>0.795806</td>\n",
       "    </tr>\n",
       "  </tbody>\n",
       "</table>\n",
       "</div>"
      ],
      "text/plain": [
       "           Training   Testing\n",
       "Accuracy   0.915773  0.870611\n",
       "Precision  0.888889  0.706560\n",
       "Recall     0.950339  0.910857\n",
       "F1-score   0.918587  0.795806"
      ]
     },
     "execution_count": 55,
     "metadata": {},
     "output_type": "execute_result"
    }
   ],
   "source": [
    "EvaDT_tuned = {\n",
    "    'Training':[acc_trainDT_sm_tuned, prec_trainDT_sm_tuned, rec_trainDT_sm_tuned, f1_trainDT_sm_tuned],\n",
    "    'Testing':[acc_DT_tuned, prec_DT_tuned, rec_DT_tuned, f1_DT_tuned]\n",
    "}\n",
    "pd.DataFrame(data=EvaDT_tuned, index=['Accuracy','Precision','Recall','F1-score'])"
   ]
  },
  {
   "cell_type": "code",
   "execution_count": 56,
   "metadata": {},
   "outputs": [
    {
     "data": {
      "text/html": [
       "<div>\n",
       "<style scoped>\n",
       "    .dataframe tbody tr th:only-of-type {\n",
       "        vertical-align: middle;\n",
       "    }\n",
       "\n",
       "    .dataframe tbody tr th {\n",
       "        vertical-align: top;\n",
       "    }\n",
       "\n",
       "    .dataframe thead th {\n",
       "        text-align: right;\n",
       "    }\n",
       "</style>\n",
       "<table border=\"1\" class=\"dataframe\">\n",
       "  <thead>\n",
       "    <tr style=\"text-align: right;\">\n",
       "      <th></th>\n",
       "      <th>Pred 1</th>\n",
       "      <th>Pred 0</th>\n",
       "    </tr>\n",
       "  </thead>\n",
       "  <tbody>\n",
       "    <tr>\n",
       "      <th>Akt 1</th>\n",
       "      <td>797</td>\n",
       "      <td>78</td>\n",
       "    </tr>\n",
       "    <tr>\n",
       "      <th>Akt 0</th>\n",
       "      <td>331</td>\n",
       "      <td>1955</td>\n",
       "    </tr>\n",
       "  </tbody>\n",
       "</table>\n",
       "</div>"
      ],
      "text/plain": [
       "       Pred 1  Pred 0\n",
       "Akt 1     797      78\n",
       "Akt 0     331    1955"
      ]
     },
     "execution_count": 56,
     "metadata": {},
     "output_type": "execute_result"
    }
   ],
   "source": [
    "cm_DT_tuned = confusion_matrix(y_test, y_tunedDT, labels=[1,0])\n",
    "df_cm_DT_tuned = pd.DataFrame(data=cm_DT_tuned, columns=['Pred 1', 'Pred 0'], index=['Akt 1', 'Akt 0'])\n",
    "df_cm_DT_tuned"
   ]
  },
  {
   "cell_type": "code",
   "execution_count": 57,
   "metadata": {},
   "outputs": [
    {
     "data": {
      "text/plain": [
       "<matplotlib.axes._subplots.AxesSubplot at 0x1c0702349a0>"
      ]
     },
     "execution_count": 57,
     "metadata": {},
     "output_type": "execute_result"
    },
    {
     "data": {
      "image/png": "[encoded data removed]",
      "text/plain": [
       "<Figure size 432x288 with 2 Axes>"
      ]
     },
     "metadata": {
      "needs_background": "light"
     },
     "output_type": "display_data"
    }
   ],
   "source": [
    "sns.heatmap(df_cm_DT_tuned, annot=True, fmt='g')"
   ]
  },
  {
   "cell_type": "code",
   "execution_count": 74,
   "metadata": {},
   "outputs": [
    {
     "data": {
      "text/plain": [
       "['ModelSBA_DT_tuned_sm_sample']"
      ]
     },
     "execution_count": 74,
     "metadata": {},
     "output_type": "execute_result"
    }
   ],
   "source": [
    "import joblib\n",
    "joblib.dump(DT_tuned, 'ModelSBA_DT_tuned_sm_sample')"
   ]
  },
  {
   "cell_type": "markdown",
   "metadata": {},
   "source": [
    "#### 2. Random Forest Tuning"
   ]
  },
  {
   "cell_type": "code",
   "execution_count": 79,
   "metadata": {},
   "outputs": [],
   "source": [
    "from sklearn.ensemble import RandomForestClassifier"
   ]
  },
  {
   "cell_type": "code",
   "execution_count": 80,
   "metadata": {},
   "outputs": [],
   "source": [
    "RF = RandomForestClassifier()\n",
    "\n",
    "param_RF = {'n_estimators': [100, 500],\n",
    "           'max_depth':[None, 15],\n",
    "           'min_samples_split':[2,82],\n",
    "           'min_samples_leaf':[1,41],\n",
    "           'max_features':[None,.4]}"
   ]
  },
  {
   "cell_type": "code",
   "execution_count": 81,
   "metadata": {},
   "outputs": [],
   "source": [
    "model_RF = GridSearchCV(estimator=RF, param_grid=param_RF ,cv=3, n_jobs=-1, verbose=1, scoring='recall')"
   ]
  },
  {
   "cell_type": "code",
   "execution_count": 82,
   "metadata": {},
   "outputs": [
    {
     "name": "stdout",
     "output_type": "stream",
     "text": [
      "Fitting 3 folds for each of 32 candidates, totalling 96 fits\n"
     ]
    },
    {
     "name": "stderr",
     "output_type": "stream",
     "text": [
      "[Parallel(n_jobs=-1)]: Using backend LokyBackend with 8 concurrent workers.\n",
      "[Parallel(n_jobs=-1)]: Done  34 tasks      | elapsed:   36.1s\n",
      "[Parallel(n_jobs=-1)]: Done  96 out of  96 | elapsed:  1.7min finished\n"
     ]
    },
    {
     "data": {
      "text/plain": [
       "GridSearchCV(cv=3, error_score=nan,\n",
       "             estimator=RandomForestClassifier(bootstrap=True, ccp_alpha=0.0,\n",
       "                                              class_weight=None,\n",
       "                                              criterion='gini', max_depth=None,\n",
       "                                              max_features='auto',\n",
       "                                              max_leaf_nodes=None,\n",
       "                                              max_samples=None,\n",
       "                                              min_impurity_decrease=0.0,\n",
       "                                              min_impurity_split=None,\n",
       "                                              min_samples_leaf=1,\n",
       "                                              min_samples_split=2,\n",
       "                                              min_weight_fraction_leaf=0.0,\n",
       "                                              n_estimators=100, n_jobs=None,\n",
       "                                              oob_score=False,\n",
       "                                              random_state=None, verbose=0,\n",
       "                                              warm_start=False),\n",
       "             iid='deprecated', n_jobs=-1,\n",
       "             param_grid={'max_depth': [None, 15], 'max_features': [None, 0.4],\n",
       "                         'min_samples_leaf': [1, 41],\n",
       "                         'min_samples_split': [2, 82],\n",
       "                         'n_estimators': [100, 500]},\n",
       "             pre_dispatch='2*n_jobs', refit=True, return_train_score=False,\n",
       "             scoring='recall', verbose=1)"
      ]
     },
     "execution_count": 82,
     "metadata": {},
     "output_type": "execute_result"
    }
   ],
   "source": [
    "model_RF.fit(x_train_sm, y_train_sm)"
   ]
  },
  {
   "cell_type": "code",
   "execution_count": 83,
   "metadata": {},
   "outputs": [
    {
     "data": {
      "text/plain": [
       "RandomForestClassifier(bootstrap=True, ccp_alpha=0.0, class_weight=None,\n",
       "                       criterion='gini', max_depth=None, max_features=None,\n",
       "                       max_leaf_nodes=None, max_samples=None,\n",
       "                       min_impurity_decrease=0.0, min_impurity_split=None,\n",
       "                       min_samples_leaf=41, min_samples_split=2,\n",
       "                       min_weight_fraction_leaf=0.0, n_estimators=100,\n",
       "                       n_jobs=None, oob_score=False, random_state=None,\n",
       "                       verbose=0, warm_start=False)"
      ]
     },
     "execution_count": 83,
     "metadata": {},
     "output_type": "execute_result"
    }
   ],
   "source": [
    "RF_tuned = model_RF.best_estimator_\n",
    "RF_tuned"
   ]
  },
  {
   "cell_type": "code",
   "execution_count": 84,
   "metadata": {},
   "outputs": [],
   "source": [
    "y_predRF_sm_tuned = RF_tuned.predict(x_test)"
   ]
  },
  {
   "cell_type": "code",
   "execution_count": 85,
   "metadata": {},
   "outputs": [],
   "source": [
    "# Evaluation Matrix for Train\n",
    "y_trainRF_sm_tuned = RF_tuned.predict(x_train_sm)\n",
    "\n",
    "acc_trainRF_sm_tuned = accuracy_score(y_train_sm, y_trainRF_sm_tuned)\n",
    "prec_trainRF_sm_tuned = precision_score(y_train_sm, y_trainRF_sm_tuned)\n",
    "rec_trainRF_sm_tuned = recall_score(y_train_sm, y_trainRF_sm_tuned)\n",
    "f1_trainRF_sm_tuned =f1_score(y_train_sm, y_trainRF_sm_tuned)"
   ]
  },
  {
   "cell_type": "code",
   "execution_count": 86,
   "metadata": {},
   "outputs": [
    {
     "name": "stdout",
     "output_type": "stream",
     "text": [
      "              precision    recall  f1-score   support\n",
      "\n",
      "           0       0.97      0.86      0.91      2286\n",
      "           1       0.71      0.93      0.81       875\n",
      "\n",
      "    accuracy                           0.88      3161\n",
      "   macro avg       0.84      0.89      0.86      3161\n",
      "weighted avg       0.90      0.88      0.88      3161\n",
      "\n"
     ]
    }
   ],
   "source": [
    "# Evaluation Matrix for Testing\n",
    "acc_RF_sm_tuned = accuracy_score(y_test, y_predRF_sm_tuned)\n",
    "prec_RF_sm_tuned = precision_score(y_test, y_predRF_sm_tuned)\n",
    "rec_RF_sm_tuned = recall_score(y_test, y_predRF_sm_tuned)\n",
    "f1_RF_sm_tuned =f1_score(y_test, y_predRF_sm_tuned)\n",
    "\n",
    "print(classification_report(y_test, y_predRF_sm_tuned))"
   ]
  },
  {
   "cell_type": "code",
   "execution_count": 87,
   "metadata": {},
   "outputs": [
    {
     "data": {
      "text/html": [
       "<div>\n",
       "<style scoped>\n",
       "    .dataframe tbody tr th:only-of-type {\n",
       "        vertical-align: middle;\n",
       "    }\n",
       "\n",
       "    .dataframe tbody tr th {\n",
       "        vertical-align: top;\n",
       "    }\n",
       "\n",
       "    .dataframe thead th {\n",
       "        text-align: right;\n",
       "    }\n",
       "</style>\n",
       "<table border=\"1\" class=\"dataframe\">\n",
       "  <thead>\n",
       "    <tr style=\"text-align: right;\">\n",
       "      <th></th>\n",
       "      <th>Training</th>\n",
       "      <th>Testing</th>\n",
       "    </tr>\n",
       "  </thead>\n",
       "  <tbody>\n",
       "    <tr>\n",
       "      <th>Accuracy</th>\n",
       "      <td>0.906202</td>\n",
       "      <td>0.877887</td>\n",
       "    </tr>\n",
       "    <tr>\n",
       "      <th>Precision</th>\n",
       "      <td>0.875215</td>\n",
       "      <td>0.714662</td>\n",
       "    </tr>\n",
       "    <tr>\n",
       "      <th>Recall</th>\n",
       "      <td>0.947495</td>\n",
       "      <td>0.930286</td>\n",
       "    </tr>\n",
       "    <tr>\n",
       "      <th>F1-score</th>\n",
       "      <td>0.909922</td>\n",
       "      <td>0.808342</td>\n",
       "    </tr>\n",
       "  </tbody>\n",
       "</table>\n",
       "</div>"
      ],
      "text/plain": [
       "           Training   Testing\n",
       "Accuracy   0.906202  0.877887\n",
       "Precision  0.875215  0.714662\n",
       "Recall     0.947495  0.930286\n",
       "F1-score   0.909922  0.808342"
      ]
     },
     "execution_count": 87,
     "metadata": {},
     "output_type": "execute_result"
    }
   ],
   "source": [
    "RF_tuned_eva = {\n",
    "    'Training':[acc_trainRF_sm_tuned, prec_trainRF_sm_tuned, rec_trainRF_sm_tuned, f1_trainRF_sm_tuned],\n",
    "    'Testing':[acc_RF_sm_tuned, prec_RF_sm_tuned, rec_RF_sm_tuned, f1_RF_sm_tuned]\n",
    "}\n",
    "pd.DataFrame(data=RF_tuned_eva, index=['Accuracy','Precision','Recall','F1-score'])"
   ]
  },
  {
   "cell_type": "code",
   "execution_count": 88,
   "metadata": {},
   "outputs": [
    {
     "data": {
      "text/html": [
       "<div>\n",
       "<style scoped>\n",
       "    .dataframe tbody tr th:only-of-type {\n",
       "        vertical-align: middle;\n",
       "    }\n",
       "\n",
       "    .dataframe tbody tr th {\n",
       "        vertical-align: top;\n",
       "    }\n",
       "\n",
       "    .dataframe thead th {\n",
       "        text-align: right;\n",
       "    }\n",
       "</style>\n",
       "<table border=\"1\" class=\"dataframe\">\n",
       "  <thead>\n",
       "    <tr style=\"text-align: right;\">\n",
       "      <th></th>\n",
       "      <th>Pred 1</th>\n",
       "      <th>Pred 0</th>\n",
       "    </tr>\n",
       "  </thead>\n",
       "  <tbody>\n",
       "    <tr>\n",
       "      <th>Akt 1</th>\n",
       "      <td>814</td>\n",
       "      <td>61</td>\n",
       "    </tr>\n",
       "    <tr>\n",
       "      <th>Akt 0</th>\n",
       "      <td>325</td>\n",
       "      <td>1961</td>\n",
       "    </tr>\n",
       "  </tbody>\n",
       "</table>\n",
       "</div>"
      ],
      "text/plain": [
       "       Pred 1  Pred 0\n",
       "Akt 1     814      61\n",
       "Akt 0     325    1961"
      ]
     },
     "execution_count": 88,
     "metadata": {},
     "output_type": "execute_result"
    }
   ],
   "source": [
    "cm_RF_sm_tuned = confusion_matrix(y_test, y_predRF_sm_tuned, labels=[1,0])\n",
    "df_cm_RF_sm_tuned = pd.DataFrame(data=cm_RF_sm_tuned, columns=['Pred 1', 'Pred 0'], index=['Akt 1', 'Akt 0'])\n",
    "df_cm_RF_sm_tuned"
   ]
  },
  {
   "cell_type": "code",
   "execution_count": 89,
   "metadata": {},
   "outputs": [
    {
     "data": {
      "text/plain": [
       "<matplotlib.axes._subplots.AxesSubplot at 0x1c0708afb50>"
      ]
     },
     "execution_count": 89,
     "metadata": {},
     "output_type": "execute_result"
    },
    {
     "data": {
      "image/png": "[encoded data removed]",
      "text/plain": [
       "<Figure size 432x288 with 2 Axes>"
      ]
     },
     "metadata": {
      "needs_background": "light"
     },
     "output_type": "display_data"
    }
   ],
   "source": [
    "sns.heatmap(df_cm_RF_sm_tuned, annot=True, fmt='g')"
   ]
  },
  {
   "cell_type": "code",
   "execution_count": 90,
   "metadata": {},
   "outputs": [
    {
     "data": {
      "text/plain": [
       "['ModelSBA_RF_tuned_sm_sample']"
      ]
     },
     "execution_count": 90,
     "metadata": {},
     "output_type": "execute_result"
    }
   ],
   "source": [
    "import joblib\n",
    "joblib.dump(RF_tuned, 'ModelSBA_RF_tuned_sm_sample')"
   ]
  },
  {
   "cell_type": "markdown",
   "metadata": {},
   "source": [
    "#### XGBoost Tuning"
   ]
  },
  {
   "cell_type": "code",
   "execution_count": 37,
   "metadata": {},
   "outputs": [],
   "source": [
    "from xgboost import XGBClassifier"
   ]
  },
  {
   "cell_type": "code",
   "execution_count": 38,
   "metadata": {},
   "outputs": [],
   "source": [
    "XGB_sm = XGBClassifier()\n",
    "\n",
    "param_XGB = {'n_estimators': [100, 500],\n",
    "           'max_depth':[None, 15],\n",
    "           'learning_rate':[0.1, 0.4],\n",
    "           'colsample_bytree':[None,.3]}"
   ]
  },
  {
   "cell_type": "code",
   "execution_count": 39,
   "metadata": {},
   "outputs": [],
   "source": [
    "model_XGB = GridSearchCV(estimator=XGB_sm, param_grid=param_XGB, cv=3, n_jobs=-1, verbose=1, scoring='recall')"
   ]
  },
  {
   "cell_type": "code",
   "execution_count": 40,
   "metadata": {},
   "outputs": [
    {
     "name": "stdout",
     "output_type": "stream",
     "text": [
      "Fitting 3 folds for each of 16 candidates, totalling 48 fits\n"
     ]
    },
    {
     "name": "stderr",
     "output_type": "stream",
     "text": [
      "[Parallel(n_jobs=-1)]: Using backend LokyBackend with 8 concurrent workers.\n",
      "[Parallel(n_jobs=-1)]: Done  48 out of  48 | elapsed:   55.1s finished\n"
     ]
    },
    {
     "data": {
      "text/plain": [
       "GridSearchCV(cv=3, error_score=nan,\n",
       "             estimator=XGBClassifier(base_score=None, booster=None,\n",
       "                                     colsample_bylevel=None,\n",
       "                                     colsample_bynode=None,\n",
       "                                     colsample_bytree=None, gamma=None,\n",
       "                                     gpu_id=None, importance_type='gain',\n",
       "                                     interaction_constraints=None,\n",
       "                                     learning_rate=None, max_delta_step=None,\n",
       "                                     max_depth=None, min_child_weight=None,\n",
       "                                     missing=nan, monotone_constraints=None,\n",
       "                                     n_estim...\n",
       "                                     random_state=None, reg_alpha=None,\n",
       "                                     reg_lambda=None, scale_pos_weight=None,\n",
       "                                     subsample=None, tree_method=None,\n",
       "                                     validate_parameters=None, verbosity=None),\n",
       "             iid='deprecated', n_jobs=-1,\n",
       "             param_grid={'colsample_bytree': [None, 0.3],\n",
       "                         'learning_rate': [0.1, 0.4], 'max_depth': [None, 15],\n",
       "                         'n_estimators': [100, 500]},\n",
       "             pre_dispatch='2*n_jobs', refit=True, return_train_score=False,\n",
       "             scoring='recall', verbose=1)"
      ]
     },
     "execution_count": 40,
     "metadata": {},
     "output_type": "execute_result"
    }
   ],
   "source": [
    "model_XGB.fit(x_train_sm, y_train_sm)"
   ]
  },
  {
   "cell_type": "code",
   "execution_count": 41,
   "metadata": {},
   "outputs": [
    {
     "data": {
      "text/plain": [
       "XGBClassifier(base_score=0.5, booster='gbtree', colsample_bylevel=1,\n",
       "              colsample_bynode=1, colsample_bytree=0.3, gamma=0, gpu_id=-1,\n",
       "              importance_type='gain', interaction_constraints='',\n",
       "              learning_rate=0.1, max_delta_step=0, max_depth=15,\n",
       "              min_child_weight=1, missing=nan, monotone_constraints='()',\n",
       "              n_estimators=100, n_jobs=0, num_parallel_tree=1,\n",
       "              objective='binary:logistic', random_state=0, reg_alpha=0,\n",
       "              reg_lambda=1, scale_pos_weight=1, subsample=1,\n",
       "              tree_method='exact', validate_parameters=1, verbosity=None)"
      ]
     },
     "execution_count": 41,
     "metadata": {},
     "output_type": "execute_result"
    }
   ],
   "source": [
    "XGB_tuned = model_XGB.best_estimator_\n",
    "XGB_tuned"
   ]
  },
  {
   "cell_type": "code",
   "execution_count": 42,
   "metadata": {},
   "outputs": [],
   "source": [
    "y_predXGB_sm_tuned = XGB_tuned.predict(x_test)"
   ]
  },
  {
   "cell_type": "code",
   "execution_count": 43,
   "metadata": {},
   "outputs": [],
   "source": [
    "# Evaluation Matrix for Train\n",
    "y_trainXGB_sm_tuned = XGB_tuned.predict(x_train_sm)\n",
    "\n",
    "acc_trainXGB_sm_tuned = accuracy_score(y_train_sm, y_trainXGB_sm_tuned)\n",
    "prec_trainXGB_sm_tuned = precision_score(y_train_sm, y_trainXGB_sm_tuned)\n",
    "rec_trainXGB_sm_tuned = recall_score(y_train_sm, y_trainXGB_sm_tuned)\n",
    "f1_trainXGB_sm_tuned =f1_score(y_train_sm, y_trainXGB_sm_tuned)"
   ]
  },
  {
   "cell_type": "code",
   "execution_count": 44,
   "metadata": {},
   "outputs": [
    {
     "name": "stdout",
     "output_type": "stream",
     "text": [
      "              precision    recall  f1-score   support\n",
      "\n",
      "           0       0.96      0.93      0.94      2286\n",
      "           1       0.82      0.89      0.85       875\n",
      "\n",
      "    accuracy                           0.92      3161\n",
      "   macro avg       0.89      0.91      0.90      3161\n",
      "weighted avg       0.92      0.92      0.92      3161\n",
      "\n"
     ]
    }
   ],
   "source": [
    "# Evaluation Matrix for Testing\n",
    "acc_XGB_tuned = accuracy_score(y_test, y_predXGB_sm_tuned)\n",
    "prec_XGB_tuned = precision_score(y_test, y_predXGB_sm_tuned)\n",
    "rec_XGB_tuned = recall_score(y_test, y_predXGB_sm_tuned)\n",
    "f1_XGB_tuned =f1_score(y_test, y_predXGB_sm_tuned)\n",
    "\n",
    "print(classification_report(y_test, y_predXGB_sm_tuned))"
   ]
  },
  {
   "cell_type": "code",
   "execution_count": 45,
   "metadata": {},
   "outputs": [
    {
     "data": {
      "text/html": [
       "<div>\n",
       "<style scoped>\n",
       "    .dataframe tbody tr th:only-of-type {\n",
       "        vertical-align: middle;\n",
       "    }\n",
       "\n",
       "    .dataframe tbody tr th {\n",
       "        vertical-align: top;\n",
       "    }\n",
       "\n",
       "    .dataframe thead th {\n",
       "        text-align: right;\n",
       "    }\n",
       "</style>\n",
       "<table border=\"1\" class=\"dataframe\">\n",
       "  <thead>\n",
       "    <tr style=\"text-align: right;\">\n",
       "      <th></th>\n",
       "      <th>Pred 1</th>\n",
       "      <th>Pred 0</th>\n",
       "    </tr>\n",
       "  </thead>\n",
       "  <tbody>\n",
       "    <tr>\n",
       "      <th>Akt 1</th>\n",
       "      <td>778</td>\n",
       "      <td>97</td>\n",
       "    </tr>\n",
       "    <tr>\n",
       "      <th>Akt 0</th>\n",
       "      <td>167</td>\n",
       "      <td>2119</td>\n",
       "    </tr>\n",
       "  </tbody>\n",
       "</table>\n",
       "</div>"
      ],
      "text/plain": [
       "       Pred 1  Pred 0\n",
       "Akt 1     778      97\n",
       "Akt 0     167    2119"
      ]
     },
     "execution_count": 45,
     "metadata": {},
     "output_type": "execute_result"
    }
   ],
   "source": [
    "cm_XGB_sm_tuned = confusion_matrix(y_test, y_predXGB_sm_tuned, labels=[1,0])\n",
    "df_cm_XGB_sm_tuned = pd.DataFrame(data=cm_XGB_sm_tuned, columns=['Pred 1', 'Pred 0'], index=['Akt 1', 'Akt 0'])\n",
    "df_cm_XGB_sm_tuned"
   ]
  },
  {
   "cell_type": "code",
   "execution_count": 46,
   "metadata": {},
   "outputs": [
    {
     "data": {
      "text/plain": [
       "<matplotlib.axes._subplots.AxesSubplot at 0x1c070133580>"
      ]
     },
     "execution_count": 46,
     "metadata": {},
     "output_type": "execute_result"
    },
    {
     "data": {
      "image/png": "[encoded data removed]",
      "text/plain": [
       "<Figure size 432x288 with 2 Axes>"
      ]
     },
     "metadata": {
      "needs_background": "light"
     },
     "output_type": "display_data"
    }
   ],
   "source": [
    "sns.heatmap(df_cm_XGB_sm_tuned, annot=True, fmt='g')"
   ]
  },
  {
   "cell_type": "markdown",
   "metadata": {},
   "source": [
    "### Evaluation Matrix"
   ]
  },
  {
   "cell_type": "markdown",
   "metadata": {},
   "source": [
    "#### Tuning Model"
   ]
  },
  {
   "cell_type": "code",
   "execution_count": 77,
   "metadata": {},
   "outputs": [],
   "source": [
    "eva_mat = {\n",
    "    'Decision Tree':[acc_DT_sm, prec_DT_sm, rec_DT_sm, f1_DT_sm],\n",
    "    'Decision Tree Tuned':[acc_DT_tuned, prec_DT_tuned, rec_DT_tuned, f1_DT_tuned],\n",
    "    'Random Forest':[acc_RF_sm, prec_RF_sm, rec_RF_sm, f1_RF_sm],\n",
    "    'Random Forest Tuned':[acc_RF_sm_tuned, prec_RF_sm_tuned, rec_RF_sm_tuned, f1_RF_sm_tuned],\n",
    "    'XGBoost':[acc_XGB_sm, prec_XGB_sm, rec_XGB_sm, f1_XGB_sm],\n",
    "    'XGBoost tuned':[acc_XGB_tuned, prec_XGB_tuned, rec_XGB_tuned, f1_XGB_tuned]\n",
    "}"
   ]
  },
  {
   "cell_type": "code",
   "execution_count": 78,
   "metadata": {},
   "outputs": [
    {
     "data": {
      "text/html": [
       "<div>\n",
       "<style scoped>\n",
       "    .dataframe tbody tr th:only-of-type {\n",
       "        vertical-align: middle;\n",
       "    }\n",
       "\n",
       "    .dataframe tbody tr th {\n",
       "        vertical-align: top;\n",
       "    }\n",
       "\n",
       "    .dataframe thead th {\n",
       "        text-align: right;\n",
       "    }\n",
       "</style>\n",
       "<table border=\"1\" class=\"dataframe\">\n",
       "  <thead>\n",
       "    <tr style=\"text-align: right;\">\n",
       "      <th></th>\n",
       "      <th>Decision Tree</th>\n",
       "      <th>Decision Tree Tuned</th>\n",
       "      <th>Random Forest</th>\n",
       "      <th>Random Forest Tuned</th>\n",
       "      <th>XGBoost</th>\n",
       "      <th>XGBoost tuned</th>\n",
       "    </tr>\n",
       "  </thead>\n",
       "  <tbody>\n",
       "    <tr>\n",
       "      <th>Accuracy</th>\n",
       "      <td>0.868396</td>\n",
       "      <td>0.870611</td>\n",
       "      <td>0.876305</td>\n",
       "      <td>0.877570</td>\n",
       "      <td>0.914900</td>\n",
       "      <td>0.916482</td>\n",
       "    </tr>\n",
       "    <tr>\n",
       "      <th>Precision</th>\n",
       "      <td>0.748646</td>\n",
       "      <td>0.706560</td>\n",
       "      <td>0.778161</td>\n",
       "      <td>0.713660</td>\n",
       "      <td>0.828633</td>\n",
       "      <td>0.823280</td>\n",
       "    </tr>\n",
       "    <tr>\n",
       "      <th>Recall</th>\n",
       "      <td>0.789714</td>\n",
       "      <td>0.910857</td>\n",
       "      <td>0.773714</td>\n",
       "      <td>0.931429</td>\n",
       "      <td>0.873143</td>\n",
       "      <td>0.889143</td>\n",
       "    </tr>\n",
       "    <tr>\n",
       "      <th>F1-score</th>\n",
       "      <td>0.768632</td>\n",
       "      <td>0.795806</td>\n",
       "      <td>0.775931</td>\n",
       "      <td>0.808131</td>\n",
       "      <td>0.850306</td>\n",
       "      <td>0.854945</td>\n",
       "    </tr>\n",
       "  </tbody>\n",
       "</table>\n",
       "</div>"
      ],
      "text/plain": [
       "           Decision Tree  Decision Tree Tuned  Random Forest  \\\n",
       "Accuracy        0.868396             0.870611       0.876305   \n",
       "Precision       0.748646             0.706560       0.778161   \n",
       "Recall          0.789714             0.910857       0.773714   \n",
       "F1-score        0.768632             0.795806       0.775931   \n",
       "\n",
       "           Random Forest Tuned   XGBoost  XGBoost tuned  \n",
       "Accuracy              0.877570  0.914900       0.916482  \n",
       "Precision             0.713660  0.828633       0.823280  \n",
       "Recall                0.931429  0.873143       0.889143  \n",
       "F1-score              0.808131  0.850306       0.854945  "
      ]
     },
     "execution_count": 78,
     "metadata": {},
     "output_type": "execute_result"
    }
   ],
   "source": [
    "pd.DataFrame(data=eva_mat, index=['Accuracy','Precision','Recall','F1-score'])"
   ]
  },
  {
   "cell_type": "markdown",
   "metadata": {},
   "source": [
    "### Predict Proba"
   ]
  },
  {
   "cell_type": "code",
   "execution_count": 91,
   "metadata": {},
   "outputs": [],
   "source": [
    "pred_proba = RF_tuned.predict_proba(x_test)"
   ]
  },
  {
   "cell_type": "code",
   "execution_count": 92,
   "metadata": {},
   "outputs": [
    {
     "data": {
      "text/plain": [
       "array([[0.99814787, 0.00185213],\n",
       "       [0.99811242, 0.00188758],\n",
       "       [0.95116896, 0.04883104],\n",
       "       ...,\n",
       "       [0.48209044, 0.51790956],\n",
       "       [0.94128977, 0.05871023],\n",
       "       [0.93315874, 0.06684126]])"
      ]
     },
     "execution_count": 92,
     "metadata": {},
     "output_type": "execute_result"
    }
   ],
   "source": [
    "### Probability utk Masing-masing kelas\n",
    "pred_proba"
   ]
  },
  {
   "cell_type": "code",
   "execution_count": 93,
   "metadata": {},
   "outputs": [],
   "source": [
    "from sklearn.metrics import roc_auc_score, roc_curve, auc"
   ]
  },
  {
   "cell_type": "code",
   "execution_count": 94,
   "metadata": {},
   "outputs": [],
   "source": [
    "y_pred = RF_tuned.predict(x_test)"
   ]
  },
  {
   "cell_type": "code",
   "execution_count": 95,
   "metadata": {},
   "outputs": [
    {
     "data": {
      "text/plain": [
       "0.8940579927509061"
      ]
     },
     "execution_count": 95,
     "metadata": {},
     "output_type": "execute_result"
    }
   ],
   "source": [
    "roc_auc_score(y_test, y_pred)"
   ]
  },
  {
   "cell_type": "code",
   "execution_count": 96,
   "metadata": {},
   "outputs": [],
   "source": [
    "### Membuat ROC_AUC Curve\n",
    "y_proba = DT_tuned.predict_proba(x_test)\n",
    "pred_1 = y_proba[:, 1] #mengambil semua row (:) pada kolom ke 1 (positif) dari y_proba"
   ]
  },
  {
   "cell_type": "code",
   "execution_count": 97,
   "metadata": {},
   "outputs": [
    {
     "data": {
      "text/plain": [
       "(array([0.        , 0.0048119 , 0.00568679, 0.00612423, 0.04855643,\n",
       "        0.04899388, 0.05249344, 0.05336833, 0.055993  , 0.05730534,\n",
       "        0.05730534, 0.06255468, 0.06255468, 0.06342957, 0.06867892,\n",
       "        0.06867892, 0.07217848, 0.07480315, 0.07699038, 0.08136483,\n",
       "        0.08923885, 0.09055118, 0.09098863, 0.09580052, 0.1023622 ,\n",
       "        0.10411199, 0.10542432, 0.11242345, 0.11636045, 0.11854768,\n",
       "        0.12598425, 0.12685914, 0.12773403, 0.13429571, 0.1351706 ,\n",
       "        0.14085739, 0.14304462, 0.1447944 , 0.14873141, 0.15266842,\n",
       "        0.15485564, 0.17454068, 0.18022747, 0.20647419, 0.20909886,\n",
       "        0.21084864, 0.21128609, 0.21391076, 0.22265967, 0.22440945,\n",
       "        0.22790901, 0.23665792, 0.24628171, 0.24890639, 0.2519685 ,\n",
       "        0.25546807, 0.2567804 , 0.25809274, 0.26202975, 0.27427822,\n",
       "        0.28302712, 0.30664917, 0.31058618, 0.31102362, 0.31889764,\n",
       "        0.33289589, 0.34251969, 0.34951881, 0.37882765, 0.3967629 ,\n",
       "        0.4111986 , 0.41994751, 0.57786527, 0.80621172, 1.        ]),\n",
       " array([0.        , 0.02057143, 0.11314286, 0.11428571, 0.46057143,\n",
       "        0.47428571, 0.48571429, 0.48685714, 0.504     , 0.52      ,\n",
       "        0.52114286, 0.54628571, 0.54742857, 0.55771429, 0.58971429,\n",
       "        0.59657143, 0.62057143, 0.62628571, 0.64685714, 0.67085714,\n",
       "        0.72685714, 0.72685714, 0.72914286, 0.75771429, 0.80114286,\n",
       "        0.816     , 0.816     , 0.84342857, 0.85257143, 0.856     ,\n",
       "        0.86628571, 0.86971429, 0.872     , 0.87885714, 0.88457143,\n",
       "        0.89142857, 0.90171429, 0.91085714, 0.91314286, 0.91771429,\n",
       "        0.91885714, 0.936     , 0.936     , 0.94857143, 0.94857143,\n",
       "        0.94971429, 0.95085714, 0.95085714, 0.952     , 0.95314286,\n",
       "        0.95428571, 0.95428571, 0.96      , 0.96      , 0.96228571,\n",
       "        0.96228571, 0.96228571, 0.96342857, 0.96685714, 0.96685714,\n",
       "        0.96685714, 0.968     , 0.97257143, 0.97485714, 0.97485714,\n",
       "        0.97485714, 0.97828571, 0.98057143, 0.98171429, 0.98285714,\n",
       "        0.98285714, 0.98285714, 0.98514286, 0.98742857, 1.        ]),\n",
       " array([2.        , 1.        , 0.97313084, 0.97058824, 0.93597024,\n",
       "        0.93406593, 0.93367347, 0.92592593, 0.92105263, 0.91752577,\n",
       "        0.91666667, 0.90551181, 0.9       , 0.88372093, 0.88346883,\n",
       "        0.88235294, 0.87383178, 0.87341772, 0.86725664, 0.83505155,\n",
       "        0.82180851, 0.81818182, 0.8125    , 0.76351351, 0.74144487,\n",
       "        0.74038462, 0.71875   , 0.68085106, 0.66666667, 0.64516129,\n",
       "        0.64052288, 0.63829787, 0.625     , 0.61764706, 0.6       ,\n",
       "        0.59090909, 0.56      , 0.55102041, 0.5       , 0.47126437,\n",
       "        0.4084507 , 0.36328125, 0.30909091, 0.24484536, 0.23529412,\n",
       "        0.22222222, 0.2       , 0.18181818, 0.17073171, 0.16666667,\n",
       "        0.15217391, 0.15151515, 0.13333333, 0.12068966, 0.11764706,\n",
       "        0.11111111, 0.10526316, 0.1       , 0.07692308, 0.07317073,\n",
       "        0.05263158, 0.05045872, 0.04761905, 0.04347826, 0.03448276,\n",
       "        0.02362205, 0.02352941, 0.02325581, 0.02120141, 0.02116402,\n",
       "        0.01754386, 0.01219512, 0.00587851, 0.00282752, 0.        ]))"
      ]
     },
     "execution_count": 97,
     "metadata": {},
     "output_type": "execute_result"
    }
   ],
   "source": [
    "roc_curve(y_test, pred_1)\n",
    "\n",
    "#Tiga array, masing-masing array kita masukkan ke variabel (fpr, tpr, threshold)"
   ]
  },
  {
   "cell_type": "code",
   "execution_count": 98,
   "metadata": {},
   "outputs": [],
   "source": [
    "#Masukkan ke dalam 3 variabel\n",
    "fpr, tpr, threshold = roc_curve(y_test, pred_1)"
   ]
  },
  {
   "cell_type": "code",
   "execution_count": 99,
   "metadata": {},
   "outputs": [],
   "source": [
    "### AUC = Area under Curve\n",
    "### AUC paling bagus 1\n",
    "score_auc = round(auc(fpr, tpr), 2)"
   ]
  },
  {
   "cell_type": "code",
   "execution_count": 100,
   "metadata": {},
   "outputs": [
    {
     "data": {
      "image/png": "[encoded data removed]",
      "text/plain": [
       "<Figure size 432x432 with 1 Axes>"
      ]
     },
     "metadata": {
      "needs_background": "light"
     },
     "output_type": "display_data"
    }
   ],
   "source": [
    "plt.figure(figsize=(6,6))\n",
    "plt.plot(fpr, tpr, 'b', label=f\"AUC = {score_auc}\")\n",
    "plt.plot([0,1], [0,1], 'r-.') #hanya nunjukin garis tengah\n",
    "plt.xlim([0,1])\n",
    "plt.ylim([0,1])\n",
    "plt.xlabel('False Positive Rates')\n",
    "plt.ylabel('True Positive Rates')\n",
    "plt.title('Receiver Operating Characteristic')\n",
    "plt.legend()\n",
    "plt.show()"
   ]
  },
  {
   "cell_type": "code",
   "execution_count": null,
   "metadata": {},
   "outputs": [],
   "source": []
  }
 ],
 "metadata": {
  "kernelspec": {
   "display_name": "Python 3",
   "language": "python",
   "name": "python3"
  },
  "language_info": {
   "codemirror_mode": {
    "name": "ipython",
    "version": 3
   },
   "file_extension": ".py",
   "mimetype": "text/x-python",
   "name": "python",
   "nbconvert_exporter": "python",
   "pygments_lexer": "ipython3",
   "version": "3.8.3"
  }
 },
 "nbformat": 4,
 "nbformat_minor": 4
}
