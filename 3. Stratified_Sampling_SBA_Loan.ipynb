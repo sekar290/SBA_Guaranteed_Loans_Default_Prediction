{
 "cells": [
  {
   "cell_type": "code",
   "execution_count": 1,
   "metadata": {},
   "outputs": [],
   "source": [
    "# import common pakages\n",
    "import pandas as pd\n",
    "import numpy as np\n",
    "import seaborn as sns\n",
    "import warnings\n",
    "warnings.filterwarnings('ignore')\n",
    "import matplotlib.pyplot as plt\n",
    "import sidetable\n",
    "\n",
    "%matplotlib inline"
   ]
  },
  {
   "cell_type": "code",
   "execution_count": 2,
   "metadata": {},
   "outputs": [
    {
     "data": {
      "text/html": [
       "<div>\n",
       "<style scoped>\n",
       "    .dataframe tbody tr th:only-of-type {\n",
       "        vertical-align: middle;\n",
       "    }\n",
       "\n",
       "    .dataframe tbody tr th {\n",
       "        vertical-align: top;\n",
       "    }\n",
       "\n",
       "    .dataframe thead th {\n",
       "        text-align: right;\n",
       "    }\n",
       "</style>\n",
       "<table border=\"1\" class=\"dataframe\">\n",
       "  <thead>\n",
       "    <tr style=\"text-align: right;\">\n",
       "      <th></th>\n",
       "      <th>ApprovalFY</th>\n",
       "      <th>Term</th>\n",
       "      <th>NoEmp</th>\n",
       "      <th>NewExist</th>\n",
       "      <th>CreateJob</th>\n",
       "      <th>RetainedJob</th>\n",
       "      <th>UrbanRural</th>\n",
       "      <th>RevLineCr</th>\n",
       "      <th>LowDoc</th>\n",
       "      <th>DisbursementGross</th>\n",
       "      <th>MIS_Status</th>\n",
       "      <th>GrAppv</th>\n",
       "      <th>sector</th>\n",
       "      <th>isFranchise</th>\n",
       "      <th>sameState</th>\n",
       "      <th>backRealEstate</th>\n",
       "      <th>Portion</th>\n",
       "    </tr>\n",
       "  </thead>\n",
       "  <tbody>\n",
       "    <tr>\n",
       "      <th>0</th>\n",
       "      <td>2006</td>\n",
       "      <td>162</td>\n",
       "      <td>2</td>\n",
       "      <td>2.0</td>\n",
       "      <td>0</td>\n",
       "      <td>0</td>\n",
       "      <td>1</td>\n",
       "      <td>N</td>\n",
       "      <td>N</td>\n",
       "      <td>253400.0</td>\n",
       "      <td>P I F</td>\n",
       "      <td>253400.0</td>\n",
       "      <td>Retail_trade</td>\n",
       "      <td>Franchise</td>\n",
       "      <td>0</td>\n",
       "      <td>0</td>\n",
       "      <td>0.75</td>\n",
       "    </tr>\n",
       "    <tr>\n",
       "      <th>1</th>\n",
       "      <td>2006</td>\n",
       "      <td>126</td>\n",
       "      <td>7</td>\n",
       "      <td>1.0</td>\n",
       "      <td>0</td>\n",
       "      <td>0</td>\n",
       "      <td>1</td>\n",
       "      <td>N</td>\n",
       "      <td>N</td>\n",
       "      <td>137300.0</td>\n",
       "      <td>P I F</td>\n",
       "      <td>137300.0</td>\n",
       "      <td>Accommodation_food_serv</td>\n",
       "      <td>No Franchise</td>\n",
       "      <td>0</td>\n",
       "      <td>0</td>\n",
       "      <td>0.85</td>\n",
       "    </tr>\n",
       "    <tr>\n",
       "      <th>2</th>\n",
       "      <td>2006</td>\n",
       "      <td>83</td>\n",
       "      <td>18</td>\n",
       "      <td>2.0</td>\n",
       "      <td>5</td>\n",
       "      <td>23</td>\n",
       "      <td>1</td>\n",
       "      <td>Y</td>\n",
       "      <td>N</td>\n",
       "      <td>438541.0</td>\n",
       "      <td>P I F</td>\n",
       "      <td>100000.0</td>\n",
       "      <td>Educational_services</td>\n",
       "      <td>No Franchise</td>\n",
       "      <td>0</td>\n",
       "      <td>0</td>\n",
       "      <td>0.50</td>\n",
       "    </tr>\n",
       "    <tr>\n",
       "      <th>3</th>\n",
       "      <td>2006</td>\n",
       "      <td>84</td>\n",
       "      <td>4</td>\n",
       "      <td>1.0</td>\n",
       "      <td>0</td>\n",
       "      <td>4</td>\n",
       "      <td>1</td>\n",
       "      <td>Y</td>\n",
       "      <td>N</td>\n",
       "      <td>51440.0</td>\n",
       "      <td>P I F</td>\n",
       "      <td>35000.0</td>\n",
       "      <td>Construction</td>\n",
       "      <td>No Franchise</td>\n",
       "      <td>1</td>\n",
       "      <td>0</td>\n",
       "      <td>0.50</td>\n",
       "    </tr>\n",
       "    <tr>\n",
       "      <th>4</th>\n",
       "      <td>2006</td>\n",
       "      <td>60</td>\n",
       "      <td>3</td>\n",
       "      <td>1.0</td>\n",
       "      <td>0</td>\n",
       "      <td>0</td>\n",
       "      <td>1</td>\n",
       "      <td>N</td>\n",
       "      <td>N</td>\n",
       "      <td>50000.0</td>\n",
       "      <td>P I F</td>\n",
       "      <td>50000.0</td>\n",
       "      <td>RE_rental_leasing</td>\n",
       "      <td>No Franchise</td>\n",
       "      <td>1</td>\n",
       "      <td>0</td>\n",
       "      <td>0.85</td>\n",
       "    </tr>\n",
       "  </tbody>\n",
       "</table>\n",
       "</div>"
      ],
      "text/plain": [
       "   ApprovalFY  Term  NoEmp  NewExist  CreateJob  RetainedJob  UrbanRural  \\\n",
       "0        2006   162      2       2.0          0            0           1   \n",
       "1        2006   126      7       1.0          0            0           1   \n",
       "2        2006    83     18       2.0          5           23           1   \n",
       "3        2006    84      4       1.0          0            4           1   \n",
       "4        2006    60      3       1.0          0            0           1   \n",
       "\n",
       "  RevLineCr LowDoc  DisbursementGross MIS_Status    GrAppv  \\\n",
       "0         N      N           253400.0      P I F  253400.0   \n",
       "1         N      N           137300.0      P I F  137300.0   \n",
       "2         Y      N           438541.0      P I F  100000.0   \n",
       "3         Y      N            51440.0      P I F   35000.0   \n",
       "4         N      N            50000.0      P I F   50000.0   \n",
       "\n",
       "                    sector   isFranchise  sameState  backRealEstate  Portion  \n",
       "0             Retail_trade     Franchise          0               0     0.75  \n",
       "1  Accommodation_food_serv  No Franchise          0               0     0.85  \n",
       "2     Educational_services  No Franchise          0               0     0.50  \n",
       "3             Construction  No Franchise          1               0     0.50  \n",
       "4        RE_rental_leasing  No Franchise          1               0     0.85  "
      ]
     },
     "execution_count": 2,
     "metadata": {},
     "output_type": "execute_result"
    }
   ],
   "source": [
    "df = pd.read_csv(r'Clean_SBA_Loan.csv')\n",
    "df.head()"
   ]
  },
  {
   "cell_type": "code",
   "execution_count": 3,
   "metadata": {},
   "outputs": [
    {
     "name": "stdout",
     "output_type": "stream",
     "text": [
      "<class 'pandas.core.frame.DataFrame'>\n",
      "RangeIndex: 334056 entries, 0 to 334055\n",
      "Data columns (total 17 columns):\n",
      " #   Column             Non-Null Count   Dtype  \n",
      "---  ------             --------------   -----  \n",
      " 0   ApprovalFY         334056 non-null  int64  \n",
      " 1   Term               334056 non-null  int64  \n",
      " 2   NoEmp              334056 non-null  int64  \n",
      " 3   NewExist           334056 non-null  float64\n",
      " 4   CreateJob          334056 non-null  int64  \n",
      " 5   RetainedJob        334056 non-null  int64  \n",
      " 6   UrbanRural         334056 non-null  int64  \n",
      " 7   RevLineCr          334056 non-null  object \n",
      " 8   LowDoc             334056 non-null  object \n",
      " 9   DisbursementGross  334056 non-null  float64\n",
      " 10  MIS_Status         334056 non-null  object \n",
      " 11  GrAppv             334056 non-null  float64\n",
      " 12  sector             334056 non-null  object \n",
      " 13  isFranchise        334056 non-null  object \n",
      " 14  sameState          334056 non-null  int64  \n",
      " 15  backRealEstate     334056 non-null  int64  \n",
      " 16  Portion            334056 non-null  float64\n",
      "dtypes: float64(4), int64(8), object(5)\n",
      "memory usage: 43.3+ MB\n"
     ]
    }
   ],
   "source": [
    "df.info()"
   ]
  },
  {
   "cell_type": "markdown",
   "metadata": {},
   "source": [
    "### Stratified Sampling"
   ]
  },
  {
   "cell_type": "markdown",
   "metadata": {},
   "source": [
    "**Stratified random sampling** is a method of sampling that involves the division of a population into smaller sub-groups known as strata.\n",
    "\n",
    "**Size of samples**\n",
    "![Sample](Sample_Size_Calculator.png)\n",
    "\n",
    "**Formula for Stratified Random Sampling**\n",
    "\n",
    "`(sample size/population size) x stratum size`"
   ]
  },
  {
   "cell_type": "code",
   "execution_count": 4,
   "metadata": {},
   "outputs": [
    {
     "data": {
      "text/plain": [
       "92456"
      ]
     },
     "execution_count": 4,
     "metadata": {},
     "output_type": "execute_result"
    }
   ],
   "source": [
    "len(df[df['MIS_Status'] == 'CHGOFF'])"
   ]
  },
  {
   "cell_type": "code",
   "execution_count": 6,
   "metadata": {},
   "outputs": [
    {
     "data": {
      "text/plain": [
       "241600"
      ]
     },
     "execution_count": 6,
     "metadata": {},
     "output_type": "execute_result"
    }
   ],
   "source": [
    "len(df[df['MIS_Status'] == 'P I F'])"
   ]
  },
  {
   "cell_type": "code",
   "execution_count": 7,
   "metadata": {},
   "outputs": [
    {
     "data": {
      "text/plain": [
       "334056"
      ]
     },
     "execution_count": 7,
     "metadata": {},
     "output_type": "execute_result"
    }
   ],
   "source": [
    "len(df)"
   ]
  },
  {
   "cell_type": "code",
   "execution_count": 5,
   "metadata": {},
   "outputs": [
    {
     "data": {
      "text/plain": [
       "4370.996503580238"
      ]
     },
     "execution_count": 5,
     "metadata": {},
     "output_type": "execute_result"
    }
   ],
   "source": [
    "## Sample Size of Strata 1 (CHGOFF)\n",
    "(15793/len(df))*len(df[df['MIS_Status'] == 'CHGOFF'])"
   ]
  },
  {
   "cell_type": "code",
   "execution_count": 9,
   "metadata": {},
   "outputs": [
    {
     "data": {
      "text/plain": [
       "11422.003496419762"
      ]
     },
     "execution_count": 9,
     "metadata": {},
     "output_type": "execute_result"
    }
   ],
   "source": [
    "## Sample Size of Strata 2 (PIF)\n",
    "(15793/len(df))*len(df[df['MIS_Status'] == 'P I F'])"
   ]
  },
  {
   "cell_type": "code",
   "execution_count": 11,
   "metadata": {},
   "outputs": [
    {
     "data": {
      "text/plain": [
       "0.04727650453816127"
      ]
     },
     "execution_count": 11,
     "metadata": {},
     "output_type": "execute_result"
    }
   ],
   "source": [
    "15793/len(df)"
   ]
  },
  {
   "cell_type": "code",
   "execution_count": 35,
   "metadata": {},
   "outputs": [],
   "source": [
    "df_sample = df.groupby('MIS_Status').apply(lambda x:x.sample(frac=0.0473))"
   ]
  },
  {
   "cell_type": "code",
   "execution_count": 36,
   "metadata": {},
   "outputs": [
    {
     "name": "stdout",
     "output_type": "stream",
     "text": [
      "<class 'pandas.core.frame.DataFrame'>\n",
      "MultiIndex: 15801 entries, ('CHGOFF', 125097) to ('P I F', 27892)\n",
      "Data columns (total 17 columns):\n",
      " #   Column             Non-Null Count  Dtype  \n",
      "---  ------             --------------  -----  \n",
      " 0   ApprovalFY         15801 non-null  int64  \n",
      " 1   Term               15801 non-null  int64  \n",
      " 2   NoEmp              15801 non-null  int64  \n",
      " 3   NewExist           15801 non-null  float64\n",
      " 4   CreateJob          15801 non-null  int64  \n",
      " 5   RetainedJob        15801 non-null  int64  \n",
      " 6   UrbanRural         15801 non-null  int64  \n",
      " 7   RevLineCr          15801 non-null  object \n",
      " 8   LowDoc             15801 non-null  object \n",
      " 9   DisbursementGross  15801 non-null  float64\n",
      " 10  MIS_Status         15801 non-null  object \n",
      " 11  GrAppv             15801 non-null  float64\n",
      " 12  sector             15801 non-null  object \n",
      " 13  isFranchise        15801 non-null  object \n",
      " 14  sameState          15801 non-null  int64  \n",
      " 15  backRealEstate     15801 non-null  int64  \n",
      " 16  Portion            15801 non-null  float64\n",
      "dtypes: float64(4), int64(8), object(5)\n",
      "memory usage: 2.2+ MB\n"
     ]
    }
   ],
   "source": [
    "df_sample.info()"
   ]
  },
  {
   "cell_type": "code",
   "execution_count": 37,
   "metadata": {},
   "outputs": [
    {
     "data": {
      "text/plain": [
       "P I F     11428\n",
       "CHGOFF     4373\n",
       "Name: MIS_Status, dtype: int64"
      ]
     },
     "execution_count": 37,
     "metadata": {},
     "output_type": "execute_result"
    }
   ],
   "source": [
    "df_sample['MIS_Status'].value_counts()"
   ]
  },
  {
   "cell_type": "code",
   "execution_count": 39,
   "metadata": {},
   "outputs": [],
   "source": [
    "df_sample.reset_index(drop=True, inplace=True)"
   ]
  },
  {
   "cell_type": "code",
   "execution_count": 40,
   "metadata": {},
   "outputs": [
    {
     "data": {
      "text/html": [
       "<div>\n",
       "<style scoped>\n",
       "    .dataframe tbody tr th:only-of-type {\n",
       "        vertical-align: middle;\n",
       "    }\n",
       "\n",
       "    .dataframe tbody tr th {\n",
       "        vertical-align: top;\n",
       "    }\n",
       "\n",
       "    .dataframe thead th {\n",
       "        text-align: right;\n",
       "    }\n",
       "</style>\n",
       "<table border=\"1\" class=\"dataframe\">\n",
       "  <thead>\n",
       "    <tr style=\"text-align: right;\">\n",
       "      <th></th>\n",
       "      <th>ApprovalFY</th>\n",
       "      <th>Term</th>\n",
       "      <th>NoEmp</th>\n",
       "      <th>NewExist</th>\n",
       "      <th>CreateJob</th>\n",
       "      <th>RetainedJob</th>\n",
       "      <th>UrbanRural</th>\n",
       "      <th>RevLineCr</th>\n",
       "      <th>LowDoc</th>\n",
       "      <th>DisbursementGross</th>\n",
       "      <th>MIS_Status</th>\n",
       "      <th>GrAppv</th>\n",
       "      <th>sector</th>\n",
       "      <th>isFranchise</th>\n",
       "      <th>sameState</th>\n",
       "      <th>backRealEstate</th>\n",
       "      <th>Portion</th>\n",
       "    </tr>\n",
       "  </thead>\n",
       "  <tbody>\n",
       "    <tr>\n",
       "      <th>0</th>\n",
       "      <td>2007</td>\n",
       "      <td>37</td>\n",
       "      <td>1</td>\n",
       "      <td>2.0</td>\n",
       "      <td>5</td>\n",
       "      <td>6</td>\n",
       "      <td>1</td>\n",
       "      <td>Y</td>\n",
       "      <td>N</td>\n",
       "      <td>39272.0</td>\n",
       "      <td>CHGOFF</td>\n",
       "      <td>20000.0</td>\n",
       "      <td>Other_no_pub</td>\n",
       "      <td>No Franchise</td>\n",
       "      <td>0</td>\n",
       "      <td>0</td>\n",
       "      <td>0.5</td>\n",
       "    </tr>\n",
       "    <tr>\n",
       "      <th>1</th>\n",
       "      <td>2006</td>\n",
       "      <td>41</td>\n",
       "      <td>7</td>\n",
       "      <td>1.0</td>\n",
       "      <td>0</td>\n",
       "      <td>7</td>\n",
       "      <td>1</td>\n",
       "      <td>Y</td>\n",
       "      <td>N</td>\n",
       "      <td>127500.0</td>\n",
       "      <td>CHGOFF</td>\n",
       "      <td>85000.0</td>\n",
       "      <td>Wholesale_trade</td>\n",
       "      <td>No Franchise</td>\n",
       "      <td>0</td>\n",
       "      <td>0</td>\n",
       "      <td>0.5</td>\n",
       "    </tr>\n",
       "    <tr>\n",
       "      <th>2</th>\n",
       "      <td>2006</td>\n",
       "      <td>27</td>\n",
       "      <td>1</td>\n",
       "      <td>1.0</td>\n",
       "      <td>0</td>\n",
       "      <td>1</td>\n",
       "      <td>1</td>\n",
       "      <td>N</td>\n",
       "      <td>N</td>\n",
       "      <td>22000.0</td>\n",
       "      <td>CHGOFF</td>\n",
       "      <td>22000.0</td>\n",
       "      <td>Trans_Ware</td>\n",
       "      <td>No Franchise</td>\n",
       "      <td>0</td>\n",
       "      <td>0</td>\n",
       "      <td>0.5</td>\n",
       "    </tr>\n",
       "    <tr>\n",
       "      <th>3</th>\n",
       "      <td>2006</td>\n",
       "      <td>52</td>\n",
       "      <td>3</td>\n",
       "      <td>2.0</td>\n",
       "      <td>1</td>\n",
       "      <td>3</td>\n",
       "      <td>1</td>\n",
       "      <td>N</td>\n",
       "      <td>N</td>\n",
       "      <td>35000.0</td>\n",
       "      <td>CHGOFF</td>\n",
       "      <td>25000.0</td>\n",
       "      <td>Trans_Ware</td>\n",
       "      <td>No Franchise</td>\n",
       "      <td>0</td>\n",
       "      <td>0</td>\n",
       "      <td>0.5</td>\n",
       "    </tr>\n",
       "    <tr>\n",
       "      <th>4</th>\n",
       "      <td>2001</td>\n",
       "      <td>13</td>\n",
       "      <td>14</td>\n",
       "      <td>1.0</td>\n",
       "      <td>14</td>\n",
       "      <td>14</td>\n",
       "      <td>1</td>\n",
       "      <td>Y</td>\n",
       "      <td>N</td>\n",
       "      <td>75011.0</td>\n",
       "      <td>CHGOFF</td>\n",
       "      <td>75000.0</td>\n",
       "      <td>Wholesale_trade</td>\n",
       "      <td>No Franchise</td>\n",
       "      <td>0</td>\n",
       "      <td>0</td>\n",
       "      <td>0.5</td>\n",
       "    </tr>\n",
       "  </tbody>\n",
       "</table>\n",
       "</div>"
      ],
      "text/plain": [
       "   ApprovalFY  Term  NoEmp  NewExist  CreateJob  RetainedJob  UrbanRural  \\\n",
       "0        2007    37      1       2.0          5            6           1   \n",
       "1        2006    41      7       1.0          0            7           1   \n",
       "2        2006    27      1       1.0          0            1           1   \n",
       "3        2006    52      3       2.0          1            3           1   \n",
       "4        2001    13     14       1.0         14           14           1   \n",
       "\n",
       "  RevLineCr LowDoc  DisbursementGross MIS_Status   GrAppv           sector  \\\n",
       "0         Y      N            39272.0     CHGOFF  20000.0     Other_no_pub   \n",
       "1         Y      N           127500.0     CHGOFF  85000.0  Wholesale_trade   \n",
       "2         N      N            22000.0     CHGOFF  22000.0       Trans_Ware   \n",
       "3         N      N            35000.0     CHGOFF  25000.0       Trans_Ware   \n",
       "4         Y      N            75011.0     CHGOFF  75000.0  Wholesale_trade   \n",
       "\n",
       "    isFranchise  sameState  backRealEstate  Portion  \n",
       "0  No Franchise          0               0      0.5  \n",
       "1  No Franchise          0               0      0.5  \n",
       "2  No Franchise          0               0      0.5  \n",
       "3  No Franchise          0               0      0.5  \n",
       "4  No Franchise          0               0      0.5  "
      ]
     },
     "execution_count": 40,
     "metadata": {},
     "output_type": "execute_result"
    }
   ],
   "source": [
    "df_sample.head()"
   ]
  },
  {
   "cell_type": "markdown",
   "metadata": {},
   "source": [
    "### Export DataFrame"
   ]
  },
  {
   "cell_type": "code",
   "execution_count": 41,
   "metadata": {},
   "outputs": [],
   "source": [
    "# df_sample.to_csv('SBA_Loan_Sample.csv', index=False)"
   ]
  },
  {
   "cell_type": "code",
   "execution_count": null,
   "metadata": {},
   "outputs": [],
   "source": []
  }
 ],
 "metadata": {
  "kernelspec": {
   "display_name": "Python 3",
   "language": "python",
   "name": "python3"
  },
  "language_info": {
   "codemirror_mode": {
    "name": "ipython",
    "version": 3
   },
   "file_extension": ".py",
   "mimetype": "text/x-python",
   "name": "python",
   "nbconvert_exporter": "python",
   "pygments_lexer": "ipython3",
   "version": "3.8.3"
  }
 },
 "nbformat": 4,
 "nbformat_minor": 4
}
